{
 "cells": [
  {
   "cell_type": "code",
   "execution_count": 1,
   "metadata": {},
   "outputs": [
    {
     "name": "stderr",
     "output_type": "stream",
     "text": [
      "RDKit WARNING: [13:03:42] Enabling RDKit 2019.09.3 jupyter extensions\n"
     ]
    }
   ],
   "source": [
    "from rdkit.Chem import AllChem as Chem\n",
    "from rdkit.Chem import Descriptors\n",
    "from rdkit.Chem.Draw import IPythonConsole"
   ]
  },
  {
   "cell_type": "markdown",
   "metadata": {},
   "source": [
    "# Basic descriptors\n",
    "\n",
    "[Descriptors](https://en.wikipedia.org/wiki/Molecular_descriptor) are numeric or boolean ways of representing molecule properties. They can be simple structural properties such as the count of rings we did in the last two exercises, count of rotatable bonds within a molecule, or count of all non-hydrogen atoms, count of hydrogen bond acceptors and donors, a boolean value representing the presence of a specific group or substructure in the molecule, etc. Physico-chemical properties are also often used as descriptors: molecular weight, topological [polar surface area](https://en.wikipedia.org/wiki/Polar_surface_area), polarizability, refractivity, octanol-water [partition coefficient](https://en.wikipedia.org/wiki/Partition_coefficient), etc.\n",
    "\n",
    "The aforementioned descriptor types are the most basic, but also very frequently used types. Classics aside, there are literally hundreds of various documented descriptors, involving even stuff like quantum-chemical computation or structural elasticity. In practice, a descriptor can be almost any quantifiable property of a molecule or its part, that carries useful information about that molecule.\n",
    "\n",
    "A summary article on descriptors:\n",
    "http://www.chemicke-listy.cz/docs/full/2017_11_716-723.pdf\n",
    "\n",
    "The most used descriptors are already implemented in RDKit, and can be obtained by from RDKit Mol instances:"
   ]
  },
  {
   "cell_type": "code",
   "execution_count": 2,
   "metadata": {},
   "outputs": [],
   "source": [
    "# loading my mTOR set. You load yours :)\n",
    "import csv\n",
    "with open('../data/chembl_mtor_ic50.csv', 'r') as csvfile:\n",
    "    reader = csv.DictReader(csvfile, delimiter=\";\")\n",
    "    mtor_ligands = [Chem.MolFromSmiles(m['Smiles']) for m in reader]"
   ]
  },
  {
   "cell_type": "markdown",
   "metadata": {},
   "source": [
    "well, that's our structures loaded as RDKit Mol instances. Let's try computing some descriptors for a randomly selected Mol instance:"
   ]
  },
  {
   "cell_type": "code",
   "execution_count": 3,
   "metadata": {},
   "outputs": [
    {
     "data": {
      "image/png": "[encoded data removed]",
      "text/plain": [
       "<rdkit.Chem.rdchem.Mol at 0x17f8aa52b20>"
      ]
     },
     "execution_count": 3,
     "metadata": {},
     "output_type": "execute_result"
    }
   ],
   "source": [
    "mtor_ligands[666]"
   ]
  },
  {
   "cell_type": "code",
   "execution_count": 4,
   "metadata": {},
   "outputs": [
    {
     "data": {
      "text/plain": [
       "4"
      ]
     },
     "execution_count": 4,
     "metadata": {},
     "output_type": "execute_result"
    }
   ],
   "source": [
    "# count of rings:\n",
    "Chem.GetSSSR(mtor_ligands[666])"
   ]
  },
  {
   "cell_type": "code",
   "execution_count": 5,
   "metadata": {},
   "outputs": [
    {
     "data": {
      "text/plain": [
       "2"
      ]
     },
     "execution_count": 5,
     "metadata": {},
     "output_type": "execute_result"
    }
   ],
   "source": [
    "# count of rotatable bonds:\n",
    "Chem.CalcNumRotatableBonds(mtor_ligands[666])"
   ]
  },
  {
   "cell_type": "code",
   "execution_count": 6,
   "metadata": {},
   "outputs": [
    {
     "data": {
      "text/plain": [
       "25"
      ]
     },
     "execution_count": 6,
     "metadata": {},
     "output_type": "execute_result"
    }
   ],
   "source": [
    "# count of all heavy/non-hydrogen atoms\n",
    "mtor_ligands[666].GetNumHeavyAtoms()"
   ]
  },
  {
   "cell_type": "code",
   "execution_count": 7,
   "metadata": {},
   "outputs": [
    {
     "data": {
      "text/plain": [
       "(5, 2)"
      ]
     },
     "execution_count": 7,
     "metadata": {},
     "output_type": "execute_result"
    }
   ],
   "source": [
    "# hydrogen bond acceptors / donors\n",
    "from rdkit.Chem import rdMolDescriptors as rdescriptors\n",
    "rdescriptors.CalcNumLipinskiHBA(mtor_ligands[666]), rdescriptors.CalcNumLipinskiHBD(mtor_ligands[666])"
   ]
  },
  {
   "cell_type": "code",
   "execution_count": 8,
   "metadata": {},
   "outputs": [
    {
     "data": {
      "text/plain": [
       "327.1483955440001"
      ]
     },
     "execution_count": 8,
     "metadata": {},
     "output_type": "execute_result"
    }
   ],
   "source": [
    "# molecular weight\n",
    "rdescriptors.CalcExactMolWt(mtor_ligands[666])"
   ]
  },
  {
   "cell_type": "code",
   "execution_count": 9,
   "metadata": {},
   "outputs": [
    {
     "data": {
      "text/plain": [
       "77.58"
      ]
     },
     "execution_count": 9,
     "metadata": {},
     "output_type": "execute_result"
    }
   ],
   "source": [
    "# topological polar surface area\n",
    "rdescriptors.CalcTPSA(mtor_ligands[666])"
   ]
  },
  {
   "cell_type": "code",
   "execution_count": 10,
   "metadata": {},
   "outputs": [
    {
     "data": {
      "text/plain": [
       "3.10142"
      ]
     },
     "execution_count": 10,
     "metadata": {},
     "output_type": "execute_result"
    }
   ],
   "source": [
    "# octanol-water partition coefficient\n",
    "Descriptors.MolLogP(mtor_ligands[666])"
   ]
  },
  {
   "cell_type": "markdown",
   "metadata": {},
   "source": [
    "This is about as much as we will need today, there are many more descriptors. Some [more](https://www.rdkit.org/docs/GettingStartedInPython.html#list-of-available-descriptors) are in the [RDKit docs](https://www.rdkit.org/docs/source/rdkit.Chem.rdMolDescriptors.html). Let's do the current descriptors for the entire set, and load them into a pandas dataframe. This might take a while :)"
   ]
  },
  {
   "cell_type": "code",
   "execution_count": 11,
   "metadata": {},
   "outputs": [],
   "source": [
    "mtor_rings = [Chem.GetSSSR(l) for l in mtor_ligands]\n",
    "mtor_rotatable = [Chem.CalcNumRotatableBonds(l) for l in mtor_ligands]\n",
    "mtor_atomcount = [l.GetNumHeavyAtoms() for l in mtor_ligands]\n",
    "mtor_hba = [rdescriptors.CalcNumLipinskiHBA(l) for l in mtor_ligands]\n",
    "mtor_hbd = [rdescriptors.CalcNumLipinskiHBD(l) for l in mtor_ligands]\n",
    "mtor_molwt = [rdescriptors.CalcExactMolWt(l) for l in mtor_ligands]\n",
    "mtor_tpsa = [rdescriptors.CalcTPSA(l) for l in mtor_ligands]\n",
    "mtor_logp = [Descriptors.MolLogP(l) for l in mtor_ligands]"
   ]
  },
  {
   "cell_type": "code",
   "execution_count": 12,
   "metadata": {},
   "outputs": [],
   "source": [
    "import pandas as pd\n",
    "import seaborn as sns\n",
    "sns.set(rc={'figure.figsize':(11.7, 11.7)}) # for bigger graphs"
   ]
  },
  {
   "cell_type": "code",
   "execution_count": 13,
   "metadata": {},
   "outputs": [
    {
     "data": {
      "text/html": [
       "<div>\n",
       "<style scoped>\n",
       "    .dataframe tbody tr th:only-of-type {\n",
       "        vertical-align: middle;\n",
       "    }\n",
       "\n",
       "    .dataframe tbody tr th {\n",
       "        vertical-align: top;\n",
       "    }\n",
       "\n",
       "    .dataframe thead th {\n",
       "        text-align: right;\n",
       "    }\n",
       "</style>\n",
       "<table border=\"1\" class=\"dataframe\">\n",
       "  <thead>\n",
       "    <tr style=\"text-align: right;\">\n",
       "      <th></th>\n",
       "      <th>set</th>\n",
       "      <th>rings</th>\n",
       "      <th>rotatable</th>\n",
       "      <th>atoms</th>\n",
       "      <th>hba</th>\n",
       "      <th>hbd</th>\n",
       "      <th>molwt</th>\n",
       "      <th>tpsa</th>\n",
       "      <th>logp</th>\n",
       "    </tr>\n",
       "  </thead>\n",
       "  <tbody>\n",
       "    <tr>\n",
       "      <th>0</th>\n",
       "      <td>mtor</td>\n",
       "      <td>4</td>\n",
       "      <td>5</td>\n",
       "      <td>30</td>\n",
       "      <td>8</td>\n",
       "      <td>2</td>\n",
       "      <td>443.052210</td>\n",
       "      <td>113.94</td>\n",
       "      <td>3.65160</td>\n",
       "    </tr>\n",
       "    <tr>\n",
       "      <th>1</th>\n",
       "      <td>mtor</td>\n",
       "      <td>4</td>\n",
       "      <td>5</td>\n",
       "      <td>28</td>\n",
       "      <td>6</td>\n",
       "      <td>1</td>\n",
       "      <td>390.115047</td>\n",
       "      <td>77.00</td>\n",
       "      <td>4.59912</td>\n",
       "    </tr>\n",
       "    <tr>\n",
       "      <th>2</th>\n",
       "      <td>mtor</td>\n",
       "      <td>4</td>\n",
       "      <td>6</td>\n",
       "      <td>29</td>\n",
       "      <td>7</td>\n",
       "      <td>1</td>\n",
       "      <td>406.109961</td>\n",
       "      <td>86.23</td>\n",
       "      <td>4.29930</td>\n",
       "    </tr>\n",
       "    <tr>\n",
       "      <th>3</th>\n",
       "      <td>mtor</td>\n",
       "      <td>4</td>\n",
       "      <td>5</td>\n",
       "      <td>30</td>\n",
       "      <td>8</td>\n",
       "      <td>2</td>\n",
       "      <td>443.052210</td>\n",
       "      <td>113.94</td>\n",
       "      <td>3.65160</td>\n",
       "    </tr>\n",
       "    <tr>\n",
       "      <th>4</th>\n",
       "      <td>mtor</td>\n",
       "      <td>4</td>\n",
       "      <td>5</td>\n",
       "      <td>31</td>\n",
       "      <td>8</td>\n",
       "      <td>1</td>\n",
       "      <td>457.067860</td>\n",
       "      <td>105.15</td>\n",
       "      <td>3.67590</td>\n",
       "    </tr>\n",
       "    <tr>\n",
       "      <th>...</th>\n",
       "      <td>...</td>\n",
       "      <td>...</td>\n",
       "      <td>...</td>\n",
       "      <td>...</td>\n",
       "      <td>...</td>\n",
       "      <td>...</td>\n",
       "      <td>...</td>\n",
       "      <td>...</td>\n",
       "      <td>...</td>\n",
       "    </tr>\n",
       "    <tr>\n",
       "      <th>4591</th>\n",
       "      <td>mtor</td>\n",
       "      <td>4</td>\n",
       "      <td>5</td>\n",
       "      <td>30</td>\n",
       "      <td>8</td>\n",
       "      <td>1</td>\n",
       "      <td>426.079804</td>\n",
       "      <td>102.66</td>\n",
       "      <td>2.70500</td>\n",
       "    </tr>\n",
       "    <tr>\n",
       "      <th>4592</th>\n",
       "      <td>mtor</td>\n",
       "      <td>4</td>\n",
       "      <td>4</td>\n",
       "      <td>30</td>\n",
       "      <td>7</td>\n",
       "      <td>1</td>\n",
       "      <td>448.020845</td>\n",
       "      <td>93.43</td>\n",
       "      <td>3.48890</td>\n",
       "    </tr>\n",
       "    <tr>\n",
       "      <th>4593</th>\n",
       "      <td>mtor</td>\n",
       "      <td>5</td>\n",
       "      <td>4</td>\n",
       "      <td>31</td>\n",
       "      <td>6</td>\n",
       "      <td>1</td>\n",
       "      <td>407.126991</td>\n",
       "      <td>77.13</td>\n",
       "      <td>4.92340</td>\n",
       "    </tr>\n",
       "    <tr>\n",
       "      <th>4594</th>\n",
       "      <td>mtor</td>\n",
       "      <td>4</td>\n",
       "      <td>5</td>\n",
       "      <td>28</td>\n",
       "      <td>8</td>\n",
       "      <td>3</td>\n",
       "      <td>381.180090</td>\n",
       "      <td>106.62</td>\n",
       "      <td>1.48800</td>\n",
       "    </tr>\n",
       "    <tr>\n",
       "      <th>4595</th>\n",
       "      <td>mtor</td>\n",
       "      <td>2</td>\n",
       "      <td>1</td>\n",
       "      <td>18</td>\n",
       "      <td>4</td>\n",
       "      <td>2</td>\n",
       "      <td>283.027917</td>\n",
       "      <td>60.91</td>\n",
       "      <td>3.40762</td>\n",
       "    </tr>\n",
       "  </tbody>\n",
       "</table>\n",
       "<p>4596 rows × 9 columns</p>\n",
       "</div>"
      ],
      "text/plain": [
       "       set  rings  rotatable  atoms  hba  hbd       molwt    tpsa     logp\n",
       "0     mtor      4          5     30    8    2  443.052210  113.94  3.65160\n",
       "1     mtor      4          5     28    6    1  390.115047   77.00  4.59912\n",
       "2     mtor      4          6     29    7    1  406.109961   86.23  4.29930\n",
       "3     mtor      4          5     30    8    2  443.052210  113.94  3.65160\n",
       "4     mtor      4          5     31    8    1  457.067860  105.15  3.67590\n",
       "...    ...    ...        ...    ...  ...  ...         ...     ...      ...\n",
       "4591  mtor      4          5     30    8    1  426.079804  102.66  2.70500\n",
       "4592  mtor      4          4     30    7    1  448.020845   93.43  3.48890\n",
       "4593  mtor      5          4     31    6    1  407.126991   77.13  4.92340\n",
       "4594  mtor      4          5     28    8    3  381.180090  106.62  1.48800\n",
       "4595  mtor      2          1     18    4    2  283.027917   60.91  3.40762\n",
       "\n",
       "[4596 rows x 9 columns]"
      ]
     },
     "execution_count": 13,
     "metadata": {},
     "output_type": "execute_result"
    }
   ],
   "source": [
    "df = pd.DataFrame(data={'set':'mtor', 'rings': mtor_rings,\n",
    "                        'rotatable': mtor_rotatable, 'atoms': mtor_atomcount,\n",
    "                        'hba': mtor_hba, 'hbd': mtor_hbd, 'molwt': mtor_molwt,\n",
    "                        'tpsa': mtor_tpsa, 'logp': mtor_logp})\n",
    "df"
   ]
  },
  {
   "cell_type": "markdown",
   "metadata": {},
   "source": [
    "Ok, that's already a nice hefty table. Let's visualize the values, maybe some [boxplots](https://en.wikipedia.org/wiki/Box_plot)?"
   ]
  },
  {
   "cell_type": "code",
   "execution_count": 14,
   "metadata": {
    "scrolled": false
   },
   "outputs": [
    {
     "data": {
      "text/plain": [
       "<AxesSubplot:>"
      ]
     },
     "execution_count": 14,
     "metadata": {},
     "output_type": "execute_result"
    },
    {
     "data": {
      "image/png": "[encoded data removed]",
      "text/plain": [
       "<Figure size 842.4x842.4 with 1 Axes>"
      ]
     },
     "metadata": {},
     "output_type": "display_data"
    }
   ],
   "source": [
    "sns.boxplot(data=df[['rings', 'rotatable', 'atoms', 'hba', 'hbd', 'logp']], showfliers=False)"
   ]
  },
  {
   "cell_type": "markdown",
   "metadata": {},
   "source": [
    "In the above boxplots, the distributions of most descriptors are depicted right next to each other. Molecular weight and TPSA are too off-scale for this."
   ]
  },
  {
   "cell_type": "code",
   "execution_count": 15,
   "metadata": {},
   "outputs": [
    {
     "data": {
      "text/plain": [
       "<AxesSubplot:>"
      ]
     },
     "execution_count": 15,
     "metadata": {},
     "output_type": "execute_result"
    },
    {
     "data": {
      "image/png": "[encoded data removed]",
      "text/plain": [
       "<Figure size 842.4x842.4 with 1 Axes>"
      ]
     },
     "metadata": {},
     "output_type": "display_data"
    }
   ],
   "source": [
    "sns.boxplot(data=df[['molwt', 'tpsa']], showfliers = False)"
   ]
  },
  {
   "cell_type": "markdown",
   "metadata": {},
   "source": [
    "The above two graphs cover the selected descriptors for the mTOR set. However, it would be much better if we had some reference data to compare this set against: how about DrugBank, a database of registered pharmaceuticals?"
   ]
  },
  {
   "cell_type": "code",
   "execution_count": 16,
   "metadata": {},
   "outputs": [
    {
     "data": {
      "text/plain": [
       "7113"
      ]
     },
     "execution_count": 16,
     "metadata": {},
     "output_type": "execute_result"
    }
   ],
   "source": [
    "suppl = Chem.SDMolSupplier('../data/drugbank.sdf')\n",
    "drugs = [m for m in suppl if m]\n",
    "len(drugs)"
   ]
  },
  {
   "cell_type": "code",
   "execution_count": 17,
   "metadata": {},
   "outputs": [],
   "source": [
    "drugbank_rings = [Chem.GetSSSR(l) for l in drugs]\n",
    "drugbank_rotatable = [Chem.CalcNumRotatableBonds(l) for l in drugs]\n",
    "drugbank_atomcount = [l.GetNumHeavyAtoms() for l in drugs]\n",
    "drugbank_hba = [rdescriptors.CalcNumLipinskiHBA(l) for l in drugs]\n",
    "drugbank_hbd = [rdescriptors.CalcNumLipinskiHBD(l) for l in drugs]\n",
    "drugbank_molwt = [rdescriptors.CalcExactMolWt(l) for l in drugs]\n",
    "drugbank_tpsa = [rdescriptors.CalcTPSA(l) for l in drugs]\n",
    "drugbank_logp = [Descriptors.MolLogP(l) for l in drugs]"
   ]
  },
  {
   "cell_type": "code",
   "execution_count": 18,
   "metadata": {},
   "outputs": [
    {
     "data": {
      "text/html": [
       "<div>\n",
       "<style scoped>\n",
       "    .dataframe tbody tr th:only-of-type {\n",
       "        vertical-align: middle;\n",
       "    }\n",
       "\n",
       "    .dataframe tbody tr th {\n",
       "        vertical-align: top;\n",
       "    }\n",
       "\n",
       "    .dataframe thead th {\n",
       "        text-align: right;\n",
       "    }\n",
       "</style>\n",
       "<table border=\"1\" class=\"dataframe\">\n",
       "  <thead>\n",
       "    <tr style=\"text-align: right;\">\n",
       "      <th></th>\n",
       "      <th>set</th>\n",
       "      <th>rings</th>\n",
       "      <th>rotatable</th>\n",
       "      <th>atoms</th>\n",
       "      <th>hba</th>\n",
       "      <th>hbd</th>\n",
       "      <th>molwt</th>\n",
       "      <th>tpsa</th>\n",
       "      <th>logp</th>\n",
       "    </tr>\n",
       "  </thead>\n",
       "  <tbody>\n",
       "    <tr>\n",
       "      <th>0</th>\n",
       "      <td>drugs</td>\n",
       "      <td>6</td>\n",
       "      <td>66</td>\n",
       "      <td>155</td>\n",
       "      <td>57</td>\n",
       "      <td>31</td>\n",
       "      <td>2178.985813</td>\n",
       "      <td>901.57</td>\n",
       "      <td>-8.11643</td>\n",
       "    </tr>\n",
       "    <tr>\n",
       "      <th>1</th>\n",
       "      <td>drugs</td>\n",
       "      <td>6</td>\n",
       "      <td>31</td>\n",
       "      <td>91</td>\n",
       "      <td>32</td>\n",
       "      <td>20</td>\n",
       "      <td>1268.641439</td>\n",
       "      <td>495.89</td>\n",
       "      <td>-3.10570</td>\n",
       "    </tr>\n",
       "    <tr>\n",
       "      <th>2</th>\n",
       "      <td>drugs</td>\n",
       "      <td>4</td>\n",
       "      <td>19</td>\n",
       "      <td>74</td>\n",
       "      <td>26</td>\n",
       "      <td>18</td>\n",
       "      <td>1068.426955</td>\n",
       "      <td>435.41</td>\n",
       "      <td>-4.13203</td>\n",
       "    </tr>\n",
       "    <tr>\n",
       "      <th>3</th>\n",
       "      <td>drugs</td>\n",
       "      <td>6</td>\n",
       "      <td>38</td>\n",
       "      <td>102</td>\n",
       "      <td>31</td>\n",
       "      <td>20</td>\n",
       "      <td>1429.669818</td>\n",
       "      <td>495.67</td>\n",
       "      <td>-0.50613</td>\n",
       "    </tr>\n",
       "    <tr>\n",
       "      <th>4</th>\n",
       "      <td>drugs</td>\n",
       "      <td>1</td>\n",
       "      <td>15</td>\n",
       "      <td>85</td>\n",
       "      <td>23</td>\n",
       "      <td>5</td>\n",
       "      <td>1201.841368</td>\n",
       "      <td>278.80</td>\n",
       "      <td>3.26900</td>\n",
       "    </tr>\n",
       "    <tr>\n",
       "      <th>...</th>\n",
       "      <td>...</td>\n",
       "      <td>...</td>\n",
       "      <td>...</td>\n",
       "      <td>...</td>\n",
       "      <td>...</td>\n",
       "      <td>...</td>\n",
       "      <td>...</td>\n",
       "      <td>...</td>\n",
       "      <td>...</td>\n",
       "    </tr>\n",
       "    <tr>\n",
       "      <th>7108</th>\n",
       "      <td>drugs</td>\n",
       "      <td>1</td>\n",
       "      <td>0</td>\n",
       "      <td>8</td>\n",
       "      <td>1</td>\n",
       "      <td>1</td>\n",
       "      <td>128.002892</td>\n",
       "      <td>20.23</td>\n",
       "      <td>2.04560</td>\n",
       "    </tr>\n",
       "    <tr>\n",
       "      <th>7109</th>\n",
       "      <td>drugs</td>\n",
       "      <td>3</td>\n",
       "      <td>3</td>\n",
       "      <td>24</td>\n",
       "      <td>9</td>\n",
       "      <td>5</td>\n",
       "      <td>340.079432</td>\n",
       "      <td>149.82</td>\n",
       "      <td>-1.32270</td>\n",
       "    </tr>\n",
       "    <tr>\n",
       "      <th>7110</th>\n",
       "      <td>drugs</td>\n",
       "      <td>6</td>\n",
       "      <td>14</td>\n",
       "      <td>79</td>\n",
       "      <td>27</td>\n",
       "      <td>13</td>\n",
       "      <td>1114.554641</td>\n",
       "      <td>403.10</td>\n",
       "      <td>1.54710</td>\n",
       "    </tr>\n",
       "    <tr>\n",
       "      <th>7111</th>\n",
       "      <td>drugs</td>\n",
       "      <td>0</td>\n",
       "      <td>13</td>\n",
       "      <td>21</td>\n",
       "      <td>5</td>\n",
       "      <td>0</td>\n",
       "      <td>330.147689</td>\n",
       "      <td>83.50</td>\n",
       "      <td>-0.00030</td>\n",
       "    </tr>\n",
       "    <tr>\n",
       "      <th>7112</th>\n",
       "      <td>drugs</td>\n",
       "      <td>4</td>\n",
       "      <td>2</td>\n",
       "      <td>28</td>\n",
       "      <td>4</td>\n",
       "      <td>1</td>\n",
       "      <td>408.150365</td>\n",
       "      <td>71.44</td>\n",
       "      <td>3.35040</td>\n",
       "    </tr>\n",
       "  </tbody>\n",
       "</table>\n",
       "<p>7113 rows × 9 columns</p>\n",
       "</div>"
      ],
      "text/plain": [
       "        set  rings  rotatable  atoms  hba  hbd        molwt    tpsa     logp\n",
       "0     drugs      6         66    155   57   31  2178.985813  901.57 -8.11643\n",
       "1     drugs      6         31     91   32   20  1268.641439  495.89 -3.10570\n",
       "2     drugs      4         19     74   26   18  1068.426955  435.41 -4.13203\n",
       "3     drugs      6         38    102   31   20  1429.669818  495.67 -0.50613\n",
       "4     drugs      1         15     85   23    5  1201.841368  278.80  3.26900\n",
       "...     ...    ...        ...    ...  ...  ...          ...     ...      ...\n",
       "7108  drugs      1          0      8    1    1   128.002892   20.23  2.04560\n",
       "7109  drugs      3          3     24    9    5   340.079432  149.82 -1.32270\n",
       "7110  drugs      6         14     79   27   13  1114.554641  403.10  1.54710\n",
       "7111  drugs      0         13     21    5    0   330.147689   83.50 -0.00030\n",
       "7112  drugs      4          2     28    4    1   408.150365   71.44  3.35040\n",
       "\n",
       "[7113 rows x 9 columns]"
      ]
     },
     "execution_count": 18,
     "metadata": {},
     "output_type": "execute_result"
    }
   ],
   "source": [
    "df_drugbank = pd.DataFrame(data={'set':'drugs', 'rings': drugbank_rings,\n",
    "                                 'rotatable': drugbank_rotatable, 'atoms': drugbank_atomcount,\n",
    "                                 'hba': drugbank_hba, 'hbd': drugbank_hbd, 'molwt': drugbank_molwt,\n",
    "                                 'tpsa': drugbank_tpsa, 'logp': drugbank_logp})\n",
    "df_drugbank"
   ]
  },
  {
   "cell_type": "code",
   "execution_count": 19,
   "metadata": {},
   "outputs": [
    {
     "data": {
      "text/html": [
       "<div>\n",
       "<style scoped>\n",
       "    .dataframe tbody tr th:only-of-type {\n",
       "        vertical-align: middle;\n",
       "    }\n",
       "\n",
       "    .dataframe tbody tr th {\n",
       "        vertical-align: top;\n",
       "    }\n",
       "\n",
       "    .dataframe thead th {\n",
       "        text-align: right;\n",
       "    }\n",
       "</style>\n",
       "<table border=\"1\" class=\"dataframe\">\n",
       "  <thead>\n",
       "    <tr style=\"text-align: right;\">\n",
       "      <th></th>\n",
       "      <th>set</th>\n",
       "      <th>rings</th>\n",
       "      <th>rotatable</th>\n",
       "      <th>atoms</th>\n",
       "      <th>hba</th>\n",
       "      <th>hbd</th>\n",
       "      <th>molwt</th>\n",
       "      <th>tpsa</th>\n",
       "      <th>logp</th>\n",
       "    </tr>\n",
       "  </thead>\n",
       "  <tbody>\n",
       "    <tr>\n",
       "      <th>0</th>\n",
       "      <td>mtor</td>\n",
       "      <td>4</td>\n",
       "      <td>5</td>\n",
       "      <td>30</td>\n",
       "      <td>8</td>\n",
       "      <td>2</td>\n",
       "      <td>443.052210</td>\n",
       "      <td>113.94</td>\n",
       "      <td>3.65160</td>\n",
       "    </tr>\n",
       "    <tr>\n",
       "      <th>1</th>\n",
       "      <td>mtor</td>\n",
       "      <td>4</td>\n",
       "      <td>5</td>\n",
       "      <td>28</td>\n",
       "      <td>6</td>\n",
       "      <td>1</td>\n",
       "      <td>390.115047</td>\n",
       "      <td>77.00</td>\n",
       "      <td>4.59912</td>\n",
       "    </tr>\n",
       "    <tr>\n",
       "      <th>2</th>\n",
       "      <td>mtor</td>\n",
       "      <td>4</td>\n",
       "      <td>6</td>\n",
       "      <td>29</td>\n",
       "      <td>7</td>\n",
       "      <td>1</td>\n",
       "      <td>406.109961</td>\n",
       "      <td>86.23</td>\n",
       "      <td>4.29930</td>\n",
       "    </tr>\n",
       "    <tr>\n",
       "      <th>3</th>\n",
       "      <td>mtor</td>\n",
       "      <td>4</td>\n",
       "      <td>5</td>\n",
       "      <td>30</td>\n",
       "      <td>8</td>\n",
       "      <td>2</td>\n",
       "      <td>443.052210</td>\n",
       "      <td>113.94</td>\n",
       "      <td>3.65160</td>\n",
       "    </tr>\n",
       "    <tr>\n",
       "      <th>4</th>\n",
       "      <td>mtor</td>\n",
       "      <td>4</td>\n",
       "      <td>5</td>\n",
       "      <td>31</td>\n",
       "      <td>8</td>\n",
       "      <td>1</td>\n",
       "      <td>457.067860</td>\n",
       "      <td>105.15</td>\n",
       "      <td>3.67590</td>\n",
       "    </tr>\n",
       "    <tr>\n",
       "      <th>...</th>\n",
       "      <td>...</td>\n",
       "      <td>...</td>\n",
       "      <td>...</td>\n",
       "      <td>...</td>\n",
       "      <td>...</td>\n",
       "      <td>...</td>\n",
       "      <td>...</td>\n",
       "      <td>...</td>\n",
       "      <td>...</td>\n",
       "    </tr>\n",
       "    <tr>\n",
       "      <th>11704</th>\n",
       "      <td>drugs</td>\n",
       "      <td>1</td>\n",
       "      <td>0</td>\n",
       "      <td>8</td>\n",
       "      <td>1</td>\n",
       "      <td>1</td>\n",
       "      <td>128.002892</td>\n",
       "      <td>20.23</td>\n",
       "      <td>2.04560</td>\n",
       "    </tr>\n",
       "    <tr>\n",
       "      <th>11705</th>\n",
       "      <td>drugs</td>\n",
       "      <td>3</td>\n",
       "      <td>3</td>\n",
       "      <td>24</td>\n",
       "      <td>9</td>\n",
       "      <td>5</td>\n",
       "      <td>340.079432</td>\n",
       "      <td>149.82</td>\n",
       "      <td>-1.32270</td>\n",
       "    </tr>\n",
       "    <tr>\n",
       "      <th>11706</th>\n",
       "      <td>drugs</td>\n",
       "      <td>6</td>\n",
       "      <td>14</td>\n",
       "      <td>79</td>\n",
       "      <td>27</td>\n",
       "      <td>13</td>\n",
       "      <td>1114.554641</td>\n",
       "      <td>403.10</td>\n",
       "      <td>1.54710</td>\n",
       "    </tr>\n",
       "    <tr>\n",
       "      <th>11707</th>\n",
       "      <td>drugs</td>\n",
       "      <td>0</td>\n",
       "      <td>13</td>\n",
       "      <td>21</td>\n",
       "      <td>5</td>\n",
       "      <td>0</td>\n",
       "      <td>330.147689</td>\n",
       "      <td>83.50</td>\n",
       "      <td>-0.00030</td>\n",
       "    </tr>\n",
       "    <tr>\n",
       "      <th>11708</th>\n",
       "      <td>drugs</td>\n",
       "      <td>4</td>\n",
       "      <td>2</td>\n",
       "      <td>28</td>\n",
       "      <td>4</td>\n",
       "      <td>1</td>\n",
       "      <td>408.150365</td>\n",
       "      <td>71.44</td>\n",
       "      <td>3.35040</td>\n",
       "    </tr>\n",
       "  </tbody>\n",
       "</table>\n",
       "<p>11709 rows × 9 columns</p>\n",
       "</div>"
      ],
      "text/plain": [
       "         set  rings  rotatable  atoms  hba  hbd        molwt    tpsa     logp\n",
       "0       mtor      4          5     30    8    2   443.052210  113.94  3.65160\n",
       "1       mtor      4          5     28    6    1   390.115047   77.00  4.59912\n",
       "2       mtor      4          6     29    7    1   406.109961   86.23  4.29930\n",
       "3       mtor      4          5     30    8    2   443.052210  113.94  3.65160\n",
       "4       mtor      4          5     31    8    1   457.067860  105.15  3.67590\n",
       "...      ...    ...        ...    ...  ...  ...          ...     ...      ...\n",
       "11704  drugs      1          0      8    1    1   128.002892   20.23  2.04560\n",
       "11705  drugs      3          3     24    9    5   340.079432  149.82 -1.32270\n",
       "11706  drugs      6         14     79   27   13  1114.554641  403.10  1.54710\n",
       "11707  drugs      0         13     21    5    0   330.147689   83.50 -0.00030\n",
       "11708  drugs      4          2     28    4    1   408.150365   71.44  3.35040\n",
       "\n",
       "[11709 rows x 9 columns]"
      ]
     },
     "execution_count": 19,
     "metadata": {},
     "output_type": "execute_result"
    }
   ],
   "source": [
    "joint_df = pd.concat([df, df_drugbank], ignore_index=True)\n",
    "joint_df"
   ]
  },
  {
   "cell_type": "code",
   "execution_count": 20,
   "metadata": {},
   "outputs": [
    {
     "data": {
      "text/html": [
       "<div>\n",
       "<style scoped>\n",
       "    .dataframe tbody tr th:only-of-type {\n",
       "        vertical-align: middle;\n",
       "    }\n",
       "\n",
       "    .dataframe tbody tr th {\n",
       "        vertical-align: top;\n",
       "    }\n",
       "\n",
       "    .dataframe thead th {\n",
       "        text-align: right;\n",
       "    }\n",
       "</style>\n",
       "<table border=\"1\" class=\"dataframe\">\n",
       "  <thead>\n",
       "    <tr style=\"text-align: right;\">\n",
       "      <th></th>\n",
       "      <th>set</th>\n",
       "      <th>variable</th>\n",
       "      <th>value</th>\n",
       "    </tr>\n",
       "  </thead>\n",
       "  <tbody>\n",
       "    <tr>\n",
       "      <th>0</th>\n",
       "      <td>mtor</td>\n",
       "      <td>rings</td>\n",
       "      <td>4.0000</td>\n",
       "    </tr>\n",
       "    <tr>\n",
       "      <th>1</th>\n",
       "      <td>mtor</td>\n",
       "      <td>rings</td>\n",
       "      <td>4.0000</td>\n",
       "    </tr>\n",
       "    <tr>\n",
       "      <th>2</th>\n",
       "      <td>mtor</td>\n",
       "      <td>rings</td>\n",
       "      <td>4.0000</td>\n",
       "    </tr>\n",
       "    <tr>\n",
       "      <th>3</th>\n",
       "      <td>mtor</td>\n",
       "      <td>rings</td>\n",
       "      <td>4.0000</td>\n",
       "    </tr>\n",
       "    <tr>\n",
       "      <th>4</th>\n",
       "      <td>mtor</td>\n",
       "      <td>rings</td>\n",
       "      <td>4.0000</td>\n",
       "    </tr>\n",
       "    <tr>\n",
       "      <th>...</th>\n",
       "      <td>...</td>\n",
       "      <td>...</td>\n",
       "      <td>...</td>\n",
       "    </tr>\n",
       "    <tr>\n",
       "      <th>70249</th>\n",
       "      <td>drugs</td>\n",
       "      <td>logp</td>\n",
       "      <td>2.0456</td>\n",
       "    </tr>\n",
       "    <tr>\n",
       "      <th>70250</th>\n",
       "      <td>drugs</td>\n",
       "      <td>logp</td>\n",
       "      <td>-1.3227</td>\n",
       "    </tr>\n",
       "    <tr>\n",
       "      <th>70251</th>\n",
       "      <td>drugs</td>\n",
       "      <td>logp</td>\n",
       "      <td>1.5471</td>\n",
       "    </tr>\n",
       "    <tr>\n",
       "      <th>70252</th>\n",
       "      <td>drugs</td>\n",
       "      <td>logp</td>\n",
       "      <td>-0.0003</td>\n",
       "    </tr>\n",
       "    <tr>\n",
       "      <th>70253</th>\n",
       "      <td>drugs</td>\n",
       "      <td>logp</td>\n",
       "      <td>3.3504</td>\n",
       "    </tr>\n",
       "  </tbody>\n",
       "</table>\n",
       "<p>70254 rows × 3 columns</p>\n",
       "</div>"
      ],
      "text/plain": [
       "         set variable   value\n",
       "0       mtor    rings  4.0000\n",
       "1       mtor    rings  4.0000\n",
       "2       mtor    rings  4.0000\n",
       "3       mtor    rings  4.0000\n",
       "4       mtor    rings  4.0000\n",
       "...      ...      ...     ...\n",
       "70249  drugs     logp  2.0456\n",
       "70250  drugs     logp -1.3227\n",
       "70251  drugs     logp  1.5471\n",
       "70252  drugs     logp -0.0003\n",
       "70253  drugs     logp  3.3504\n",
       "\n",
       "[70254 rows x 3 columns]"
      ]
     },
     "execution_count": 20,
     "metadata": {},
     "output_type": "execute_result"
    }
   ],
   "source": [
    "melted_df = pd.melt(joint_df, id_vars=['set'], value_vars=['rings', 'rotatable', 'atoms', 'hba', 'hbd', 'logp'])\n",
    "melted_df"
   ]
  },
  {
   "cell_type": "code",
   "execution_count": 21,
   "metadata": {},
   "outputs": [
    {
     "data": {
      "text/plain": [
       "<AxesSubplot:xlabel='variable', ylabel='value'>"
      ]
     },
     "execution_count": 21,
     "metadata": {},
     "output_type": "execute_result"
    },
    {
     "data": {
      "image/png": "[encoded data removed]",
      "text/plain": [
       "<Figure size 842.4x842.4 with 1 Axes>"
      ]
     },
     "metadata": {},
     "output_type": "display_data"
    }
   ],
   "source": [
    "sns.boxplot(y='value', x='variable', hue='set', data=melted_df, showfliers=False)"
   ]
  },
  {
   "cell_type": "code",
   "execution_count": 22,
   "metadata": {},
   "outputs": [
    {
     "data": {
      "text/html": [
       "<div>\n",
       "<style scoped>\n",
       "    .dataframe tbody tr th:only-of-type {\n",
       "        vertical-align: middle;\n",
       "    }\n",
       "\n",
       "    .dataframe tbody tr th {\n",
       "        vertical-align: top;\n",
       "    }\n",
       "\n",
       "    .dataframe thead th {\n",
       "        text-align: right;\n",
       "    }\n",
       "</style>\n",
       "<table border=\"1\" class=\"dataframe\">\n",
       "  <thead>\n",
       "    <tr style=\"text-align: right;\">\n",
       "      <th></th>\n",
       "      <th>set</th>\n",
       "      <th>variable</th>\n",
       "      <th>value</th>\n",
       "    </tr>\n",
       "  </thead>\n",
       "  <tbody>\n",
       "    <tr>\n",
       "      <th>0</th>\n",
       "      <td>mtor</td>\n",
       "      <td>molwt</td>\n",
       "      <td>443.052210</td>\n",
       "    </tr>\n",
       "    <tr>\n",
       "      <th>1</th>\n",
       "      <td>mtor</td>\n",
       "      <td>molwt</td>\n",
       "      <td>390.115047</td>\n",
       "    </tr>\n",
       "    <tr>\n",
       "      <th>2</th>\n",
       "      <td>mtor</td>\n",
       "      <td>molwt</td>\n",
       "      <td>406.109961</td>\n",
       "    </tr>\n",
       "    <tr>\n",
       "      <th>3</th>\n",
       "      <td>mtor</td>\n",
       "      <td>molwt</td>\n",
       "      <td>443.052210</td>\n",
       "    </tr>\n",
       "    <tr>\n",
       "      <th>4</th>\n",
       "      <td>mtor</td>\n",
       "      <td>molwt</td>\n",
       "      <td>457.067860</td>\n",
       "    </tr>\n",
       "    <tr>\n",
       "      <th>...</th>\n",
       "      <td>...</td>\n",
       "      <td>...</td>\n",
       "      <td>...</td>\n",
       "    </tr>\n",
       "    <tr>\n",
       "      <th>23413</th>\n",
       "      <td>drugs</td>\n",
       "      <td>tpsa</td>\n",
       "      <td>20.230000</td>\n",
       "    </tr>\n",
       "    <tr>\n",
       "      <th>23414</th>\n",
       "      <td>drugs</td>\n",
       "      <td>tpsa</td>\n",
       "      <td>149.820000</td>\n",
       "    </tr>\n",
       "    <tr>\n",
       "      <th>23415</th>\n",
       "      <td>drugs</td>\n",
       "      <td>tpsa</td>\n",
       "      <td>403.100000</td>\n",
       "    </tr>\n",
       "    <tr>\n",
       "      <th>23416</th>\n",
       "      <td>drugs</td>\n",
       "      <td>tpsa</td>\n",
       "      <td>83.500000</td>\n",
       "    </tr>\n",
       "    <tr>\n",
       "      <th>23417</th>\n",
       "      <td>drugs</td>\n",
       "      <td>tpsa</td>\n",
       "      <td>71.440000</td>\n",
       "    </tr>\n",
       "  </tbody>\n",
       "</table>\n",
       "<p>23418 rows × 3 columns</p>\n",
       "</div>"
      ],
      "text/plain": [
       "         set variable       value\n",
       "0       mtor    molwt  443.052210\n",
       "1       mtor    molwt  390.115047\n",
       "2       mtor    molwt  406.109961\n",
       "3       mtor    molwt  443.052210\n",
       "4       mtor    molwt  457.067860\n",
       "...      ...      ...         ...\n",
       "23413  drugs     tpsa   20.230000\n",
       "23414  drugs     tpsa  149.820000\n",
       "23415  drugs     tpsa  403.100000\n",
       "23416  drugs     tpsa   83.500000\n",
       "23417  drugs     tpsa   71.440000\n",
       "\n",
       "[23418 rows x 3 columns]"
      ]
     },
     "execution_count": 22,
     "metadata": {},
     "output_type": "execute_result"
    }
   ],
   "source": [
    "melted_df2 = pd.melt(joint_df, id_vars=['set'], value_vars=['molwt', 'tpsa'])\n",
    "melted_df2"
   ]
  },
  {
   "cell_type": "code",
   "execution_count": 23,
   "metadata": {},
   "outputs": [
    {
     "data": {
      "text/plain": [
       "<AxesSubplot:xlabel='variable', ylabel='value'>"
      ]
     },
     "execution_count": 23,
     "metadata": {},
     "output_type": "execute_result"
    },
    {
     "data": {
      "image/png": "[encoded data removed]",
      "text/plain": [
       "<Figure size 842.4x842.4 with 1 Axes>"
      ]
     },
     "metadata": {},
     "output_type": "display_data"
    }
   ],
   "source": [
    "sns.boxplot(y='value', x='variable', hue='set', data=melted_df2, showfliers=False)"
   ]
  },
  {
   "cell_type": "markdown",
   "metadata": {},
   "source": [
    "In comparison to known therapeutic substances in DrugBank, our set of mTOR ligands tends to have structures with many more rings, well beyond the third quartile ring count in DrugBank. mTOR ligands also have overall much higher number of heavy atoms, and higher molecular weight overall.\n",
    "\n",
    "Probably the most interesting thing here is the discrepancy in the ratio of hydrogen bond acceptors (hba) to [hydrogen bond](https://en.wikipedia.org/wiki/Hydrogen_bond) donors (hbd) - mTOR inhibitors have a much larger amount of the former, and comparatively smaller amount of the latter. Maybe something to do with the cavity it binds to?\n",
    "\n",
    "Hydrogen bond acceptors are usually heteroatoms (non H and C atoms, often O, N, S, etc.) that have some free electron pairs for hydrogen atoms to latch onto. Let's try if the observed trends between hydrogen bond acceptors can also be observed on heteroatom-specific descriptors. Since mTOR ligands are generally larger than DrugBank substances, the absolute counts of heteroatoms and heterocycles will probably be influenced by that. Instead, let's make our own descriptor of sorts: ratios of heteroatoms/all_atoms and heterocycles/all_cycles, to gain information about the heteroatom density in the molecules, and whether it reflects the observed differences in hydrogen bond acceptors."
   ]
  },
  {
   "cell_type": "code",
   "execution_count": 24,
   "metadata": {},
   "outputs": [],
   "source": [
    "mtor_heteroatoms_ratio = [rdescriptors.CalcNumHeteroatoms(l)/l.GetNumHeavyAtoms() for l in mtor_ligands]\n",
    "drugbank_heteroatoms_ratio = [rdescriptors.CalcNumHeteroatoms(l)/l.GetNumHeavyAtoms() for l in drugs]\n",
    "# heterocycles = cycles with heteroatoms\n",
    "mtor_heterocycles_ratio = [rdescriptors.CalcNumHeterocycles(l)/rdescriptors.CalcNumRings(l)\n",
    "                           for l in mtor_ligands if rdescriptors.CalcNumRings(l)]\n",
    "drugbank_heterocycles_ratio = [rdescriptors.CalcNumHeterocycles(l)/rdescriptors.CalcNumRings(l)\n",
    "                               for l in drugs if rdescriptors.CalcNumRings(l)]"
   ]
  },
  {
   "cell_type": "code",
   "execution_count": 25,
   "metadata": {},
   "outputs": [
    {
     "data": {
      "text/html": [
       "<div>\n",
       "<style scoped>\n",
       "    .dataframe tbody tr th:only-of-type {\n",
       "        vertical-align: middle;\n",
       "    }\n",
       "\n",
       "    .dataframe tbody tr th {\n",
       "        vertical-align: top;\n",
       "    }\n",
       "\n",
       "    .dataframe thead th {\n",
       "        text-align: right;\n",
       "    }\n",
       "</style>\n",
       "<table border=\"1\" class=\"dataframe\">\n",
       "  <thead>\n",
       "    <tr style=\"text-align: right;\">\n",
       "      <th></th>\n",
       "      <th>set</th>\n",
       "      <th>variable</th>\n",
       "      <th>value</th>\n",
       "    </tr>\n",
       "  </thead>\n",
       "  <tbody>\n",
       "    <tr>\n",
       "      <th>0</th>\n",
       "      <td>mtor</td>\n",
       "      <td>heteroatom_ratio</td>\n",
       "      <td>0.366667</td>\n",
       "    </tr>\n",
       "    <tr>\n",
       "      <th>1</th>\n",
       "      <td>mtor</td>\n",
       "      <td>heteroatom_ratio</td>\n",
       "      <td>0.250000</td>\n",
       "    </tr>\n",
       "    <tr>\n",
       "      <th>2</th>\n",
       "      <td>mtor</td>\n",
       "      <td>heteroatom_ratio</td>\n",
       "      <td>0.275862</td>\n",
       "    </tr>\n",
       "    <tr>\n",
       "      <th>3</th>\n",
       "      <td>mtor</td>\n",
       "      <td>heteroatom_ratio</td>\n",
       "      <td>0.366667</td>\n",
       "    </tr>\n",
       "    <tr>\n",
       "      <th>4</th>\n",
       "      <td>mtor</td>\n",
       "      <td>heteroatom_ratio</td>\n",
       "      <td>0.354839</td>\n",
       "    </tr>\n",
       "    <tr>\n",
       "      <th>...</th>\n",
       "      <td>...</td>\n",
       "      <td>...</td>\n",
       "      <td>...</td>\n",
       "    </tr>\n",
       "    <tr>\n",
       "      <th>22431</th>\n",
       "      <td>drugbank</td>\n",
       "      <td>heterocycle_ratio</td>\n",
       "      <td>0.000000</td>\n",
       "    </tr>\n",
       "    <tr>\n",
       "      <th>22432</th>\n",
       "      <td>drugbank</td>\n",
       "      <td>heterocycle_ratio</td>\n",
       "      <td>0.000000</td>\n",
       "    </tr>\n",
       "    <tr>\n",
       "      <th>22433</th>\n",
       "      <td>drugbank</td>\n",
       "      <td>heterocycle_ratio</td>\n",
       "      <td>0.666667</td>\n",
       "    </tr>\n",
       "    <tr>\n",
       "      <th>22434</th>\n",
       "      <td>drugbank</td>\n",
       "      <td>heterocycle_ratio</td>\n",
       "      <td>0.500000</td>\n",
       "    </tr>\n",
       "    <tr>\n",
       "      <th>22435</th>\n",
       "      <td>drugbank</td>\n",
       "      <td>heterocycle_ratio</td>\n",
       "      <td>0.000000</td>\n",
       "    </tr>\n",
       "  </tbody>\n",
       "</table>\n",
       "<p>22436 rows × 3 columns</p>\n",
       "</div>"
      ],
      "text/plain": [
       "            set           variable     value\n",
       "0          mtor   heteroatom_ratio  0.366667\n",
       "1          mtor   heteroatom_ratio  0.250000\n",
       "2          mtor   heteroatom_ratio  0.275862\n",
       "3          mtor   heteroatom_ratio  0.366667\n",
       "4          mtor   heteroatom_ratio  0.354839\n",
       "...         ...                ...       ...\n",
       "22431  drugbank  heterocycle_ratio  0.000000\n",
       "22432  drugbank  heterocycle_ratio  0.000000\n",
       "22433  drugbank  heterocycle_ratio  0.666667\n",
       "22434  drugbank  heterocycle_ratio  0.500000\n",
       "22435  drugbank  heterocycle_ratio  0.000000\n",
       "\n",
       "[22436 rows x 3 columns]"
      ]
     },
     "execution_count": 25,
     "metadata": {},
     "output_type": "execute_result"
    }
   ],
   "source": [
    "# Put the data into a DataFrame object, one formatted so that we don't need to 'melt' it for mapping into boxplot\n",
    "# Make an initial dataframe, then extend it by each additional set\n",
    "df = pd.DataFrame(data=[{'set': 'mtor', 'variable': 'heteroatom_ratio', 'value': x}\n",
    "                        for x in mtor_heteroatoms_ratio])\n",
    "df = df.append(pd.DataFrame(data=[{'set': 'drugbank', 'variable': 'heteroatom_ratio', 'value': x}\n",
    "                                  for x in drugbank_heteroatoms_ratio]), ignore_index=True)\n",
    "df = df.append(pd.DataFrame(data=[{'set': 'mtor', 'variable': 'heterocycle_ratio', 'value': x}\n",
    "                                  for x in mtor_heterocycles_ratio]), ignore_index=True)\n",
    "df = df.append(pd.DataFrame(data=[{'set': 'drugbank', 'variable': 'heterocycle_ratio', 'value': x}\n",
    "                                  for x in drugbank_heterocycles_ratio]), ignore_index=True)\n",
    "df"
   ]
  },
  {
   "cell_type": "code",
   "execution_count": 26,
   "metadata": {
    "scrolled": false
   },
   "outputs": [
    {
     "data": {
      "text/plain": [
       "<AxesSubplot:xlabel='variable', ylabel='value'>"
      ]
     },
     "execution_count": 26,
     "metadata": {},
     "output_type": "execute_result"
    },
    {
     "data": {
      "image/png": "[encoded data removed]",
      "text/plain": [
       "<Figure size 842.4x842.4 with 1 Axes>"
      ]
     },
     "metadata": {},
     "output_type": "display_data"
    }
   ],
   "source": [
    "sns.boxplot(y='value', x='variable', hue='set', data=df, showfliers=False)"
   ]
  },
  {
   "cell_type": "markdown",
   "metadata": {},
   "source": [
    "The overall ratio of heteroatoms within known mTOR ligands seems on par with the relative amount of heteroatoms within known drugs, even somewhat smaller. So, that can't be it. However, more interestingly, almost all cycles in known mTOR ligands contain heteroatoms, while only about half of the cycles in known drugs contain said heteroatoms. And since the known mTOR ligands contain many more rings in general, this may further widen the observed divide in hydrogen bond acceptor counts...\n",
    "\n",
    "# What to do\n",
    " - have a look at the linked materials, also including [the article](http://www.chemicke-listy.cz/docs/full/2017_11_716-723.pdf) from the good ol' leaves. I am sure you were/will be told about descriptors at length from the actual lectures. For the purposes of this exercise, just please make sure you have some general notion of what a molecular descriptor is and what it can be used for\n",
    " - apply the aforedescribed methods onto your own dataset. How does DrugBank and mTOR compare to your dataset? Any comments/ideas? Also, if you do not have seaborn, just do \"conda install seaborn\" in your conda environment, it should sort itself out. If you have some other visualization preferences, with different graph styles and/or different libraries, you can use whatever you are comfortable with.\n",
    " - If you notice something interesting about your dataset, try to \"zoom\" onto the observed discrepancy using additional descriptors, their ratios or visualizations of your choosing. Here, it was the observed large amount of hydrogen bond acceptors followed by calculating heteroatom and heterocycle ratios. For your set, it might be something different. The whole point of this is you trying to follow and investigate the trends in your dataset. If you find everything in line with known drugs in DrugBank, congrats - your ligands seem pretty druglike. If that's the case, just try the heteroatom and heterocycle ratios ;)"
   ]
  }
 ],
 "metadata": {
  "kernelspec": {
   "display_name": "Python 3",
   "language": "python",
   "name": "python3"
  },
  "language_info": {
   "codemirror_mode": {
    "name": "ipython",
    "version": 3
   },
   "file_extension": ".py",
   "mimetype": "text/x-python",
   "name": "python",
   "nbconvert_exporter": "python",
   "pygments_lexer": "ipython3",
   "version": "3.7.10"
  }
 },
 "nbformat": 4,
 "nbformat_minor": 4
}
