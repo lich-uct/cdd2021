{
 "cells": [
  {
   "cell_type": "markdown",
   "metadata": {},
   "source": [
    "# Fingerprints\n",
    "The substructure keys we used in the last exercise are nice, but they are not without limitations. The main issue with them is that we have to manually define a set of substructures to observe. Not only it is a lot of work, but it also inherently reflects our own biases in feature selection.\n",
    "\n",
    "An alternative approach is not to observe a given list of substructures, but go one layer of abstraction higher and observe all structural features of a defined type. For example, we can observe all atoms in the characterized molecule, their types, and how far they are in relation with each other. Alternatively, we can also observe the surroundings of each atom within the characterized molecule, up to 2 or 3 bonds distance. This is the basis of the ever-popular circular fingerprints (i.e. a \"circle\" with radius of 2 or 3 bonds around every atom), most notably the Extended Connectivity Fingerprints (ECFP). More information on ECFP fingerprints and their uses is in [ChemAxon docs](https://docs.chemaxon.com/display/docs/Extended+Connectivity+Fingerprint+ECFP) and [Daylight docs](https://www.daylight.com/dayhtml/doc/theory/theory.finger.html).\n",
    "\n",
    "![ECFP_radii](../data/pix/ecfp_iterations.png)\n",
    "![ECFP_generation](../data/pix/ecfp_generation.png)\n",
    "\n",
    "As you can probably imagine, the amount of the observed features in such fingerprints is going to be very large. Combinatorially speaking, there are very many possible substructures of 4 to 6 bonds across, and every molecule is going to contain only a very small subset of those. The large number of observed features can be put into a more manageable size by using a [hash function](https://en.wikipedia.org/wiki/Hash_function), that maps the large number of features into a binary vector of manageable length (commonly 512, 1024, 2048, sometimes 4096 bits). After hashing, every feature gets assigned a bit in the fingerprint. Since there are many orders of magnitude more features than available bits, many different features can map onto a single bit. The presence of one or more of these features will flip it to True - a \"bit collision\" in hashing. This is not that much of a problem in practice, as individual molecules do not have all that many features to hash. More observed features and shorter bit vector lenghts will incur higher collision rate, and vice versa. For ECFP radius 2 and 3, very common fingerprint type, bit sizes of 1024 and 2048 tend to work ok.\n",
    "\n",
    "![ECFP_hashing](../data/pix/ecfp_folding.png)\n",
    "\n",
    "Luckily, you do not have to do every described step of fingerprint generation, as fingerprints are already implemented in cheminformatic libraries and tools, RDKit included.\n",
    "\n",
    "Due to hashing, if you want to retrospectively know what exact features correspond to a specific bit you are interested in, you will have to re-run the fingerprint generation for your set of molecules. We will try that too in this exercise :)"
   ]
  },
  {
   "cell_type": "markdown",
   "metadata": {},
   "source": [
    "# What to do\n",
    " - Familiarize yourself with hashed fingerprints, again if you haven't already :) On top of lecture materials, good resources are the [ChemAxon docs](https://docs.chemaxon.com/display/docs/Extended+Connectivity+Fingerprint+ECFP) and [Daylight docs](https://www.daylight.com/dayhtml/doc/theory/theory.finger.html). Some additional information on fingerprint designing and hashing is in the \"hashed fingerprint\" section of the [ChemAxon docs](https://docs.chemaxon.com/display/docs/Chemical_Hashed_Fingerprint.html). A very good overview is in Greg Landrum's [London RDKit UGM presentation](https://www.rdkit.org/UGM/2012/Landrum_RDKit_UGM.Fingerprints.Final.pptx.pdf).\n",
    " - Characterize your ligand set using ECFP type of fingerprints, preferably radius 2, size 1024.\n",
    " - Characterize the DrugBank database using the same fingerprint type\n",
    " - Identify in which ECFP bits does your ligand set differ from the DrugBank contents\n",
    " - Try to identify the structural fragments that set those most differing bits in your ligand set compared to DrugBank\n",
    " - Any thoughts/comments on the fragments that appear significantly more or less in your ligand set compared to DrugBank?"
   ]
  },
  {
   "cell_type": "code",
   "execution_count": 1,
   "metadata": {},
   "outputs": [
    {
     "name": "stderr",
     "output_type": "stream",
     "text": [
      "RDKit WARNING: [14:04:17] Enabling RDKit 2019.09.3 jupyter extensions\n"
     ]
    }
   ],
   "source": [
    "from rdkit.Chem import AllChem as Chem\n",
    "from rdkit.Chem import Draw\n",
    "from rdkit.Chem.Draw import IPythonConsole\n",
    "import csv"
   ]
  },
  {
   "cell_type": "code",
   "execution_count": 2,
   "metadata": {},
   "outputs": [],
   "source": [
    "with open('DRD1_without_PAINS.txt', mode='r', encoding='utf-8') as txtfile:\n",
    "    drd1_ligands = [Chem.MolFromSmiles(line) for line in txtfile]\n",
    "\n",
    "suppl = Chem.SDMolSupplier('../data/drugbank.sdf')\n",
    "drugs = [m for m in suppl if m]"
   ]
  },
  {
   "cell_type": "code",
   "execution_count": 3,
   "metadata": {},
   "outputs": [],
   "source": [
    "with open('../data/chembl_mtor_ic50.csv', 'r') as csvfile:\n",
    "    reader = csv.DictReader(csvfile, delimiter=\";\")\n",
    "    mtor_ligands = [Chem.MolFromSmiles(m['Smiles']) for m in reader]\n"
   ]
  },
  {
   "cell_type": "code",
   "execution_count": 4,
   "metadata": {},
   "outputs": [
    {
     "data": {
      "text/plain": [
       "<rdkit.DataStructs.cDataStructs.ExplicitBitVect at 0x2066d08b440>"
      ]
     },
     "execution_count": 4,
     "metadata": {},
     "output_type": "execute_result"
    }
   ],
   "source": [
    "# ECFP are done using RDKit pretty much the same way as MACCS in previous exercise\n",
    "molecule = Chem.MolFromSmiles(\"CCO\")\n",
    "fp = Chem.GetMorganFingerprintAsBitVect(molecule, 2, nBits=1024)\n",
    "# 2 for radius, 1024 for hashed bit vector length\n",
    "fp"
   ]
  },
  {
   "cell_type": "code",
   "execution_count": 5,
   "metadata": {},
   "outputs": [
    {
     "data": {
      "text/plain": [
       "'0000000000000000000000000000000001000000000000000000000000000000000000000000000010000000000000000000000000000000000000000000000000000000000000000000000000000000000000000000000000000000000000000000000000000000000000000000001000000000000000000000000000000000000000000000000000000000000000000000001000000000000000000000000000000000000000000000000000000000000000000000000000000000000000000010000000000000000000000000000000000000000000000000000000000000000000000000000000000000000000000000000000000000000000000000000000000000000000000000000000000000000000000000000000000000000000000000000000000000000000000000000000000000000000000000000000000000000000000000000000000000000000000000000000000000000000000000000000000000000000000000000000000000000000000000000000000000000000000000000000000000000000000000000000000001000000000000000000000000000000000000000000000000000000000000000000000000000000000000000000000000000000000000000000000000000000000000000000000000000000000000000000000000000000000000000000000000000000000000000000000000'"
      ]
     },
     "execution_count": 5,
     "metadata": {},
     "output_type": "execute_result"
    }
   ],
   "source": [
    "fp.ToBitString() # write out the bit values in a string\n",
    "# it is only ethanol, so only several bits are set"
   ]
  },
  {
   "cell_type": "markdown",
   "metadata": {},
   "source": [
    "Let's calculate ECFP for our ligand set and DrugBank:"
   ]
  },
  {
   "cell_type": "code",
   "execution_count": 6,
   "metadata": {},
   "outputs": [],
   "source": [
    "drd1_ligands_ecfp = [Chem.GetMorganFingerprintAsBitVect(m, 2, nBits=1024)\n",
    "                     for m in drd1_ligands]\n",
    "drugs_ecfp = [Chem.GetMorganFingerprintAsBitVect(m, 2, nBits=1024) for m in drugs]"
   ]
  },
  {
   "cell_type": "markdown",
   "metadata": {},
   "source": [
    "Now, we can have a look at the bit occurrence differences between your ligand set and DrugBank, same as we did with MACCS keys in the previous exercises:"
   ]
  },
  {
   "cell_type": "code",
   "execution_count": 7,
   "metadata": {},
   "outputs": [
    {
     "data": {
      "text/plain": [
       "[22,\n",
       " 247,\n",
       " 37,\n",
       " 131,\n",
       " 170,\n",
       " 26,\n",
       " 3,\n",
       " 25,\n",
       " 25,\n",
       " 24,\n",
       " 39,\n",
       " 70,\n",
       " 11,\n",
       " 71,\n",
       " 33,\n",
       " 120,\n",
       " 21,\n",
       " 12,\n",
       " 18,\n",
       " 19]"
      ]
     },
     "execution_count": 7,
     "metadata": {},
     "output_type": "execute_result"
    }
   ],
   "source": [
    "drd1_ligands_ecfp_sums = [0]*drd1_ligands_ecfp[0].GetNumBits() # a list of zeros of a given length\n",
    "for key in drd1_ligands_ecfp:\n",
    "    for onbit in key.GetOnBits():\n",
    "        drd1_ligands_ecfp_sums[onbit] += 1\n",
    "drd1_ligands_ecfp_sums[:20] # nevypisuju cele"
   ]
  },
  {
   "cell_type": "code",
   "execution_count": 8,
   "metadata": {},
   "outputs": [
    {
     "data": {
      "text/plain": [
       "[120,\n",
       " 2360,\n",
       " 285,\n",
       " 317,\n",
       " 939,\n",
       " 231,\n",
       " 29,\n",
       " 138,\n",
       " 213,\n",
       " 303,\n",
       " 260,\n",
       " 258,\n",
       " 68,\n",
       " 665,\n",
       " 227,\n",
       " 828,\n",
       " 103,\n",
       " 104,\n",
       " 93,\n",
       " 187]"
      ]
     },
     "execution_count": 8,
     "metadata": {},
     "output_type": "execute_result"
    }
   ],
   "source": [
    "drugs_ecfp_sums = [0]*drugs_ecfp[0].GetNumBits() # a list of zeros of a given length\n",
    "for key in drugs_ecfp:\n",
    "    for onbit in key.GetOnBits():\n",
    "        drugs_ecfp_sums[onbit] += 1\n",
    "drugs_ecfp_sums[:20] # nevypisuju cele"
   ]
  },
  {
   "cell_type": "markdown",
   "metadata": {},
   "source": [
    "As in the previous exercise, the sizes of our ligand set and the size of the DrugBank database are different. It might be a good idea to divide the raw incidence counts by the total set size, thus getting a number between 0 (never appears in any structure in a set) and 1 (always appears in every structure in a set) for both the ligand and the DrugBank set:"
   ]
  },
  {
   "cell_type": "code",
   "execution_count": 9,
   "metadata": {},
   "outputs": [
    {
     "data": {
      "text/plain": [
       "([0.021611001964636542,\n",
       "  0.24263261296660119,\n",
       "  0.036345776031434185,\n",
       "  0.12868369351669942,\n",
       "  0.16699410609037327,\n",
       "  0.025540275049115914,\n",
       "  0.0029469548133595285,\n",
       "  0.02455795677799607,\n",
       "  0.02455795677799607,\n",
       "  0.023575638506876228,\n",
       "  0.03831041257367387,\n",
       "  0.068762278978389,\n",
       "  0.010805500982318271,\n",
       "  0.06974459724950884,\n",
       "  0.03241650294695481,\n",
       "  0.11787819253438114,\n",
       "  0.0206286836935167,\n",
       "  0.011787819253438114,\n",
       "  0.01768172888015717,\n",
       "  0.018664047151277015],\n",
       " [0.01687051876845213,\n",
       "  0.3317868691128919,\n",
       "  0.04006748207507381,\n",
       "  0.044566287079994375,\n",
       "  0.13201180936313792,\n",
       "  0.03247574862927035,\n",
       "  0.004077042035709265,\n",
       "  0.01940109658371995,\n",
       "  0.029945170814002532,\n",
       "  0.04259805989034163,\n",
       "  0.036552790664979615,\n",
       "  0.036271615352172076,\n",
       "  0.009559960635456208,\n",
       "  0.09349079150850555,\n",
       "  0.03191339800365528,\n",
       "  0.1164065795023197,\n",
       "  0.014480528609588077,\n",
       "  0.014621116265991847,\n",
       "  0.013074652045550401,\n",
       "  0.026289891747504568])"
      ]
     },
     "execution_count": 9,
     "metadata": {},
     "output_type": "execute_result"
    }
   ],
   "source": [
    "drd1_ligands_ecfp_scaled = [x/len(drd1_ligands_ecfp) for x in drd1_ligands_ecfp_sums]\n",
    "drugs_ecfp_scaled = [x/len(drugs_ecfp) for x in drugs_ecfp_sums]\n",
    "drd1_ligands_ecfp_scaled[:20], drugs_ecfp_scaled[:20] # nevypisuju cele"
   ]
  },
  {
   "cell_type": "markdown",
   "metadata": {},
   "source": [
    "We now have the occurrence ratio of each MACCS substructure within our set, and within DrugBank. We can now subtract the two and have a look at the differences:"
   ]
  },
  {
   "cell_type": "code",
   "execution_count": 10,
   "metadata": {},
   "outputs": [
    {
     "data": {
      "text/plain": [
       "([(650, -0.11236820597721264),\n",
       "  (147, -0.10377357708857604),\n",
       "  (128, -0.0896119255896326)],\n",
       " [(212, 0.14485182641042701),\n",
       "  (714, 0.14903354962840942),\n",
       "  (926, 0.16584164637260368)])"
      ]
     },
     "execution_count": 10,
     "metadata": {},
     "output_type": "execute_result"
    }
   ],
   "source": [
    "# compute the differences, store bit numbers prior to sorting\n",
    "drd1_drugbank_differences = [(i, a_b[0] - a_b[1])\n",
    "                             for i, a_b in enumerate(zip(drd1_ligands_ecfp_scaled, drugs_ecfp_scaled))]\n",
    "# let's sort the bits by the difference in MACCS incidence between our ligand set and the DrugBank database\n",
    "drd1_drugbank_differences.sort(key=lambda x: x[1])\n",
    "drd1_drugbank_differences[:3], drd1_drugbank_differences[-3:]"
   ]
  },
  {
   "cell_type": "markdown",
   "metadata": {},
   "source": [
    "So, there are some bits in the ECFP that are less common in the DRD1 ligand set than in known drugs in Drugbank (the negative difference), and some that are much more common in the DRD1 ligand set (the positive difference). For simplicity, we look just at the top 3 of each.\n",
    "\n",
    "The most prevalent bit among DRD1 ligands compared to DrugBank molecules is bit number 650. What does that bit mean? Unlike structural keys, the interpretation is not that simple. Let's redo the fingerprinting of the DRD1 ligands, but this time, specifically look at bit 650 and see what substructures were mapped to it during ECFP generation. Again, luckily for us, RDKit already has that functionality :)"
   ]
  },
  {
   "cell_type": "markdown",
   "metadata": {},
   "source": [
    "For our ethanol example:"
   ]
  },
  {
   "cell_type": "code",
   "execution_count": 11,
   "metadata": {},
   "outputs": [
    {
     "data": {
      "text/plain": [
       "([33, 80, 222, 294, 386, 807],\n",
       " {33: ((0, 0),),\n",
       "  80: ((1, 0),),\n",
       "  222: ((2, 1),),\n",
       "  294: ((0, 1),),\n",
       "  386: ((1, 1),),\n",
       "  807: ((2, 0),)})"
      ]
     },
     "execution_count": 11,
     "metadata": {},
     "output_type": "execute_result"
    }
   ],
   "source": [
    "bitinfo = {} # dict to store information about what bits were set by what atoms\n",
    "ethanol = Chem.MolFromSmiles(\"CCO\")\n",
    "fp = Chem.GetMorganFingerprintAsBitVect(ethanol, 2, nBits=1024, bitInfo=bitinfo)\n",
    "list(fp.GetOnBits()), bitinfo"
   ]
  },
  {
   "cell_type": "markdown",
   "metadata": {},
   "source": [
    "Here, we have the few bits set in the ECFP fingerprint of ethanol, and the explanation of the set bits as atom index and radius of the corresponding substructures. Now, we just need to generate the actual substructures from these atom indices:"
   ]
  },
  {
   "cell_type": "code",
   "execution_count": 12,
   "metadata": {},
   "outputs": [
    {
     "name": "stdout",
     "output_type": "stream",
     "text": [
      "[0, 1]\n"
     ]
    },
    {
     "data": {
      "image/png": "[encoded data removed]",
      "text/plain": [
       "<PIL.PngImagePlugin.PngImageFile image mode=RGB size=600x200 at 0x2066D094848>"
      ]
     },
     "execution_count": 12,
     "metadata": {},
     "output_type": "execute_result"
    }
   ],
   "source": [
    "submols = []\n",
    "for bit, atom_radius in bitinfo.items():\n",
    "    atom, radius = atom_radius[0]\n",
    "    if radius == 0: # radius 0 means just the atom, not useful as path\n",
    "        continue\n",
    "    hit_atoms = Chem.FindAtomEnvironmentOfRadiusN(ethanol, radius, atom)\n",
    "    submols.append(Chem.PathToSubmol(ethanol, hit_atoms))\n",
    "print([i for i in hit_atoms])\n",
    "Draw.MolsToGridImage(submols)"
   ]
  },
  {
   "cell_type": "markdown",
   "metadata": {},
   "source": [
    "Yeah, pretty much Ethanol :) Using this functionality, let's write a generic function that gets a Mol instance and a bit number, and spits out which fragments were responsible for that bit to be set in that particular molecule:"
   ]
  },
  {
   "cell_type": "code",
   "execution_count": 13,
   "metadata": {},
   "outputs": [],
   "source": [
    "def substructures_of_bit_ecfp4_1024(mol, bit):\n",
    "    bitinfo = {}\n",
    "    Chem.GetMorganFingerprintAsBitVect(mol, 2, nBits=1024, bitInfo=bitinfo)\n",
    "    \n",
    "    submols = []\n",
    "    for atom_radius in bitinfo.get(bit, []):\n",
    "        atom, radius = atom_radius\n",
    "        if radius == 0: # radius 0 means just the atom, not useful as path\n",
    "            continue\n",
    "        hit_atoms = Chem.FindAtomEnvironmentOfRadiusN(mol, radius, atom)\n",
    "        submols.append(Chem.PathToSubmol(mol, hit_atoms))\n",
    "    return submols"
   ]
  },
  {
   "cell_type": "code",
   "execution_count": 14,
   "metadata": {
    "scrolled": true
   },
   "outputs": [
    {
     "data": {
      "image/png": "[encoded data removed]",
      "text/plain": [
       "<PIL.PngImagePlugin.PngImageFile image mode=RGB size=600x200 at 0x20671162F88>"
      ]
     },
     "execution_count": 14,
     "metadata": {},
     "output_type": "execute_result"
    }
   ],
   "source": [
    "# test the func :)\n",
    "Draw.MolsToGridImage(substructures_of_bit_ecfp4_1024(ethanol, 386))"
   ]
  },
  {
   "cell_type": "markdown",
   "metadata": {},
   "source": [
    "Ok, seems to work... let's find out which substructures are responsible for the comparatively frequent bit 650 among DRD1 ligands. You do the most comparatively frequent bit for your ligand set, on your ligand set :)"
   ]
  },
  {
   "cell_type": "markdown",
   "metadata": {},
   "source": [
    "## mTOR and drugbank - bit 378"
   ]
  },
  {
   "cell_type": "code",
   "execution_count": 17,
   "metadata": {},
   "outputs": [
    {
     "data": {
      "text/plain": [
       "(35,\n",
       " {'ccc(Cl)c(c)Cl': 13,\n",
       "  'cc(c)[O-]': 6,\n",
       "  'ccn(c(c)c)C(C)C': 5,\n",
       "  'CC[NH3+]': 5,\n",
       "  'cc(c)[C@@H](Cc)[N+](C)(C)C': 4,\n",
       "  'C=C(C)C': 4,\n",
       "  '[NH3+]CO': 3,\n",
       "  'C[C@@H](N)[C@@H](C)O': 2,\n",
       "  'cc(c)[C@@H](O)CN': 2,\n",
       "  'cc(c)C(Cc)[N+](C)(C)C': 2,\n",
       "  'C[C@@H](N)CCS': 2,\n",
       "  'ccc(cc)C[NH3+]': 2,\n",
       "  'C[C@H](N)[C@@H](C)O': 2,\n",
       "  'cc(C)c(c(c)C)c(c)c': 2,\n",
       "  'CCC(NC)C(C)=O': 2,\n",
       "  'CCNC(c)C': 1,\n",
       "  'COC(=O)CS': 1,\n",
       "  'ccc(NS)c(c)-c': 1,\n",
       "  'ccc(sc)C(C)(C)N': 1,\n",
       "  'C=C(S)C[C@H](C)N': 1,\n",
       "  'C=CC[C@@H](C)O': 1,\n",
       "  'CC[C@@H](NC)C(C)=O': 1,\n",
       "  'CC(C)NC(C)c': 1,\n",
       "  'CC(C)(C)SCN': 1,\n",
       "  'ccn(nc)C(C)C': 1,\n",
       "  'CC(=O)CC(=O)S': 1,\n",
       "  'ccc(C(=O)O)c(c)S': 1,\n",
       "  'cc(o)Cl': 1,\n",
       "  'C[C@H](O)C[P@H](=O)[O-]': 1,\n",
       "  'Cc(n)[nH]c([nH])=S': 1,\n",
       "  'ccnc(n)N': 1,\n",
       "  'ccc(cc)[C@@H](N)S': 1,\n",
       "  'CN(C)C(=O)N(C)C': 1,\n",
       "  'cn(c)O': 1,\n",
       "  'CCNC(C)c': 1})"
      ]
     },
     "execution_count": 17,
     "metadata": {},
     "output_type": "execute_result"
    }
   ],
   "source": [
    "substructure_smiles_db = {}\n",
    "for drug in drugs:\n",
    "    for submol in substructures_of_bit_ecfp4_1024(drug, 378):\n",
    "        subsmiles = Chem.MolToSmiles(submol)\n",
    "        substructure_smiles_db[subsmiles] = substructure_smiles_db.get(subsmiles, 0) + 1\n",
    "substructure_smiles_db =  {k: v for k, v in sorted(substructure_smiles_db.items(), key=lambda item: item[1], reverse=True)}\n",
    "len(substructure_smiles_db), substructure_smiles_db"
   ]
  },
  {
   "cell_type": "markdown",
   "metadata": {},
   "source": [
    "Po uprave funkce substructures_of_bit_ecfp4_1024 u mTOR najednou 3686 namísto 50 substruktur. Chyba??"
   ]
  },
  {
   "cell_type": "code",
   "execution_count": 18,
   "metadata": {},
   "outputs": [
    {
     "data": {
      "text/plain": [
       "(3, {'ccnc(n)N': 4, 'cc(-c)cc(-c)n': 1, 'ccc(Cl)c(c)Cl': 1})"
      ]
     },
     "execution_count": 18,
     "metadata": {},
     "output_type": "execute_result"
    }
   ],
   "source": [
    "substructure_smiles = {}\n",
    "for ligand in mtor_ligands:\n",
    "    for submol in substructures_of_bit_ecfp4_1024(ligand, 378):\n",
    "        subsmiles = Chem.MolToSmiles(submol)\n",
    "        substructure_smiles[subsmiles] = substructure_smiles.get(subsmiles, 0) + 1\n",
    "len(substructure_smiles), substructure_smiles"
   ]
  },
  {
   "cell_type": "markdown",
   "metadata": {},
   "source": [
    "## DRD1 and drugbank - bit 650"
   ]
  },
  {
   "cell_type": "code",
   "execution_count": 15,
   "metadata": {},
   "outputs": [
    {
     "data": {
      "text/plain": [
       "(6,\n",
       " {'cc(c)CC': 9,\n",
       "  'cnc(c(c)c)n(c)-c': 2,\n",
       "  'CO[C@H](C)C': 2,\n",
       "  'cc(c)CC(=O)O': 2,\n",
       "  'cc(N)cc(c)Cl': 1,\n",
       "  'ccc(cn)-c(c)n': 1})"
      ]
     },
     "execution_count": 15,
     "metadata": {},
     "output_type": "execute_result"
    }
   ],
   "source": [
    "substructure_smiles = {}\n",
    "for ligand in drd1_ligands:\n",
    "    for submol in substructures_of_bit_ecfp4_1024(ligand, 650):\n",
    "        subsmiles = Chem.MolToSmiles(submol)\n",
    "        substructure_smiles[subsmiles] = substructure_smiles.get(subsmiles, 0) + 1\n",
    "#sort by value before displaying\n",
    "substructure_smiles =  {k: v for k, v in sorted(substructure_smiles.items(), key=lambda item: item[1], reverse=True)}\n",
    "len(substructure_smiles), substructure_smiles "
   ]
  },
  {
   "cell_type": "markdown",
   "metadata": {},
   "source": [
    "Quite a few fragments seem to map onto 650 among DRD1 ligands, most notably cc, cc(c)C and CCC. Let's have a look what's most prevalent in DrugBank for this bit:"
   ]
  },
  {
   "cell_type": "code",
   "execution_count": 16,
   "metadata": {},
   "outputs": [
    {
     "data": {
      "text/plain": [
       "(37,\n",
       " {'cc(c)C(N)=[NH2+]': 20,\n",
       "  'cc(c)CC': 14,\n",
       "  'cc(c)CC(=O)O': 11,\n",
       "  'COC(C)C': 10,\n",
       "  'ccc(cn)-c(c)n': 7,\n",
       "  'cc(C)[nH]': 7,\n",
       "  'cc(N)cc(c)Cl': 6,\n",
       "  'CCCN(C)C': 6,\n",
       "  'ccc(cn)c(c)n': 4,\n",
       "  'cnc(c(c)c)n(c)-c': 2,\n",
       "  'C[C@@H](N)CCN': 2,\n",
       "  'CC(O)=NC(C)C': 2,\n",
       "  'cc(C)cc(c)C': 2,\n",
       "  'CC(=O)CC(C)C': 2,\n",
       "  'cc(S)cc(c)c': 2,\n",
       "  'cc(-n)cc(c)Cl': 2,\n",
       "  'cc(O)c(c([nH])=O)C(C)C': 2,\n",
       "  'nc(n)N': 2,\n",
       "  'CNNC(N)=O': 1,\n",
       "  'CCN(C)Cc': 1,\n",
       "  'CC([C@@H](C)O)[C@@H](C)O': 1,\n",
       "  'CCC(Cc)(NC)C(C)=O': 1,\n",
       "  'CCC(C)(C)C(C)=O': 1,\n",
       "  'cc(n)N(CN)[C@@H](C)O': 1,\n",
       "  'CC(=O)N=C(C)c': 1,\n",
       "  'PC[AsH]': 1,\n",
       "  'CCNC(C)=[NH2+]': 1,\n",
       "  'O=[V](=O)(O)O': 1,\n",
       "  'O=C(O)[C@@H](O)CO': 1,\n",
       "  'CCC(CC)[C@H](C)O': 1,\n",
       "  'C=C(C)C(=O)OC': 1,\n",
       "  'CCCF': 1,\n",
       "  'cc(C)c(C)c(C)[nH]': 1,\n",
       "  'C[C@H](O)CC(C)(C)C': 1,\n",
       "  'cn(c)CCc': 1,\n",
       "  'CO[P@](=O)(O)[C@H](C)N': 1,\n",
       "  'cc(C)cn(c)C': 1})"
      ]
     },
     "execution_count": 16,
     "metadata": {},
     "output_type": "execute_result"
    }
   ],
   "source": [
    "substructure_smiles_db = {}\n",
    "for drug in drugs:\n",
    "    for submol in substructures_of_bit_ecfp4_1024(drug, 650):\n",
    "        subsmiles = Chem.MolToSmiles(submol)\n",
    "        substructure_smiles_db[subsmiles] = substructure_smiles_db.get(subsmiles, 0) + 1\n",
    "substructure_smiles_db =  {k: v for k, v in sorted(substructure_smiles_db.items(), key=lambda item: item[1], reverse=True)}\n",
    "len(substructure_smiles_db), substructure_smiles_db"
   ]
  },
  {
   "cell_type": "markdown",
   "metadata": {},
   "source": [
    "TODO \n",
    "So, in DrugBank, the fragment present most often behind this bit is 'ccc', i.e. 3 aromatic carbons, ncN, cnc, ccC and many other fragments, in relatively small amounts. The most frequent fragments in DrugBank mapping to 378 seem mostly related to rings, often aromatic/heterocyclic. In comparison, the most frequent fragments mapping to 378 seem to be COc, CCC, CCc, CNC, CCN, COC, etc. Those most common in DrugBank also appear there, but are comparatively less prominent. Therefore, the higher prevalence of bit 378 in MTOR ligands may be at least partially caused by higher amount of these aliphatic, or at least non-aromatic fragments amongst MTOR ligands."
   ]
  }
 ],
 "metadata": {
  "kernelspec": {
   "display_name": "Python 3",
   "language": "python",
   "name": "python3"
  },
  "language_info": {
   "codemirror_mode": {
    "name": "ipython",
    "version": 3
   },
   "file_extension": ".py",
   "mimetype": "text/x-python",
   "name": "python",
   "nbconvert_exporter": "python",
   "pygments_lexer": "ipython3",
   "version": "3.7.10"
  }
 },
 "nbformat": 4,
 "nbformat_minor": 2
}
