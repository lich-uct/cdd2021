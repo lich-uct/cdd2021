{
 "cells": [
  {
   "cell_type": "code",
   "execution_count": 7,
   "metadata": {},
   "outputs": [
    {
     "name": "stderr",
     "output_type": "stream",
     "text": [
      "RDKit WARNING: [16:42:31] Enabling RDKit 2019.09.3 jupyter extensions\n"
     ]
    }
   ],
   "source": [
    "from rdkit import Chem\n",
    "from rdkit.Chem.Draw import IPythonConsole"
   ]
  },
  {
   "cell_type": "markdown",
   "metadata": {},
   "source": [
    "# Getting a set of known ligands\n",
    "\n",
    "let's pick some interesting receptor, and find substances that are known to be active on said receptor.\n",
    "Use any resources you prefer. If you have a receptor/target that is of particular interest to you because of your other work, feel free to choose that one.\n",
    "\n",
    "A good freely available resource for activity data is the [ChEMBL database](https://www.ebi.ac.uk/chembl/), targets are listed [here](https://www.ebi.ac.uk/chembl/g/#browse/targets). Unless you have any other particular preferences, pick one present in humans, preferably with hundreds of known agonists or inhibitors. Good gauges of activity are [EC50 values](https://en.wikipedia.org/wiki/EC50) and [IC50 values](https://en.wikipedia.org/wiki/IC50) respectively, though [other](https://en.wikipedia.org/wiki/Potency_(pharmacology)) or just [pChEMBL](https://chembl.gitbook.io/chembl-interface-documentation/frequently-asked-questions/chembl-data-questions#what-is-pchembl) will do too. A simple way to get to the good stuff is to select some target of clinical significance, as they tend to have large amount of associated activity values.\n",
    "\n",
    "I picked [mTOR inhibitors](https://en.wikipedia.org/wiki/MTOR#mTOR_inhibitors_as_therapies), you pick yours, there are many to choose from: any from [steroid receptors](https://en.wikipedia.org/wiki/Steroid_hormone_receptor), [cannabinoid receptors](https://en.wikipedia.org/wiki/Cannabinoid_receptor), [opioid receptors](https://en.wikipedia.org/wiki/Opioid_receptor), [cyclooxygenases](https://en.wikipedia.org/wiki/Cyclooxygenase), [HMGCR](https://en.wikipedia.org/wiki/HMG-CoA_reductase), [histamine receptor](https://en.wikipedia.org/wiki/H1_receptor), or really anything else with enough ligands, the receptorome is your oyster :)\n",
    "\n",
    "Let's search ChEMBL for your target of choice, I will continue with the mTOR:\n",
    "https://www.ebi.ac.uk/chembl/g/#search_results/all/query=mTOR\n",
    ", and let's go with the first one, a human variant with plenty of IC50 measurements:\n",
    "https://www.ebi.ac.uk/chembl/target_report_card/CHEMBL2842/\n",
    "Under the Activity Charts are some nice pie graphs, select the most relevant activity segment. In this mTOR case, let's get the inhibitors from the IC50 value segment. Over 4000 is plenty. As long as there are more than 100 activities it should be fine for this workshop, of course the more the merrier.\n",
    "https://www.ebi.ac.uk/chembl/g/#browse/activities/filter/target_chembl_id%3ACHEMBL2842%20AND%20standard_type%3A(%22IC50%22)\n",
    "Clicking the pie chart segment will forward you to the list of activities of the given type. Quick way to obtain them is the \"Select All\" option followed by Download CSV on the right. Download the file, extract it, rename it something sane, put it into your work folder and you are good to go."
   ]
  },
  {
   "cell_type": "markdown",
   "metadata": {},
   "source": [
    "# Processing the obtained ligand set"
   ]
  },
  {
   "cell_type": "code",
   "execution_count": 8,
   "metadata": {},
   "outputs": [
    {
     "data": {
      "text/plain": [
       "OrderedDict([('Molecule ChEMBL ID', 'CHEMBL3109802'),\n",
       "             ('Molecule Name', 'TBA-7371'),\n",
       "             ('Molecule Max Phase', '2'),\n",
       "             ('Molecular Weight', '355.40'),\n",
       "             ('#RO5 Violations', '0'),\n",
       "             ('AlogP', '1.22'),\n",
       "             ('Compound Key', '12'),\n",
       "             ('Smiles', 'COc1ncnc(Cn2cc(C(=O)NCCO)c3ncc(C)cc32)c1C'),\n",
       "             ('Standard Type', 'IC50'),\n",
       "             ('Standard Relation', \"'>'\"),\n",
       "             ('Standard Value', '50000.0'),\n",
       "             ('Standard Units', 'nM'),\n",
       "             ('pChEMBL Value', ''),\n",
       "             ('Data Validity Comment', ''),\n",
       "             ('Comment', ''),\n",
       "             ('Uo Units', 'UO_0000065'),\n",
       "             ('Ligand Efficiency BEI', ''),\n",
       "             ('Ligand Efficiency LE', ''),\n",
       "             ('Ligand Efficiency LLE', ''),\n",
       "             ('Ligand Efficiency SEI', ''),\n",
       "             ('Potential Duplicate', 'True'),\n",
       "             ('Assay ChEMBL ID', 'CHEMBL3292128'),\n",
       "             ('Assay Description', 'Inhibition of human CYP2C9'),\n",
       "             ('Assay Type', 'A'),\n",
       "             ('BAO Format ID', 'BAO_0000357'),\n",
       "             ('BAO Label', 'single protein format'),\n",
       "             ('Assay Organism', 'Homo sapiens'),\n",
       "             ('Assay Tissue ChEMBL ID', 'None'),\n",
       "             ('Assay Tissue Name', 'None'),\n",
       "             ('Assay Cell Type', 'None'),\n",
       "             ('Assay Subcellular Fraction', 'None'),\n",
       "             ('Assay Parameters', ''),\n",
       "             ('Assay Variant Accession', ''),\n",
       "             ('Assay Variant Mutation', ''),\n",
       "             ('Target ChEMBL ID', 'CHEMBL3397'),\n",
       "             ('Target Name', 'Cytochrome P450 2C9'),\n",
       "             ('Target Organism', 'Homo sapiens'),\n",
       "             ('Target Type', 'SINGLE PROTEIN'),\n",
       "             ('Document ChEMBL ID', 'CHEMBL3286390'),\n",
       "             ('Source ID', '1'),\n",
       "             ('Source Description', 'Scientific Literature'),\n",
       "             ('Document Journal', 'J. Med. Chem.'),\n",
       "             ('Document Year', '2014'),\n",
       "             ('Cell ChEMBL ID', 'None'),\n",
       "             ('Properties', '')])"
      ]
     },
     "execution_count": 8,
     "metadata": {},
     "output_type": "execute_result"
    }
   ],
   "source": [
    "# let's have a look at the csv:\n",
    "import csv\n",
    "with open('Cytochrome_P450_targets.csv', 'r') as csvfile: # for you it will probably be just open('filename.csv', 'r')\n",
    "    reader = csv.DictReader(csvfile, delimiter=\";\") # gotcha, it's delimited by ; despite being called a CSV\n",
    "    rawdata = [x for x in reader] # a list of rows within the csv\n",
    "rawdata[0] # peek at the first element, just to get an idea what they look like.\n",
    "#reader returns ordered dictionaries, one for each row"
   ]
  },
  {
   "cell_type": "markdown",
   "metadata": {},
   "source": [
    "There are many different values, though we are for now interested in two things only: IDs and structures of known ligands. IDS are in the \"Molecule ChEMBL ID\" column, and structures are encoded within the \"Smiles\" column, in the [SMILES format](https://en.wikipedia.org/wiki/Simplified_molecular-input_line-entry_system), which you probably already know from the lectures."
   ]
  },
  {
   "cell_type": "code",
   "execution_count": 9,
   "metadata": {},
   "outputs": [
    {
     "name": "stdout",
     "output_type": "stream",
     "text": [
      "CHEMBL3109802\n",
      "COc1ncnc(Cn2cc(C(=O)NCCO)c3ncc(C)cc32)c1C\n"
     ]
    }
   ],
   "source": [
    "print(rawdata[0]['Molecule ChEMBL ID']) # getting first substance ID\n",
    "print(rawdata[0]['Smiles']) # getting first substance structure in SMILES"
   ]
  },
  {
   "cell_type": "markdown",
   "metadata": {},
   "source": [
    "Now that we made some sense of the data, let's create RDKit molecule instances from the SMILES strings. Maybe just put the generated RDKit molecule instances as a new entry in the already existing dictionaries, or create separate lists. You can do whatever you feel most comfortable with. I will do the lists here, so the C-family guys can get a bit of respite from all the Pythonisms :)"
   ]
  },
  {
   "cell_type": "code",
   "execution_count": 10,
   "metadata": {},
   "outputs": [
    {
     "data": {
      "text/plain": [
       "(5841, 5841)"
      ]
     },
     "execution_count": 10,
     "metadata": {},
     "output_type": "execute_result"
    }
   ],
   "source": [
    "ligand_ids = [m['Molecule ChEMBL ID'] for m in rawdata]\n",
    "ligand_mols = [Chem.MolFromSmiles(m['Smiles']) for m in rawdata]\n",
    "# the two lists are aligned, so that the ids and the associated structures are in the same order\n",
    "len(ligand_ids), len(ligand_mols) # sizes are the same, good"
   ]
  },
  {
   "cell_type": "code",
   "execution_count": 11,
   "metadata": {},
   "outputs": [
    {
     "data": {
      "text/plain": [
       "[]"
      ]
     },
     "execution_count": 11,
     "metadata": {},
     "output_type": "execute_result"
    }
   ],
   "source": [
    "[x for x in ligand_mols if not x] # no empty value in the RDKit molecule instance list, so they all parsed ok"
   ]
  },
  {
   "cell_type": "markdown",
   "metadata": {},
   "source": [
    "Let's redo the ring count from the first lecture on our shiny new dataset:"
   ]
  },
  {
   "cell_type": "code",
   "execution_count": 12,
   "metadata": {},
   "outputs": [
    {
     "data": {
      "text/plain": [
       "3"
      ]
     },
     "execution_count": 12,
     "metadata": {},
     "output_type": "execute_result"
    }
   ],
   "source": [
    "ligand_rings = [Chem.GetSSSR(ligand) for ligand in ligand_mols]\n",
    "ligand_rings[0] # have a look at ring count of the first molecule"
   ]
  },
  {
   "cell_type": "code",
   "execution_count": 13,
   "metadata": {},
   "outputs": [
    {
     "data": {
      "image/png": "[encoded data removed]",
      "text/plain": [
       "<rdkit.Chem.rdchem.Mol at 0x7fb5d7a28ee0>"
      ]
     },
     "execution_count": 13,
     "metadata": {},
     "output_type": "execute_result"
    }
   ],
   "source": [
    "ligand_mols[0]"
   ]
  },
  {
   "cell_type": "markdown",
   "metadata": {},
   "source": [
    "four rings indeed. Seems legit :) Let's find the average ring counts:"
   ]
  },
  {
   "cell_type": "code",
   "execution_count": 14,
   "metadata": {},
   "outputs": [
    {
     "data": {
      "text/plain": [
       "3.781373052559493"
      ]
     },
     "execution_count": 14,
     "metadata": {},
     "output_type": "execute_result"
    }
   ],
   "source": [
    "sum(ligand_rings)/len(ligand_mols)"
   ]
  },
  {
   "cell_type": "markdown",
   "metadata": {},
   "source": [
    "3.78 rings on average is known for Cytochrome P450 inhibitors. In comparison, the average for drugs in DrugBank was 2.46, that's quite a difference. Any theories on why that might be?\n",
    "\n",
    "Answer: The drugbank database can be full of antibodies, proteins or unorganic compounds, I havent checked it is just an idea."
   ]
  },
  {
   "cell_type": "markdown",
   "metadata": {},
   "source": [
    "# The takeaways\n",
    "1. Pick a target, get a set of known ligands to that target. Familiarize yourself a bit with ChEMBL.\n",
    "2. Download the csv, parse the data into Python, have look at them.\n",
    "3. Create RDKit Mol instances from the SMILES within the data. Verify that you have parsed all molecules succesfully. If there are only few individual structures that refuse to parse (i.e. return None instead of Mol instance), discard them. If there is a problem in many structures, something is rotten. Upload both the dataset and the notebook anyway so we can have a look at it.\n",
    "4. Compute the aforedescribed SSSR for your own dataset. How does your set's average ring count compare to 4.67 of this mTOR set, and to the 2.46 of DrugBank?\n",
    "5. Put both the csv and your notebook into your work folder and push to this github repository. Have a look how others did it. Compare/comment?"
   ]
  },
  {
   "cell_type": "code",
   "execution_count": null,
   "metadata": {},
   "outputs": [],
   "source": []
  }
 ],
 "metadata": {
  "kernelspec": {
   "display_name": "Python 3",
   "language": "python",
   "name": "python3"
  },
  "language_info": {
   "codemirror_mode": {
    "name": "ipython",
    "version": 3
   },
   "file_extension": ".py",
   "mimetype": "text/x-python",
   "name": "python",
   "nbconvert_exporter": "python",
   "pygments_lexer": "ipython3",
   "version": "3.7.10"
  }
 },
 "nbformat": 4,
 "nbformat_minor": 4
}
