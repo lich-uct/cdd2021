{
 "cells": [
  {
   "cell_type": "code",
   "execution_count": 1,
   "metadata": {},
   "outputs": [],
   "source": [
    "from rdkit.Chem import AllChem as Chem\n",
    "from rdkit.Chem import Descriptors\n",
    "from rdkit.Chem.Draw import IPythonConsole"
   ]
  },
  {
   "cell_type": "markdown",
   "metadata": {},
   "source": [
    "# Basic descriptors\n",
    "\n",
    "[Descriptors](https://en.wikipedia.org/wiki/Molecular_descriptor) are numeric or boolean ways of representing molecule properties. They can be simple structural properties such as the count of rings we did in the last two exercises, count of rotatable bonds within a molecule, or count of all non-hydrogen atoms, count of hydrogen bond acceptors and donors, a boolean value representing the presence of a specific group or substructure in the molecule, etc. Physico-chemical properties are also often used as descriptors: molecular weight, topological [polar surface area](https://en.wikipedia.org/wiki/Polar_surface_area), polarizability, refractivity, octanol-water [partition coefficient](https://en.wikipedia.org/wiki/Partition_coefficient), etc.\n",
    "\n",
    "The aforementioned descriptor types are the most basic, but also very frequently used types. Classics aside, there are literally hundreds of various documented descriptors, involving even stuff like quantum-chemical computation or structural elasticity. In practice, a descriptor can be almost any quantifiable property of a molecule or its part, that carries useful information about that molecule.\n",
    "\n",
    "A summary article on descriptors:\n",
    "http://www.chemicke-listy.cz/docs/full/2017_11_716-723.pdf\n",
    "\n",
    "The most used descriptors are already implemented in RDKit, and can be obtained by from RDKit Mol instances:"
   ]
  },
  {
   "cell_type": "code",
   "execution_count": 2,
   "metadata": {},
   "outputs": [],
   "source": [
    "# loading dataset\n",
    "import csv\n",
    "with open('./data/DOWNLOAD-ligands_for_serotonine_rec.csv', 'r') as csvfile:\n",
    "    reader = csv.DictReader(csvfile, delimiter=\";\")\n",
    "    serotonine_ligands = [Chem.MolFromSmiles(m['Smiles']) for m in reader]"
   ]
  },
  {
   "cell_type": "markdown",
   "metadata": {},
   "source": [
    "well, that's our structures loaded as RDKit Mol instances. Let's try computing some descriptors for a randomly selected Mol instance:"
   ]
  },
  {
   "cell_type": "code",
   "execution_count": 3,
   "metadata": {},
   "outputs": [
    {
     "data": {
      "image/png": "[encoded data removed]",
      "text/plain": [
       "<rdkit.Chem.rdchem.Mol at 0x1b4f0f143f0>"
      ]
     },
     "execution_count": 3,
     "metadata": {},
     "output_type": "execute_result"
    }
   ],
   "source": [
    "serotonine_ligands[666]"
   ]
  },
  {
   "cell_type": "code",
   "execution_count": 4,
   "metadata": {},
   "outputs": [
    {
     "name": "stdout",
     "output_type": "stream",
     "text": [
      "1876\n"
     ]
    }
   ],
   "source": [
    "print(len(serotonine_ligands))"
   ]
  },
  {
   "cell_type": "code",
   "execution_count": 5,
   "metadata": {},
   "outputs": [
    {
     "data": {
      "image/png": "[encoded data removed]",
      "text/plain": [
       "<rdkit.Chem.rdchem.Mol at 0x1b4f0f21bc0>"
      ]
     },
     "execution_count": 5,
     "metadata": {},
     "output_type": "execute_result"
    }
   ],
   "source": [
    "serotonine_ligands[1234]"
   ]
  },
  {
   "cell_type": "code",
   "execution_count": 7,
   "metadata": {},
   "outputs": [
    {
     "data": {
      "text/plain": [
       "3"
      ]
     },
     "execution_count": 7,
     "metadata": {},
     "output_type": "execute_result"
    }
   ],
   "source": [
    "# count of rings:\n",
    "Chem.GetSSSR(serotonine_ligands[1234])"
   ]
  },
  {
   "cell_type": "code",
   "execution_count": 8,
   "metadata": {},
   "outputs": [
    {
     "data": {
      "text/plain": [
       "3"
      ]
     },
     "execution_count": 8,
     "metadata": {},
     "output_type": "execute_result"
    }
   ],
   "source": [
    "# count of rotatable bonds:\n",
    "Chem.CalcNumRotatableBonds(serotonine_ligands[1234])"
   ]
  },
  {
   "cell_type": "code",
   "execution_count": 9,
   "metadata": {},
   "outputs": [
    {
     "data": {
      "text/plain": [
       "20"
      ]
     },
     "execution_count": 9,
     "metadata": {},
     "output_type": "execute_result"
    }
   ],
   "source": [
    "# count of all heavy/non-hydrogen atoms\n",
    "serotonine_ligands[1234].GetNumHeavyAtoms()"
   ]
  },
  {
   "cell_type": "code",
   "execution_count": 10,
   "metadata": {},
   "outputs": [
    {
     "data": {
      "text/plain": [
       "(2, 0)"
      ]
     },
     "execution_count": 10,
     "metadata": {},
     "output_type": "execute_result"
    }
   ],
   "source": [
    "# hydrogen bond acceptors / donors\n",
    "from rdkit.Chem import rdMolDescriptors as rdescriptors\n",
    "rdescriptors.CalcNumLipinskiHBA(serotonine_ligands[1234]), rdescriptors.CalcNumLipinskiHBD(serotonine_ligands[1234])"
   ]
  },
  {
   "cell_type": "code",
   "execution_count": 11,
   "metadata": {},
   "outputs": [
    {
     "data": {
      "text/plain": [
       "266.178298704"
      ]
     },
     "execution_count": 11,
     "metadata": {},
     "output_type": "execute_result"
    }
   ],
   "source": [
    "# molecular weight\n",
    "rdescriptors.CalcExactMolWt(serotonine_ligands[1234])"
   ]
  },
  {
   "cell_type": "code",
   "execution_count": 12,
   "metadata": {},
   "outputs": [
    {
     "data": {
      "text/plain": [
       "6.48"
      ]
     },
     "execution_count": 12,
     "metadata": {},
     "output_type": "execute_result"
    }
   ],
   "source": [
    "# topological polar surface area\n",
    "rdescriptors.CalcTPSA(serotonine_ligands[1234])"
   ]
  },
  {
   "cell_type": "code",
   "execution_count": 13,
   "metadata": {},
   "outputs": [
    {
     "data": {
      "text/plain": [
       "3.0234000000000014"
      ]
     },
     "execution_count": 13,
     "metadata": {},
     "output_type": "execute_result"
    }
   ],
   "source": [
    "# octanol-water partition coefficient\n",
    "Descriptors.MolLogP(serotonine_ligands[1234])"
   ]
  },
  {
   "cell_type": "code",
   "execution_count": 14,
   "metadata": {},
   "outputs": [],
   "source": [
    "import time"
   ]
  },
  {
   "cell_type": "markdown",
   "metadata": {},
   "source": [
    "This is about as much as we will need today, there are many more descriptors. Some [more](https://www.rdkit.org/docs/GettingStartedInPython.html#list-of-available-descriptors) are in the [RDKit docs](https://www.rdkit.org/docs/source/rdkit.Chem.rdMolDescriptors.html). Let's do the current descriptors for the entire set, and load them into a pandas dataframe. This might take a while :)"
   ]
  },
  {
   "cell_type": "code",
   "execution_count": 15,
   "metadata": {},
   "outputs": [
    {
     "name": "stdout",
     "output_type": "stream",
     "text": [
      "3.1338584423065186\n"
     ]
    }
   ],
   "source": [
    "start = time.time()\n",
    "\n",
    "serotonine_rings = [Chem.GetSSSR(l) for l in serotonine_ligands]\n",
    "serotonine_rotatable = [Chem.CalcNumRotatableBonds(l) for l in serotonine_ligands]\n",
    "serotonine_atomcount = [l.GetNumHeavyAtoms() for l in serotonine_ligands]\n",
    "serotonine_hba = [rdescriptors.CalcNumLipinskiHBA(l) for l in serotonine_ligands]\n",
    "serotonine_hbd = [rdescriptors.CalcNumLipinskiHBD(l) for l in serotonine_ligands]\n",
    "serotonine_molwt = [rdescriptors.CalcExactMolWt(l) for l in serotonine_ligands]\n",
    "serotonine_tpsa = [rdescriptors.CalcTPSA(l) for l in serotonine_ligands]\n",
    "serotonine_logp = [Descriptors.MolLogP(l) for l in serotonine_ligands]\n",
    "\n",
    "end = time.time()\n",
    "print(end - start)"
   ]
  },
  {
   "cell_type": "code",
   "execution_count": 16,
   "metadata": {},
   "outputs": [],
   "source": [
    "import pandas as pd\n",
    "import seaborn as sns"
   ]
  },
  {
   "cell_type": "code",
   "execution_count": 23,
   "metadata": {},
   "outputs": [
    {
     "name": "stdout",
     "output_type": "stream",
     "text": [
      "0.8083455562591553\n"
     ]
    }
   ],
   "source": [
    "start = time.time()\n",
    "\n",
    "ligands = pd.DataFrame(data={'molecule': serotonine_ligands})\n",
    "ligands[\"rings\"] = ligands[\"molecule\"].apply(lambda x: Chem.GetSSSR(x))\n",
    "ligands[\"rotatable\"] = ligands[\"molecule\"].apply(lambda x: Chem.CalcNumRotatableBonds(x))\n",
    "ligands[\"atoms\"] = ligands[\"molecule\"].apply(lambda x: x.GetNumHeavyAtoms())\n",
    "ligands[\"hba\"] = ligands[\"molecule\"].apply(lambda x: rdescriptors.CalcNumLipinskiHBA(x))\n",
    "ligands[\"hbd\"] = ligands[\"molecule\"].apply(lambda x: rdescriptors.CalcNumLipinskiHBD(x))\n",
    "ligands[\"molwt\"] = ligands[\"molecule\"].apply(lambda x: rdescriptors.CalcExactMolWt(x))\n",
    "ligands[\"tpsa\"] = ligands[\"molecule\"].apply(lambda x: rdescriptors.CalcTPSA(x))\n",
    "ligands[\"logp\"] = ligands[\"molecule\"].apply(lambda x: Descriptors.MolLogP(x))\n",
    "\n",
    "end = time.time()\n",
    "print(end - start)"
   ]
  },
  {
   "cell_type": "code",
   "execution_count": 27,
   "metadata": {},
   "outputs": [
    {
     "data": {
      "text/html": [
       "<div>\n",
       "<style scoped>\n",
       "    .dataframe tbody tr th:only-of-type {\n",
       "        vertical-align: middle;\n",
       "    }\n",
       "\n",
       "    .dataframe tbody tr th {\n",
       "        vertical-align: top;\n",
       "    }\n",
       "\n",
       "    .dataframe thead th {\n",
       "        text-align: right;\n",
       "    }\n",
       "</style>\n",
       "<table border=\"1\" class=\"dataframe\">\n",
       "  <thead>\n",
       "    <tr style=\"text-align: right;\">\n",
       "      <th></th>\n",
       "      <th>molecule</th>\n",
       "      <th>rings</th>\n",
       "      <th>rotatable</th>\n",
       "      <th>atoms</th>\n",
       "      <th>hba</th>\n",
       "      <th>hbd</th>\n",
       "      <th>molwt</th>\n",
       "      <th>tpsa</th>\n",
       "      <th>logp</th>\n",
       "    </tr>\n",
       "  </thead>\n",
       "  <tbody>\n",
       "    <tr>\n",
       "      <th>0</th>\n",
       "      <td>&lt;rdkit.Chem.rdchem.Mol object at 0x000001B4F0F...</td>\n",
       "      <td>5</td>\n",
       "      <td>8</td>\n",
       "      <td>39</td>\n",
       "      <td>7</td>\n",
       "      <td>2</td>\n",
       "      <td>523.294725</td>\n",
       "      <td>73.63</td>\n",
       "      <td>4.37746</td>\n",
       "    </tr>\n",
       "    <tr>\n",
       "      <th>1</th>\n",
       "      <td>&lt;rdkit.Chem.rdchem.Mol object at 0x000001B4F0F...</td>\n",
       "      <td>5</td>\n",
       "      <td>2</td>\n",
       "      <td>25</td>\n",
       "      <td>4</td>\n",
       "      <td>0</td>\n",
       "      <td>352.115796</td>\n",
       "      <td>23.78</td>\n",
       "      <td>4.01470</td>\n",
       "    </tr>\n",
       "    <tr>\n",
       "      <th>2</th>\n",
       "      <td>&lt;rdkit.Chem.rdchem.Mol object at 0x000001B4F0F...</td>\n",
       "      <td>4</td>\n",
       "      <td>3</td>\n",
       "      <td>28</td>\n",
       "      <td>6</td>\n",
       "      <td>1</td>\n",
       "      <td>406.204801</td>\n",
       "      <td>47.53</td>\n",
       "      <td>2.56330</td>\n",
       "    </tr>\n",
       "    <tr>\n",
       "      <th>3</th>\n",
       "      <td>&lt;rdkit.Chem.rdchem.Mol object at 0x000001B4F0F...</td>\n",
       "      <td>2</td>\n",
       "      <td>2</td>\n",
       "      <td>18</td>\n",
       "      <td>3</td>\n",
       "      <td>1</td>\n",
       "      <td>246.173213</td>\n",
       "      <td>32.34</td>\n",
       "      <td>2.72624</td>\n",
       "    </tr>\n",
       "    <tr>\n",
       "      <th>4</th>\n",
       "      <td>&lt;rdkit.Chem.rdchem.Mol object at 0x000001B4F0F...</td>\n",
       "      <td>1</td>\n",
       "      <td>10</td>\n",
       "      <td>21</td>\n",
       "      <td>7</td>\n",
       "      <td>2</td>\n",
       "      <td>331.113667</td>\n",
       "      <td>83.33</td>\n",
       "      <td>1.32250</td>\n",
       "    </tr>\n",
       "    <tr>\n",
       "      <th>...</th>\n",
       "      <td>...</td>\n",
       "      <td>...</td>\n",
       "      <td>...</td>\n",
       "      <td>...</td>\n",
       "      <td>...</td>\n",
       "      <td>...</td>\n",
       "      <td>...</td>\n",
       "      <td>...</td>\n",
       "      <td>...</td>\n",
       "    </tr>\n",
       "    <tr>\n",
       "      <th>1871</th>\n",
       "      <td>&lt;rdkit.Chem.rdchem.Mol object at 0x000001B4F0F...</td>\n",
       "      <td>4</td>\n",
       "      <td>4</td>\n",
       "      <td>24</td>\n",
       "      <td>4</td>\n",
       "      <td>2</td>\n",
       "      <td>335.109233</td>\n",
       "      <td>61.27</td>\n",
       "      <td>3.96130</td>\n",
       "    </tr>\n",
       "    <tr>\n",
       "      <th>1872</th>\n",
       "      <td>&lt;rdkit.Chem.rdchem.Mol object at 0x000001B4F0F...</td>\n",
       "      <td>3</td>\n",
       "      <td>3</td>\n",
       "      <td>19</td>\n",
       "      <td>4</td>\n",
       "      <td>2</td>\n",
       "      <td>273.093583</td>\n",
       "      <td>61.27</td>\n",
       "      <td>2.60850</td>\n",
       "    </tr>\n",
       "    <tr>\n",
       "      <th>1873</th>\n",
       "      <td>&lt;rdkit.Chem.rdchem.Mol object at 0x000001B4F0F...</td>\n",
       "      <td>3</td>\n",
       "      <td>2</td>\n",
       "      <td>17</td>\n",
       "      <td>3</td>\n",
       "      <td>2</td>\n",
       "      <td>230.141913</td>\n",
       "      <td>40.18</td>\n",
       "      <td>2.00450</td>\n",
       "    </tr>\n",
       "    <tr>\n",
       "      <th>1874</th>\n",
       "      <td>&lt;rdkit.Chem.rdchem.Mol object at 0x000001B4F0F...</td>\n",
       "      <td>5</td>\n",
       "      <td>3</td>\n",
       "      <td>27</td>\n",
       "      <td>4</td>\n",
       "      <td>0</td>\n",
       "      <td>416.062923</td>\n",
       "      <td>23.78</td>\n",
       "      <td>5.17800</td>\n",
       "    </tr>\n",
       "    <tr>\n",
       "      <th>1875</th>\n",
       "      <td>&lt;rdkit.Chem.rdchem.Mol object at 0x000001B4F0F...</td>\n",
       "      <td>3</td>\n",
       "      <td>10</td>\n",
       "      <td>34</td>\n",
       "      <td>7</td>\n",
       "      <td>2</td>\n",
       "      <td>476.203525</td>\n",
       "      <td>75.72</td>\n",
       "      <td>4.82292</td>\n",
       "    </tr>\n",
       "  </tbody>\n",
       "</table>\n",
       "<p>1876 rows × 9 columns</p>\n",
       "</div>"
      ],
      "text/plain": [
       "                                               molecule  rings  rotatable  \\\n",
       "0     <rdkit.Chem.rdchem.Mol object at 0x000001B4F0F...      5          8   \n",
       "1     <rdkit.Chem.rdchem.Mol object at 0x000001B4F0F...      5          2   \n",
       "2     <rdkit.Chem.rdchem.Mol object at 0x000001B4F0F...      4          3   \n",
       "3     <rdkit.Chem.rdchem.Mol object at 0x000001B4F0F...      2          2   \n",
       "4     <rdkit.Chem.rdchem.Mol object at 0x000001B4F0F...      1         10   \n",
       "...                                                 ...    ...        ...   \n",
       "1871  <rdkit.Chem.rdchem.Mol object at 0x000001B4F0F...      4          4   \n",
       "1872  <rdkit.Chem.rdchem.Mol object at 0x000001B4F0F...      3          3   \n",
       "1873  <rdkit.Chem.rdchem.Mol object at 0x000001B4F0F...      3          2   \n",
       "1874  <rdkit.Chem.rdchem.Mol object at 0x000001B4F0F...      5          3   \n",
       "1875  <rdkit.Chem.rdchem.Mol object at 0x000001B4F0F...      3         10   \n",
       "\n",
       "      atoms  hba  hbd       molwt   tpsa     logp  \n",
       "0        39    7    2  523.294725  73.63  4.37746  \n",
       "1        25    4    0  352.115796  23.78  4.01470  \n",
       "2        28    6    1  406.204801  47.53  2.56330  \n",
       "3        18    3    1  246.173213  32.34  2.72624  \n",
       "4        21    7    2  331.113667  83.33  1.32250  \n",
       "...     ...  ...  ...         ...    ...      ...  \n",
       "1871     24    4    2  335.109233  61.27  3.96130  \n",
       "1872     19    4    2  273.093583  61.27  2.60850  \n",
       "1873     17    3    2  230.141913  40.18  2.00450  \n",
       "1874     27    4    0  416.062923  23.78  5.17800  \n",
       "1875     34    7    2  476.203525  75.72  4.82292  \n",
       "\n",
       "[1876 rows x 9 columns]"
      ]
     },
     "execution_count": 27,
     "metadata": {},
     "output_type": "execute_result"
    }
   ],
   "source": [
    "ligands"
   ]
  },
  {
   "cell_type": "code",
   "execution_count": 24,
   "metadata": {},
   "outputs": [],
   "source": [
    "\n",
    "sns.set(rc={'figure.figsize':(11.7, 11.7)}) # for bigger graphs"
   ]
  },
  {
   "cell_type": "code",
   "execution_count": 26,
   "metadata": {},
   "outputs": [
    {
     "data": {
      "text/html": [
       "<div>\n",
       "<style scoped>\n",
       "    .dataframe tbody tr th:only-of-type {\n",
       "        vertical-align: middle;\n",
       "    }\n",
       "\n",
       "    .dataframe tbody tr th {\n",
       "        vertical-align: top;\n",
       "    }\n",
       "\n",
       "    .dataframe thead th {\n",
       "        text-align: right;\n",
       "    }\n",
       "</style>\n",
       "<table border=\"1\" class=\"dataframe\">\n",
       "  <thead>\n",
       "    <tr style=\"text-align: right;\">\n",
       "      <th></th>\n",
       "      <th>set</th>\n",
       "      <th>rings</th>\n",
       "      <th>rotatable</th>\n",
       "      <th>atoms</th>\n",
       "      <th>hba</th>\n",
       "      <th>hbd</th>\n",
       "      <th>molwt</th>\n",
       "      <th>tpsa</th>\n",
       "      <th>logp</th>\n",
       "    </tr>\n",
       "  </thead>\n",
       "  <tbody>\n",
       "    <tr>\n",
       "      <th>0</th>\n",
       "      <td>serotonine</td>\n",
       "      <td>5</td>\n",
       "      <td>8</td>\n",
       "      <td>39</td>\n",
       "      <td>7</td>\n",
       "      <td>2</td>\n",
       "      <td>523.294725</td>\n",
       "      <td>73.63</td>\n",
       "      <td>4.37746</td>\n",
       "    </tr>\n",
       "    <tr>\n",
       "      <th>1</th>\n",
       "      <td>serotonine</td>\n",
       "      <td>5</td>\n",
       "      <td>2</td>\n",
       "      <td>25</td>\n",
       "      <td>4</td>\n",
       "      <td>0</td>\n",
       "      <td>352.115796</td>\n",
       "      <td>23.78</td>\n",
       "      <td>4.01470</td>\n",
       "    </tr>\n",
       "    <tr>\n",
       "      <th>2</th>\n",
       "      <td>serotonine</td>\n",
       "      <td>4</td>\n",
       "      <td>3</td>\n",
       "      <td>28</td>\n",
       "      <td>6</td>\n",
       "      <td>1</td>\n",
       "      <td>406.204801</td>\n",
       "      <td>47.53</td>\n",
       "      <td>2.56330</td>\n",
       "    </tr>\n",
       "    <tr>\n",
       "      <th>3</th>\n",
       "      <td>serotonine</td>\n",
       "      <td>2</td>\n",
       "      <td>2</td>\n",
       "      <td>18</td>\n",
       "      <td>3</td>\n",
       "      <td>1</td>\n",
       "      <td>246.173213</td>\n",
       "      <td>32.34</td>\n",
       "      <td>2.72624</td>\n",
       "    </tr>\n",
       "    <tr>\n",
       "      <th>4</th>\n",
       "      <td>serotonine</td>\n",
       "      <td>1</td>\n",
       "      <td>10</td>\n",
       "      <td>21</td>\n",
       "      <td>7</td>\n",
       "      <td>2</td>\n",
       "      <td>331.113667</td>\n",
       "      <td>83.33</td>\n",
       "      <td>1.32250</td>\n",
       "    </tr>\n",
       "    <tr>\n",
       "      <th>...</th>\n",
       "      <td>...</td>\n",
       "      <td>...</td>\n",
       "      <td>...</td>\n",
       "      <td>...</td>\n",
       "      <td>...</td>\n",
       "      <td>...</td>\n",
       "      <td>...</td>\n",
       "      <td>...</td>\n",
       "      <td>...</td>\n",
       "    </tr>\n",
       "    <tr>\n",
       "      <th>1871</th>\n",
       "      <td>serotonine</td>\n",
       "      <td>4</td>\n",
       "      <td>4</td>\n",
       "      <td>24</td>\n",
       "      <td>4</td>\n",
       "      <td>2</td>\n",
       "      <td>335.109233</td>\n",
       "      <td>61.27</td>\n",
       "      <td>3.96130</td>\n",
       "    </tr>\n",
       "    <tr>\n",
       "      <th>1872</th>\n",
       "      <td>serotonine</td>\n",
       "      <td>3</td>\n",
       "      <td>3</td>\n",
       "      <td>19</td>\n",
       "      <td>4</td>\n",
       "      <td>2</td>\n",
       "      <td>273.093583</td>\n",
       "      <td>61.27</td>\n",
       "      <td>2.60850</td>\n",
       "    </tr>\n",
       "    <tr>\n",
       "      <th>1873</th>\n",
       "      <td>serotonine</td>\n",
       "      <td>3</td>\n",
       "      <td>2</td>\n",
       "      <td>17</td>\n",
       "      <td>3</td>\n",
       "      <td>2</td>\n",
       "      <td>230.141913</td>\n",
       "      <td>40.18</td>\n",
       "      <td>2.00450</td>\n",
       "    </tr>\n",
       "    <tr>\n",
       "      <th>1874</th>\n",
       "      <td>serotonine</td>\n",
       "      <td>5</td>\n",
       "      <td>3</td>\n",
       "      <td>27</td>\n",
       "      <td>4</td>\n",
       "      <td>0</td>\n",
       "      <td>416.062923</td>\n",
       "      <td>23.78</td>\n",
       "      <td>5.17800</td>\n",
       "    </tr>\n",
       "    <tr>\n",
       "      <th>1875</th>\n",
       "      <td>serotonine</td>\n",
       "      <td>3</td>\n",
       "      <td>10</td>\n",
       "      <td>34</td>\n",
       "      <td>7</td>\n",
       "      <td>2</td>\n",
       "      <td>476.203525</td>\n",
       "      <td>75.72</td>\n",
       "      <td>4.82292</td>\n",
       "    </tr>\n",
       "  </tbody>\n",
       "</table>\n",
       "<p>1876 rows × 9 columns</p>\n",
       "</div>"
      ],
      "text/plain": [
       "             set  rings  rotatable  atoms  hba  hbd       molwt   tpsa  \\\n",
       "0     serotonine      5          8     39    7    2  523.294725  73.63   \n",
       "1     serotonine      5          2     25    4    0  352.115796  23.78   \n",
       "2     serotonine      4          3     28    6    1  406.204801  47.53   \n",
       "3     serotonine      2          2     18    3    1  246.173213  32.34   \n",
       "4     serotonine      1         10     21    7    2  331.113667  83.33   \n",
       "...          ...    ...        ...    ...  ...  ...         ...    ...   \n",
       "1871  serotonine      4          4     24    4    2  335.109233  61.27   \n",
       "1872  serotonine      3          3     19    4    2  273.093583  61.27   \n",
       "1873  serotonine      3          2     17    3    2  230.141913  40.18   \n",
       "1874  serotonine      5          3     27    4    0  416.062923  23.78   \n",
       "1875  serotonine      3         10     34    7    2  476.203525  75.72   \n",
       "\n",
       "         logp  \n",
       "0     4.37746  \n",
       "1     4.01470  \n",
       "2     2.56330  \n",
       "3     2.72624  \n",
       "4     1.32250  \n",
       "...       ...  \n",
       "1871  3.96130  \n",
       "1872  2.60850  \n",
       "1873  2.00450  \n",
       "1874  5.17800  \n",
       "1875  4.82292  \n",
       "\n",
       "[1876 rows x 9 columns]"
      ]
     },
     "execution_count": 26,
     "metadata": {},
     "output_type": "execute_result"
    }
   ],
   "source": [
    "df = pd.DataFrame(data={'set':'serotonine', 'rings': serotonine_rings,\n",
    "                        'rotatable': serotonine_rotatable, 'atoms': serotonine_atomcount,\n",
    "                        'hba': serotonine_hba, 'hbd': serotonine_hbd, 'molwt': serotonine_molwt,\n",
    "                        'tpsa': serotonine_tpsa, 'logp': serotonine_logp})\n",
    "df"
   ]
  },
  {
   "cell_type": "markdown",
   "metadata": {},
   "source": [
    "Ok, that's already a nice hefty table. Let's visualize the values, maybe some [boxplots](https://en.wikipedia.org/wiki/Box_plot)?"
   ]
  },
  {
   "cell_type": "code",
   "execution_count": 28,
   "metadata": {
    "scrolled": false
   },
   "outputs": [
    {
     "data": {
      "text/plain": [
       "<AxesSubplot:>"
      ]
     },
     "execution_count": 28,
     "metadata": {},
     "output_type": "execute_result"
    },
    {
     "data": {
      "image/png": "[encoded data removed]",
      "text/plain": [
       "<Figure size 842.4x842.4 with 1 Axes>"
      ]
     },
     "metadata": {},
     "output_type": "display_data"
    }
   ],
   "source": [
    "sns.boxplot(data=df[['rings', 'rotatable', 'atoms', 'hba', 'hbd', 'logp']], showfliers=False)"
   ]
  },
  {
   "cell_type": "markdown",
   "metadata": {},
   "source": [
    "In the above boxplots, the distributions of most descriptors are depicted right next to each other. Molecular weight and TPSA are too off-scale for this."
   ]
  },
  {
   "cell_type": "code",
   "execution_count": 29,
   "metadata": {},
   "outputs": [
    {
     "data": {
      "text/plain": [
       "<AxesSubplot:>"
      ]
     },
     "execution_count": 29,
     "metadata": {},
     "output_type": "execute_result"
    },
    {
     "data": {
      "image/png": "[encoded data removed]",
      "text/plain": [
       "<Figure size 842.4x842.4 with 1 Axes>"
      ]
     },
     "metadata": {},
     "output_type": "display_data"
    }
   ],
   "source": [
    "sns.boxplot(data=df[['molwt', 'tpsa']], showfliers = False)"
   ]
  },
  {
   "cell_type": "markdown",
   "metadata": {},
   "source": [
    "The above two graphs cover the selected descriptors for the mTOR set. However, it would be much better if we had some reference data to compare this set against: how about DrugBank, a database of registered pharmaceuticals?"
   ]
  },
  {
   "cell_type": "code",
   "execution_count": 30,
   "metadata": {},
   "outputs": [
    {
     "data": {
      "text/plain": [
       "7115"
      ]
     },
     "execution_count": 30,
     "metadata": {},
     "output_type": "execute_result"
    }
   ],
   "source": [
    "suppl = Chem.SDMolSupplier('../data/drugbank.sdf')\n",
    "drugs = [m for m in suppl if m]\n",
    "len(drugs)"
   ]
  },
  {
   "cell_type": "code",
   "execution_count": 32,
   "metadata": {},
   "outputs": [
    {
     "name": "stdout",
     "output_type": "stream",
     "text": [
      "3.459871530532837\n"
     ]
    }
   ],
   "source": [
    "start = time.time()\n",
    "drugbank_rings = [Chem.GetSSSR(l) for l in c]\n",
    "drugbank_rotatable = [Chem.CalcNumRotatableBonds(l) for l in drugs]\n",
    "drugbank_atomcount = [l.GetNumHeavyAtoms() for l in drugs]\n",
    "drugbank_hba = [rdescriptors.CalcNumLipinskiHBA(l) for l in drugs]\n",
    "drugbank_hbd = [rdescriptors.CalcNumLipinskiHBD(l) for l in drugs]\n",
    "drugbank_molwt = [rdescriptors.CalcExactMolWt(l) for l in drugs]\n",
    "drugbank_tpsa = [rdescriptors.CalcTPSA(l) for l in drugs]\n",
    "drugbank_logp = [Descriptors.MolLogP(l) for l in drugs]\n",
    "\n",
    "end = time.time()\n",
    "print(end - start)"
   ]
  },
  {
   "cell_type": "code",
   "execution_count": 34,
   "metadata": {},
   "outputs": [
    {
     "name": "stdout",
     "output_type": "stream",
     "text": [
      "3.396430730819702\n"
     ]
    }
   ],
   "source": [
    "start = time.time()\n",
    "drugbank = pd.DataFrame(data={'molecule': drugs})\n",
    "drugbank[\"rings\"] = drugbank[\"molecule\"].apply(lambda x: Chem.GetSSSR(x))\n",
    "drugbank[\"rotatable\"] = drugbank[\"molecule\"].apply(lambda x: Chem.CalcNumRotatableBonds(x))\n",
    "drugbank[\"atoms\"] = drugbank[\"molecule\"].apply(lambda x: x.GetNumHeavyAtoms())\n",
    "drugbank[\"hba\"] = drugbank[\"molecule\"].apply(lambda x: rdescriptors.CalcNumLipinskiHBA(x))\n",
    "drugbank[\"hbd\"] = drugbank[\"molecule\"].apply(lambda x: rdescriptors.CalcNumLipinskiHBD(x))\n",
    "drugbank[\"molwt\"] = drugbank[\"molecule\"].apply(lambda x: rdescriptors.CalcExactMolWt(x))\n",
    "drugbank[\"tpsa\"] = drugbank[\"molecule\"].apply(lambda x: rdescriptors.CalcTPSA(x))\n",
    "drugbank[\"logp\"] = drugbank[\"molecule\"].apply(lambda x: Descriptors.MolLogP(x))\n",
    "\n",
    "end = time.time()\n",
    "print(end - start)"
   ]
  },
  {
   "cell_type": "code",
   "execution_count": 35,
   "metadata": {},
   "outputs": [
    {
     "data": {
      "text/html": [
       "<div>\n",
       "<style scoped>\n",
       "    .dataframe tbody tr th:only-of-type {\n",
       "        vertical-align: middle;\n",
       "    }\n",
       "\n",
       "    .dataframe tbody tr th {\n",
       "        vertical-align: top;\n",
       "    }\n",
       "\n",
       "    .dataframe thead th {\n",
       "        text-align: right;\n",
       "    }\n",
       "</style>\n",
       "<table border=\"1\" class=\"dataframe\">\n",
       "  <thead>\n",
       "    <tr style=\"text-align: right;\">\n",
       "      <th></th>\n",
       "      <th>set</th>\n",
       "      <th>rings</th>\n",
       "      <th>rotatable</th>\n",
       "      <th>atoms</th>\n",
       "      <th>hba</th>\n",
       "      <th>hbd</th>\n",
       "      <th>molwt</th>\n",
       "      <th>tpsa</th>\n",
       "      <th>logp</th>\n",
       "    </tr>\n",
       "  </thead>\n",
       "  <tbody>\n",
       "    <tr>\n",
       "      <th>0</th>\n",
       "      <td>drugs</td>\n",
       "      <td>6</td>\n",
       "      <td>66</td>\n",
       "      <td>155</td>\n",
       "      <td>57</td>\n",
       "      <td>31</td>\n",
       "      <td>2178.985813</td>\n",
       "      <td>901.57</td>\n",
       "      <td>-8.11643</td>\n",
       "    </tr>\n",
       "    <tr>\n",
       "      <th>1</th>\n",
       "      <td>drugs</td>\n",
       "      <td>6</td>\n",
       "      <td>31</td>\n",
       "      <td>91</td>\n",
       "      <td>32</td>\n",
       "      <td>20</td>\n",
       "      <td>1268.641439</td>\n",
       "      <td>495.89</td>\n",
       "      <td>-3.10570</td>\n",
       "    </tr>\n",
       "    <tr>\n",
       "      <th>2</th>\n",
       "      <td>drugs</td>\n",
       "      <td>4</td>\n",
       "      <td>19</td>\n",
       "      <td>74</td>\n",
       "      <td>26</td>\n",
       "      <td>18</td>\n",
       "      <td>1068.426955</td>\n",
       "      <td>435.41</td>\n",
       "      <td>-4.13203</td>\n",
       "    </tr>\n",
       "    <tr>\n",
       "      <th>3</th>\n",
       "      <td>drugs</td>\n",
       "      <td>6</td>\n",
       "      <td>38</td>\n",
       "      <td>102</td>\n",
       "      <td>31</td>\n",
       "      <td>20</td>\n",
       "      <td>1429.669818</td>\n",
       "      <td>495.67</td>\n",
       "      <td>-0.50613</td>\n",
       "    </tr>\n",
       "    <tr>\n",
       "      <th>4</th>\n",
       "      <td>drugs</td>\n",
       "      <td>1</td>\n",
       "      <td>15</td>\n",
       "      <td>85</td>\n",
       "      <td>23</td>\n",
       "      <td>5</td>\n",
       "      <td>1201.841368</td>\n",
       "      <td>278.80</td>\n",
       "      <td>3.26900</td>\n",
       "    </tr>\n",
       "    <tr>\n",
       "      <th>...</th>\n",
       "      <td>...</td>\n",
       "      <td>...</td>\n",
       "      <td>...</td>\n",
       "      <td>...</td>\n",
       "      <td>...</td>\n",
       "      <td>...</td>\n",
       "      <td>...</td>\n",
       "      <td>...</td>\n",
       "      <td>...</td>\n",
       "    </tr>\n",
       "    <tr>\n",
       "      <th>7110</th>\n",
       "      <td>drugs</td>\n",
       "      <td>1</td>\n",
       "      <td>0</td>\n",
       "      <td>8</td>\n",
       "      <td>1</td>\n",
       "      <td>1</td>\n",
       "      <td>128.002892</td>\n",
       "      <td>20.23</td>\n",
       "      <td>2.04560</td>\n",
       "    </tr>\n",
       "    <tr>\n",
       "      <th>7111</th>\n",
       "      <td>drugs</td>\n",
       "      <td>3</td>\n",
       "      <td>3</td>\n",
       "      <td>24</td>\n",
       "      <td>9</td>\n",
       "      <td>5</td>\n",
       "      <td>340.079432</td>\n",
       "      <td>149.82</td>\n",
       "      <td>-1.32270</td>\n",
       "    </tr>\n",
       "    <tr>\n",
       "      <th>7112</th>\n",
       "      <td>drugs</td>\n",
       "      <td>6</td>\n",
       "      <td>14</td>\n",
       "      <td>79</td>\n",
       "      <td>27</td>\n",
       "      <td>13</td>\n",
       "      <td>1114.554641</td>\n",
       "      <td>403.10</td>\n",
       "      <td>1.54710</td>\n",
       "    </tr>\n",
       "    <tr>\n",
       "      <th>7113</th>\n",
       "      <td>drugs</td>\n",
       "      <td>0</td>\n",
       "      <td>13</td>\n",
       "      <td>21</td>\n",
       "      <td>5</td>\n",
       "      <td>0</td>\n",
       "      <td>330.147689</td>\n",
       "      <td>83.50</td>\n",
       "      <td>-0.00030</td>\n",
       "    </tr>\n",
       "    <tr>\n",
       "      <th>7114</th>\n",
       "      <td>drugs</td>\n",
       "      <td>4</td>\n",
       "      <td>2</td>\n",
       "      <td>28</td>\n",
       "      <td>4</td>\n",
       "      <td>1</td>\n",
       "      <td>408.150365</td>\n",
       "      <td>71.44</td>\n",
       "      <td>3.35040</td>\n",
       "    </tr>\n",
       "  </tbody>\n",
       "</table>\n",
       "<p>7115 rows × 9 columns</p>\n",
       "</div>"
      ],
      "text/plain": [
       "        set  rings  rotatable  atoms  hba  hbd        molwt    tpsa     logp\n",
       "0     drugs      6         66    155   57   31  2178.985813  901.57 -8.11643\n",
       "1     drugs      6         31     91   32   20  1268.641439  495.89 -3.10570\n",
       "2     drugs      4         19     74   26   18  1068.426955  435.41 -4.13203\n",
       "3     drugs      6         38    102   31   20  1429.669818  495.67 -0.50613\n",
       "4     drugs      1         15     85   23    5  1201.841368  278.80  3.26900\n",
       "...     ...    ...        ...    ...  ...  ...          ...     ...      ...\n",
       "7110  drugs      1          0      8    1    1   128.002892   20.23  2.04560\n",
       "7111  drugs      3          3     24    9    5   340.079432  149.82 -1.32270\n",
       "7112  drugs      6         14     79   27   13  1114.554641  403.10  1.54710\n",
       "7113  drugs      0         13     21    5    0   330.147689   83.50 -0.00030\n",
       "7114  drugs      4          2     28    4    1   408.150365   71.44  3.35040\n",
       "\n",
       "[7115 rows x 9 columns]"
      ]
     },
     "execution_count": 35,
     "metadata": {},
     "output_type": "execute_result"
    }
   ],
   "source": [
    "df_drugbank = pd.DataFrame(data={'set':'drugs', 'rings': drugbank_rings,\n",
    "                                 'rotatable': drugbank_rotatable, 'atoms': drugbank_atomcount,\n",
    "                                 'hba': drugbank_hba, 'hbd': drugbank_hbd, 'molwt': drugbank_molwt,\n",
    "                                 'tpsa': drugbank_tpsa, 'logp': drugbank_logp})\n",
    "df_drugbank"
   ]
  },
  {
   "cell_type": "code",
   "execution_count": 36,
   "metadata": {},
   "outputs": [
    {
     "data": {
      "text/html": [
       "<div>\n",
       "<style scoped>\n",
       "    .dataframe tbody tr th:only-of-type {\n",
       "        vertical-align: middle;\n",
       "    }\n",
       "\n",
       "    .dataframe tbody tr th {\n",
       "        vertical-align: top;\n",
       "    }\n",
       "\n",
       "    .dataframe thead th {\n",
       "        text-align: right;\n",
       "    }\n",
       "</style>\n",
       "<table border=\"1\" class=\"dataframe\">\n",
       "  <thead>\n",
       "    <tr style=\"text-align: right;\">\n",
       "      <th></th>\n",
       "      <th>set</th>\n",
       "      <th>rings</th>\n",
       "      <th>rotatable</th>\n",
       "      <th>atoms</th>\n",
       "      <th>hba</th>\n",
       "      <th>hbd</th>\n",
       "      <th>molwt</th>\n",
       "      <th>tpsa</th>\n",
       "      <th>logp</th>\n",
       "    </tr>\n",
       "  </thead>\n",
       "  <tbody>\n",
       "    <tr>\n",
       "      <th>0</th>\n",
       "      <td>serotonine</td>\n",
       "      <td>5</td>\n",
       "      <td>8</td>\n",
       "      <td>39</td>\n",
       "      <td>7</td>\n",
       "      <td>2</td>\n",
       "      <td>523.294725</td>\n",
       "      <td>73.63</td>\n",
       "      <td>4.37746</td>\n",
       "    </tr>\n",
       "    <tr>\n",
       "      <th>1</th>\n",
       "      <td>serotonine</td>\n",
       "      <td>5</td>\n",
       "      <td>2</td>\n",
       "      <td>25</td>\n",
       "      <td>4</td>\n",
       "      <td>0</td>\n",
       "      <td>352.115796</td>\n",
       "      <td>23.78</td>\n",
       "      <td>4.01470</td>\n",
       "    </tr>\n",
       "    <tr>\n",
       "      <th>2</th>\n",
       "      <td>serotonine</td>\n",
       "      <td>4</td>\n",
       "      <td>3</td>\n",
       "      <td>28</td>\n",
       "      <td>6</td>\n",
       "      <td>1</td>\n",
       "      <td>406.204801</td>\n",
       "      <td>47.53</td>\n",
       "      <td>2.56330</td>\n",
       "    </tr>\n",
       "    <tr>\n",
       "      <th>3</th>\n",
       "      <td>serotonine</td>\n",
       "      <td>2</td>\n",
       "      <td>2</td>\n",
       "      <td>18</td>\n",
       "      <td>3</td>\n",
       "      <td>1</td>\n",
       "      <td>246.173213</td>\n",
       "      <td>32.34</td>\n",
       "      <td>2.72624</td>\n",
       "    </tr>\n",
       "    <tr>\n",
       "      <th>4</th>\n",
       "      <td>serotonine</td>\n",
       "      <td>1</td>\n",
       "      <td>10</td>\n",
       "      <td>21</td>\n",
       "      <td>7</td>\n",
       "      <td>2</td>\n",
       "      <td>331.113667</td>\n",
       "      <td>83.33</td>\n",
       "      <td>1.32250</td>\n",
       "    </tr>\n",
       "    <tr>\n",
       "      <th>...</th>\n",
       "      <td>...</td>\n",
       "      <td>...</td>\n",
       "      <td>...</td>\n",
       "      <td>...</td>\n",
       "      <td>...</td>\n",
       "      <td>...</td>\n",
       "      <td>...</td>\n",
       "      <td>...</td>\n",
       "      <td>...</td>\n",
       "    </tr>\n",
       "    <tr>\n",
       "      <th>8986</th>\n",
       "      <td>drugs</td>\n",
       "      <td>1</td>\n",
       "      <td>0</td>\n",
       "      <td>8</td>\n",
       "      <td>1</td>\n",
       "      <td>1</td>\n",
       "      <td>128.002892</td>\n",
       "      <td>20.23</td>\n",
       "      <td>2.04560</td>\n",
       "    </tr>\n",
       "    <tr>\n",
       "      <th>8987</th>\n",
       "      <td>drugs</td>\n",
       "      <td>3</td>\n",
       "      <td>3</td>\n",
       "      <td>24</td>\n",
       "      <td>9</td>\n",
       "      <td>5</td>\n",
       "      <td>340.079432</td>\n",
       "      <td>149.82</td>\n",
       "      <td>-1.32270</td>\n",
       "    </tr>\n",
       "    <tr>\n",
       "      <th>8988</th>\n",
       "      <td>drugs</td>\n",
       "      <td>6</td>\n",
       "      <td>14</td>\n",
       "      <td>79</td>\n",
       "      <td>27</td>\n",
       "      <td>13</td>\n",
       "      <td>1114.554641</td>\n",
       "      <td>403.10</td>\n",
       "      <td>1.54710</td>\n",
       "    </tr>\n",
       "    <tr>\n",
       "      <th>8989</th>\n",
       "      <td>drugs</td>\n",
       "      <td>0</td>\n",
       "      <td>13</td>\n",
       "      <td>21</td>\n",
       "      <td>5</td>\n",
       "      <td>0</td>\n",
       "      <td>330.147689</td>\n",
       "      <td>83.50</td>\n",
       "      <td>-0.00030</td>\n",
       "    </tr>\n",
       "    <tr>\n",
       "      <th>8990</th>\n",
       "      <td>drugs</td>\n",
       "      <td>4</td>\n",
       "      <td>2</td>\n",
       "      <td>28</td>\n",
       "      <td>4</td>\n",
       "      <td>1</td>\n",
       "      <td>408.150365</td>\n",
       "      <td>71.44</td>\n",
       "      <td>3.35040</td>\n",
       "    </tr>\n",
       "  </tbody>\n",
       "</table>\n",
       "<p>8991 rows × 9 columns</p>\n",
       "</div>"
      ],
      "text/plain": [
       "             set  rings  rotatable  atoms  hba  hbd        molwt    tpsa  \\\n",
       "0     serotonine      5          8     39    7    2   523.294725   73.63   \n",
       "1     serotonine      5          2     25    4    0   352.115796   23.78   \n",
       "2     serotonine      4          3     28    6    1   406.204801   47.53   \n",
       "3     serotonine      2          2     18    3    1   246.173213   32.34   \n",
       "4     serotonine      1         10     21    7    2   331.113667   83.33   \n",
       "...          ...    ...        ...    ...  ...  ...          ...     ...   \n",
       "8986       drugs      1          0      8    1    1   128.002892   20.23   \n",
       "8987       drugs      3          3     24    9    5   340.079432  149.82   \n",
       "8988       drugs      6         14     79   27   13  1114.554641  403.10   \n",
       "8989       drugs      0         13     21    5    0   330.147689   83.50   \n",
       "8990       drugs      4          2     28    4    1   408.150365   71.44   \n",
       "\n",
       "         logp  \n",
       "0     4.37746  \n",
       "1     4.01470  \n",
       "2     2.56330  \n",
       "3     2.72624  \n",
       "4     1.32250  \n",
       "...       ...  \n",
       "8986  2.04560  \n",
       "8987 -1.32270  \n",
       "8988  1.54710  \n",
       "8989 -0.00030  \n",
       "8990  3.35040  \n",
       "\n",
       "[8991 rows x 9 columns]"
      ]
     },
     "execution_count": 36,
     "metadata": {},
     "output_type": "execute_result"
    }
   ],
   "source": [
    "joint_df = pd.concat([df, df_drugbank], ignore_index=True)\n",
    "joint_df"
   ]
  },
  {
   "cell_type": "code",
   "execution_count": 37,
   "metadata": {},
   "outputs": [
    {
     "data": {
      "text/html": [
       "<div>\n",
       "<style scoped>\n",
       "    .dataframe tbody tr th:only-of-type {\n",
       "        vertical-align: middle;\n",
       "    }\n",
       "\n",
       "    .dataframe tbody tr th {\n",
       "        vertical-align: top;\n",
       "    }\n",
       "\n",
       "    .dataframe thead th {\n",
       "        text-align: right;\n",
       "    }\n",
       "</style>\n",
       "<table border=\"1\" class=\"dataframe\">\n",
       "  <thead>\n",
       "    <tr style=\"text-align: right;\">\n",
       "      <th></th>\n",
       "      <th>set</th>\n",
       "      <th>variable</th>\n",
       "      <th>value</th>\n",
       "    </tr>\n",
       "  </thead>\n",
       "  <tbody>\n",
       "    <tr>\n",
       "      <th>0</th>\n",
       "      <td>serotonine</td>\n",
       "      <td>rings</td>\n",
       "      <td>5.0000</td>\n",
       "    </tr>\n",
       "    <tr>\n",
       "      <th>1</th>\n",
       "      <td>serotonine</td>\n",
       "      <td>rings</td>\n",
       "      <td>5.0000</td>\n",
       "    </tr>\n",
       "    <tr>\n",
       "      <th>2</th>\n",
       "      <td>serotonine</td>\n",
       "      <td>rings</td>\n",
       "      <td>4.0000</td>\n",
       "    </tr>\n",
       "    <tr>\n",
       "      <th>3</th>\n",
       "      <td>serotonine</td>\n",
       "      <td>rings</td>\n",
       "      <td>2.0000</td>\n",
       "    </tr>\n",
       "    <tr>\n",
       "      <th>4</th>\n",
       "      <td>serotonine</td>\n",
       "      <td>rings</td>\n",
       "      <td>1.0000</td>\n",
       "    </tr>\n",
       "    <tr>\n",
       "      <th>...</th>\n",
       "      <td>...</td>\n",
       "      <td>...</td>\n",
       "      <td>...</td>\n",
       "    </tr>\n",
       "    <tr>\n",
       "      <th>53941</th>\n",
       "      <td>drugs</td>\n",
       "      <td>logp</td>\n",
       "      <td>2.0456</td>\n",
       "    </tr>\n",
       "    <tr>\n",
       "      <th>53942</th>\n",
       "      <td>drugs</td>\n",
       "      <td>logp</td>\n",
       "      <td>-1.3227</td>\n",
       "    </tr>\n",
       "    <tr>\n",
       "      <th>53943</th>\n",
       "      <td>drugs</td>\n",
       "      <td>logp</td>\n",
       "      <td>1.5471</td>\n",
       "    </tr>\n",
       "    <tr>\n",
       "      <th>53944</th>\n",
       "      <td>drugs</td>\n",
       "      <td>logp</td>\n",
       "      <td>-0.0003</td>\n",
       "    </tr>\n",
       "    <tr>\n",
       "      <th>53945</th>\n",
       "      <td>drugs</td>\n",
       "      <td>logp</td>\n",
       "      <td>3.3504</td>\n",
       "    </tr>\n",
       "  </tbody>\n",
       "</table>\n",
       "<p>53946 rows × 3 columns</p>\n",
       "</div>"
      ],
      "text/plain": [
       "              set variable   value\n",
       "0      serotonine    rings  5.0000\n",
       "1      serotonine    rings  5.0000\n",
       "2      serotonine    rings  4.0000\n",
       "3      serotonine    rings  2.0000\n",
       "4      serotonine    rings  1.0000\n",
       "...           ...      ...     ...\n",
       "53941       drugs     logp  2.0456\n",
       "53942       drugs     logp -1.3227\n",
       "53943       drugs     logp  1.5471\n",
       "53944       drugs     logp -0.0003\n",
       "53945       drugs     logp  3.3504\n",
       "\n",
       "[53946 rows x 3 columns]"
      ]
     },
     "execution_count": 37,
     "metadata": {},
     "output_type": "execute_result"
    }
   ],
   "source": [
    "melted_df = pd.melt(joint_df, id_vars=['set'], value_vars=['rings', 'rotatable', 'atoms', 'hba', 'hbd', 'logp'])\n",
    "melted_df"
   ]
  },
  {
   "cell_type": "code",
   "execution_count": 38,
   "metadata": {},
   "outputs": [
    {
     "data": {
      "text/plain": [
       "<AxesSubplot:xlabel='variable', ylabel='value'>"
      ]
     },
     "execution_count": 38,
     "metadata": {},
     "output_type": "execute_result"
    },
    {
     "data": {
      "image/png": "[encoded data removed]",
      "text/plain": [
       "<Figure size 842.4x842.4 with 1 Axes>"
      ]
     },
     "metadata": {},
     "output_type": "display_data"
    }
   ],
   "source": [
    "sns.boxplot(y='value', x='variable', hue='set', data=melted_df, showfliers=False)"
   ]
  },
  {
   "cell_type": "code",
   "execution_count": 39,
   "metadata": {},
   "outputs": [
    {
     "data": {
      "text/html": [
       "<div>\n",
       "<style scoped>\n",
       "    .dataframe tbody tr th:only-of-type {\n",
       "        vertical-align: middle;\n",
       "    }\n",
       "\n",
       "    .dataframe tbody tr th {\n",
       "        vertical-align: top;\n",
       "    }\n",
       "\n",
       "    .dataframe thead th {\n",
       "        text-align: right;\n",
       "    }\n",
       "</style>\n",
       "<table border=\"1\" class=\"dataframe\">\n",
       "  <thead>\n",
       "    <tr style=\"text-align: right;\">\n",
       "      <th></th>\n",
       "      <th>set</th>\n",
       "      <th>variable</th>\n",
       "      <th>value</th>\n",
       "    </tr>\n",
       "  </thead>\n",
       "  <tbody>\n",
       "    <tr>\n",
       "      <th>0</th>\n",
       "      <td>serotonine</td>\n",
       "      <td>molwt</td>\n",
       "      <td>523.294725</td>\n",
       "    </tr>\n",
       "    <tr>\n",
       "      <th>1</th>\n",
       "      <td>serotonine</td>\n",
       "      <td>molwt</td>\n",
       "      <td>352.115796</td>\n",
       "    </tr>\n",
       "    <tr>\n",
       "      <th>2</th>\n",
       "      <td>serotonine</td>\n",
       "      <td>molwt</td>\n",
       "      <td>406.204801</td>\n",
       "    </tr>\n",
       "    <tr>\n",
       "      <th>3</th>\n",
       "      <td>serotonine</td>\n",
       "      <td>molwt</td>\n",
       "      <td>246.173213</td>\n",
       "    </tr>\n",
       "    <tr>\n",
       "      <th>4</th>\n",
       "      <td>serotonine</td>\n",
       "      <td>molwt</td>\n",
       "      <td>331.113667</td>\n",
       "    </tr>\n",
       "    <tr>\n",
       "      <th>...</th>\n",
       "      <td>...</td>\n",
       "      <td>...</td>\n",
       "      <td>...</td>\n",
       "    </tr>\n",
       "    <tr>\n",
       "      <th>17977</th>\n",
       "      <td>drugs</td>\n",
       "      <td>tpsa</td>\n",
       "      <td>20.230000</td>\n",
       "    </tr>\n",
       "    <tr>\n",
       "      <th>17978</th>\n",
       "      <td>drugs</td>\n",
       "      <td>tpsa</td>\n",
       "      <td>149.820000</td>\n",
       "    </tr>\n",
       "    <tr>\n",
       "      <th>17979</th>\n",
       "      <td>drugs</td>\n",
       "      <td>tpsa</td>\n",
       "      <td>403.100000</td>\n",
       "    </tr>\n",
       "    <tr>\n",
       "      <th>17980</th>\n",
       "      <td>drugs</td>\n",
       "      <td>tpsa</td>\n",
       "      <td>83.500000</td>\n",
       "    </tr>\n",
       "    <tr>\n",
       "      <th>17981</th>\n",
       "      <td>drugs</td>\n",
       "      <td>tpsa</td>\n",
       "      <td>71.440000</td>\n",
       "    </tr>\n",
       "  </tbody>\n",
       "</table>\n",
       "<p>17982 rows × 3 columns</p>\n",
       "</div>"
      ],
      "text/plain": [
       "              set variable       value\n",
       "0      serotonine    molwt  523.294725\n",
       "1      serotonine    molwt  352.115796\n",
       "2      serotonine    molwt  406.204801\n",
       "3      serotonine    molwt  246.173213\n",
       "4      serotonine    molwt  331.113667\n",
       "...           ...      ...         ...\n",
       "17977       drugs     tpsa   20.230000\n",
       "17978       drugs     tpsa  149.820000\n",
       "17979       drugs     tpsa  403.100000\n",
       "17980       drugs     tpsa   83.500000\n",
       "17981       drugs     tpsa   71.440000\n",
       "\n",
       "[17982 rows x 3 columns]"
      ]
     },
     "execution_count": 39,
     "metadata": {},
     "output_type": "execute_result"
    }
   ],
   "source": [
    "melted_df2 = pd.melt(joint_df, id_vars=['set'], value_vars=['molwt', 'tpsa'])\n",
    "melted_df2"
   ]
  },
  {
   "cell_type": "code",
   "execution_count": 40,
   "metadata": {},
   "outputs": [
    {
     "data": {
      "text/plain": [
       "<AxesSubplot:xlabel='variable', ylabel='value'>"
      ]
     },
     "execution_count": 40,
     "metadata": {},
     "output_type": "execute_result"
    },
    {
     "data": {
      "image/png": "[encoded data removed]",
      "text/plain": [
       "<Figure size 842.4x842.4 with 1 Axes>"
      ]
     },
     "metadata": {},
     "output_type": "display_data"
    }
   ],
   "source": [
    "sns.boxplot(y='value', x='variable', hue='set', data=melted_df2, showfliers=False)"
   ]
  },
  {
   "cell_type": "markdown",
   "metadata": {},
   "source": [
    "In comparison to known therapeutic substances in DrugBank, our set of mTOR ligands tends to have structures with many more rings, well beyond the third quartile ring count in DrugBank. mTOR ligands also have overall much higher number of heavy atoms, and higher molecular weight overall.\n",
    "\n",
    "Probably the most interesting thing here is the discrepancy in the ratio of hydrogen bond acceptors (hba) to [hydrogen bond](https://en.wikipedia.org/wiki/Hydrogen_bond) donors (hbd) - mTOR inhibitors have a much larger amount of the former, and comparatively smaller amount of the latter. Maybe something to do with the cavity it binds to?\n",
    "\n",
    "Hydrogen bond acceptors are usually heteroatoms (non H and C atoms, often O, N, S, etc.) that have some free electron pairs for hydrogen atoms to latch onto. Let's try if the observed trends between hydrogen bond acceptors can also be observed on heteroatom-specific descriptors. Since mTOR ligands are generally larger than DrugBank substances, the absolute counts of heteroatoms and heterocycles will probably be influenced by that. Instead, let's make our own descriptor of sorts: ratios of heteroatoms/all_atoms and heterocycles/all_cycles, to gain information about the heteroatom density in the molecules, and whether it reflects the observed differences in hydrogen bond acceptors.\n",
    "\n",
    "Ligands of the serotonine receptor are qite close to the DrugBank averages in most cases, with a slightly higher molecular weight and atom count.\n",
    "They tend to have fewer of both hydrogend bond acceptors and donors."
   ]
  },
  {
   "cell_type": "code",
   "execution_count": 42,
   "metadata": {},
   "outputs": [],
   "source": [
    "\n",
    "serotonine_heteroatoms_ratio = [rdescriptors.CalcNumHeteroatoms(l)/l.GetNumHeavyAtoms() \n",
    "                                for l in serotonine_ligands if l.GetNumHeavyAtoms()]\n",
    "drugbank_heteroatoms_ratio = [rdescriptors.CalcNumHeteroatoms(l)/l.GetNumHeavyAtoms() \n",
    "                              for l in drugs if l.GetNumHeavyAtoms()]\n",
    "# heterocycles = cycles with heteroatoms\n",
    "serotonine_heterocycles_ratio = [rdescriptors.CalcNumHeterocycles(l)/rdescriptors.CalcNumRings(l)\n",
    "                           for l in serotonine_ligands if rdescriptors.CalcNumRings(l)]\n",
    "drugbank_heterocycles_ratio = [rdescriptors.CalcNumHeterocycles(l)/rdescriptors.CalcNumRings(l)\n",
    "                               for l in drugs if rdescriptors.CalcNumRings(l)]"
   ]
  },
  {
   "cell_type": "code",
   "execution_count": 43,
   "metadata": {},
   "outputs": [
    {
     "data": {
      "text/html": [
       "<div>\n",
       "<style scoped>\n",
       "    .dataframe tbody tr th:only-of-type {\n",
       "        vertical-align: middle;\n",
       "    }\n",
       "\n",
       "    .dataframe tbody tr th {\n",
       "        vertical-align: top;\n",
       "    }\n",
       "\n",
       "    .dataframe thead th {\n",
       "        text-align: right;\n",
       "    }\n",
       "</style>\n",
       "<table border=\"1\" class=\"dataframe\">\n",
       "  <thead>\n",
       "    <tr style=\"text-align: right;\">\n",
       "      <th></th>\n",
       "      <th>set</th>\n",
       "      <th>variable</th>\n",
       "      <th>value</th>\n",
       "    </tr>\n",
       "  </thead>\n",
       "  <tbody>\n",
       "    <tr>\n",
       "      <th>0</th>\n",
       "      <td>serotonine</td>\n",
       "      <td>heteroatom_ratio</td>\n",
       "      <td>0.179487</td>\n",
       "    </tr>\n",
       "    <tr>\n",
       "      <th>1</th>\n",
       "      <td>serotonine</td>\n",
       "      <td>heteroatom_ratio</td>\n",
       "      <td>0.240000</td>\n",
       "    </tr>\n",
       "    <tr>\n",
       "      <th>2</th>\n",
       "      <td>serotonine</td>\n",
       "      <td>heteroatom_ratio</td>\n",
       "      <td>0.285714</td>\n",
       "    </tr>\n",
       "    <tr>\n",
       "      <th>3</th>\n",
       "      <td>serotonine</td>\n",
       "      <td>heteroatom_ratio</td>\n",
       "      <td>0.166667</td>\n",
       "    </tr>\n",
       "    <tr>\n",
       "      <th>4</th>\n",
       "      <td>serotonine</td>\n",
       "      <td>heteroatom_ratio</td>\n",
       "      <td>0.428571</td>\n",
       "    </tr>\n",
       "    <tr>\n",
       "      <th>...</th>\n",
       "      <td>...</td>\n",
       "      <td>...</td>\n",
       "      <td>...</td>\n",
       "    </tr>\n",
       "    <tr>\n",
       "      <th>16878</th>\n",
       "      <td>drugbank</td>\n",
       "      <td>heterocycle_ratio</td>\n",
       "      <td>0.000000</td>\n",
       "    </tr>\n",
       "    <tr>\n",
       "      <th>16879</th>\n",
       "      <td>drugbank</td>\n",
       "      <td>heterocycle_ratio</td>\n",
       "      <td>0.000000</td>\n",
       "    </tr>\n",
       "    <tr>\n",
       "      <th>16880</th>\n",
       "      <td>drugbank</td>\n",
       "      <td>heterocycle_ratio</td>\n",
       "      <td>0.666667</td>\n",
       "    </tr>\n",
       "    <tr>\n",
       "      <th>16881</th>\n",
       "      <td>drugbank</td>\n",
       "      <td>heterocycle_ratio</td>\n",
       "      <td>0.500000</td>\n",
       "    </tr>\n",
       "    <tr>\n",
       "      <th>16882</th>\n",
       "      <td>drugbank</td>\n",
       "      <td>heterocycle_ratio</td>\n",
       "      <td>0.000000</td>\n",
       "    </tr>\n",
       "  </tbody>\n",
       "</table>\n",
       "<p>16883 rows × 3 columns</p>\n",
       "</div>"
      ],
      "text/plain": [
       "              set           variable     value\n",
       "0      serotonine   heteroatom_ratio  0.179487\n",
       "1      serotonine   heteroatom_ratio  0.240000\n",
       "2      serotonine   heteroatom_ratio  0.285714\n",
       "3      serotonine   heteroatom_ratio  0.166667\n",
       "4      serotonine   heteroatom_ratio  0.428571\n",
       "...           ...                ...       ...\n",
       "16878    drugbank  heterocycle_ratio  0.000000\n",
       "16879    drugbank  heterocycle_ratio  0.000000\n",
       "16880    drugbank  heterocycle_ratio  0.666667\n",
       "16881    drugbank  heterocycle_ratio  0.500000\n",
       "16882    drugbank  heterocycle_ratio  0.000000\n",
       "\n",
       "[16883 rows x 3 columns]"
      ]
     },
     "execution_count": 43,
     "metadata": {},
     "output_type": "execute_result"
    }
   ],
   "source": [
    "# Put the data into a DataFrame object, one formatted so that we don't need to 'melt' it for mapping into boxplot\n",
    "# Make an initial dataframe, then extend it by each additional set\n",
    "df = pd.DataFrame(data=[{'set': 'serotonine', 'variable': 'heteroatom_ratio', 'value': x}\n",
    "                        for x in serotonine_heteroatoms_ratio])\n",
    "df = df.append(pd.DataFrame(data=[{'set': 'drugbank', 'variable': 'heteroatom_ratio', 'value': x}\n",
    "                                  for x in drugbank_heteroatoms_ratio]), ignore_index=True)\n",
    "df = df.append(pd.DataFrame(data=[{'set': 'serotonine', 'variable': 'heterocycle_ratio', 'value': x}\n",
    "                                  for x in serotonine_heterocycles_ratio]), ignore_index=True)\n",
    "df = df.append(pd.DataFrame(data=[{'set': 'drugbank', 'variable': 'heterocycle_ratio', 'value': x}\n",
    "                                  for x in drugbank_heterocycles_ratio]), ignore_index=True)\n",
    "df"
   ]
  },
  {
   "cell_type": "code",
   "execution_count": 44,
   "metadata": {
    "scrolled": false
   },
   "outputs": [
    {
     "data": {
      "text/plain": [
       "<AxesSubplot:xlabel='variable', ylabel='value'>"
      ]
     },
     "execution_count": 44,
     "metadata": {},
     "output_type": "execute_result"
    },
    {
     "data": {
      "image/png": "[encoded data removed]",
      "text/plain": [
       "<Figure size 842.4x842.4 with 1 Axes>"
      ]
     },
     "metadata": {},
     "output_type": "display_data"
    }
   ],
   "source": [
    "sns.boxplot(y='value', x='variable', hue='set', data=df, showfliers=False)"
   ]
  },
  {
   "cell_type": "markdown",
   "metadata": {},
   "source": [
    "The overall ratio of heteroatoms within known mTOR ligands seems on par with the relative amount of heteroatoms within known drugs, even somewhat smaller. So, that can't be it. However, more interestingly, almost all cycles in known mTOR ligands contain heteroatoms, while only about half of the cycles in known drugs contain said heteroatoms. And since the known mTOR ligands contain many more rings in general, this may further widen the observed divide in hydrogen bond acceptor counts...\n",
    "\n",
    "The ratios of heteroatoms and heterocycles in serotonine receptor ligans seems quite in line with DrugBank averages.\n",
    "\n",
    "\n",
    "# What to do\n",
    " - have a look at the linked materials, also including [the article](http://www.chemicke-listy.cz/docs/full/2017_11_716-723.pdf) from the good ol' leaves. I am sure you were/will be told about descriptors at length from the actual lectures. For the purposes of this exercise, just please make sure you have some general notion of what a molecular descriptor is and what it can be used for\n",
    " - apply the aforedescribed methods onto your own dataset. How does DrugBank and mTOR compare to your dataset? Any comments/ideas? Also, if you do not have seaborn, just do \"conda install seaborn\" in your conda environment, it should sort itself out. If you have some other visualization preferences, with different graph styles and/or different libraries, you can use whatever you are comfortable with.\n",
    " - If you notice something interesting about your dataset, try to \"zoom\" onto the observed discrepancy using additional descriptors, their ratios or visualizations of your choosing. Here, it was the observed large amount of hydrogen bond acceptors followed by calculating heteroatom and heterocycle ratios. For your set, it might be something different. The whole point of this is you trying to follow and investigate the trends in your dataset. If you find everything in line with known drugs in DrugBank, congrats - your ligands seem pretty druglike. If that's the case, just try the heteroatom and heterocycle ratios ;)"
   ]
  },
  {
   "cell_type": "code",
   "execution_count": null,
   "metadata": {},
   "outputs": [],
   "source": []
  }
 ],
 "metadata": {
  "kernelspec": {
   "display_name": "Python 3",
   "language": "python",
   "name": "python3"
  },
  "language_info": {
   "codemirror_mode": {
    "name": "ipython",
    "version": 3
   },
   "file_extension": ".py",
   "mimetype": "text/x-python",
   "name": "python",
   "nbconvert_exporter": "python",
   "pygments_lexer": "ipython3",
   "version": "3.7.10"
  }
 },
 "nbformat": 4,
 "nbformat_minor": 4
}
