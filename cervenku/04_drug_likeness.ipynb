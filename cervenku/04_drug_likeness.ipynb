{
 "cells": [
  {
   "cell_type": "markdown",
   "metadata": {},
   "source": [
    "# Druglikeness\n",
    "\n",
    "In the previous notebook, we played with the concept of molecular descriptors, and compared our sets of known ligands to known therapeutic drugs contained in the DrugBank database, using several common descriptors. This already gave you some information on how do your selected ligands compare to known drugs.\n",
    "\n",
    "While we can compare the two sets any which way, there are also some widely established rules of thumb for identifying [drug-like](https://en.wikipedia.org/wiki/Druglikeness) structures, i.e. small molecules that have a chance to be reasonably potent, selective, and, above all, able to reach the therapeutic target (receptor) when [ingested](https://en.wikipedia.org/wiki/Bioavailability). Nobody wants to inject their medication into theirs veins, unless absolutely necessary. More on biological availability [here](http://howmed.net/pharmacology/bioavailability-of-drugs/).\n",
    "\n",
    "The most known set of rules for biological availability is the Lipinski's [rule of five](https://en.wikipedia.org/wiki/Lipinski%27s_Rule_of_Five) (LRO5). It states that molecules can be expected to have good bioavailability when:\n",
    " - no more than 5 hydrogen bond donors\n",
    " - no more than 10 hydrogen bond acceptors\n",
    " - molecular weight of less than 500 Da\n",
    " - logP less than 5\n",
    "\n",
    "The above are just general rules of thumb, to avoid excesively large, greasy molecules that would have serious problems getting to the target in a real organism. In most applications, molecules that violate only one of the aforedescribed rules still get a passing mark. A more complex insight on LRO5 can be read [here](https://blogs.sciencemag.org/pipeline/archives/2005/02/14/bigger_and_greasier). I would recommend reading dr. Lowe's stuff in general to get some idea about drug discover/development from pharma chemist's perspective. Since there is no sense of me reiterating anymore of what is already readily available on your materials from lectures and also from Wikipedia, let's try and implement this filter on our own:"
   ]
  },
  {
   "cell_type": "code",
   "execution_count": 1,
   "metadata": {},
   "outputs": [
    {
     "name": "stderr",
     "output_type": "stream",
     "text": [
      "RDKit WARNING: [09:50:50] Enabling RDKit 2019.09.3 jupyter extensions\n"
     ]
    }
   ],
   "source": [
    "# just the usual housekeeping, import libraries, load ligand and DrugBank data\n",
    "# you load your own set, and DrugBank :)\n",
    "from rdkit.Chem import AllChem as Chem\n",
    "from rdkit.Chem import Descriptors\n",
    "from rdkit.Chem import rdMolDescriptors as rdescriptors\n",
    "from rdkit.Chem.Draw import IPythonConsole\n",
    "import csv\n",
    "\n",
    "with open('../data/chembl_mtor_ic50.csv', 'r') as csvfile:\n",
    "    reader = csv.DictReader(csvfile, delimiter=\";\")\n",
    "    mtor_ligands = [Chem.MolFromSmiles(m['Smiles']) for m in reader]\n",
    "\n",
    "suppl = Chem.SDMolSupplier('../data/drugbank.sdf')\n",
    "drugs = [m for m in suppl if m]"
   ]
  },
  {
   "cell_type": "markdown",
   "metadata": {},
   "source": [
    "There are many ways to implement a Lipinski filter, since it is just a value cutoff. But, we might as well get fancy and implement it using functions. You can do whichever way you prefer :)"
   ]
  },
  {
   "cell_type": "code",
   "execution_count": 2,
   "metadata": {},
   "outputs": [],
   "source": [
    "def too_many_hbd(mol):\n",
    "    # takes an RDKit mol instance, returns True if the structure is out of LRO5 bounds\n",
    "    return rdescriptors.CalcNumLipinskiHBD(mol) > 5\n",
    "\n",
    "def too_many_hba(mol):\n",
    "    return rdescriptors.CalcNumLipinskiHBA(mol) > 10\n",
    "\n",
    "def too_heavy(mol):\n",
    "    return rdescriptors.CalcExactMolWt(mol) > 500\n",
    "\n",
    "def too_greasy(mol):\n",
    "    return Descriptors.MolLogP(mol) > 5"
   ]
  },
  {
   "cell_type": "markdown",
   "metadata": {},
   "source": [
    "Let's take a peek at some random structure from our set, and try to apply our filters:"
   ]
  },
  {
   "cell_type": "code",
   "execution_count": 3,
   "metadata": {},
   "outputs": [
    {
     "data": {
      "image/png": "[encoded data removed]",
      "text/plain": [
       "<rdkit.Chem.rdchem.Mol at 0x251bf236080>"
      ]
     },
     "execution_count": 3,
     "metadata": {},
     "output_type": "execute_result"
    }
   ],
   "source": [
    "mtor_ligands[666]"
   ]
  },
  {
   "cell_type": "code",
   "execution_count": 3,
   "metadata": {},
   "outputs": [
    {
     "data": {
      "text/plain": [
       "(False, False, False, False)"
      ]
     },
     "execution_count": 3,
     "metadata": {},
     "output_type": "execute_result"
    }
   ],
   "source": [
    "# and see how the structure fares\n",
    "too_many_hbd(mtor_ligands[666]), too_many_hba(mtor_ligands[666]), \\\n",
    "too_heavy(mtor_ligands[666]), too_greasy(mtor_ligands[666])"
   ]
  },
  {
   "cell_type": "markdown",
   "metadata": {},
   "source": [
    "So, no Lipinski red flags for our 666 ligand. It seems biologically available. What about your randomly picked ligand?\n",
    "\n",
    "Let's evaluate the whole ligand set :)"
   ]
  },
  {
   "cell_type": "code",
   "execution_count": 4,
   "metadata": {},
   "outputs": [
    {
     "data": {
      "text/plain": [
       "(7, 850, 1357, 223, 4596)"
      ]
     },
     "execution_count": 4,
     "metadata": {},
     "output_type": "execute_result"
    }
   ],
   "source": [
    "mtor_ligands_too_many_hbd = [too_many_hbd(l) for l in mtor_ligands]\n",
    "mtor_ligands_too_many_hba = [too_many_hba(l) for l in mtor_ligands]\n",
    "mtor_ligands_too_heavy = [too_heavy(l) for l in mtor_ligands]\n",
    "mtor_ligands_too_greasy = [too_greasy(l) for l in mtor_ligands]\n",
    "sum(mtor_ligands_too_many_hbd), sum(mtor_ligands_too_many_hba), \\\n",
    "sum(mtor_ligands_too_heavy), sum(mtor_ligands_too_greasy), len(mtor_ligands)"
   ]
  },
  {
   "cell_type": "markdown",
   "metadata": {},
   "source": [
    "So, from this crude view on data, it looks like most of the 4596 molecules within this mtor set pass the RO5. The biggest problem seems to be that over a quarter of the molecules seem too heavy, and there are also quite a few with too many hydrogen bond acceptors (N, O, other heteroatoms), which should come as no surprise given the results in the previous exercise. On the other hand, greasiness and the amount of hydrogen bond donors do not seem to be much of a factor here. Let's make the data look a bit nicer:"
   ]
  },
  {
   "cell_type": "code",
   "execution_count": 5,
   "metadata": {},
   "outputs": [
    {
     "data": {
      "text/html": [
       "<div>\n",
       "<style scoped>\n",
       "    .dataframe tbody tr th:only-of-type {\n",
       "        vertical-align: middle;\n",
       "    }\n",
       "\n",
       "    .dataframe tbody tr th {\n",
       "        vertical-align: top;\n",
       "    }\n",
       "\n",
       "    .dataframe thead th {\n",
       "        text-align: right;\n",
       "    }\n",
       "</style>\n",
       "<table border=\"1\" class=\"dataframe\">\n",
       "  <thead>\n",
       "    <tr style=\"text-align: right;\">\n",
       "      <th></th>\n",
       "      <th>set</th>\n",
       "      <th>too_many_hbd</th>\n",
       "      <th>too_many_hba</th>\n",
       "      <th>too_greasy</th>\n",
       "      <th>too_heavy</th>\n",
       "    </tr>\n",
       "  </thead>\n",
       "  <tbody>\n",
       "    <tr>\n",
       "      <th>0</th>\n",
       "      <td>mtor</td>\n",
       "      <td>False</td>\n",
       "      <td>False</td>\n",
       "      <td>False</td>\n",
       "      <td>False</td>\n",
       "    </tr>\n",
       "    <tr>\n",
       "      <th>1</th>\n",
       "      <td>mtor</td>\n",
       "      <td>False</td>\n",
       "      <td>False</td>\n",
       "      <td>False</td>\n",
       "      <td>False</td>\n",
       "    </tr>\n",
       "    <tr>\n",
       "      <th>2</th>\n",
       "      <td>mtor</td>\n",
       "      <td>False</td>\n",
       "      <td>False</td>\n",
       "      <td>False</td>\n",
       "      <td>False</td>\n",
       "    </tr>\n",
       "    <tr>\n",
       "      <th>3</th>\n",
       "      <td>mtor</td>\n",
       "      <td>False</td>\n",
       "      <td>False</td>\n",
       "      <td>False</td>\n",
       "      <td>False</td>\n",
       "    </tr>\n",
       "    <tr>\n",
       "      <th>4</th>\n",
       "      <td>mtor</td>\n",
       "      <td>False</td>\n",
       "      <td>False</td>\n",
       "      <td>False</td>\n",
       "      <td>False</td>\n",
       "    </tr>\n",
       "    <tr>\n",
       "      <th>...</th>\n",
       "      <td>...</td>\n",
       "      <td>...</td>\n",
       "      <td>...</td>\n",
       "      <td>...</td>\n",
       "      <td>...</td>\n",
       "    </tr>\n",
       "    <tr>\n",
       "      <th>4591</th>\n",
       "      <td>mtor</td>\n",
       "      <td>False</td>\n",
       "      <td>False</td>\n",
       "      <td>False</td>\n",
       "      <td>False</td>\n",
       "    </tr>\n",
       "    <tr>\n",
       "      <th>4592</th>\n",
       "      <td>mtor</td>\n",
       "      <td>False</td>\n",
       "      <td>False</td>\n",
       "      <td>False</td>\n",
       "      <td>False</td>\n",
       "    </tr>\n",
       "    <tr>\n",
       "      <th>4593</th>\n",
       "      <td>mtor</td>\n",
       "      <td>False</td>\n",
       "      <td>False</td>\n",
       "      <td>False</td>\n",
       "      <td>False</td>\n",
       "    </tr>\n",
       "    <tr>\n",
       "      <th>4594</th>\n",
       "      <td>mtor</td>\n",
       "      <td>False</td>\n",
       "      <td>False</td>\n",
       "      <td>False</td>\n",
       "      <td>False</td>\n",
       "    </tr>\n",
       "    <tr>\n",
       "      <th>4595</th>\n",
       "      <td>mtor</td>\n",
       "      <td>False</td>\n",
       "      <td>False</td>\n",
       "      <td>False</td>\n",
       "      <td>False</td>\n",
       "    </tr>\n",
       "  </tbody>\n",
       "</table>\n",
       "<p>4596 rows × 5 columns</p>\n",
       "</div>"
      ],
      "text/plain": [
       "       set  too_many_hbd  too_many_hba  too_greasy  too_heavy\n",
       "0     mtor         False         False       False      False\n",
       "1     mtor         False         False       False      False\n",
       "2     mtor         False         False       False      False\n",
       "3     mtor         False         False       False      False\n",
       "4     mtor         False         False       False      False\n",
       "...    ...           ...           ...         ...        ...\n",
       "4591  mtor         False         False       False      False\n",
       "4592  mtor         False         False       False      False\n",
       "4593  mtor         False         False       False      False\n",
       "4594  mtor         False         False       False      False\n",
       "4595  mtor         False         False       False      False\n",
       "\n",
       "[4596 rows x 5 columns]"
      ]
     },
     "execution_count": 5,
     "metadata": {},
     "output_type": "execute_result"
    }
   ],
   "source": [
    "import pandas as pd\n",
    "df = pd.DataFrame(data={'set':'mtor',\n",
    "                        'too_many_hbd': mtor_ligands_too_many_hbd,\n",
    "                        'too_many_hba': mtor_ligands_too_many_hba,\n",
    "                        'too_greasy': mtor_ligands_too_greasy,\n",
    "                        'too_heavy': mtor_ligands_too_heavy})\n",
    "df"
   ]
  },
  {
   "cell_type": "code",
   "execution_count": 6,
   "metadata": {},
   "outputs": [
    {
     "data": {
      "image/png": "[encoded data removed]",
      "text/plain": [
       "<Figure size 842.4x842.4 with 1 Axes>"
      ]
     },
     "metadata": {},
     "output_type": "display_data"
    }
   ],
   "source": [
    "import seaborn as sns\n",
    "sns.set(rc={'figure.figsize':(11.7, 11.7)}) # for bigger graphs\n",
    "with sns.axes_style(\"whitegrid\"):\n",
    "    p = sns.barplot(data=df, ci=None)\n",
    "    p.set_title(\"RO5 collision ratios in MTOR ligand set\")\n",
    "    p.set_ylabel(\"Ratio of issues in set\")"
   ]
  },
  {
   "cell_type": "markdown",
   "metadata": {},
   "source": [
    "Same data with a bit more flair, showing Lipinski RO5 issues with the mtor ligand set. You do your ligand set :)\n",
    "\n",
    "So, here the biggest issue is that structures are too heavy. However, the common interpretation of LRO5 permits a single violation. Therefore, many of the too heavy structures may still pass the Lipinski filter. Let's implement it in full:"
   ]
  },
  {
   "cell_type": "code",
   "execution_count": 7,
   "metadata": {},
   "outputs": [],
   "source": [
    "def ro5_violations(mol):\n",
    "    # takes RDKit mol, return how many rules it actually violates\n",
    "    return sum([too_many_hbd(mol), too_many_hba(mol), too_heavy(mol), too_greasy(mol)])\n",
    "\n",
    "def violates_lipinski(mol):\n",
    "    # checks the number of RO5 violations, if they are more than one, return True\n",
    "    return ro5_violations(mol) > 1"
   ]
  },
  {
   "cell_type": "code",
   "execution_count": 8,
   "metadata": {},
   "outputs": [
    {
     "data": {
      "text/plain": [
       "(2437, 0.5302436901653612, 768, 0.1671018276762402)"
      ]
     },
     "execution_count": 8,
     "metadata": {},
     "output_type": "execute_result"
    }
   ],
   "source": [
    "# let's apply those functions on our mtor set:\n",
    "mtor_ro5_violations = [ro5_violations(l) for l in mtor_ligands]\n",
    "mtor_violates_lipinski = [violates_lipinski(l) for l in mtor_ligands]\n",
    "sum(mtor_ro5_violations),\\\n",
    "sum(mtor_ro5_violations)/len(mtor_ro5_violations),\\\n",
    "sum(mtor_violates_lipinski),\\\n",
    "sum(mtor_violates_lipinski)/len(mtor_violates_lipinski)"
   ]
  },
  {
   "cell_type": "markdown",
   "metadata": {},
   "source": [
    "So, the overall amount of RO5 violations in the MTOR set seems to be 2437, which is about half RO5 violations per molecule. 768 MTOR ligands, which is about 17%, violate more than one LRO5 rule, and thus fail the standard Lipinski filter. What are the stats for your set?\n",
    "\n",
    "let's add the lipinski pass data into the dataframe and visualize again:"
   ]
  },
  {
   "cell_type": "code",
   "execution_count": 37,
   "metadata": {},
   "outputs": [
    {
     "data": {
      "image/png": "[encoded data removed]",
      "text/plain": [
       "<Figure size 720x720 with 1 Axes>"
      ]
     },
     "metadata": {},
     "output_type": "display_data"
    }
   ],
   "source": [
    "df['fails_lipinski'] = mtor_violates_lipinski\n",
    "with sns.axes_style(\"whitegrid\"):\n",
    "    p = sns.barplot(data=df, ci=None)\n",
    "    p.set_title(\"RO5 collision ratios in MTOR ligand set\")\n",
    "    p.set_ylabel(\"Ratio of issues in set\")"
   ]
  },
  {
   "cell_type": "markdown",
   "metadata": {},
   "source": [
    "Cool. Still, [Lipinski](https://en.wikipedia.org/wiki/Lipinski%27s_rule_of_five) is not the only filter in town. To get a more comprehensive picture, let's implement some more, to get a more comprehensive picture. Let's do the Ghose extension that remaps the requirements for logP and molecular weight, and instead of HBA and HBD uses molar refractivity and number of atoms. Also the Veber's rule on rotatable bonds and polar surface area:"
   ]
  },
  {
   "cell_type": "code",
   "execution_count": 10,
   "metadata": {},
   "outputs": [],
   "source": [
    "from rdkit.Chem import Crippen\n",
    "\n",
    "def bad_greasyness_ghose(mol):\n",
    "    logp = Descriptors.MolLogP(mol)\n",
    "    return logp > 5.6 or logp < -0.4\n",
    "\n",
    "# let's apply the filters and add them to the dataframe as we go\n",
    "df['odd_greasyness'] = [bad_greasyness_ghose(l) for l in mtor_ligands]\n",
    "\n",
    "def bad_refractivity_ghose(mol):\n",
    "    ref = Crippen.MolMR(mol)\n",
    "    return ref > 130 or ref < 40\n",
    "df['odd_refractivity'] = [bad_refractivity_ghose(l) for l in mtor_ligands]\n",
    "\n",
    "def bad_mw_ghose(mol):\n",
    "    mw = rdescriptors.CalcExactMolWt(mol)\n",
    "    return mw > 480 or mw < 180\n",
    "df['odd_mass'] = [bad_mw_ghose(l) for l in mtor_ligands]\n",
    "\n",
    "def bad_atomcount_ghose(mol):\n",
    "    ac = mol.GetNumHeavyAtoms()\n",
    "    return ac > 70 or ac < 20\n",
    "df['odd_atomcount'] = [bad_atomcount_ghose(l) for l in mtor_ligands]\n",
    "\n",
    "def violates_ghose(mol):\n",
    "    return bad_greasyness_ghose(mol) or bad_refractivity_ghose(mol) or bad_mw_ghose(mol) or bad_atomcount_ghose(mol)\n",
    "df['fails_ghose'] = [violates_ghose(l) for l in mtor_ligands]\n",
    "\n",
    "def too_rotatable_veber(mol):\n",
    "    return Chem.CalcNumRotatableBonds(mol) > 10\n",
    "df['too_rotatable'] = [too_rotatable_veber(l) for l in mtor_ligands]\n",
    "\n",
    "def too_large_psa_veber(mol):\n",
    "    return rdescriptors.CalcTPSA(mol) > 140\n",
    "df['excessive_psa'] = [too_large_psa_veber(l) for l in mtor_ligands]\n",
    "\n",
    "def violates_veber(mol):\n",
    "    return too_rotatable_veber(mol) or too_large_psa_veber(mol)\n",
    "df['fails_veber'] = [violates_veber(l) for l in mtor_ligands]"
   ]
  },
  {
   "cell_type": "markdown",
   "metadata": {},
   "source": [
    "... And visualize our masterpiece :)"
   ]
  },
  {
   "cell_type": "code",
   "execution_count": 11,
   "metadata": {},
   "outputs": [
    {
     "data": {
      "image/png": "[encoded data removed]",
      "text/plain": [
       "<Figure size 842.4x842.4 with 1 Axes>"
      ]
     },
     "metadata": {},
     "output_type": "display_data"
    }
   ],
   "source": [
    "with sns.axes_style(\"whitegrid\"):\n",
    "    p = sns.barplot(data=df, ci=None)\n",
    "    p.set_title(\"Drug-likeness rule collision ratios in MTOR ligand set\")\n",
    "    p.set_ylabel(\"Ratio of issues in set\")\n",
    "    p.set_xticklabels(p.get_xticklabels(), rotation=30) # avoid ugly text clipping"
   ]
  },
  {
   "cell_type": "markdown",
   "metadata": {},
   "source": [
    "All right, this should be enough :) So, almost half of the MTOR ligands fail Ghose filter, on bad molar refractivity (i.e. [polarizability](https://en.wikipedia.org/wiki/Polarizability)) and no doubt some on the large size of the molecules, as already shown on the Lipinski RO5 failures. Also, there have to be same light enough to be also clipped by the lower bound of the Ghose molecular mass requirements. As for Veber rules, these apper to be only a little factor, almost no MTOR ligands from the analyzed set have too many rotatable bonds, and only few have too much [polar surface area](https://en.wikipedia.org/wiki/Polar_surface_area), which could give them trouble when getting through cell membranes.\n",
    "\n",
    "The MTOR set appear quite viable from drug-likeness perspective. What about yours?\n",
    "\n",
    "Also, it would be good to put the values in some perspective. Even DrugBank contains some amount of structures that are outside of drug-likeness bounds, some simply because the rules are quite crude tools, others may be substances than can rely on active transport within the organism, and other like [insulin](https://www.drugbank.ca/categories/DBCAT000170) are simply not meant for peroral use. Let's get the stats for DrugBank:\n"
   ]
  },
  {
   "cell_type": "code",
   "execution_count": 12,
   "metadata": {},
   "outputs": [
    {
     "data": {
      "text/html": [
       "<div>\n",
       "<style scoped>\n",
       "    .dataframe tbody tr th:only-of-type {\n",
       "        vertical-align: middle;\n",
       "    }\n",
       "\n",
       "    .dataframe tbody tr th {\n",
       "        vertical-align: top;\n",
       "    }\n",
       "\n",
       "    .dataframe thead th {\n",
       "        text-align: right;\n",
       "    }\n",
       "</style>\n",
       "<table border=\"1\" class=\"dataframe\">\n",
       "  <thead>\n",
       "    <tr style=\"text-align: right;\">\n",
       "      <th></th>\n",
       "      <th>set</th>\n",
       "      <th>too_many_hbd</th>\n",
       "      <th>too_many_hba</th>\n",
       "      <th>too_greasy</th>\n",
       "      <th>too_heavy</th>\n",
       "      <th>fails_lipinski</th>\n",
       "      <th>odd_greasyness</th>\n",
       "      <th>odd_refractivity</th>\n",
       "      <th>odd_mass</th>\n",
       "      <th>odd_atomcount</th>\n",
       "      <th>fails_ghose</th>\n",
       "      <th>too_rotatable</th>\n",
       "      <th>excessive_psa</th>\n",
       "      <th>fails_veber</th>\n",
       "    </tr>\n",
       "  </thead>\n",
       "  <tbody>\n",
       "    <tr>\n",
       "      <th>0</th>\n",
       "      <td>DrugBank</td>\n",
       "      <td>True</td>\n",
       "      <td>True</td>\n",
       "      <td>False</td>\n",
       "      <td>True</td>\n",
       "      <td>True</td>\n",
       "      <td>True</td>\n",
       "      <td>True</td>\n",
       "      <td>True</td>\n",
       "      <td>True</td>\n",
       "      <td>True</td>\n",
       "      <td>True</td>\n",
       "      <td>True</td>\n",
       "      <td>True</td>\n",
       "    </tr>\n",
       "    <tr>\n",
       "      <th>1</th>\n",
       "      <td>DrugBank</td>\n",
       "      <td>True</td>\n",
       "      <td>True</td>\n",
       "      <td>False</td>\n",
       "      <td>True</td>\n",
       "      <td>True</td>\n",
       "      <td>True</td>\n",
       "      <td>True</td>\n",
       "      <td>True</td>\n",
       "      <td>True</td>\n",
       "      <td>True</td>\n",
       "      <td>True</td>\n",
       "      <td>True</td>\n",
       "      <td>True</td>\n",
       "    </tr>\n",
       "    <tr>\n",
       "      <th>2</th>\n",
       "      <td>DrugBank</td>\n",
       "      <td>True</td>\n",
       "      <td>True</td>\n",
       "      <td>False</td>\n",
       "      <td>True</td>\n",
       "      <td>True</td>\n",
       "      <td>True</td>\n",
       "      <td>True</td>\n",
       "      <td>True</td>\n",
       "      <td>True</td>\n",
       "      <td>True</td>\n",
       "      <td>True</td>\n",
       "      <td>True</td>\n",
       "      <td>True</td>\n",
       "    </tr>\n",
       "    <tr>\n",
       "      <th>3</th>\n",
       "      <td>DrugBank</td>\n",
       "      <td>True</td>\n",
       "      <td>True</td>\n",
       "      <td>False</td>\n",
       "      <td>True</td>\n",
       "      <td>True</td>\n",
       "      <td>True</td>\n",
       "      <td>True</td>\n",
       "      <td>True</td>\n",
       "      <td>True</td>\n",
       "      <td>True</td>\n",
       "      <td>True</td>\n",
       "      <td>True</td>\n",
       "      <td>True</td>\n",
       "    </tr>\n",
       "    <tr>\n",
       "      <th>4</th>\n",
       "      <td>DrugBank</td>\n",
       "      <td>False</td>\n",
       "      <td>True</td>\n",
       "      <td>False</td>\n",
       "      <td>True</td>\n",
       "      <td>True</td>\n",
       "      <td>False</td>\n",
       "      <td>True</td>\n",
       "      <td>True</td>\n",
       "      <td>True</td>\n",
       "      <td>True</td>\n",
       "      <td>True</td>\n",
       "      <td>True</td>\n",
       "      <td>True</td>\n",
       "    </tr>\n",
       "    <tr>\n",
       "      <th>...</th>\n",
       "      <td>...</td>\n",
       "      <td>...</td>\n",
       "      <td>...</td>\n",
       "      <td>...</td>\n",
       "      <td>...</td>\n",
       "      <td>...</td>\n",
       "      <td>...</td>\n",
       "      <td>...</td>\n",
       "      <td>...</td>\n",
       "      <td>...</td>\n",
       "      <td>...</td>\n",
       "      <td>...</td>\n",
       "      <td>...</td>\n",
       "      <td>...</td>\n",
       "    </tr>\n",
       "    <tr>\n",
       "      <th>7108</th>\n",
       "      <td>DrugBank</td>\n",
       "      <td>False</td>\n",
       "      <td>False</td>\n",
       "      <td>False</td>\n",
       "      <td>False</td>\n",
       "      <td>False</td>\n",
       "      <td>False</td>\n",
       "      <td>True</td>\n",
       "      <td>True</td>\n",
       "      <td>True</td>\n",
       "      <td>True</td>\n",
       "      <td>False</td>\n",
       "      <td>False</td>\n",
       "      <td>False</td>\n",
       "    </tr>\n",
       "    <tr>\n",
       "      <th>7109</th>\n",
       "      <td>DrugBank</td>\n",
       "      <td>False</td>\n",
       "      <td>False</td>\n",
       "      <td>False</td>\n",
       "      <td>False</td>\n",
       "      <td>False</td>\n",
       "      <td>True</td>\n",
       "      <td>False</td>\n",
       "      <td>False</td>\n",
       "      <td>False</td>\n",
       "      <td>True</td>\n",
       "      <td>False</td>\n",
       "      <td>True</td>\n",
       "      <td>True</td>\n",
       "    </tr>\n",
       "    <tr>\n",
       "      <th>7110</th>\n",
       "      <td>DrugBank</td>\n",
       "      <td>True</td>\n",
       "      <td>True</td>\n",
       "      <td>False</td>\n",
       "      <td>True</td>\n",
       "      <td>True</td>\n",
       "      <td>False</td>\n",
       "      <td>True</td>\n",
       "      <td>True</td>\n",
       "      <td>True</td>\n",
       "      <td>True</td>\n",
       "      <td>True</td>\n",
       "      <td>True</td>\n",
       "      <td>True</td>\n",
       "    </tr>\n",
       "    <tr>\n",
       "      <th>7111</th>\n",
       "      <td>DrugBank</td>\n",
       "      <td>False</td>\n",
       "      <td>False</td>\n",
       "      <td>False</td>\n",
       "      <td>False</td>\n",
       "      <td>False</td>\n",
       "      <td>False</td>\n",
       "      <td>False</td>\n",
       "      <td>False</td>\n",
       "      <td>False</td>\n",
       "      <td>False</td>\n",
       "      <td>True</td>\n",
       "      <td>False</td>\n",
       "      <td>True</td>\n",
       "    </tr>\n",
       "    <tr>\n",
       "      <th>7112</th>\n",
       "      <td>DrugBank</td>\n",
       "      <td>False</td>\n",
       "      <td>False</td>\n",
       "      <td>False</td>\n",
       "      <td>False</td>\n",
       "      <td>False</td>\n",
       "      <td>False</td>\n",
       "      <td>False</td>\n",
       "      <td>False</td>\n",
       "      <td>False</td>\n",
       "      <td>False</td>\n",
       "      <td>False</td>\n",
       "      <td>False</td>\n",
       "      <td>False</td>\n",
       "    </tr>\n",
       "  </tbody>\n",
       "</table>\n",
       "<p>7113 rows × 14 columns</p>\n",
       "</div>"
      ],
      "text/plain": [
       "           set  too_many_hbd  too_many_hba  too_greasy  too_heavy  \\\n",
       "0     DrugBank          True          True       False       True   \n",
       "1     DrugBank          True          True       False       True   \n",
       "2     DrugBank          True          True       False       True   \n",
       "3     DrugBank          True          True       False       True   \n",
       "4     DrugBank         False          True       False       True   \n",
       "...        ...           ...           ...         ...        ...   \n",
       "7108  DrugBank         False         False       False      False   \n",
       "7109  DrugBank         False         False       False      False   \n",
       "7110  DrugBank          True          True       False       True   \n",
       "7111  DrugBank         False         False       False      False   \n",
       "7112  DrugBank         False         False       False      False   \n",
       "\n",
       "      fails_lipinski  odd_greasyness  odd_refractivity  odd_mass  \\\n",
       "0               True            True              True      True   \n",
       "1               True            True              True      True   \n",
       "2               True            True              True      True   \n",
       "3               True            True              True      True   \n",
       "4               True           False              True      True   \n",
       "...              ...             ...               ...       ...   \n",
       "7108           False           False              True      True   \n",
       "7109           False            True             False     False   \n",
       "7110            True           False              True      True   \n",
       "7111           False           False             False     False   \n",
       "7112           False           False             False     False   \n",
       "\n",
       "      odd_atomcount  fails_ghose  too_rotatable  excessive_psa  fails_veber  \n",
       "0              True         True           True           True         True  \n",
       "1              True         True           True           True         True  \n",
       "2              True         True           True           True         True  \n",
       "3              True         True           True           True         True  \n",
       "4              True         True           True           True         True  \n",
       "...             ...          ...            ...            ...          ...  \n",
       "7108           True         True          False          False        False  \n",
       "7109          False         True          False           True         True  \n",
       "7110           True         True           True           True         True  \n",
       "7111          False        False           True          False         True  \n",
       "7112          False        False          False          False        False  \n",
       "\n",
       "[7113 rows x 14 columns]"
      ]
     },
     "execution_count": 12,
     "metadata": {},
     "output_type": "execute_result"
    }
   ],
   "source": [
    "df_drugbank = pd.DataFrame(\n",
    "    data={'set':'DrugBank',\n",
    "          'too_many_hbd': [too_many_hbd(l) for l in drugs],\n",
    "          'too_many_hba': [too_many_hba(l) for l in drugs],\n",
    "          'too_greasy': [too_greasy(l) for l in drugs],\n",
    "          'too_heavy': [too_heavy(l) for l in drugs],\n",
    "          'fails_lipinski': [violates_lipinski(l) for l in drugs],\n",
    "          'odd_greasyness': [bad_greasyness_ghose(l) for l in drugs],\n",
    "          'odd_refractivity': [bad_refractivity_ghose(l) for l in drugs],\n",
    "          'odd_mass': [bad_mw_ghose(l) for l in drugs],\n",
    "          'odd_atomcount': [bad_atomcount_ghose(l) for l in drugs],\n",
    "          'fails_ghose': [violates_ghose(l) for l in drugs],\n",
    "          'too_rotatable': [too_rotatable_veber(l) for l in drugs],\n",
    "          'excessive_psa': [too_large_psa_veber(l) for l in drugs],\n",
    "          'fails_veber': [violates_veber(l) for l in drugs]})\n",
    "df_drugbank"
   ]
  },
  {
   "cell_type": "code",
   "execution_count": 13,
   "metadata": {},
   "outputs": [
    {
     "data": {
      "image/png": "[encoded data removed]",
      "text/plain": [
       "<Figure size 842.4x842.4 with 1 Axes>"
      ]
     },
     "metadata": {},
     "output_type": "display_data"
    }
   ],
   "source": [
    "# let's visualize this monstrosity:\n",
    "with sns.axes_style(\"whitegrid\"):\n",
    "    p = sns.barplot(data=df_drugbank, ci=None)\n",
    "    p.set_title(\"Drug-likeness rule collision ratios in DrugBank\")\n",
    "    p.set_ylabel(\"Ratio of issues in set\")\n",
    "    p.set_xticklabels(p.get_xticklabels(), rotation=30) # avoid ugly text clipping"
   ]
  },
  {
   "cell_type": "markdown",
   "metadata": {},
   "source": [
    "Apparently, known drugs from DrugBank aren't perfect either. It has less failures in the Lipinski filter, but Ghose and Veber filters stats are even worse than with the MTOR ligand set. Where MTOR has more problems with molecular refractivity and mass, DrugBank content seems to have relatively more issues with greasiness, raw atom count, rotatable bonds and polar surface area.\n",
    "\n",
    "This demonstrates that the Lipinski and indeed all other similar filters should be used as they are intended: as rough outlines of druglike properties, not as an evangelium. They can help you identify the truly hopeless structures, but there is no need to thrash an otherwise promising molecule just because it violates one or two rules."
   ]
  },
  {
   "cell_type": "markdown",
   "metadata": {},
   "source": [
    "# What to do\n",
    " - Have a look at Lipinski and other filters, linked in the workflow\n",
    " - Implement the rules, either as done here, or by other methods of your preference. Please try not to just copypaste the solution, and make sure that you understand what is being done. I can't freeze frame the classroom projector here, so honor system only :)\n",
    " - Run the filters on your set, evaluate the results, compare with MTOR results, and with DrugBank\n",
    " - How many ligands in your set fail the filters, what is their ratio?\n",
    " - What rules are the most frequently failed ones? \n",
    " - How does the absolute numbers, as well as failure rate of individual rules compare to MTOR ligands and DrugBank?\n",
    " - Finally, to not just copypaste code, also look at lead-likeness filter, which is even more stringent than drug-likeness one (LogP 3 or less, molecular weight below 300 Da, max 3 HBA, max 3 HBD, and no more than 3 rotatable bonds). It is more strict so that there is some extra space for pharmaceutical lead to be further developed for specificity and/or potency by adding additional groups without the molecule getting too large and greasy. Implement this filter much like the Lipinski or Ghose one, and perform the corresponding visualizations. How many of your known ligands have lead-like properties that would make them good candidates for further drug development? How do the already developed drugs in DrugBank fare against your filter?"
   ]
  },
  {
   "cell_type": "code",
   "execution_count": 14,
   "metadata": {},
   "outputs": [],
   "source": [
    "h1_df = pd.read_csv('H1.csv', delimiter=';')\n",
    "h1_df = h1_df[h1_df['Smiles'].isna() == False]\n",
    "mols = list()\n",
    "\n",
    "# Get RDKit Mol instances\n",
    "for i in h1_df['Smiles']:\n",
    "    mols.append(Chem.MolFromSmiles(i))\n",
    "\n",
    "def too_many_hbd_universal(mol, rule = 'lipinski'):\n",
    "    if rule == 'lipinski':\n",
    "        return rdescriptors.CalcNumLipinskiHBD(mol) > 5\n",
    "    elif rule == 'lead-likeness':\n",
    "        return rdescriptors.CalcNumLipinskiHBD(mol) <= 3\n",
    "    else:\n",
    "        print('Invalid input: rule')\n",
    "        return 'NA'\n",
    "\n",
    "def too_many_hba_universal(mol, rule = 'lipinski'):\n",
    "    if rule == 'lipinski':\n",
    "        return rdescriptors.CalcNumLipinskiHBA(mol) > 10\n",
    "    elif rule == 'lead-likeness':\n",
    "        return rdescriptors.CalcNumLipinskiHBA(mol) <= 3\n",
    "    else:\n",
    "        print('Invalid input: rule')\n",
    "        return 'NA'\n",
    "\n",
    "def too_heavy_universal(mol, rule = 'lipinski'):\n",
    "    if rule == 'lipinski':\n",
    "        return rdescriptors.CalcExactMolWt(mol) > 500\n",
    "    elif rule == 'lead-likeness':\n",
    "        return rdescriptors.CalcExactMolWt(mol) < 300\n",
    "    else:\n",
    "        print('Invalid input: rule')\n",
    "        return 'NA'\n",
    "    \n",
    "\n",
    "def too_greasy_universal(mol, rule = 'lipinski'):\n",
    "    if rule == 'lipinski':\n",
    "        return Descriptors.MolLogP(mol) > 5\n",
    "    elif rule == 'lead-likeness':\n",
    "        return Descriptors.MolLogP(mol) <= 3\n",
    "    else:\n",
    "        print('Invalid input: rule')\n",
    "        return 'NA'\n",
    "    \n",
    "\n",
    "def too_rotatable_veber_universal(mol, rule = 'ghose'):\n",
    "    if rule == 'ghose':\n",
    "        return Chem.CalcNumRotatableBonds(mol) > 10\n",
    "    elif rule == 'lead-likeness':\n",
    "        return Chem.CalcNumRotatableBonds(mol) <= 3\n",
    "    else:\n",
    "        print('Invalid input: rule')\n",
    "        return 'NA'\n",
    "    "
   ]
  },
  {
   "cell_type": "code",
   "execution_count": 15,
   "metadata": {},
   "outputs": [],
   "source": [
    "def violates_lipinski_rules(mol):\n",
    "    total_violations = sum([too_many_hbd_universal(mol), too_many_hba_universal(mol), too_heavy_universal(mol), too_greasy_universal(mol)])\n",
    "    return total_violations > 1\n",
    "\n",
    "def violates_lead_likeness(mol):\n",
    "    total_violations = sum([too_many_hbd_universal(mol, 'lead-likeness'), too_many_hba_universal(mol, 'lead-likeness'), too_heavy_universal(mol, 'lead-likeness'), too_greasy_universal(mol, 'lead-likeness')])\n",
    "    return total_violations > 1"
   ]
  },
  {
   "cell_type": "code",
   "execution_count": 33,
   "metadata": {},
   "outputs": [
    {
     "name": "stdout",
     "output_type": "stream",
     "text": [
      "Lipinski violations:\n",
      "HBD: 62\n",
      "HBA: 113\n",
      "MW: 210\n",
      "Log P: 182\n",
      "\n",
      "Total ligands in the set: 1249\n"
     ]
    }
   ],
   "source": [
    "h1_ligands_too_many_hbd = [too_many_hbd_universal(l) for l in mols]\n",
    "h1_ligands_too_many_hba = [too_many_hba_universal(l) for l in mols]\n",
    "h1_ligands_too_heavy = [too_heavy_universal(l) for l in mols]\n",
    "h1_ligands_too_greasy = [too_greasy_universal(l) for l in mols]\n",
    "print('Lipinski violations:')\n",
    "print('HBD: ' + str(sum(h1_ligands_too_many_hbd)))\n",
    "print('HBA: ' + str(sum(h1_ligands_too_many_hba)))\n",
    "print('MW: ' + str(sum(h1_ligands_too_heavy)))\n",
    "print('Log P: '+ str(sum(h1_ligands_too_greasy)))\n",
    "print('\\nTotal ligands in the set: '+ str(len(mols)))"
   ]
  },
  {
   "cell_type": "markdown",
   "metadata": {},
   "source": [
    "It seems that there not many ligands that violate individual lipinski rules with high molecular weight being the most common one. "
   ]
  },
  {
   "cell_type": "code",
   "execution_count": 18,
   "metadata": {},
   "outputs": [
    {
     "data": {
      "text/html": [
       "<div>\n",
       "<style scoped>\n",
       "    .dataframe tbody tr th:only-of-type {\n",
       "        vertical-align: middle;\n",
       "    }\n",
       "\n",
       "    .dataframe tbody tr th {\n",
       "        vertical-align: top;\n",
       "    }\n",
       "\n",
       "    .dataframe thead th {\n",
       "        text-align: right;\n",
       "    }\n",
       "</style>\n",
       "<table border=\"1\" class=\"dataframe\">\n",
       "  <thead>\n",
       "    <tr style=\"text-align: right;\">\n",
       "      <th></th>\n",
       "      <th>set</th>\n",
       "      <th>too_many_hbd</th>\n",
       "      <th>too_many_hba</th>\n",
       "      <th>too_greasy</th>\n",
       "      <th>too_heavy</th>\n",
       "    </tr>\n",
       "  </thead>\n",
       "  <tbody>\n",
       "    <tr>\n",
       "      <th>0</th>\n",
       "      <td>h1</td>\n",
       "      <td>False</td>\n",
       "      <td>False</td>\n",
       "      <td>False</td>\n",
       "      <td>False</td>\n",
       "    </tr>\n",
       "    <tr>\n",
       "      <th>1</th>\n",
       "      <td>h1</td>\n",
       "      <td>True</td>\n",
       "      <td>True</td>\n",
       "      <td>False</td>\n",
       "      <td>True</td>\n",
       "    </tr>\n",
       "    <tr>\n",
       "      <th>2</th>\n",
       "      <td>h1</td>\n",
       "      <td>False</td>\n",
       "      <td>False</td>\n",
       "      <td>False</td>\n",
       "      <td>False</td>\n",
       "    </tr>\n",
       "    <tr>\n",
       "      <th>3</th>\n",
       "      <td>h1</td>\n",
       "      <td>False</td>\n",
       "      <td>False</td>\n",
       "      <td>False</td>\n",
       "      <td>False</td>\n",
       "    </tr>\n",
       "    <tr>\n",
       "      <th>4</th>\n",
       "      <td>h1</td>\n",
       "      <td>False</td>\n",
       "      <td>False</td>\n",
       "      <td>True</td>\n",
       "      <td>True</td>\n",
       "    </tr>\n",
       "  </tbody>\n",
       "</table>\n",
       "</div>"
      ],
      "text/plain": [
       "  set  too_many_hbd  too_many_hba  too_greasy  too_heavy\n",
       "0  h1         False         False       False      False\n",
       "1  h1          True          True       False       True\n",
       "2  h1         False         False       False      False\n",
       "3  h1         False         False       False      False\n",
       "4  h1         False         False        True       True"
      ]
     },
     "execution_count": 18,
     "metadata": {},
     "output_type": "execute_result"
    }
   ],
   "source": [
    "df_lipinski_violations = pd.DataFrame(data={'set':'h1',\n",
    "                        'too_many_hbd': h1_ligands_too_many_hbd,\n",
    "                        'too_many_hba': h1_ligands_too_many_hba,\n",
    "                        'too_greasy': h1_ligands_too_greasy,\n",
    "                        'too_heavy': h1_ligands_too_heavy})\n",
    "df_lipinski_violations.head()"
   ]
  },
  {
   "cell_type": "code",
   "execution_count": 36,
   "metadata": {},
   "outputs": [
    {
     "name": "stdout",
     "output_type": "stream",
     "text": [
      "Sum of ligands in H1 that violate at least one Lipinski's rule: 163\n",
      "Percentage of ligands in H1 that violate at least one Lipinski's rule: 0.13050440352281825\n"
     ]
    }
   ],
   "source": [
    "h1_fails_lipinski = [0] * len(mols)\n",
    "for i, m in enumerate(mols):\n",
    "    h1_fails_lipinski[i] = violates_lipinski_rules(m)\n",
    "df_lipinski_violations['fails_lipinski'] = h1_fails_lipinski\n",
    "\n",
    "print('Sum of ligands in H1 that violate at least one Lipinski\\'s rule: ' + str(sum(h1_fails_lipinski)))\n",
    "print('Percentage of ligands in H1 that violate at least one Lipinski\\'s rule: ' + str(sum(h1_fails_lipinski)/ len(mols)))"
   ]
  },
  {
   "cell_type": "markdown",
   "metadata": {},
   "source": [
    "Only 13% of the ligands violate at least one of the Lipinski's criterea. That's nice. :-) Let's see how it compares to mTOR and DrugBank dataset."
   ]
  },
  {
   "cell_type": "code",
   "execution_count": 42,
   "metadata": {},
   "outputs": [
    {
     "name": "stdout",
     "output_type": "stream",
     "text": [
      "mTOR: 0.1671018276762402\n",
      "DrugBank: 0.12948123154787008\n"
     ]
    }
   ],
   "source": [
    "print('mTOR: '+ str(sum(mtor_violates_lipinski)/ len(mtor_ligands)))\n",
    "print('DrugBank: '+ str(sum(df_drugbank['fails_lipinski'])/ df_drugbank.shape[0]))"
   ]
  },
  {
   "cell_type": "markdown",
   "metadata": {},
   "source": [
    "Turns out the percentage of ligands that pass Lipinski's rules is about the same as in DrugBank."
   ]
  },
  {
   "cell_type": "code",
   "execution_count": 21,
   "metadata": {},
   "outputs": [
    {
     "data": {
      "image/png": "[encoded data removed]",
      "text/plain": [
       "<Figure size 720x720 with 1 Axes>"
      ]
     },
     "metadata": {},
     "output_type": "display_data"
    }
   ],
   "source": [
    "with sns.axes_style(\"whitegrid\"):\n",
    "    p = sns.barplot(data=df_lipinski_violations, ci=None)\n",
    "    p.set_title(\"RO5 collision ratios in H1 ligand set\")\n",
    "    p.set_ylabel(\"Ratio of issues in set\")"
   ]
  },
  {
   "cell_type": "code",
   "execution_count": 25,
   "metadata": {},
   "outputs": [
    {
     "name": "stdout",
     "output_type": "stream",
     "text": [
      "Lead-likeness violations:\n",
      "HBD: 1089\n",
      "HBA: 430\n",
      "MW: 464\n",
      "Log P: 608\n",
      "\n",
      "Total ligands in the set: 1249\n"
     ]
    }
   ],
   "source": [
    "h1_lead_ligands_too_many_hbd = [too_many_hbd_universal(l, 'lead-likeness') for l in mols]\n",
    "h1_lead_ligands_too_many_hba = [too_many_hba_universal(l, 'lead-likeness') for l in mols]\n",
    "h1_lead_ligands_too_heavy = [too_heavy_universal(l, 'lead-likeness') for l in mols]\n",
    "h1_lead_ligands_too_greasy = [too_greasy_universal(l, 'lead-likeness') for l in mols]\n",
    "h1_lead_ligands_too_rotable = [too_rotatable_veber_universal(l, 'lead-likeness') for l in mols]\n",
    "\n",
    "print('Lead-likeness violations:')\n",
    "print('HBD: ' + str(sum(h1_lead_ligands_too_many_hbd)))\n",
    "print('HBA: ' + str(sum(h1_lead_ligands_too_many_hba)))\n",
    "print('MW: ' + str(sum(h1_lead_ligands_too_heavy)))\n",
    "print('Log P: '+ str(sum(h1_lead_ligands_too_greasy)))\n",
    "print('\\nTotal ligands in the set: '+ str(len(mols)))"
   ]
  },
  {
   "cell_type": "markdown",
   "metadata": {},
   "source": [
    "Looks like majority of the ligands violate HBD rule. :-("
   ]
  },
  {
   "cell_type": "code",
   "execution_count": 26,
   "metadata": {},
   "outputs": [
    {
     "data": {
      "text/html": [
       "<div>\n",
       "<style scoped>\n",
       "    .dataframe tbody tr th:only-of-type {\n",
       "        vertical-align: middle;\n",
       "    }\n",
       "\n",
       "    .dataframe tbody tr th {\n",
       "        vertical-align: top;\n",
       "    }\n",
       "\n",
       "    .dataframe thead th {\n",
       "        text-align: right;\n",
       "    }\n",
       "</style>\n",
       "<table border=\"1\" class=\"dataframe\">\n",
       "  <thead>\n",
       "    <tr style=\"text-align: right;\">\n",
       "      <th></th>\n",
       "      <th>set</th>\n",
       "      <th>too_many_hbd</th>\n",
       "      <th>too_many_hba</th>\n",
       "      <th>too_greasy</th>\n",
       "      <th>too_heavy</th>\n",
       "    </tr>\n",
       "  </thead>\n",
       "  <tbody>\n",
       "    <tr>\n",
       "      <th>0</th>\n",
       "      <td>h1</td>\n",
       "      <td>True</td>\n",
       "      <td>False</td>\n",
       "      <td>False</td>\n",
       "      <td>False</td>\n",
       "    </tr>\n",
       "    <tr>\n",
       "      <th>1</th>\n",
       "      <td>h1</td>\n",
       "      <td>False</td>\n",
       "      <td>False</td>\n",
       "      <td>True</td>\n",
       "      <td>False</td>\n",
       "    </tr>\n",
       "    <tr>\n",
       "      <th>2</th>\n",
       "      <td>h1</td>\n",
       "      <td>True</td>\n",
       "      <td>True</td>\n",
       "      <td>False</td>\n",
       "      <td>True</td>\n",
       "    </tr>\n",
       "    <tr>\n",
       "      <th>3</th>\n",
       "      <td>h1</td>\n",
       "      <td>True</td>\n",
       "      <td>False</td>\n",
       "      <td>True</td>\n",
       "      <td>False</td>\n",
       "    </tr>\n",
       "    <tr>\n",
       "      <th>4</th>\n",
       "      <td>h1</td>\n",
       "      <td>True</td>\n",
       "      <td>False</td>\n",
       "      <td>False</td>\n",
       "      <td>False</td>\n",
       "    </tr>\n",
       "  </tbody>\n",
       "</table>\n",
       "</div>"
      ],
      "text/plain": [
       "  set  too_many_hbd  too_many_hba  too_greasy  too_heavy\n",
       "0  h1          True         False       False      False\n",
       "1  h1         False         False        True      False\n",
       "2  h1          True          True       False       True\n",
       "3  h1          True         False        True      False\n",
       "4  h1          True         False       False      False"
      ]
     },
     "execution_count": 26,
     "metadata": {},
     "output_type": "execute_result"
    }
   ],
   "source": [
    "df_lead_violations = pd.DataFrame(data={'set':'h1',\n",
    "                        'too_many_hbd': h1_lead_ligands_too_many_hbd,\n",
    "                        'too_many_hba': h1_lead_ligands_too_many_hba,\n",
    "                        'too_greasy': h1_lead_ligands_too_greasy,\n",
    "                        'too_heavy': h1_lead_ligands_too_heavy})\n",
    "df_lead_violations.head()"
   ]
  },
  {
   "cell_type": "code",
   "execution_count": 46,
   "metadata": {},
   "outputs": [
    {
     "name": "stdout",
     "output_type": "stream",
     "text": [
      "Sum of ligands in H1 that violate at least one lead-likeness rule: 832\n",
      "Percentage of ligands in H1 that violate at least one lead-likeness rule: 0.6661329063250601\n"
     ]
    }
   ],
   "source": [
    "h1_fails_lead = [0] * len(mols)\n",
    "for i, m in enumerate(mols):\n",
    "    h1_fails_lead[i] = violates_lead_likeness(m)\n",
    "df_lead_violations['fails_lead_likeness'] = h1_fails_lead\n",
    "\n",
    "print('Sum of ligands in H1 that violate at least one lead-likeness rule: ' + str(sum(h1_fails_lead)))\n",
    "print('Percentage of ligands in H1 that violate at least one lead-likeness rule: ' + str(sum(h1_fails_lead)/ len(mols)))"
   ]
  },
  {
   "cell_type": "markdown",
   "metadata": {},
   "source": [
    "Wow, over 66% violate at least one lead-likeness rule. :-O"
   ]
  },
  {
   "cell_type": "code",
   "execution_count": 45,
   "metadata": {},
   "outputs": [
    {
     "data": {
      "image/png": "[encoded data removed]",
      "text/plain": [
       "<Figure size 720x720 with 1 Axes>"
      ]
     },
     "metadata": {},
     "output_type": "display_data"
    }
   ],
   "source": [
    "sns.set(rc={'figure.figsize':(10, 10)})\n",
    "with sns.axes_style(\"whitegrid\"):\n",
    "    p = sns.barplot(data=df_lead_violations, ci=None)\n",
    "    p.set_title(\"Lead-likeness violations in H1 ligand set\")\n",
    "    p.set_ylabel(\"Ratio of issues in set\")"
   ]
  },
  {
   "cell_type": "markdown",
   "metadata": {},
   "source": [
    "Since hydroxychloroquine recently gained popularity (and apparently also binds to H1 histamine receptor), I'll take a look at how it passes lead-likeness rules. "
   ]
  },
  {
   "cell_type": "code",
   "execution_count": 60,
   "metadata": {},
   "outputs": [
    {
     "data": {
      "text/plain": [
       "[153]"
      ]
     },
     "execution_count": 60,
     "metadata": {},
     "output_type": "execute_result"
    }
   ],
   "source": [
    "h1_df[h1_df['Molecule Name'] == 'HYDROXYCHLOROQUINE'].index.tolist()"
   ]
  },
  {
   "cell_type": "code",
   "execution_count": 61,
   "metadata": {},
   "outputs": [
    {
     "data": {
      "text/plain": [
       "set                       h1\n",
       "too_many_hbd            True\n",
       "too_many_hba           False\n",
       "too_greasy              True\n",
       "too_heavy              False\n",
       "fails_lead_likeness     True\n",
       "Name: 153, dtype: object"
      ]
     },
     "execution_count": 61,
     "metadata": {},
     "output_type": "execute_result"
    }
   ],
   "source": [
    "df_lead_violations.iloc[153]"
   ]
  }
 ],
 "metadata": {
  "kernelspec": {
   "display_name": "Python 3",
   "language": "python",
   "name": "python3"
  },
  "language_info": {
   "codemirror_mode": {
    "name": "ipython",
    "version": 3
   },
   "file_extension": ".py",
   "mimetype": "text/x-python",
   "name": "python",
   "nbconvert_exporter": "python",
   "pygments_lexer": "ipython3",
   "version": "3.7.10"
  }
 },
 "nbformat": 4,
 "nbformat_minor": 4
}
