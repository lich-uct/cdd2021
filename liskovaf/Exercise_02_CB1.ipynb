{
 "cells": [
  {
   "cell_type": "markdown",
   "id": "technical-indication",
   "metadata": {},
   "source": [
    "# Ligands of cannabinoid CB1 receptor"
   ]
  },
  {
   "cell_type": "code",
   "execution_count": 102,
   "id": "assisted-wales",
   "metadata": {},
   "outputs": [],
   "source": [
    "from rdkit import Chem\n",
    "from rdkit.Chem.Draw import IPythonConsole\n",
    "import pandas as pd"
   ]
  },
  {
   "cell_type": "code",
   "execution_count": 103,
   "id": "nutritional-birmingham",
   "metadata": {},
   "outputs": [],
   "source": [
    "#Load data\n",
    "df_can = pd.read_csv('cannabinoid.csv', delimiter=';')"
   ]
  },
  {
   "cell_type": "code",
   "execution_count": 104,
   "id": "floating-luxury",
   "metadata": {},
   "outputs": [
    {
     "data": {
      "text/html": [
       "<div>\n",
       "<style scoped>\n",
       "    .dataframe tbody tr th:only-of-type {\n",
       "        vertical-align: middle;\n",
       "    }\n",
       "\n",
       "    .dataframe tbody tr th {\n",
       "        vertical-align: top;\n",
       "    }\n",
       "\n",
       "    .dataframe thead th {\n",
       "        text-align: right;\n",
       "    }\n",
       "</style>\n",
       "<table border=\"1\" class=\"dataframe\">\n",
       "  <thead>\n",
       "    <tr style=\"text-align: right;\">\n",
       "      <th></th>\n",
       "      <th>Molecule ChEMBL ID</th>\n",
       "      <th>Molecule Name</th>\n",
       "      <th>Molecule Max Phase</th>\n",
       "      <th>Molecular Weight</th>\n",
       "      <th>#RO5 Violations</th>\n",
       "      <th>AlogP</th>\n",
       "      <th>Compound Key</th>\n",
       "      <th>Smiles</th>\n",
       "      <th>Standard Type</th>\n",
       "      <th>Standard Relation</th>\n",
       "      <th>...</th>\n",
       "      <th>Target Name</th>\n",
       "      <th>Target Organism</th>\n",
       "      <th>Target Type</th>\n",
       "      <th>Document ChEMBL ID</th>\n",
       "      <th>Source ID</th>\n",
       "      <th>Source Description</th>\n",
       "      <th>Document Journal</th>\n",
       "      <th>Document Year</th>\n",
       "      <th>Cell ChEMBL ID</th>\n",
       "      <th>Properties</th>\n",
       "    </tr>\n",
       "  </thead>\n",
       "  <tbody>\n",
       "    <tr>\n",
       "      <th>0</th>\n",
       "      <td>CHEMBL3401614</td>\n",
       "      <td>NaN</td>\n",
       "      <td>0</td>\n",
       "      <td>381.50</td>\n",
       "      <td>0</td>\n",
       "      <td>4.69</td>\n",
       "      <td>42</td>\n",
       "      <td>CCc1c(C(=O)NCCc2ccc(N(CC)CC)cc2)[nH]c2ccc(F)cc12</td>\n",
       "      <td>IC50</td>\n",
       "      <td>'='</td>\n",
       "      <td>...</td>\n",
       "      <td>Cannabinoid CB1 receptor</td>\n",
       "      <td>Homo sapiens</td>\n",
       "      <td>SINGLE PROTEIN</td>\n",
       "      <td>CHEMBL3399946</td>\n",
       "      <td>1</td>\n",
       "      <td>Scientific Literature</td>\n",
       "      <td>Bioorg. Med. Chem.</td>\n",
       "      <td>2015.0</td>\n",
       "      <td>None</td>\n",
       "      <td>NaN</td>\n",
       "    </tr>\n",
       "    <tr>\n",
       "      <th>1</th>\n",
       "      <td>CHEMBL394055</td>\n",
       "      <td>NaN</td>\n",
       "      <td>0</td>\n",
       "      <td>585.46</td>\n",
       "      <td>2</td>\n",
       "      <td>6.38</td>\n",
       "      <td>5i</td>\n",
       "      <td>N#Cc1cc(-c2ccc(Cl)cc2)c(-c2ccccc2Cl)nc1N1CCN(S...</td>\n",
       "      <td>IC50</td>\n",
       "      <td>'='</td>\n",
       "      <td>...</td>\n",
       "      <td>Cannabinoid CB1 receptor</td>\n",
       "      <td>Homo sapiens</td>\n",
       "      <td>SINGLE PROTEIN</td>\n",
       "      <td>CHEMBL1139131</td>\n",
       "      <td>1</td>\n",
       "      <td>Scientific Literature</td>\n",
       "      <td>Bioorg. Med. Chem. Lett.</td>\n",
       "      <td>2007.0</td>\n",
       "      <td>None</td>\n",
       "      <td>NaN</td>\n",
       "    </tr>\n",
       "    <tr>\n",
       "      <th>2</th>\n",
       "      <td>CHEMBL395422</td>\n",
       "      <td>NaN</td>\n",
       "      <td>0</td>\n",
       "      <td>373.48</td>\n",
       "      <td>0</td>\n",
       "      <td>3.13</td>\n",
       "      <td>14</td>\n",
       "      <td>Cc1ccc(NC(=O)c2ccc(C)c(S(=O)(=O)N3CCCCC3)c2)nc1</td>\n",
       "      <td>IC50</td>\n",
       "      <td>'='</td>\n",
       "      <td>...</td>\n",
       "      <td>Cannabinoid CB1 receptor</td>\n",
       "      <td>Homo sapiens</td>\n",
       "      <td>SINGLE PROTEIN</td>\n",
       "      <td>CHEMBL1138374</td>\n",
       "      <td>1</td>\n",
       "      <td>Scientific Literature</td>\n",
       "      <td>Bioorg. Med. Chem. Lett.</td>\n",
       "      <td>2007.0</td>\n",
       "      <td>None</td>\n",
       "      <td>NaN</td>\n",
       "    </tr>\n",
       "    <tr>\n",
       "      <th>3</th>\n",
       "      <td>CHEMBL1481494</td>\n",
       "      <td>NaN</td>\n",
       "      <td>0</td>\n",
       "      <td>528.59</td>\n",
       "      <td>2</td>\n",
       "      <td>5.57</td>\n",
       "      <td>SID99303186</td>\n",
       "      <td>COc1ccc(-c2cc(C(=O)Nc3ccc(S(=O)(=O)Nc4onc(C)c4...</td>\n",
       "      <td>IC50</td>\n",
       "      <td>'='</td>\n",
       "      <td>...</td>\n",
       "      <td>Cannabinoid CB1 receptor</td>\n",
       "      <td>Homo sapiens</td>\n",
       "      <td>SINGLE PROTEIN</td>\n",
       "      <td>CHEMBL1201862</td>\n",
       "      <td>7</td>\n",
       "      <td>PubChem BioAssays</td>\n",
       "      <td>NaN</td>\n",
       "      <td>NaN</td>\n",
       "      <td>None</td>\n",
       "      <td>NaN</td>\n",
       "    </tr>\n",
       "    <tr>\n",
       "      <th>4</th>\n",
       "      <td>CHEMBL1553629</td>\n",
       "      <td>NaN</td>\n",
       "      <td>0</td>\n",
       "      <td>409.96</td>\n",
       "      <td>1</td>\n",
       "      <td>5.35</td>\n",
       "      <td>1; Org27569</td>\n",
       "      <td>CCc1c(C(=O)NCCc2ccc(N3CCCCC3)cc2)[nH]c2ccc(Cl)...</td>\n",
       "      <td>IC50</td>\n",
       "      <td>'='</td>\n",
       "      <td>...</td>\n",
       "      <td>Cannabinoid CB1 receptor</td>\n",
       "      <td>Homo sapiens</td>\n",
       "      <td>SINGLE PROTEIN</td>\n",
       "      <td>CHEMBL4414612</td>\n",
       "      <td>1</td>\n",
       "      <td>Scientific Literature</td>\n",
       "      <td>J Med Chem</td>\n",
       "      <td>2019.0</td>\n",
       "      <td>None</td>\n",
       "      <td>NaN</td>\n",
       "    </tr>\n",
       "  </tbody>\n",
       "</table>\n",
       "<p>5 rows × 45 columns</p>\n",
       "</div>"
      ],
      "text/plain": [
       "  Molecule ChEMBL ID Molecule Name  Molecule Max Phase Molecular Weight  \\\n",
       "0      CHEMBL3401614           NaN                   0           381.50   \n",
       "1       CHEMBL394055           NaN                   0           585.46   \n",
       "2       CHEMBL395422           NaN                   0           373.48   \n",
       "3      CHEMBL1481494           NaN                   0           528.59   \n",
       "4      CHEMBL1553629           NaN                   0           409.96   \n",
       "\n",
       "  #RO5 Violations AlogP Compound Key  \\\n",
       "0               0  4.69           42   \n",
       "1               2  6.38           5i   \n",
       "2               0  3.13           14   \n",
       "3               2  5.57  SID99303186   \n",
       "4               1  5.35  1; Org27569   \n",
       "\n",
       "                                              Smiles Standard Type  \\\n",
       "0   CCc1c(C(=O)NCCc2ccc(N(CC)CC)cc2)[nH]c2ccc(F)cc12          IC50   \n",
       "1  N#Cc1cc(-c2ccc(Cl)cc2)c(-c2ccccc2Cl)nc1N1CCN(S...          IC50   \n",
       "2    Cc1ccc(NC(=O)c2ccc(C)c(S(=O)(=O)N3CCCCC3)c2)nc1          IC50   \n",
       "3  COc1ccc(-c2cc(C(=O)Nc3ccc(S(=O)(=O)Nc4onc(C)c4...          IC50   \n",
       "4  CCc1c(C(=O)NCCc2ccc(N3CCCCC3)cc2)[nH]c2ccc(Cl)...          IC50   \n",
       "\n",
       "  Standard Relation  ...               Target Name Target Organism  \\\n",
       "0               '='  ...  Cannabinoid CB1 receptor    Homo sapiens   \n",
       "1               '='  ...  Cannabinoid CB1 receptor    Homo sapiens   \n",
       "2               '='  ...  Cannabinoid CB1 receptor    Homo sapiens   \n",
       "3               '='  ...  Cannabinoid CB1 receptor    Homo sapiens   \n",
       "4               '='  ...  Cannabinoid CB1 receptor    Homo sapiens   \n",
       "\n",
       "      Target Type Document ChEMBL ID Source ID     Source Description  \\\n",
       "0  SINGLE PROTEIN      CHEMBL3399946         1  Scientific Literature   \n",
       "1  SINGLE PROTEIN      CHEMBL1139131         1  Scientific Literature   \n",
       "2  SINGLE PROTEIN      CHEMBL1138374         1  Scientific Literature   \n",
       "3  SINGLE PROTEIN      CHEMBL1201862         7      PubChem BioAssays   \n",
       "4  SINGLE PROTEIN      CHEMBL4414612         1  Scientific Literature   \n",
       "\n",
       "           Document Journal  Document Year  Cell ChEMBL ID  Properties  \n",
       "0        Bioorg. Med. Chem.         2015.0            None         NaN  \n",
       "1  Bioorg. Med. Chem. Lett.         2007.0            None         NaN  \n",
       "2  Bioorg. Med. Chem. Lett.         2007.0            None         NaN  \n",
       "3                       NaN            NaN            None         NaN  \n",
       "4                J Med Chem         2019.0            None         NaN  \n",
       "\n",
       "[5 rows x 45 columns]"
      ]
     },
     "execution_count": 104,
     "metadata": {},
     "output_type": "execute_result"
    }
   ],
   "source": [
    "df_can.head()"
   ]
  },
  {
   "cell_type": "code",
   "execution_count": 105,
   "id": "matched-ridge",
   "metadata": {},
   "outputs": [
    {
     "data": {
      "text/plain": [
       "Molecule ChEMBL ID               0\n",
       "Molecule Name                 2073\n",
       "Molecule Max Phase               0\n",
       "Molecular Weight                 0\n",
       "#RO5 Violations                  0\n",
       "AlogP                            0\n",
       "Compound Key                     0\n",
       "Smiles                          32\n",
       "Standard Type                    0\n",
       "Standard Relation              929\n",
       "Standard Value                 929\n",
       "Standard Units                 929\n",
       "pChEMBL Value                 1330\n",
       "Data Validity Comment         3027\n",
       "Comment                       1863\n",
       "Uo Units                       929\n",
       "Ligand Efficiency BEI         1850\n",
       "Ligand Efficiency LE          1850\n",
       "Ligand Efficiency LLE         1850\n",
       "Ligand Efficiency SEI         1850\n",
       "Potential Duplicate              0\n",
       "Assay ChEMBL ID                  0\n",
       "Assay Description                0\n",
       "Assay Type                       0\n",
       "BAO Format ID                    0\n",
       "BAO Label                        0\n",
       "Assay Organism                   0\n",
       "Assay Tissue ChEMBL ID           0\n",
       "Assay Tissue Name                0\n",
       "Assay Cell Type                  0\n",
       "Assay Subcellular Fraction       0\n",
       "Assay Parameters              3028\n",
       "Assay Variant Accession       3020\n",
       "Assay Variant Mutation        3020\n",
       "Target ChEMBL ID                 0\n",
       "Target Name                      0\n",
       "Target Organism                  0\n",
       "Target Type                      0\n",
       "Document ChEMBL ID               0\n",
       "Source ID                        0\n",
       "Source Description               0\n",
       "Document Journal              1110\n",
       "Document Year                 1039\n",
       "Cell ChEMBL ID                   0\n",
       "Properties                    3030\n",
       "dtype: int64"
      ]
     },
     "execution_count": 105,
     "metadata": {},
     "output_type": "execute_result"
    }
   ],
   "source": [
    "#Check null values\n",
    "df_can.isnull().sum()"
   ]
  },
  {
   "cell_type": "code",
   "execution_count": 106,
   "id": "psychological-subsection",
   "metadata": {},
   "outputs": [
    {
     "data": {
      "text/plain": [
       "32"
      ]
     },
     "execution_count": 106,
     "metadata": {},
     "output_type": "execute_result"
    }
   ],
   "source": [
    "df_can['Smiles'].isnull().sum()"
   ]
  },
  {
   "cell_type": "code",
   "execution_count": 107,
   "id": "identified-somalia",
   "metadata": {},
   "outputs": [],
   "source": [
    "#Get rid of Smiles' null values\n",
    "df1 = df_can.dropna(subset=['Smiles'])"
   ]
  },
  {
   "cell_type": "code",
   "execution_count": 108,
   "id": "brilliant-circle",
   "metadata": {},
   "outputs": [
    {
     "data": {
      "text/plain": [
       "0"
      ]
     },
     "execution_count": 108,
     "metadata": {},
     "output_type": "execute_result"
    }
   ],
   "source": [
    "df1['Smiles'].isnull().sum()"
   ]
  },
  {
   "cell_type": "code",
   "execution_count": 109,
   "id": "crude-threshold",
   "metadata": {},
   "outputs": [],
   "source": [
    "#List of molecules isntances\n",
    "ligandm_database = []\n",
    "for ligand in df1[\"Smiles\"]:\n",
    "\t\tligandm_database.append(Chem.MolFromSmiles(ligand))\n",
    "    "
   ]
  },
  {
   "cell_type": "code",
   "execution_count": 110,
   "id": "cardiac-picture",
   "metadata": {},
   "outputs": [
    {
     "data": {
      "text/plain": [
       "2998"
      ]
     },
     "execution_count": 110,
     "metadata": {},
     "output_type": "execute_result"
    }
   ],
   "source": [
    "len(ligandm_database)"
   ]
  },
  {
   "cell_type": "code",
   "execution_count": 111,
   "id": "according-penny",
   "metadata": {},
   "outputs": [],
   "source": [
    "#List of molecules ID\n",
    "ligandi_database = []\n",
    "for ligand in df1[\"Molecule ChEMBL ID\"]:\n",
    "\t\tligandi_database.append(ligand)"
   ]
  },
  {
   "cell_type": "code",
   "execution_count": 112,
   "id": "right-andrews",
   "metadata": {},
   "outputs": [
    {
     "data": {
      "text/plain": [
       "2998"
      ]
     },
     "execution_count": 112,
     "metadata": {},
     "output_type": "execute_result"
    }
   ],
   "source": [
    "len(ligandi_database)"
   ]
  },
  {
   "cell_type": "code",
   "execution_count": 113,
   "id": "fancy-karma",
   "metadata": {},
   "outputs": [
    {
     "data": {
      "text/plain": [
       "1"
      ]
     },
     "execution_count": 113,
     "metadata": {},
     "output_type": "execute_result"
    }
   ],
   "source": [
    "#List of number of rings\n",
    "ligand_rings = [Chem.GetSSSR(ligand) for ligand in ligandm_database]\n",
    "ligand_rings[12]"
   ]
  },
  {
   "cell_type": "code",
   "execution_count": 114,
   "id": "crazy-midwest",
   "metadata": {},
   "outputs": [
    {
     "data": {
      "image/png": "[encoded data removed]",
      "text/plain": [
       "<rdkit.Chem.rdchem.Mol at 0x1fd568dfbc0>"
      ]
     },
     "execution_count": 114,
     "metadata": {},
     "output_type": "execute_result"
    }
   ],
   "source": [
    "#Check if the number of rings match\n",
    "ligandm_database[12]\n"
   ]
  },
  {
   "cell_type": "code",
   "execution_count": 115,
   "id": "about-warren",
   "metadata": {},
   "outputs": [
    {
     "data": {
      "text/plain": [
       "3.567378252168112"
      ]
     },
     "execution_count": 115,
     "metadata": {},
     "output_type": "execute_result"
    }
   ],
   "source": [
    "#Average number of rings\n",
    "sum(ligand_rings)/len(ligandm_database)"
   ]
  }
 ],
 "metadata": {
  "kernelspec": {
   "display_name": "Python 3",
   "language": "python",
   "name": "python3"
  },
  "language_info": {
   "codemirror_mode": {
    "name": "ipython",
    "version": 3
   },
   "file_extension": ".py",
   "mimetype": "text/x-python",
   "name": "python",
   "nbconvert_exporter": "python",
   "pygments_lexer": "ipython3",
   "version": "3.7.10"
  }
 },
 "nbformat": 4,
 "nbformat_minor": 5
}
