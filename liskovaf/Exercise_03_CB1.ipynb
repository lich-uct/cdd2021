{
 "cells": [
  {
   "cell_type": "markdown",
   "id": "formed-glasgow",
   "metadata": {},
   "source": [
    "# Basic Descriptors - CB1 ligands"
   ]
  },
  {
   "cell_type": "code",
   "execution_count": 1,
   "id": "wanted-trial",
   "metadata": {},
   "outputs": [
    {
     "name": "stderr",
     "output_type": "stream",
     "text": [
      "RDKit WARNING: [10:08:06] Enabling RDKit 2019.09.3 jupyter extensions\n"
     ]
    }
   ],
   "source": [
    "from rdkit.Chem import AllChem as Chem\n",
    "from rdkit.Chem import Descriptors\n",
    "from rdkit.Chem.Draw import IPythonConsole\n",
    "import pandas as pd\n",
    "import seaborn as sns\n",
    "%matplotlib inline\n",
    "import matplotlib.pyplot as plt\n"
   ]
  },
  {
   "cell_type": "code",
   "execution_count": 2,
   "id": "patent-duplicate",
   "metadata": {},
   "outputs": [],
   "source": [
    "#Load data\n",
    "df_can = pd.read_csv('cannabinoid.csv', delimiter=';')"
   ]
  },
  {
   "cell_type": "code",
   "execution_count": 3,
   "id": "automated-military",
   "metadata": {},
   "outputs": [],
   "source": [
    "#Clean data\n",
    "df1 = df_can.dropna(subset=['Smiles'])"
   ]
  },
  {
   "cell_type": "code",
   "execution_count": 4,
   "id": "abroad-trainer",
   "metadata": {},
   "outputs": [],
   "source": [
    "#List of molecules isntances\n",
    "ligandm_database = []\n",
    "for ligand in df1[\"Smiles\"]:\n",
    "\t\tligandm_database.append(Chem.MolFromSmiles(ligand))"
   ]
  },
  {
   "cell_type": "code",
   "execution_count": 5,
   "id": "infectious-treasure",
   "metadata": {},
   "outputs": [
    {
     "data": {
      "image/png": "[encoded data removed]",
      "text/plain": [
       "<rdkit.Chem.rdchem.Mol at 0x20bfae6fd50>"
      ]
     },
     "execution_count": 5,
     "metadata": {},
     "output_type": "execute_result"
    }
   ],
   "source": [
    "#Molecule\n",
    "ligandm_database[12]"
   ]
  },
  {
   "cell_type": "code",
   "execution_count": 6,
   "id": "color-vocabulary",
   "metadata": {},
   "outputs": [
    {
     "data": {
      "text/plain": [
       "1"
      ]
     },
     "execution_count": 6,
     "metadata": {},
     "output_type": "execute_result"
    }
   ],
   "source": [
    "# Number of rings:\n",
    "Chem.GetSSSR(ligandm_database[12])"
   ]
  },
  {
   "cell_type": "code",
   "execution_count": 7,
   "id": "political-language",
   "metadata": {},
   "outputs": [
    {
     "data": {
      "text/plain": [
       "4"
      ]
     },
     "execution_count": 7,
     "metadata": {},
     "output_type": "execute_result"
    }
   ],
   "source": [
    "# Number of rotatable bonds:\n",
    "Chem.CalcNumRotatableBonds(ligandm_database[12])"
   ]
  },
  {
   "cell_type": "code",
   "execution_count": 8,
   "id": "engaged-petroleum",
   "metadata": {},
   "outputs": [
    {
     "data": {
      "text/plain": [
       "15"
      ]
     },
     "execution_count": 8,
     "metadata": {},
     "output_type": "execute_result"
    }
   ],
   "source": [
    "# Number of all heavy/non-hydrogen atoms\n",
    "ligandm_database[12].GetNumHeavyAtoms()"
   ]
  },
  {
   "cell_type": "code",
   "execution_count": 9,
   "id": "hawaiian-disease",
   "metadata": {},
   "outputs": [
    {
     "data": {
      "text/plain": [
       "(4, 4)"
      ]
     },
     "execution_count": 9,
     "metadata": {},
     "output_type": "execute_result"
    }
   ],
   "source": [
    "# number of hydrogen bond acceptors / donors\n",
    "from rdkit.Chem import rdMolDescriptors as rdescriptors\n",
    "rdescriptors.CalcNumLipinskiHBA(ligandm_database[12]), rdescriptors.CalcNumLipinskiHBD(ligandm_database[12])"
   ]
  },
  {
   "cell_type": "code",
   "execution_count": 10,
   "id": "listed-botswana",
   "metadata": {},
   "outputs": [
    {
     "data": {
      "text/plain": [
       "211.120843404"
      ]
     },
     "execution_count": 10,
     "metadata": {},
     "output_type": "execute_result"
    }
   ],
   "source": [
    "# molecular weight\n",
    "rdescriptors.CalcExactMolWt(ligandm_database[12])"
   ]
  },
  {
   "cell_type": "code",
   "execution_count": 11,
   "id": "invalid-stereo",
   "metadata": {},
   "outputs": [
    {
     "data": {
      "text/plain": [
       "72.72"
      ]
     },
     "execution_count": 11,
     "metadata": {},
     "output_type": "execute_result"
    }
   ],
   "source": [
    "# topological polar surface area\n",
    "rdescriptors.CalcTPSA(ligandm_database[12])"
   ]
  },
  {
   "cell_type": "code",
   "execution_count": 12,
   "id": "excess-athens",
   "metadata": {},
   "outputs": [
    {
     "data": {
      "text/plain": [
       "1.1291999999999998"
      ]
     },
     "execution_count": 12,
     "metadata": {},
     "output_type": "execute_result"
    }
   ],
   "source": [
    "# octanol-water partition coefficient\n",
    "Descriptors.MolLogP(ligandm_database[12])"
   ]
  },
  {
   "cell_type": "code",
   "execution_count": 13,
   "id": "swiss-python",
   "metadata": {},
   "outputs": [],
   "source": [
    "#List of molecule rings\n",
    "ligandm_rings = []\n",
    "for x in ligandm_database:\n",
    "\t\tligandm_rings.append(Chem.GetSSSR(x))\n",
    "#List of rotable bonds\n",
    "ligandm_rot = []\n",
    "for x in ligandm_database:\n",
    "\t\tligandm_rot.append(Chem.CalcNumRotatableBonds(x))\n",
    "#List of  number of heavy atoms\n",
    "ligandm_ha = []\n",
    "for x in ligandm_database:\n",
    "\t\tligandm_ha.append(x.GetNumHeavyAtoms())\n",
    "\n",
    "#List of  number of number of hydrogen bond acceptors\n",
    "ligandm_hba = []\n",
    "for x in ligandm_database:\n",
    "\t\tligandm_hba.append(rdescriptors.CalcNumLipinskiHBA(x))\n",
    "        \n",
    "# List of number of hydrogen bond donors   \n",
    "ligandm_hbd = []\n",
    "for x in ligandm_database:\n",
    "\t\tligandm_hbd.append(rdescriptors.CalcNumLipinskiHBD(x))\n",
    "\n",
    "# List of molecular weight\n",
    "ligandm_mw = []\n",
    "for x in ligandm_database:\n",
    "\t\tligandm_mw.append(rdescriptors.CalcExactMolWt(x))\n",
    "\n",
    "# List of molecular topological polar surface area\n",
    "ligandm_tpsa = []\n",
    "for x in ligandm_database:\n",
    "\t\tligandm_tpsa.append(rdescriptors.CalcTPSA(x))\n",
    "        \n",
    "# List of molecular octanol-water partition coefficient\n",
    "ligandm_ow = []\n",
    "for x in ligandm_database:\n",
    "\t\tligandm_ow.append(Descriptors.MolLogP(x))\n",
    "\n"
   ]
  },
  {
   "cell_type": "code",
   "execution_count": 14,
   "id": "sustained-offset",
   "metadata": {},
   "outputs": [
    {
     "name": "stdout",
     "output_type": "stream",
     "text": [
      "    rings  rotatable  atoms  hba  hbd       molwt   tpsa    logp\n",
      "12      1          4     15    4    4  211.120843  72.72  1.1292\n"
     ]
    }
   ],
   "source": [
    "#CB1 ligands dataframe\n",
    "df = pd.DataFrame(data={'rings': ligandm_rings,\n",
    "                        'rotatable': ligandm_rot, 'atoms': ligandm_ha,\n",
    "                        'hba': ligandm_hba, 'hbd': ligandm_hbd, 'molwt': ligandm_mw,\n",
    "                        'tpsa': ligandm_tpsa, 'logp': ligandm_ow})\n",
    "print(df.loc[[12]])"
   ]
  },
  {
   "cell_type": "code",
   "execution_count": 15,
   "id": "cleared-royal",
   "metadata": {},
   "outputs": [
    {
     "data": {
      "text/plain": [
       "<AxesSubplot:>"
      ]
     },
     "execution_count": 15,
     "metadata": {},
     "output_type": "execute_result"
    },
    {
     "data": {
      "image/png": "[encoded data removed]",
      "text/plain": [
       "<Figure size 842.4x842.4 with 1 Axes>"
      ]
     },
     "metadata": {},
     "output_type": "display_data"
    }
   ],
   "source": [
    "#Boxplot CB1 ligands without molecular weight and topological polar surface area\n",
    "sns.set(rc={'figure.figsize':(11.7, 11.7)})\n",
    "sns.boxplot(data=df[['rings', 'rotatable', 'atoms', 'hba', 'hbd', 'logp']],\n",
    "            palette = \"Set3\", \n",
    "            showfliers=False)"
   ]
  },
  {
   "cell_type": "code",
   "execution_count": 16,
   "id": "desperate-danger",
   "metadata": {},
   "outputs": [
    {
     "data": {
      "text/plain": [
       "<AxesSubplot:>"
      ]
     },
     "execution_count": 16,
     "metadata": {},
     "output_type": "execute_result"
    },
    {
     "data": {
      "image/png": "[encoded data removed]",
      "text/plain": [
       "<Figure size 842.4x842.4 with 1 Axes>"
      ]
     },
     "metadata": {},
     "output_type": "display_data"
    }
   ],
   "source": [
    "#Boxplot CB1 ligands\n",
    "sns.set(rc={'figure.figsize':(11.7, 11.7)})\n",
    "sns.boxplot(data=df[['molwt', 'tpsa']], \n",
    "            palette = \"Set3\", \n",
    "            showfliers = False)"
   ]
  },
  {
   "cell_type": "code",
   "execution_count": 17,
   "id": "minus-stock",
   "metadata": {},
   "outputs": [
    {
     "data": {
      "text/plain": [
       "7113"
      ]
     },
     "execution_count": 17,
     "metadata": {},
     "output_type": "execute_result"
    }
   ],
   "source": [
    "#Load drugbank data\n",
    "suppl = Chem.SDMolSupplier('../data/drugbank.sdf')\n",
    "drugs = [m for m in suppl if m]\n",
    "len(drugs)"
   ]
  },
  {
   "cell_type": "code",
   "execution_count": 18,
   "id": "material-ballet",
   "metadata": {},
   "outputs": [],
   "source": [
    "#List of molecule rings\n",
    "db_rings = []\n",
    "for x in drugs:\n",
    "\t\tdb_rings.append(Chem.GetSSSR(x))\n",
    "#List of rotable bonds\n",
    "db_rot = []\n",
    "for x in drugs:\n",
    "\t\tdb_rot.append(Chem.CalcNumRotatableBonds(x))\n",
    "#List of  number of heavy atoms\n",
    "db_ha = []\n",
    "for x in drugs:\n",
    "\t\tdb_ha.append(x.GetNumHeavyAtoms())\n",
    "\n",
    "#List of  number of number of hydrogen bond acceptors\n",
    "db_hba = []\n",
    "for x in drugs:\n",
    "\t\tdb_hba.append(rdescriptors.CalcNumLipinskiHBA(x))\n",
    "        \n",
    "# List of number of hydrogen bond donors   \n",
    "db_hbd = []\n",
    "for x in drugs:\n",
    "\t\tdb_hbd.append(rdescriptors.CalcNumLipinskiHBD(x))\n",
    "\n",
    "# List of molecular weight\n",
    "db_mw = []\n",
    "for x in drugs:\n",
    "\t\tdb_mw.append(rdescriptors.CalcExactMolWt(x))\n",
    "\n",
    "# List of molecular topological polar surface area\n",
    "db_tpsa = []\n",
    "for x in drugs:\n",
    "\t\tdb_tpsa.append(rdescriptors.CalcTPSA(x))\n",
    "        \n",
    "# List of molecular octanol-water partition coefficient\n",
    "db_ow = []\n",
    "for x in drugs:\n",
    "\t\tdb_ow.append(Descriptors.MolLogP(x))"
   ]
  },
  {
   "cell_type": "code",
   "execution_count": 19,
   "id": "acoustic-hawaii",
   "metadata": {},
   "outputs": [
    {
     "data": {
      "text/html": [
       "<div>\n",
       "<style scoped>\n",
       "    .dataframe tbody tr th:only-of-type {\n",
       "        vertical-align: middle;\n",
       "    }\n",
       "\n",
       "    .dataframe tbody tr th {\n",
       "        vertical-align: top;\n",
       "    }\n",
       "\n",
       "    .dataframe thead th {\n",
       "        text-align: right;\n",
       "    }\n",
       "</style>\n",
       "<table border=\"1\" class=\"dataframe\">\n",
       "  <thead>\n",
       "    <tr style=\"text-align: right;\">\n",
       "      <th></th>\n",
       "      <th>rings</th>\n",
       "      <th>rotatable</th>\n",
       "      <th>atoms</th>\n",
       "      <th>hba</th>\n",
       "      <th>hbd</th>\n",
       "      <th>molwt</th>\n",
       "      <th>tpsa</th>\n",
       "      <th>logp</th>\n",
       "      <th>name</th>\n",
       "    </tr>\n",
       "  </thead>\n",
       "  <tbody>\n",
       "    <tr>\n",
       "      <th>0</th>\n",
       "      <td>6</td>\n",
       "      <td>66</td>\n",
       "      <td>155</td>\n",
       "      <td>57</td>\n",
       "      <td>31</td>\n",
       "      <td>2178.985813</td>\n",
       "      <td>901.57</td>\n",
       "      <td>-8.11643</td>\n",
       "      <td>drugbank</td>\n",
       "    </tr>\n",
       "    <tr>\n",
       "      <th>1</th>\n",
       "      <td>6</td>\n",
       "      <td>31</td>\n",
       "      <td>91</td>\n",
       "      <td>32</td>\n",
       "      <td>20</td>\n",
       "      <td>1268.641439</td>\n",
       "      <td>495.89</td>\n",
       "      <td>-3.10570</td>\n",
       "      <td>drugbank</td>\n",
       "    </tr>\n",
       "    <tr>\n",
       "      <th>2</th>\n",
       "      <td>4</td>\n",
       "      <td>19</td>\n",
       "      <td>74</td>\n",
       "      <td>26</td>\n",
       "      <td>18</td>\n",
       "      <td>1068.426955</td>\n",
       "      <td>435.41</td>\n",
       "      <td>-4.13203</td>\n",
       "      <td>drugbank</td>\n",
       "    </tr>\n",
       "    <tr>\n",
       "      <th>3</th>\n",
       "      <td>6</td>\n",
       "      <td>38</td>\n",
       "      <td>102</td>\n",
       "      <td>31</td>\n",
       "      <td>20</td>\n",
       "      <td>1429.669818</td>\n",
       "      <td>495.67</td>\n",
       "      <td>-0.50613</td>\n",
       "      <td>drugbank</td>\n",
       "    </tr>\n",
       "    <tr>\n",
       "      <th>4</th>\n",
       "      <td>1</td>\n",
       "      <td>15</td>\n",
       "      <td>85</td>\n",
       "      <td>23</td>\n",
       "      <td>5</td>\n",
       "      <td>1201.841368</td>\n",
       "      <td>278.80</td>\n",
       "      <td>3.26900</td>\n",
       "      <td>drugbank</td>\n",
       "    </tr>\n",
       "    <tr>\n",
       "      <th>...</th>\n",
       "      <td>...</td>\n",
       "      <td>...</td>\n",
       "      <td>...</td>\n",
       "      <td>...</td>\n",
       "      <td>...</td>\n",
       "      <td>...</td>\n",
       "      <td>...</td>\n",
       "      <td>...</td>\n",
       "      <td>...</td>\n",
       "    </tr>\n",
       "    <tr>\n",
       "      <th>7108</th>\n",
       "      <td>1</td>\n",
       "      <td>0</td>\n",
       "      <td>8</td>\n",
       "      <td>1</td>\n",
       "      <td>1</td>\n",
       "      <td>128.002892</td>\n",
       "      <td>20.23</td>\n",
       "      <td>2.04560</td>\n",
       "      <td>drugbank</td>\n",
       "    </tr>\n",
       "    <tr>\n",
       "      <th>7109</th>\n",
       "      <td>3</td>\n",
       "      <td>3</td>\n",
       "      <td>24</td>\n",
       "      <td>9</td>\n",
       "      <td>5</td>\n",
       "      <td>340.079432</td>\n",
       "      <td>149.82</td>\n",
       "      <td>-1.32270</td>\n",
       "      <td>drugbank</td>\n",
       "    </tr>\n",
       "    <tr>\n",
       "      <th>7110</th>\n",
       "      <td>6</td>\n",
       "      <td>14</td>\n",
       "      <td>79</td>\n",
       "      <td>27</td>\n",
       "      <td>13</td>\n",
       "      <td>1114.554641</td>\n",
       "      <td>403.10</td>\n",
       "      <td>1.54710</td>\n",
       "      <td>drugbank</td>\n",
       "    </tr>\n",
       "    <tr>\n",
       "      <th>7111</th>\n",
       "      <td>0</td>\n",
       "      <td>13</td>\n",
       "      <td>21</td>\n",
       "      <td>5</td>\n",
       "      <td>0</td>\n",
       "      <td>330.147689</td>\n",
       "      <td>83.50</td>\n",
       "      <td>-0.00030</td>\n",
       "      <td>drugbank</td>\n",
       "    </tr>\n",
       "    <tr>\n",
       "      <th>7112</th>\n",
       "      <td>4</td>\n",
       "      <td>2</td>\n",
       "      <td>28</td>\n",
       "      <td>4</td>\n",
       "      <td>1</td>\n",
       "      <td>408.150365</td>\n",
       "      <td>71.44</td>\n",
       "      <td>3.35040</td>\n",
       "      <td>drugbank</td>\n",
       "    </tr>\n",
       "  </tbody>\n",
       "</table>\n",
       "<p>7113 rows × 9 columns</p>\n",
       "</div>"
      ],
      "text/plain": [
       "      rings  rotatable  atoms  hba  hbd        molwt    tpsa     logp  \\\n",
       "0         6         66    155   57   31  2178.985813  901.57 -8.11643   \n",
       "1         6         31     91   32   20  1268.641439  495.89 -3.10570   \n",
       "2         4         19     74   26   18  1068.426955  435.41 -4.13203   \n",
       "3         6         38    102   31   20  1429.669818  495.67 -0.50613   \n",
       "4         1         15     85   23    5  1201.841368  278.80  3.26900   \n",
       "...     ...        ...    ...  ...  ...          ...     ...      ...   \n",
       "7108      1          0      8    1    1   128.002892   20.23  2.04560   \n",
       "7109      3          3     24    9    5   340.079432  149.82 -1.32270   \n",
       "7110      6         14     79   27   13  1114.554641  403.10  1.54710   \n",
       "7111      0         13     21    5    0   330.147689   83.50 -0.00030   \n",
       "7112      4          2     28    4    1   408.150365   71.44  3.35040   \n",
       "\n",
       "          name  \n",
       "0     drugbank  \n",
       "1     drugbank  \n",
       "2     drugbank  \n",
       "3     drugbank  \n",
       "4     drugbank  \n",
       "...        ...  \n",
       "7108  drugbank  \n",
       "7109  drugbank  \n",
       "7110  drugbank  \n",
       "7111  drugbank  \n",
       "7112  drugbank  \n",
       "\n",
       "[7113 rows x 9 columns]"
      ]
     },
     "execution_count": 19,
     "metadata": {},
     "output_type": "execute_result"
    }
   ],
   "source": [
    "#DrugBank dataframe\n",
    "df_drugbank = pd.DataFrame(data={'rings': db_rings,\n",
    "                                 'rotatable': db_rot, 'atoms': db_ha,\n",
    "                                 'hba': db_hba, 'hbd': db_hbd, 'molwt': db_mw,\n",
    "                                 'tpsa': db_tpsa, 'logp': db_ow })\n",
    "\n",
    "\n",
    "df_drugbank['name'] = \"drugbank\"\n",
    "df_drugbank"
   ]
  },
  {
   "cell_type": "code",
   "execution_count": 20,
   "id": "sixth-track",
   "metadata": {},
   "outputs": [
    {
     "data": {
      "text/html": [
       "<div>\n",
       "<style scoped>\n",
       "    .dataframe tbody tr th:only-of-type {\n",
       "        vertical-align: middle;\n",
       "    }\n",
       "\n",
       "    .dataframe tbody tr th {\n",
       "        vertical-align: top;\n",
       "    }\n",
       "\n",
       "    .dataframe thead th {\n",
       "        text-align: right;\n",
       "    }\n",
       "</style>\n",
       "<table border=\"1\" class=\"dataframe\">\n",
       "  <thead>\n",
       "    <tr style=\"text-align: right;\">\n",
       "      <th></th>\n",
       "      <th>rings</th>\n",
       "      <th>rotatable</th>\n",
       "      <th>atoms</th>\n",
       "      <th>hba</th>\n",
       "      <th>hbd</th>\n",
       "      <th>molwt</th>\n",
       "      <th>tpsa</th>\n",
       "      <th>logp</th>\n",
       "      <th>name</th>\n",
       "    </tr>\n",
       "  </thead>\n",
       "  <tbody>\n",
       "    <tr>\n",
       "      <th>0</th>\n",
       "      <td>3</td>\n",
       "      <td>8</td>\n",
       "      <td>28</td>\n",
       "      <td>4</td>\n",
       "      <td>2</td>\n",
       "      <td>381.221641</td>\n",
       "      <td>48.13</td>\n",
       "      <td>4.68810</td>\n",
       "      <td>CB1</td>\n",
       "    </tr>\n",
       "    <tr>\n",
       "      <th>1</th>\n",
       "      <td>5</td>\n",
       "      <td>5</td>\n",
       "      <td>39</td>\n",
       "      <td>6</td>\n",
       "      <td>0</td>\n",
       "      <td>584.065209</td>\n",
       "      <td>77.30</td>\n",
       "      <td>6.38318</td>\n",
       "      <td>CB1</td>\n",
       "    </tr>\n",
       "    <tr>\n",
       "      <th>2</th>\n",
       "      <td>3</td>\n",
       "      <td>4</td>\n",
       "      <td>26</td>\n",
       "      <td>6</td>\n",
       "      <td>1</td>\n",
       "      <td>373.146013</td>\n",
       "      <td>79.37</td>\n",
       "      <td>3.12534</td>\n",
       "      <td>CB1</td>\n",
       "    </tr>\n",
       "    <tr>\n",
       "      <th>3</th>\n",
       "      <td>5</td>\n",
       "      <td>7</td>\n",
       "      <td>38</td>\n",
       "      <td>9</td>\n",
       "      <td>2</td>\n",
       "      <td>528.146741</td>\n",
       "      <td>123.42</td>\n",
       "      <td>5.56834</td>\n",
       "      <td>CB1</td>\n",
       "    </tr>\n",
       "    <tr>\n",
       "      <th>4</th>\n",
       "      <td>4</td>\n",
       "      <td>6</td>\n",
       "      <td>29</td>\n",
       "      <td>4</td>\n",
       "      <td>2</td>\n",
       "      <td>409.192090</td>\n",
       "      <td>48.13</td>\n",
       "      <td>5.34650</td>\n",
       "      <td>CB1</td>\n",
       "    </tr>\n",
       "    <tr>\n",
       "      <th>...</th>\n",
       "      <td>...</td>\n",
       "      <td>...</td>\n",
       "      <td>...</td>\n",
       "      <td>...</td>\n",
       "      <td>...</td>\n",
       "      <td>...</td>\n",
       "      <td>...</td>\n",
       "      <td>...</td>\n",
       "      <td>...</td>\n",
       "    </tr>\n",
       "    <tr>\n",
       "      <th>2993</th>\n",
       "      <td>4</td>\n",
       "      <td>5</td>\n",
       "      <td>27</td>\n",
       "      <td>4</td>\n",
       "      <td>2</td>\n",
       "      <td>440.019411</td>\n",
       "      <td>61.96</td>\n",
       "      <td>5.07590</td>\n",
       "      <td>CB1</td>\n",
       "    </tr>\n",
       "    <tr>\n",
       "      <th>2994</th>\n",
       "      <td>4</td>\n",
       "      <td>7</td>\n",
       "      <td>30</td>\n",
       "      <td>6</td>\n",
       "      <td>2</td>\n",
       "      <td>447.138340</td>\n",
       "      <td>74.43</td>\n",
       "      <td>3.74130</td>\n",
       "      <td>CB1</td>\n",
       "    </tr>\n",
       "    <tr>\n",
       "      <th>2995</th>\n",
       "      <td>3</td>\n",
       "      <td>4</td>\n",
       "      <td>21</td>\n",
       "      <td>4</td>\n",
       "      <td>2</td>\n",
       "      <td>300.093249</td>\n",
       "      <td>61.96</td>\n",
       "      <td>2.95482</td>\n",
       "      <td>CB1</td>\n",
       "    </tr>\n",
       "    <tr>\n",
       "      <th>2996</th>\n",
       "      <td>3</td>\n",
       "      <td>3</td>\n",
       "      <td>22</td>\n",
       "      <td>3</td>\n",
       "      <td>2</td>\n",
       "      <td>328.043712</td>\n",
       "      <td>41.13</td>\n",
       "      <td>5.71250</td>\n",
       "      <td>CB1</td>\n",
       "    </tr>\n",
       "    <tr>\n",
       "      <th>2997</th>\n",
       "      <td>4</td>\n",
       "      <td>4</td>\n",
       "      <td>34</td>\n",
       "      <td>6</td>\n",
       "      <td>1</td>\n",
       "      <td>513.041374</td>\n",
       "      <td>81.06</td>\n",
       "      <td>6.38870</td>\n",
       "      <td>CB1</td>\n",
       "    </tr>\n",
       "  </tbody>\n",
       "</table>\n",
       "<p>2998 rows × 9 columns</p>\n",
       "</div>"
      ],
      "text/plain": [
       "      rings  rotatable  atoms  hba  hbd       molwt    tpsa     logp name\n",
       "0         3          8     28    4    2  381.221641   48.13  4.68810  CB1\n",
       "1         5          5     39    6    0  584.065209   77.30  6.38318  CB1\n",
       "2         3          4     26    6    1  373.146013   79.37  3.12534  CB1\n",
       "3         5          7     38    9    2  528.146741  123.42  5.56834  CB1\n",
       "4         4          6     29    4    2  409.192090   48.13  5.34650  CB1\n",
       "...     ...        ...    ...  ...  ...         ...     ...      ...  ...\n",
       "2993      4          5     27    4    2  440.019411   61.96  5.07590  CB1\n",
       "2994      4          7     30    6    2  447.138340   74.43  3.74130  CB1\n",
       "2995      3          4     21    4    2  300.093249   61.96  2.95482  CB1\n",
       "2996      3          3     22    3    2  328.043712   41.13  5.71250  CB1\n",
       "2997      4          4     34    6    1  513.041374   81.06  6.38870  CB1\n",
       "\n",
       "[2998 rows x 9 columns]"
      ]
     },
     "execution_count": 20,
     "metadata": {},
     "output_type": "execute_result"
    }
   ],
   "source": [
    "#Add name to CB1 dataframe\n",
    "df['name'] = \"CB1\"\n",
    "df"
   ]
  },
  {
   "cell_type": "code",
   "execution_count": 21,
   "id": "collect-technique",
   "metadata": {},
   "outputs": [
    {
     "data": {
      "text/html": [
       "<div>\n",
       "<style scoped>\n",
       "    .dataframe tbody tr th:only-of-type {\n",
       "        vertical-align: middle;\n",
       "    }\n",
       "\n",
       "    .dataframe tbody tr th {\n",
       "        vertical-align: top;\n",
       "    }\n",
       "\n",
       "    .dataframe thead th {\n",
       "        text-align: right;\n",
       "    }\n",
       "</style>\n",
       "<table border=\"1\" class=\"dataframe\">\n",
       "  <thead>\n",
       "    <tr style=\"text-align: right;\">\n",
       "      <th></th>\n",
       "      <th>rings</th>\n",
       "      <th>rotatable</th>\n",
       "      <th>atoms</th>\n",
       "      <th>hba</th>\n",
       "      <th>hbd</th>\n",
       "      <th>molwt</th>\n",
       "      <th>tpsa</th>\n",
       "      <th>logp</th>\n",
       "      <th>name</th>\n",
       "    </tr>\n",
       "  </thead>\n",
       "  <tbody>\n",
       "    <tr>\n",
       "      <th>0</th>\n",
       "      <td>3</td>\n",
       "      <td>8</td>\n",
       "      <td>28</td>\n",
       "      <td>4</td>\n",
       "      <td>2</td>\n",
       "      <td>381.221641</td>\n",
       "      <td>48.13</td>\n",
       "      <td>4.68810</td>\n",
       "      <td>CB1</td>\n",
       "    </tr>\n",
       "    <tr>\n",
       "      <th>1</th>\n",
       "      <td>5</td>\n",
       "      <td>5</td>\n",
       "      <td>39</td>\n",
       "      <td>6</td>\n",
       "      <td>0</td>\n",
       "      <td>584.065209</td>\n",
       "      <td>77.30</td>\n",
       "      <td>6.38318</td>\n",
       "      <td>CB1</td>\n",
       "    </tr>\n",
       "    <tr>\n",
       "      <th>2</th>\n",
       "      <td>3</td>\n",
       "      <td>4</td>\n",
       "      <td>26</td>\n",
       "      <td>6</td>\n",
       "      <td>1</td>\n",
       "      <td>373.146013</td>\n",
       "      <td>79.37</td>\n",
       "      <td>3.12534</td>\n",
       "      <td>CB1</td>\n",
       "    </tr>\n",
       "    <tr>\n",
       "      <th>3</th>\n",
       "      <td>5</td>\n",
       "      <td>7</td>\n",
       "      <td>38</td>\n",
       "      <td>9</td>\n",
       "      <td>2</td>\n",
       "      <td>528.146741</td>\n",
       "      <td>123.42</td>\n",
       "      <td>5.56834</td>\n",
       "      <td>CB1</td>\n",
       "    </tr>\n",
       "    <tr>\n",
       "      <th>4</th>\n",
       "      <td>4</td>\n",
       "      <td>6</td>\n",
       "      <td>29</td>\n",
       "      <td>4</td>\n",
       "      <td>2</td>\n",
       "      <td>409.192090</td>\n",
       "      <td>48.13</td>\n",
       "      <td>5.34650</td>\n",
       "      <td>CB1</td>\n",
       "    </tr>\n",
       "    <tr>\n",
       "      <th>...</th>\n",
       "      <td>...</td>\n",
       "      <td>...</td>\n",
       "      <td>...</td>\n",
       "      <td>...</td>\n",
       "      <td>...</td>\n",
       "      <td>...</td>\n",
       "      <td>...</td>\n",
       "      <td>...</td>\n",
       "      <td>...</td>\n",
       "    </tr>\n",
       "    <tr>\n",
       "      <th>7108</th>\n",
       "      <td>1</td>\n",
       "      <td>0</td>\n",
       "      <td>8</td>\n",
       "      <td>1</td>\n",
       "      <td>1</td>\n",
       "      <td>128.002892</td>\n",
       "      <td>20.23</td>\n",
       "      <td>2.04560</td>\n",
       "      <td>drugbank</td>\n",
       "    </tr>\n",
       "    <tr>\n",
       "      <th>7109</th>\n",
       "      <td>3</td>\n",
       "      <td>3</td>\n",
       "      <td>24</td>\n",
       "      <td>9</td>\n",
       "      <td>5</td>\n",
       "      <td>340.079432</td>\n",
       "      <td>149.82</td>\n",
       "      <td>-1.32270</td>\n",
       "      <td>drugbank</td>\n",
       "    </tr>\n",
       "    <tr>\n",
       "      <th>7110</th>\n",
       "      <td>6</td>\n",
       "      <td>14</td>\n",
       "      <td>79</td>\n",
       "      <td>27</td>\n",
       "      <td>13</td>\n",
       "      <td>1114.554641</td>\n",
       "      <td>403.10</td>\n",
       "      <td>1.54710</td>\n",
       "      <td>drugbank</td>\n",
       "    </tr>\n",
       "    <tr>\n",
       "      <th>7111</th>\n",
       "      <td>0</td>\n",
       "      <td>13</td>\n",
       "      <td>21</td>\n",
       "      <td>5</td>\n",
       "      <td>0</td>\n",
       "      <td>330.147689</td>\n",
       "      <td>83.50</td>\n",
       "      <td>-0.00030</td>\n",
       "      <td>drugbank</td>\n",
       "    </tr>\n",
       "    <tr>\n",
       "      <th>7112</th>\n",
       "      <td>4</td>\n",
       "      <td>2</td>\n",
       "      <td>28</td>\n",
       "      <td>4</td>\n",
       "      <td>1</td>\n",
       "      <td>408.150365</td>\n",
       "      <td>71.44</td>\n",
       "      <td>3.35040</td>\n",
       "      <td>drugbank</td>\n",
       "    </tr>\n",
       "  </tbody>\n",
       "</table>\n",
       "<p>10111 rows × 9 columns</p>\n",
       "</div>"
      ],
      "text/plain": [
       "      rings  rotatable  atoms  hba  hbd        molwt    tpsa     logp  \\\n",
       "0         3          8     28    4    2   381.221641   48.13  4.68810   \n",
       "1         5          5     39    6    0   584.065209   77.30  6.38318   \n",
       "2         3          4     26    6    1   373.146013   79.37  3.12534   \n",
       "3         5          7     38    9    2   528.146741  123.42  5.56834   \n",
       "4         4          6     29    4    2   409.192090   48.13  5.34650   \n",
       "...     ...        ...    ...  ...  ...          ...     ...      ...   \n",
       "7108      1          0      8    1    1   128.002892   20.23  2.04560   \n",
       "7109      3          3     24    9    5   340.079432  149.82 -1.32270   \n",
       "7110      6         14     79   27   13  1114.554641  403.10  1.54710   \n",
       "7111      0         13     21    5    0   330.147689   83.50 -0.00030   \n",
       "7112      4          2     28    4    1   408.150365   71.44  3.35040   \n",
       "\n",
       "          name  \n",
       "0          CB1  \n",
       "1          CB1  \n",
       "2          CB1  \n",
       "3          CB1  \n",
       "4          CB1  \n",
       "...        ...  \n",
       "7108  drugbank  \n",
       "7109  drugbank  \n",
       "7110  drugbank  \n",
       "7111  drugbank  \n",
       "7112  drugbank  \n",
       "\n",
       "[10111 rows x 9 columns]"
      ]
     },
     "execution_count": 21,
     "metadata": {},
     "output_type": "execute_result"
    }
   ],
   "source": [
    "#Merge CB1 and DrugBank data\n",
    "frames = [df, df_drugbank]\n",
    "df_merge = pd.concat(frames)\n",
    "df_merge"
   ]
  },
  {
   "cell_type": "code",
   "execution_count": 43,
   "id": "august-middle",
   "metadata": {},
   "outputs": [
    {
     "data": {
      "text/html": [
       "<div>\n",
       "<style scoped>\n",
       "    .dataframe tbody tr th:only-of-type {\n",
       "        vertical-align: middle;\n",
       "    }\n",
       "\n",
       "    .dataframe tbody tr th {\n",
       "        vertical-align: top;\n",
       "    }\n",
       "\n",
       "    .dataframe thead th {\n",
       "        text-align: right;\n",
       "    }\n",
       "</style>\n",
       "<table border=\"1\" class=\"dataframe\">\n",
       "  <thead>\n",
       "    <tr style=\"text-align: right;\">\n",
       "      <th></th>\n",
       "      <th>name</th>\n",
       "      <th>variable</th>\n",
       "      <th>value</th>\n",
       "    </tr>\n",
       "  </thead>\n",
       "  <tbody>\n",
       "    <tr>\n",
       "      <th>0</th>\n",
       "      <td>CB1</td>\n",
       "      <td>rings</td>\n",
       "      <td>3.0000</td>\n",
       "    </tr>\n",
       "    <tr>\n",
       "      <th>1</th>\n",
       "      <td>CB1</td>\n",
       "      <td>rings</td>\n",
       "      <td>5.0000</td>\n",
       "    </tr>\n",
       "    <tr>\n",
       "      <th>2</th>\n",
       "      <td>CB1</td>\n",
       "      <td>rings</td>\n",
       "      <td>3.0000</td>\n",
       "    </tr>\n",
       "    <tr>\n",
       "      <th>3</th>\n",
       "      <td>CB1</td>\n",
       "      <td>rings</td>\n",
       "      <td>5.0000</td>\n",
       "    </tr>\n",
       "    <tr>\n",
       "      <th>4</th>\n",
       "      <td>CB1</td>\n",
       "      <td>rings</td>\n",
       "      <td>4.0000</td>\n",
       "    </tr>\n",
       "    <tr>\n",
       "      <th>...</th>\n",
       "      <td>...</td>\n",
       "      <td>...</td>\n",
       "      <td>...</td>\n",
       "    </tr>\n",
       "    <tr>\n",
       "      <th>60661</th>\n",
       "      <td>drugbank</td>\n",
       "      <td>logp</td>\n",
       "      <td>2.0456</td>\n",
       "    </tr>\n",
       "    <tr>\n",
       "      <th>60662</th>\n",
       "      <td>drugbank</td>\n",
       "      <td>logp</td>\n",
       "      <td>-1.3227</td>\n",
       "    </tr>\n",
       "    <tr>\n",
       "      <th>60663</th>\n",
       "      <td>drugbank</td>\n",
       "      <td>logp</td>\n",
       "      <td>1.5471</td>\n",
       "    </tr>\n",
       "    <tr>\n",
       "      <th>60664</th>\n",
       "      <td>drugbank</td>\n",
       "      <td>logp</td>\n",
       "      <td>-0.0003</td>\n",
       "    </tr>\n",
       "    <tr>\n",
       "      <th>60665</th>\n",
       "      <td>drugbank</td>\n",
       "      <td>logp</td>\n",
       "      <td>3.3504</td>\n",
       "    </tr>\n",
       "  </tbody>\n",
       "</table>\n",
       "<p>60666 rows × 3 columns</p>\n",
       "</div>"
      ],
      "text/plain": [
       "           name variable   value\n",
       "0           CB1    rings  3.0000\n",
       "1           CB1    rings  5.0000\n",
       "2           CB1    rings  3.0000\n",
       "3           CB1    rings  5.0000\n",
       "4           CB1    rings  4.0000\n",
       "...         ...      ...     ...\n",
       "60661  drugbank     logp  2.0456\n",
       "60662  drugbank     logp -1.3227\n",
       "60663  drugbank     logp  1.5471\n",
       "60664  drugbank     logp -0.0003\n",
       "60665  drugbank     logp  3.3504\n",
       "\n",
       "[60666 rows x 3 columns]"
      ]
     },
     "execution_count": 43,
     "metadata": {},
     "output_type": "execute_result"
    }
   ],
   "source": [
    "#Preparation of data for boxplot\n",
    "df1 = pd.melt(df_merge, id_vars=['name'], value_vars=['rings', 'rotatable', 'atoms', 'hba', 'hbd', 'logp'])\n",
    "df1"
   ]
  },
  {
   "cell_type": "code",
   "execution_count": 23,
   "id": "irish-italic",
   "metadata": {},
   "outputs": [
    {
     "data": {
      "text/plain": [
       "<AxesSubplot:xlabel='variable', ylabel='value'>"
      ]
     },
     "execution_count": 23,
     "metadata": {},
     "output_type": "execute_result"
    },
    {
     "data": {
      "image/png": "[encoded data removed]",
      "text/plain": [
       "<Figure size 842.4x842.4 with 1 Axes>"
      ]
     },
     "metadata": {},
     "output_type": "display_data"
    }
   ],
   "source": [
    "#Boxplot: comparison of CB1 ligand data and Drugbank data withou molecular weight and topological polar surface area\n",
    "sns.set(rc={'figure.figsize':(11.7, 11.7)})\n",
    "sns.boxplot(y='value', x='variable', \n",
    "                 data=df1, \n",
    "                 palette=\"Set3\",\n",
    "                 hue='name',\n",
    "                 showfliers=False)"
   ]
  },
  {
   "cell_type": "code",
   "execution_count": 24,
   "id": "metallic-pixel",
   "metadata": {},
   "outputs": [
    {
     "data": {
      "text/html": [
       "<div>\n",
       "<style scoped>\n",
       "    .dataframe tbody tr th:only-of-type {\n",
       "        vertical-align: middle;\n",
       "    }\n",
       "\n",
       "    .dataframe tbody tr th {\n",
       "        vertical-align: top;\n",
       "    }\n",
       "\n",
       "    .dataframe thead th {\n",
       "        text-align: right;\n",
       "    }\n",
       "</style>\n",
       "<table border=\"1\" class=\"dataframe\">\n",
       "  <thead>\n",
       "    <tr style=\"text-align: right;\">\n",
       "      <th></th>\n",
       "      <th>name</th>\n",
       "      <th>variable</th>\n",
       "      <th>value</th>\n",
       "    </tr>\n",
       "  </thead>\n",
       "  <tbody>\n",
       "    <tr>\n",
       "      <th>0</th>\n",
       "      <td>CB1</td>\n",
       "      <td>molwt</td>\n",
       "      <td>381.221641</td>\n",
       "    </tr>\n",
       "    <tr>\n",
       "      <th>1</th>\n",
       "      <td>CB1</td>\n",
       "      <td>molwt</td>\n",
       "      <td>584.065209</td>\n",
       "    </tr>\n",
       "    <tr>\n",
       "      <th>2</th>\n",
       "      <td>CB1</td>\n",
       "      <td>molwt</td>\n",
       "      <td>373.146013</td>\n",
       "    </tr>\n",
       "    <tr>\n",
       "      <th>3</th>\n",
       "      <td>CB1</td>\n",
       "      <td>molwt</td>\n",
       "      <td>528.146741</td>\n",
       "    </tr>\n",
       "    <tr>\n",
       "      <th>4</th>\n",
       "      <td>CB1</td>\n",
       "      <td>molwt</td>\n",
       "      <td>409.192090</td>\n",
       "    </tr>\n",
       "    <tr>\n",
       "      <th>...</th>\n",
       "      <td>...</td>\n",
       "      <td>...</td>\n",
       "      <td>...</td>\n",
       "    </tr>\n",
       "    <tr>\n",
       "      <th>20217</th>\n",
       "      <td>drugbank</td>\n",
       "      <td>tpsa</td>\n",
       "      <td>20.230000</td>\n",
       "    </tr>\n",
       "    <tr>\n",
       "      <th>20218</th>\n",
       "      <td>drugbank</td>\n",
       "      <td>tpsa</td>\n",
       "      <td>149.820000</td>\n",
       "    </tr>\n",
       "    <tr>\n",
       "      <th>20219</th>\n",
       "      <td>drugbank</td>\n",
       "      <td>tpsa</td>\n",
       "      <td>403.100000</td>\n",
       "    </tr>\n",
       "    <tr>\n",
       "      <th>20220</th>\n",
       "      <td>drugbank</td>\n",
       "      <td>tpsa</td>\n",
       "      <td>83.500000</td>\n",
       "    </tr>\n",
       "    <tr>\n",
       "      <th>20221</th>\n",
       "      <td>drugbank</td>\n",
       "      <td>tpsa</td>\n",
       "      <td>71.440000</td>\n",
       "    </tr>\n",
       "  </tbody>\n",
       "</table>\n",
       "<p>20222 rows × 3 columns</p>\n",
       "</div>"
      ],
      "text/plain": [
       "           name variable       value\n",
       "0           CB1    molwt  381.221641\n",
       "1           CB1    molwt  584.065209\n",
       "2           CB1    molwt  373.146013\n",
       "3           CB1    molwt  528.146741\n",
       "4           CB1    molwt  409.192090\n",
       "...         ...      ...         ...\n",
       "20217  drugbank     tpsa   20.230000\n",
       "20218  drugbank     tpsa  149.820000\n",
       "20219  drugbank     tpsa  403.100000\n",
       "20220  drugbank     tpsa   83.500000\n",
       "20221  drugbank     tpsa   71.440000\n",
       "\n",
       "[20222 rows x 3 columns]"
      ]
     },
     "execution_count": 24,
     "metadata": {},
     "output_type": "execute_result"
    }
   ],
   "source": [
    "df2 = pd.melt(df_merge, id_vars=['name'], value_vars=['molwt', 'tpsa'])\n",
    "df2"
   ]
  },
  {
   "cell_type": "code",
   "execution_count": 25,
   "id": "recorded-chamber",
   "metadata": {},
   "outputs": [
    {
     "data": {
      "text/plain": [
       "<AxesSubplot:xlabel='variable', ylabel='value'>"
      ]
     },
     "execution_count": 25,
     "metadata": {},
     "output_type": "execute_result"
    },
    {
     "data": {
      "image/png": "[encoded data removed]",
      "text/plain": [
       "<Figure size 842.4x842.4 with 1 Axes>"
      ]
     },
     "metadata": {},
     "output_type": "display_data"
    }
   ],
   "source": [
    "#Boxplot: comparison of CB1 ligand data and Drugbank data: mw and tpsa\n",
    "sns.set(rc={'figure.figsize':(11.7, 11.7)})\n",
    "sns.boxplot(y='value', x='variable', \n",
    "                 data=df2, \n",
    "                 palette=\"Set3\",\n",
    "                 hue='name',\n",
    "                 showfliers=False)"
   ]
  },
  {
   "cell_type": "markdown",
   "id": "english-design",
   "metadata": {},
   "source": [
    "It seems that CB1 ligands tend to have higher molecular weight, number of rings and number of heavy atoms than the substances in DrugBank. There is also a slight difference in octanol-water partition coefficient, where it's quite higher in our dataset than in the DrugBank. So, let's have a look on logP values. \n",
    "* Octanol-water partition coefficient (logP) represents the lipophilicity of a compound, and it is defined as the ratio of the concentration of a solute in a water-saturated octanolic phase to its concentration in an octanol-saturated aqueous phase."
   ]
  },
  {
   "cell_type": "code",
   "execution_count": 26,
   "id": "convertible-constraint",
   "metadata": {},
   "outputs": [
    {
     "data": {
      "text/html": [
       "<div>\n",
       "<style scoped>\n",
       "    .dataframe tbody tr th:only-of-type {\n",
       "        vertical-align: middle;\n",
       "    }\n",
       "\n",
       "    .dataframe tbody tr th {\n",
       "        vertical-align: top;\n",
       "    }\n",
       "\n",
       "    .dataframe thead th {\n",
       "        text-align: right;\n",
       "    }\n",
       "</style>\n",
       "<table border=\"1\" class=\"dataframe\">\n",
       "  <thead>\n",
       "    <tr style=\"text-align: right;\">\n",
       "      <th></th>\n",
       "      <th>name</th>\n",
       "      <th>variable</th>\n",
       "      <th>value</th>\n",
       "    </tr>\n",
       "  </thead>\n",
       "  <tbody>\n",
       "    <tr>\n",
       "      <th>0</th>\n",
       "      <td>CB1</td>\n",
       "      <td>logp</td>\n",
       "      <td>4.68810</td>\n",
       "    </tr>\n",
       "    <tr>\n",
       "      <th>1</th>\n",
       "      <td>CB1</td>\n",
       "      <td>logp</td>\n",
       "      <td>6.38318</td>\n",
       "    </tr>\n",
       "    <tr>\n",
       "      <th>2</th>\n",
       "      <td>CB1</td>\n",
       "      <td>logp</td>\n",
       "      <td>3.12534</td>\n",
       "    </tr>\n",
       "    <tr>\n",
       "      <th>3</th>\n",
       "      <td>CB1</td>\n",
       "      <td>logp</td>\n",
       "      <td>5.56834</td>\n",
       "    </tr>\n",
       "    <tr>\n",
       "      <th>4</th>\n",
       "      <td>CB1</td>\n",
       "      <td>logp</td>\n",
       "      <td>5.34650</td>\n",
       "    </tr>\n",
       "    <tr>\n",
       "      <th>...</th>\n",
       "      <td>...</td>\n",
       "      <td>...</td>\n",
       "      <td>...</td>\n",
       "    </tr>\n",
       "    <tr>\n",
       "      <th>10106</th>\n",
       "      <td>drugbank</td>\n",
       "      <td>logp</td>\n",
       "      <td>2.04560</td>\n",
       "    </tr>\n",
       "    <tr>\n",
       "      <th>10107</th>\n",
       "      <td>drugbank</td>\n",
       "      <td>logp</td>\n",
       "      <td>-1.32270</td>\n",
       "    </tr>\n",
       "    <tr>\n",
       "      <th>10108</th>\n",
       "      <td>drugbank</td>\n",
       "      <td>logp</td>\n",
       "      <td>1.54710</td>\n",
       "    </tr>\n",
       "    <tr>\n",
       "      <th>10109</th>\n",
       "      <td>drugbank</td>\n",
       "      <td>logp</td>\n",
       "      <td>-0.00030</td>\n",
       "    </tr>\n",
       "    <tr>\n",
       "      <th>10110</th>\n",
       "      <td>drugbank</td>\n",
       "      <td>logp</td>\n",
       "      <td>3.35040</td>\n",
       "    </tr>\n",
       "  </tbody>\n",
       "</table>\n",
       "<p>10111 rows × 3 columns</p>\n",
       "</div>"
      ],
      "text/plain": [
       "           name variable    value\n",
       "0           CB1     logp  4.68810\n",
       "1           CB1     logp  6.38318\n",
       "2           CB1     logp  3.12534\n",
       "3           CB1     logp  5.56834\n",
       "4           CB1     logp  5.34650\n",
       "...         ...      ...      ...\n",
       "10106  drugbank     logp  2.04560\n",
       "10107  drugbank     logp -1.32270\n",
       "10108  drugbank     logp  1.54710\n",
       "10109  drugbank     logp -0.00030\n",
       "10110  drugbank     logp  3.35040\n",
       "\n",
       "[10111 rows x 3 columns]"
      ]
     },
     "execution_count": 26,
     "metadata": {},
     "output_type": "execute_result"
    }
   ],
   "source": [
    "#Data preparation for boxplot\n",
    "df3 = pd.melt(df_merge, id_vars=['name'], value_vars=['logp'])\n",
    "df3"
   ]
  },
  {
   "cell_type": "code",
   "execution_count": 44,
   "id": "instrumental-arrest",
   "metadata": {},
   "outputs": [
    {
     "data": {
      "text/plain": [
       "<AxesSubplot:xlabel='variable', ylabel='value'>"
      ]
     },
     "execution_count": 44,
     "metadata": {},
     "output_type": "execute_result"
    },
    {
     "data": {
      "image/png": "[encoded data removed]",
      "text/plain": [
       "<Figure size 842.4x842.4 with 1 Axes>"
      ]
     },
     "metadata": {},
     "output_type": "display_data"
    }
   ],
   "source": [
    "#Boxplot: comparison of logP values of CB1 ligand and DrugBank substances\n",
    "sns.set(rc={'figure.figsize':(11.7, 11.7)})\n",
    "sns.boxplot(y='value', x='variable', \n",
    "                 data=df3, \n",
    "                 palette=\"Set3\",\n",
    "                 hue='name',\n",
    "                 showfliers=False)\n"
   ]
  },
  {
   "cell_type": "code",
   "execution_count": 28,
   "id": "minor-quebec",
   "metadata": {},
   "outputs": [
    {
     "data": {
      "text/plain": [
       "<AxesSubplot:>"
      ]
     },
     "execution_count": 28,
     "metadata": {},
     "output_type": "execute_result"
    },
    {
     "data": {
      "image/png": "[encoded data removed]",
      "text/plain": [
       "<Figure size 360x360 with 2 Axes>"
      ]
     },
     "metadata": {},
     "output_type": "display_data"
    }
   ],
   "source": [
    "#Correlation CB1 ligands \n",
    "corr = df.corr()\n",
    "dims = (5, 5)\n",
    "fig, ax = plt.subplots(figsize = dims)\n",
    "sns.heatmap(corr, cmap= \"PiYG\")"
   ]
  },
  {
   "cell_type": "markdown",
   "id": "variable-campus",
   "metadata": {},
   "source": [
    "There is a slight correlation between logP and number of heavy atoms and molecular weight."
   ]
  },
  {
   "cell_type": "code",
   "execution_count": 29,
   "id": "painted-bristol",
   "metadata": {},
   "outputs": [
    {
     "data": {
      "text/plain": [
       "<AxesSubplot:>"
      ]
     },
     "execution_count": 29,
     "metadata": {},
     "output_type": "execute_result"
    },
    {
     "data": {
      "image/png": "[encoded data removed]",
      "text/plain": [
       "<Figure size 360x360 with 2 Axes>"
      ]
     },
     "metadata": {},
     "output_type": "display_data"
    }
   ],
   "source": [
    "#Correlation Drugbank\n",
    "corr = df_drugbank.corr()\n",
    "dims = (5, 5)\n",
    "fig, ax = plt.subplots(figsize = dims)\n",
    "sns.heatmap(corr, cmap= \"PiYG\")"
   ]
  },
  {
   "cell_type": "markdown",
   "id": "pregnant-venezuela",
   "metadata": {},
   "source": [
    "There is a slight correlation between logP and number of rings."
   ]
  },
  {
   "cell_type": "code",
   "execution_count": 30,
   "id": "ruled-fluid",
   "metadata": {},
   "outputs": [
    {
     "data": {
      "text/plain": [
       "count    2998.000000\n",
       "mean        4.323888\n",
       "std         2.388208\n",
       "min       -17.132900\n",
       "25%         3.121575\n",
       "50%         4.621820\n",
       "75%         5.938620\n",
       "max        10.812700\n",
       "Name: logp, dtype: float64"
      ]
     },
     "execution_count": 30,
     "metadata": {},
     "output_type": "execute_result"
    }
   ],
   "source": [
    "df.logp.describe()"
   ]
  },
  {
   "cell_type": "code",
   "execution_count": 31,
   "id": "dangerous-thomson",
   "metadata": {},
   "outputs": [
    {
     "data": {
      "text/plain": [
       "count    7113.000000\n",
       "mean        1.607801\n",
       "std         3.190621\n",
       "min       -83.666800\n",
       "25%         0.054300\n",
       "50%         1.933000\n",
       "75%         3.534620\n",
       "max        24.570500\n",
       "Name: logp, dtype: float64"
      ]
     },
     "execution_count": 31,
     "metadata": {},
     "output_type": "execute_result"
    }
   ],
   "source": [
    "df_drugbank.logp.describe()"
   ]
  },
  {
   "cell_type": "markdown",
   "id": "active-climate",
   "metadata": {},
   "source": [
    "So, as we can see from statistcs the mean of logP of my dataset is 4.32 and the DrugBank's is 1.6, which is quite a difference."
   ]
  },
  {
   "cell_type": "code",
   "execution_count": 32,
   "id": "nominated-lebanon",
   "metadata": {},
   "outputs": [
    {
     "data": {
      "text/plain": [
       "(-10.0, 10.0)"
      ]
     },
     "execution_count": 32,
     "metadata": {},
     "output_type": "execute_result"
    },
    {
     "data": {
      "image/png": "[encoded data removed]",
      "text/plain": [
       "<Figure size 445.725x360 with 1 Axes>"
      ]
     },
     "metadata": {},
     "output_type": "display_data"
    }
   ],
   "source": [
    "#Histogram of logP value of CB1 ligands and DrugBank\n",
    "sns.displot(df3, x=\"value\", hue =\"name\")\n",
    "plt.xlim(-10, 10)"
   ]
  },
  {
   "cell_type": "markdown",
   "id": "regulation-holder",
   "metadata": {},
   "source": [
    "So, let's have a look on distribution of logP value in our dataset and DrugBank's substances. Lipinski's rule of five says that druglike substances  should have logP value in range of −0.4 to +5.6 and to be orally active it should not exceed 5. What's more, according to this paper, we can look at logP values and predict the suitability of drugs administration. https://www.acdlabs.com/download/app/physchem/making_sense.pdf\n",
    "* The logP of a compound intended for oral administration should be < 5.\n",
    "* A drug targeting the central nervous system (CNS) should ideally have a logP value around 2\n",
    "* For oral and intestinal absorption the idea value is 1.35–1.8 \n",
    "* Drug intended for sub-lingual absorption should have a logP value > 5"
   ]
  },
  {
   "cell_type": "code",
   "execution_count": 46,
   "id": "structural-ministry",
   "metadata": {},
   "outputs": [
    {
     "name": "stdout",
     "output_type": "stream",
     "text": [
      "63.71 % of substances are druglike accordning to Lipinski's rule of five\n",
      "56.37 % of substances are suitable for oral administration\n",
      "3.8 % of substances are suitable for tageting CNS\n",
      "2.57 % of substances are suitable for oral an intestinal absorption\n",
      "43.63 % of substances are suitable for sub-lingual absorption\n"
     ]
    }
   ],
   "source": [
    "#The most suitable way of administration of CB1 ligands according to logP value\n",
    "def count_range_in_list(li, min, max):\n",
    "\tctr = 0\n",
    "\tfor x in li:\n",
    "\t\tif min <= x <= max:\n",
    "\t\t\tctr += 1\n",
    "\treturn ctr\n",
    "print(round(count_range_in_list(df[\"logp\"], -0.4, 5.6)/len(df[\"logp\"])*100,2), \"% of substances are druglike accordning to Lipinski's rule of five\")\n",
    "print(round(count_range_in_list(df[\"logp\"], -17.14, 5)/len(df[\"logp\"])*100,2), \"% of substances are suitable for oral administration\")\n",
    "print(round(count_range_in_list(df[\"logp\"], 1.75, 2.25)/len(df[\"logp\"])*100,2), \"% of substances are suitable for tageting CNS\")\n",
    "print(round(count_range_in_list(df[\"logp\"], 1.35, 1.8)/len(df[\"logp\"])*100,2), \"% of substances are suitable for oral an intestinal absorption\")\n",
    "print(round(count_range_in_list(df[\"logp\"], 5,10.9 )/len(df[\"logp\"])*100,2), \"% of substances are suitable for sub-lingual absorption\")\n"
   ]
  },
  {
   "cell_type": "code",
   "execution_count": 45,
   "id": "identified-subsection",
   "metadata": {},
   "outputs": [
    {
     "name": "stdout",
     "output_type": "stream",
     "text": [
      "75.06 % of substances are druglike accordning to Lipinski's rule of five\n",
      "92.49 % of substances are suitable for oral administration\n",
      "7.32 % of substances are suitable for tageting CNS\n",
      "6.55 % of substances are suitable for oral an intestinal absorption\n",
      "7.51 % of substances are suitable for sub-lingual absorption\n"
     ]
    }
   ],
   "source": [
    "#The most suitable way of administration of Drugbanks' substances according to logP value\n",
    "def count_range_in_list(li, min, max):\n",
    "\tctr = 0\n",
    "\tfor x in li:\n",
    "\t\tif min <= x <= max:\n",
    "\t\t\tctr += 1\n",
    "\treturn ctr\n",
    "print(round(count_range_in_list(df_drugbank[\"logp\"], -0.4, 5.6)/len(df_drugbank[\"logp\"])*100,2),  \"% of substances are druglike accordning to Lipinski's rule of five\")\n",
    "print(round(count_range_in_list(df_drugbank[\"logp\"], -84, 5)/len(df_drugbank[\"logp\"])*100,2), \"% of substances are suitable for oral administration\")\n",
    "print(round(count_range_in_list(df_drugbank[\"logp\"], 1.75, 2.25)/len(df_drugbank[\"logp\"])*100,2), \"% of substances are suitable for tageting CNS\")\n",
    "print(round(count_range_in_list(df_drugbank[\"logp\"], 1.35, 1.8)/len(df_drugbank[\"logp\"])*100,2), \"% of substances are suitable for oral an intestinal absorption\")\n",
    "print(round(count_range_in_list(df_drugbank[\"logp\"], 5,25 )/len(df_drugbank[\"logp\"])*100,2), \"% of substances are suitable for sub-lingual absorption\")\n"
   ]
  },
  {
   "cell_type": "markdown",
   "id": "objective-precipitation",
   "metadata": {},
   "source": [
    "I looked at logP values of my dataset and Drugbanks' substances to compare their \"druglikeness\" and to predict the most suitable way of administration. 63.71% of CB1 ligands and  75.06% of DrugBanks's pharmaceuticals are druglike accordning to Lipinski's rule of five. In my dataset the most suitable way of administration is oral administration and sub-lingual. In Drugbank's dataset it's mainly oral administration. The biggest difference was in sub-lingual absorption, where in my dataset 43.6 % of drugs are suitable for sub-lingual absorption and in DrugBank it was only 7.51 %. This was caused due to the slightly higher logP values in my dataset, which we see from the distribution of logP values in histogram and from statistics.  To sum up, CB1 ligand tend to be more lipophilic compared to registered pharmaceuticals in DrugBank."
   ]
  }
 ],
 "metadata": {
  "kernelspec": {
   "display_name": "Python 3",
   "language": "python",
   "name": "python3"
  },
  "language_info": {
   "codemirror_mode": {
    "name": "ipython",
    "version": 3
   },
   "file_extension": ".py",
   "mimetype": "text/x-python",
   "name": "python",
   "nbconvert_exporter": "python",
   "pygments_lexer": "ipython3",
   "version": "3.7.10"
  }
 },
 "nbformat": 4,
 "nbformat_minor": 5
}
