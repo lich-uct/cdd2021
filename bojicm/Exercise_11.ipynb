{
 "cells": [
  {
   "cell_type": "code",
   "execution_count": 1,
   "id": "individual-culture",
   "metadata": {},
   "outputs": [
    {
     "name": "stderr",
     "output_type": "stream",
     "text": [
      "RDKit WARNING: [23:16:39] Enabling RDKit 2019.09.3 jupyter extensions\n"
     ]
    }
   ],
   "source": [
    "# rdkit mols are displayed as images\n",
    "from rdkit.Chem.Draw import IPythonConsole\n",
    "\n",
    "from rdkit.Chem import AllChem as Chem\n",
    "from rdkit import DataStructs\n",
    "\n",
    "# descriptors\n",
    "from rdkit.Chem import Lipinski\n",
    "from rdkit.Chem import rdMolDescriptors\n",
    "from rdkit.Chem import Descriptors\n",
    "\n",
    "# diversity picker\n",
    "from rdkit.SimDivFilters.rdSimDivPickers import MaxMinPicker\n",
    "\n",
    "# plots\n",
    "from matplotlib import pyplot\n",
    "import seaborn\n",
    "\n",
    "# scikit learn\n",
    "# conda install -c conda-forge scikit-learn \n",
    "from scipy.spatial import distance\n",
    "from sklearn import manifold\n",
    "from sklearn import decomposition\n",
    "from sklearn import preprocessing\n",
    "from sklearn.cluster import AgglomerativeClustering\n",
    "from sklearn.cluster import KMeans\n",
    "\n",
    "# other packages\n",
    "import pandas as pd\n",
    "import csv\n",
    "import re"
   ]
  },
  {
   "cell_type": "code",
   "execution_count": 3,
   "id": "welsh-hacker",
   "metadata": {},
   "outputs": [],
   "source": [
    "# some pChEMBL values in our file are not valid floats\n",
    "float_pattern = re.compile(\"[0-9]+(\\.[0-9]*)?\")\n",
    "# function for Lipinski's descriptors\n",
    "lip_func = [(\"HBA\", Lipinski.NumHAcceptors), (\"HBD\", Lipinski.NumHDonors), (\"MW\", Descriptors.ExactMolWt),\n",
    "            (\"LogP\", Descriptors.MolLogP), (\"TPSA\", rdMolDescriptors.CalcTPSA), (\"RB\", Lipinski.NumRotatableBonds)]\n",
    "# load mtor, we want to remember source of data and pChEMBLE value (it's transfomed compound activity to \"standard\" value)\n",
    "with open(\"../bojicm/compound/chembl395.csv\") as inp:\n",
    "    mtor = [row for row in csv.DictReader(inp, delimiter=\";\", quotechar='\"')]\n",
    "    for m in mtor:\n",
    "        m[\"rdmol\"] = Chem.MolFromSmiles(m[\"Smiles\"])\n",
    "        m[\"source\"] = \"mtor\"\n",
    "        m[\"pChEMBL_value\"] = float(m[\"pChEMBL Value\"]) if float_pattern.match(m[\"pChEMBL Value\"]) else 0\n",
    "        m[\"fps\"] = Chem.GetMorganFingerprintAsBitVect(m[\"rdmol\"],2,nBits=1024)\n",
    "        for f in lip_func:\n",
    "            m[f[0]] = f[1](m[\"rdmol\"])"
   ]
  },
  {
   "cell_type": "code",
   "execution_count": 4,
   "id": "partial-omega",
   "metadata": {},
   "outputs": [],
   "source": [
    "%%capture\n",
    "# %%capture hides stderr (and maybe all output)\n",
    "# same for drugbank\n",
    "drugbank = [{\"rdmol\": m,\n",
    "             \"source\": \"drugbank\",\n",
    "             \"Smiles\": Chem.MolToSmiles(m),\n",
    "             \"pChEMBL_value\": 0,\n",
    "             \"fps\": Chem.GetMorganFingerprintAsBitVect(m, 2, nBits=1024),\n",
    "             **{f[0]: f[1](m) for f in lip_func}\n",
    "            } for m in Chem.SDMolSupplier(\"../data/drugbank.sdf\") if m\n",
    "           ]"
   ]
  },
  {
   "cell_type": "code",
   "execution_count": 5,
   "id": "careful-evening",
   "metadata": {},
   "outputs": [],
   "source": [
    "# let's work with Pandas dataframe\n",
    "df = pd.DataFrame((*drugbank, *mtor), columns=[\"Smiles\", \"source\", \"rdmol\", \"fps\", \"pChEMBL_value\", *(f[0] for f in lip_func)])\n",
    "# adds index as normal column\n",
    "df.reset_index(level=0, inplace=True)"
   ]
  },
  {
   "cell_type": "code",
   "execution_count": 6,
   "id": "outside-request",
   "metadata": {},
   "outputs": [],
   "source": [
    "df = df.join(pd.DataFrame((rdMolDescriptors.MQNs_(mol) for mol in df[\"rdmol\"]),\n",
    "                          columns=[*(f\"MQN_{x}\" for x in range(1,43))])\n",
    "            )"
   ]
  },
  {
   "cell_type": "code",
   "execution_count": 7,
   "id": "hairy-cylinder",
   "metadata": {},
   "outputs": [],
   "source": [
    "norm = preprocessing.normalize(df[(f\"MQN_{x}\" for x in range(1, 43))])\n",
    "pca = decomposition.PCA(n_components=42)\n",
    "pca.fit(norm)\n",
    "df = df.join(pd.DataFrame(pca.transform(norm), columns=[f\"nPCA_{x}\" for x in range(1, 43)]))"
   ]
  },
  {
   "cell_type": "code",
   "execution_count": null,
   "id": "emotional-skirt",
   "metadata": {},
   "outputs": [],
   "source": [
    "sparse_mat = distance.pdist(list(df[\"fps\"]),metric=\"jaccard\")\n",
    "dist_mat = distance.squareform(sparse_mat)"
   ]
  },
  {
   "cell_type": "code",
   "execution_count": null,
   "id": "banned-baptist",
   "metadata": {},
   "outputs": [],
   "source": [
    "clf = manifold.MDS(n_components=2, n_init=1, max_iter=100, dissimilarity=\"precomputed\")\n",
    "X_mds = clf.fit_transform(dist_mat)\n",
    "df = df.join(pd.DataFrame(X_mds, columns=[\"mds_x\",\"mds_y\"]))"
   ]
  },
  {
   "cell_type": "code",
   "execution_count": null,
   "id": "incorporate-school",
   "metadata": {},
   "outputs": [],
   "source": [
    "clf = manifold.TSNE(n_components=2, metric=\"precomputed\")\n",
    "X_tsne = clf.fit_transform(dist_mat)\n",
    "df = df.join(pd.DataFrame(X_tsne, columns=[\"tsne_x\", \"tsne_y\"]))"
   ]
  },
  {
   "cell_type": "code",
   "execution_count": null,
   "id": "associate-concord",
   "metadata": {},
   "outputs": [],
   "source": [
    "fig, ax = pyplot.subplots(figsize=(15,10))\n",
    "p=seaborn.scatterplot(x=\"tsne_x\",\n",
    "                      y=\"tsne_y\",\n",
    "                      data=df,\n",
    "                      hue=\"source\",\n",
    "                      legend=\"brief\",\n",
    "                      ax=ax,\n",
    "                      alpha=0.75\n",
    "                     )\n",
    "\n",
    "for linkage in ('ward', 'average', 'complete', 'single'):\n",
    "    clustering = AgglomerativeClustering(linkage=linkage, n_clusters=10)\n",
    "    clustering.fit(df[[\"tsne_x\", \"tsne_y\"]])\n",
    "\n",
    "    fig, ax = pyplot.subplots(figsize=(15,10))\n",
    "    p=seaborn.scatterplot(x=\"tsne_x\",\n",
    "                      y=\"tsne_y\",\n",
    "                      data=df,\n",
    "                      hue=[pyplot.cm.nipy_spectral(l / 10.) for l in clustering.labels_],\n",
    "                      ax=ax,\n",
    "                      alpha=0.75,\n",
    "                      legend=False\n",
    "                     ).set_title(f\"Linkage {linkage}\")\n"
   ]
  },
  {
   "cell_type": "code",
   "execution_count": null,
   "id": "english-intersection",
   "metadata": {},
   "outputs": [],
   "source": [
    "fig, ax = pyplot.subplots(figsize=(15,10))\n",
    "p=seaborn.scatterplot(x=\"nPCA_1\",\n",
    "                      y=\"nPCA_2\",\n",
    "                      data=df,\n",
    "                      hue=\"source\",\n",
    "                      legend=\"brief\",\n",
    "                      ax=ax,\n",
    "                      alpha=0.75\n",
    "                     )\n",
    "\n",
    "for linkage in ('ward', 'average', 'complete', 'single'):\n",
    "    clustering = AgglomerativeClustering(linkage=linkage, n_clusters=10)\n",
    "    clustering.fit(df[[f\"nPCA_{x}\" for x in range(1, 43)]])\n",
    "\n",
    "    fig, ax = pyplot.subplots(figsize=(15,10))\n",
    "    p=seaborn.scatterplot(x=\"nPCA_1\",\n",
    "                      y=\"nPCA_2\",\n",
    "                      data=df,\n",
    "                      hue=[pyplot.cm.nipy_spectral(l / 10.) for l in clustering.labels_],\n",
    "                      ax=ax,\n",
    "                      alpha=0.75,\n",
    "                      legend=False,\n",
    "                     ).set_title(f\"Linkage {linkage}\")\n"
   ]
  },
  {
   "cell_type": "code",
   "execution_count": null,
   "id": "organized-tracker",
   "metadata": {},
   "outputs": [],
   "source": [
    "reduced_data = df[[\"tsne_x\", \"tsne_y\"]]\n",
    "n_clusters = 10\n",
    "kmeans = KMeans(init=\"k-means++\", n_clusters=n_clusters, n_init=4)\n",
    "kmeans.fit(reduced_data)\n",
    "centroids = kmeans.cluster_centers_\n",
    "# Put the result into a color plot\n",
    "fig, ax = pyplot.subplots(figsize=(15,10))\n",
    "p=seaborn.scatterplot(x= [*df[\"tsne_x\"], *centroids[:, 0]],\n",
    "                  y=[*df[\"tsne_y\"], *centroids[:, 1]],\n",
    "                  hue=[pyplot.cm.nipy_spectral(l / (n_clusters+1)) for l in (*kmeans.labels_, *(n_clusters for x in range(len(centroids))))],\n",
    "                  size=[*[1 for l in kmeans.labels_],*[50 for x in range(len(centroids))]],\n",
    "                  ax=ax,\n",
    "                  alpha=0.75,\n",
    "                  legend=False \n",
    "                 )\n",
    "\n"
   ]
  },
  {
   "cell_type": "code",
   "execution_count": null,
   "id": "decent-evolution",
   "metadata": {},
   "outputs": [],
   "source": [
    "reduced_data = df[[f\"nPCA_{x}\" for x in range(1, 43)]]\n",
    "n_clusters = 10\n",
    "kmeans = KMeans(init=\"k-means++\", n_clusters=n_clusters, n_init=4)\n",
    "kmeans.fit(reduced_data)\n",
    "centroids = kmeans.cluster_centers_\n",
    "\n",
    "# Put the result into a color plot\n",
    "fig, ax = pyplot.subplots(figsize=(15,10))\n",
    "p=seaborn.scatterplot(x= [*df[\"nPCA_1\"], *centroids[:, 0]],\n",
    "                  y=[*df[\"nPCA_2\"], *centroids[:, 1]],\n",
    "                  hue=[pyplot.cm.nipy_spectral(l / (n_clusters+3)) for l in (*kmeans.labels_, *(n_clusters for x in range(len(centroids))))],\n",
    "                  size=[*[1 for l in kmeans.labels_],*[50 for x in range(len(centroids))]],\n",
    "                  ax=ax,\n",
    "                  alpha=0.75,\n",
    "                  legend=False \n",
    "                 )"
   ]
  },
  {
   "cell_type": "code",
   "execution_count": null,
   "id": "discrete-measurement",
   "metadata": {},
   "outputs": [],
   "source": [
    "n_clusters = 10\n",
    "fig, ax = pyplot.subplots(figsize=(15,10))\n",
    "p=seaborn.scatterplot(x=\"tsne_x\",\n",
    "                      y=\"tsne_y\",\n",
    "                      data=df,\n",
    "                      hue=\"source\",\n",
    "                      legend=\"brief\",\n",
    "                      ax=ax,\n",
    "                      alpha=0.75\n",
    "                     )\n",
    "\n",
    "for linkage in ('average', 'complete', 'single'):\n",
    "    clustering = AgglomerativeClustering(linkage=linkage, affinity=\"precomputed\", n_clusters=n_clusters)\n",
    "    clustering.fit(dist_mat)\n",
    "\n",
    "    fig, ax = pyplot.subplots(figsize=(15,10))\n",
    "    p=seaborn.scatterplot(x=\"tsne_x\",\n",
    "                      y=\"tsne_y\",\n",
    "                      data=df,\n",
    "                      hue=[pyplot.cm.nipy_spectral(l / n_clusters) for l in clustering.labels_],\n",
    "                      ax=ax,\n",
    "                      alpha=0.75,\n",
    "                      legend=False,\n",
    "                     ).set_title(f\"Linkage {linkage}\")"
   ]
  },
  {
   "cell_type": "code",
   "execution_count": null,
   "id": "proper-preliminary",
   "metadata": {},
   "outputs": [],
   "source": [
    "fig, ax = pyplot.subplots(figsize=(15,10))\n",
    "p=seaborn.scatterplot(x=\"mds_x\",\n",
    "                      y=\"mds_y\",\n",
    "                      data=df,\n",
    "                      hue=\"source\",\n",
    "                      legend=\"brief\",\n",
    "                      ax=ax,\n",
    "                      alpha=0.75\n",
    "                     )\n",
    "\n",
    "for linkage in ('average', 'complete', 'single'):\n",
    "    clustering = AgglomerativeClustering(linkage=linkage, affinity=\"precomputed\", n_clusters=n_clusters)\n",
    "    clustering.fit(dist_mat)\n",
    "\n",
    "    fig, ax = pyplot.subplots(figsize=(15,10))\n",
    "    p=seaborn.scatterplot(x=\"mds_x\",\n",
    "                      y=\"mds_y\",\n",
    "                      data=df,\n",
    "                      hue=[pyplot.cm.nipy_spectral(l / n_clusters) for l in clustering.labels_],\n",
    "                      ax=ax,\n",
    "                      alpha=0.75,\n",
    "                      legend=False,\n",
    "                     ).set_title(f\"Linkage {linkage}\")"
   ]
  }
 ],
 "metadata": {
  "kernelspec": {
   "display_name": "Python 3",
   "language": "python",
   "name": "python3"
  },
  "language_info": {
   "codemirror_mode": {
    "name": "ipython",
    "version": 3
   },
   "file_extension": ".py",
   "mimetype": "text/x-python",
   "name": "python",
   "nbconvert_exporter": "python",
   "pygments_lexer": "ipython3",
   "version": "3.6.13"
  }
 },
 "nbformat": 4,
 "nbformat_minor": 5
}
