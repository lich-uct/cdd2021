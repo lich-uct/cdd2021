{
 "cells": [
  {
   "cell_type": "code",
   "execution_count": 1,
   "id": "recognized-freight",
   "metadata": {},
   "outputs": [
    {
     "name": "stderr",
     "output_type": "stream",
     "text": [
      "RDKit WARNING: [14:47:57] Enabling RDKit 2019.09.3 jupyter extensions\n"
     ]
    }
   ],
   "source": [
    "from rdkit import Chem\n",
    "from rdkit.Chem.Draw import IPythonConsole"
   ]
  },
  {
   "cell_type": "code",
   "execution_count": 2,
   "id": "derived-tuning",
   "metadata": {},
   "outputs": [],
   "source": [
    "m = Chem.MolFromSmiles(\"C(=O)c1ccccc1\")"
   ]
  },
  {
   "cell_type": "code",
   "execution_count": 3,
   "id": "northern-reach",
   "metadata": {},
   "outputs": [],
   "source": [
    "# almost same molecule\n",
    "m1 = Chem.MolFromSmiles(\"c1ccccc1C(=O)\")"
   ]
  },
  {
   "cell_type": "code",
   "execution_count": 4,
   "id": "adult-triangle",
   "metadata": {},
   "outputs": [],
   "source": [
    "# completely different molecule\n",
    "cdm = Chem.MolFromSmiles(\"c1ccccc1C(=O)CCC1CC1\")"
   ]
  },
  {
   "cell_type": "code",
   "execution_count": 6,
   "id": "horizontal-banking",
   "metadata": {},
   "outputs": [
    {
     "name": "stdout",
     "output_type": "stream",
     "text": [
      "O=Cc1ccccc1 O=Cc1ccccc1\n",
      "C(=O)c1ccccc1 c1ccccc1C=O\n"
     ]
    },
    {
     "data": {
      "text/plain": [
       "'\\nA canonical representation is a unique ordering of the atoms for a given molecular graph. It is somewhat analogous to the International Union of Pure and Applied Chemistry (IUPAC) name for a chemical structure\\n'"
      ]
     },
     "execution_count": 6,
     "metadata": {},
     "output_type": "execute_result"
    }
   ],
   "source": [
    "# compare\n",
    "print(Chem.MolToSmiles(m), Chem.MolToSmiles(m1))\n",
    "# with\n",
    "print(Chem.MolToSmiles(m, canonical=False), Chem.MolToSmiles(m1, canonical=False))\n",
    "'''\n",
    "A canonical representation is a unique ordering of the atoms for a given molecular graph. It is somewhat analogous to the International Union of Pure and Applied Chemistry (IUPAC) name for a chemical structure\n",
    "''' "
   ]
  },
  {
   "cell_type": "code",
   "execution_count": 7,
   "id": "industrial-investigation",
   "metadata": {},
   "outputs": [
    {
     "name": "stdout",
     "output_type": "stream",
     "text": [
      "\n",
      "     RDKit          2D\n",
      "\n",
      "  8  8  0  0  0  0  0  0  0  0999 V2000\n",
      "    3.0000    0.0000    0.0000 C   0  0  0  0  0  0  0  0  0  0  0  0\n",
      "    3.7500   -1.2990    0.0000 O   0  0  0  0  0  0  0  0  0  0  0  0\n",
      "    1.5000    0.0000    0.0000 C   0  0  0  0  0  0  0  0  0  0  0  0\n",
      "    0.7500   -1.2990    0.0000 C   0  0  0  0  0  0  0  0  0  0  0  0\n",
      "   -0.7500   -1.2990    0.0000 C   0  0  0  0  0  0  0  0  0  0  0  0\n",
      "   -1.5000    0.0000    0.0000 C   0  0  0  0  0  0  0  0  0  0  0  0\n",
      "   -0.7500    1.2990    0.0000 C   0  0  0  0  0  0  0  0  0  0  0  0\n",
      "    0.7500    1.2990    0.0000 C   0  0  0  0  0  0  0  0  0  0  0  0\n",
      "  1  2  2  0\n",
      "  1  3  1  0\n",
      "  3  4  2  0\n",
      "  4  5  1  0\n",
      "  5  6  2  0\n",
      "  6  7  1  0\n",
      "  7  8  2  0\n",
      "  8  3  1  0\n",
      "M  END\n",
      "\n"
     ]
    }
   ],
   "source": [
    "print(Chem.MolToMolBlock(m))"
   ]
  },
  {
   "cell_type": "code",
   "execution_count": 8,
   "id": "velvet-yemen",
   "metadata": {},
   "outputs": [
    {
     "data": {
      "image/png": "[encoded data removed]",
      "text/plain": [
       "<rdkit.Chem.rdchem.Mol at 0x7f9ffc930b20>"
      ]
     },
     "execution_count": 8,
     "metadata": {},
     "output_type": "execute_result"
    }
   ],
   "source": [
    "# rdkit can show your molecule (since 2019 without any manually added methods)\n",
    "m"
   ]
  },
  {
   "cell_type": "code",
   "execution_count": 9,
   "id": "continental-drawing",
   "metadata": {},
   "outputs": [
    {
     "data": {
      "image/png": "[encoded data removed]",
      "text/plain": [
       "<rdkit.Chem.rdchem.Mol at 0x7f9ffc930bc0>"
      ]
     },
     "execution_count": 9,
     "metadata": {},
     "output_type": "execute_result"
    }
   ],
   "source": [
    "# looks almost the same, but different atom numbering\n",
    "m1"
   ]
  },
  {
   "cell_type": "code",
   "execution_count": 10,
   "id": "cheap-gossip",
   "metadata": {},
   "outputs": [
    {
     "data": {
      "text/plain": [
       "((2, 7, 6, 5, 4, 3),)"
      ]
     },
     "execution_count": 10,
     "metadata": {},
     "output_type": "execute_result"
    }
   ],
   "source": [
    "ri=m.GetRingInfo()\n",
    "ri.AtomRings()"
   ]
  },
  {
   "cell_type": "code",
   "execution_count": 11,
   "id": "rotary-candy",
   "metadata": {},
   "outputs": [
    {
     "data": {
      "text/plain": [
       "((0, 5, 4, 3, 2, 1),)"
      ]
     },
     "execution_count": 11,
     "metadata": {},
     "output_type": "execute_result"
    }
   ],
   "source": [
    "# can you see different ids of atoms in the ring?\n",
    "ri=m1.GetRingInfo()\n",
    "ri.AtomRings()"
   ]
  },
  {
   "cell_type": "code",
   "execution_count": 12,
   "id": "uniform-strip",
   "metadata": {},
   "outputs": [
    {
     "data": {
      "image/png": "[encoded data removed]",
      "text/plain": [
       "<rdkit.Chem.rdchem.Mol at 0x7f9ffc930d00>"
      ]
     },
     "execution_count": 12,
     "metadata": {},
     "output_type": "execute_result"
    }
   ],
   "source": [
    "# advanced molecule\n",
    "cdm"
   ]
  },
  {
   "cell_type": "code",
   "execution_count": 14,
   "id": "upset-surname",
   "metadata": {},
   "outputs": [
    {
     "data": {
      "text/plain": [
       "(1, 1, 2)"
      ]
     },
     "execution_count": 14,
     "metadata": {},
     "output_type": "execute_result"
    }
   ],
   "source": [
    "# SSSR = smallest set of smallest rings\n",
    "Chem.GetSSSR(m), Chem.GetSSSR(m1), Chem.GetSSSR(cdm)"
   ]
  },
  {
   "cell_type": "code",
   "execution_count": 16,
   "id": "sharp-hawaii",
   "metadata": {},
   "outputs": [
    {
     "name": "stderr",
     "output_type": "stream",
     "text": [
      "RDKit ERROR: [14:54:55] Explicit valence for atom # 7 N, 4, is greater than permitted\n",
      "RDKit ERROR: [14:54:55] ERROR: Could not sanitize molecule ending on line 20009\n",
      "RDKit WARNING: [14:54:55] Warning: conflicting stereochemistry at atom 5 ignored.\n",
      "RDKit WARNING: [14:54:55] Warning: conflicting stereochemistry at atom 5 ignored.\n",
      "RDKit ERROR: [14:54:55] ERROR: Explicit valence for atom # 7 N, 4, is greater than permitted\n",
      "RDKit ERROR: [14:54:55] Can't kekulize mol.  Unkekulized atoms: 1 2 3 5 6 7 8 9 10\n",
      "RDKit ERROR: \n",
      "RDKit ERROR: [14:54:55] ERROR: Could not sanitize molecule ending on line 250947\n",
      "RDKit ERROR: [14:54:55] ERROR: Can't kekulize mol.  Unkekulized atoms: 1 2 3 5 6 7 8 9 10\n",
      "RDKit ERROR: \n",
      "RDKit ERROR: [14:54:55] Explicit valence for atom # 17 O, 3, is greater than permitted\n",
      "RDKit ERROR: [14:54:55] ERROR: Could not sanitize molecule ending on line 258130\n",
      "RDKit ERROR: [14:54:55] ERROR: Explicit valence for atom # 17 O, 3, is greater than permitted\n",
      "RDKit ERROR: [14:54:55] Can't kekulize mol.  Unkekulized atoms: 57 58 59 60 61 62 63 64 65\n",
      "RDKit ERROR: \n",
      "RDKit ERROR: [14:54:55] ERROR: Could not sanitize molecule ending on line 261581\n",
      "RDKit ERROR: [14:54:55] ERROR: Can't kekulize mol.  Unkekulized atoms: 57 58 59 60 61 62 63 64 65\n",
      "RDKit ERROR: \n",
      "RDKit ERROR: [14:54:55] Explicit valence for atom # 47 Mg, 4, is greater than permitted\n",
      "RDKit ERROR: [14:54:55] ERROR: Could not sanitize molecule ending on line 272221\n",
      "RDKit ERROR: [14:54:55] ERROR: Explicit valence for atom # 47 Mg, 4, is greater than permitted\n",
      "RDKit ERROR: [14:54:55] Can't kekulize mol.  Unkekulized atoms: 0 1 2 6 7 8 9 10 11 12 13 14 15 16 17\n",
      "RDKit ERROR: \n",
      "RDKit ERROR: [14:54:55] ERROR: Could not sanitize molecule ending on line 280661\n",
      "RDKit ERROR: [14:54:55] ERROR: Can't kekulize mol.  Unkekulized atoms: 0 1 2 6 7 8 9 10 11 12 13 14 15 16 17\n",
      "RDKit ERROR: \n",
      "RDKit ERROR: [14:54:55] Explicit valence for atom # 13 Cl, 5, is greater than permitted\n",
      "RDKit ERROR: [14:54:55] ERROR: Could not sanitize molecule ending on line 282635\n",
      "RDKit ERROR: [14:54:55] ERROR: Explicit valence for atom # 13 Cl, 5, is greater than permitted\n",
      "RDKit ERROR: [14:54:55] Can't kekulize mol.  Unkekulized atoms: 3 4 5 6 7 8 10 11 12\n",
      "RDKit ERROR: \n",
      "RDKit ERROR: [14:54:55] ERROR: Could not sanitize molecule ending on line 292762\n",
      "RDKit ERROR: [14:54:55] ERROR: Can't kekulize mol.  Unkekulized atoms: 3 4 5 6 7 8 10 11 12\n",
      "RDKit ERROR: \n",
      "RDKit ERROR: [14:54:55] Can't kekulize mol.  Unkekulized atoms: 0 1 2 4 5 6 7 8 9 10\n",
      "RDKit ERROR: \n",
      "RDKit ERROR: [14:54:55] ERROR: Could not sanitize molecule ending on line 293836\n",
      "RDKit ERROR: [14:54:55] ERROR: Can't kekulize mol.  Unkekulized atoms: 0 1 2 4 5 6 7 8 9 10\n",
      "RDKit ERROR: \n",
      "RDKit ERROR: [14:54:55] Can't kekulize mol.  Unkekulized atoms: 2 3 4 5 6 7 8 9 10\n",
      "RDKit ERROR: \n",
      "RDKit ERROR: [14:54:55] ERROR: Could not sanitize molecule ending on line 302815\n",
      "RDKit ERROR: [14:54:55] ERROR: Can't kekulize mol.  Unkekulized atoms: 2 3 4 5 6 7 8 9 10\n",
      "RDKit ERROR: \n",
      "RDKit ERROR: [14:54:55] Can't kekulize mol.  Unkekulized atoms: 13 14 15 16 22\n",
      "RDKit ERROR: \n",
      "RDKit ERROR: [14:54:55] ERROR: Could not sanitize molecule ending on line 304047\n",
      "RDKit ERROR: [14:54:55] ERROR: Can't kekulize mol.  Unkekulized atoms: 13 14 15 16 22\n",
      "RDKit ERROR: \n",
      "RDKit ERROR: [14:54:55] Explicit valence for atom # 46 Mg, 4, is greater than permitted\n",
      "RDKit ERROR: [14:54:55] ERROR: Could not sanitize molecule ending on line 312454\n",
      "RDKit ERROR: [14:54:55] ERROR: Explicit valence for atom # 46 Mg, 4, is greater than permitted\n",
      "RDKit ERROR: [14:54:55] Explicit valence for atom # 27 N, 4, is greater than permitted\n",
      "RDKit ERROR: [14:54:55] ERROR: Could not sanitize molecule ending on line 317905\n",
      "RDKit ERROR: [14:54:55] ERROR: Explicit valence for atom # 27 N, 4, is greater than permitted\n",
      "RDKit ERROR: [14:54:55] Explicit valence for atom # 16 N, 4, is greater than permitted\n",
      "RDKit ERROR: [14:54:55] ERROR: Could not sanitize molecule ending on line 318439\n",
      "RDKit ERROR: [14:54:55] ERROR: Explicit valence for atom # 16 N, 4, is greater than permitted\n",
      "RDKit ERROR: [14:54:55] Can't kekulize mol.  Unkekulized atoms: 3 4 5 6 54\n",
      "RDKit ERROR: \n",
      "RDKit ERROR: [14:54:55] ERROR: Could not sanitize molecule ending on line 324910\n",
      "RDKit ERROR: [14:54:55] ERROR: Can't kekulize mol.  Unkekulized atoms: 3 4 5 6 54\n",
      "RDKit ERROR: \n",
      "RDKit ERROR: [14:54:55] Can't kekulize mol.  Unkekulized atoms: 3 4 5 6 7\n",
      "RDKit ERROR: \n",
      "RDKit ERROR: [14:54:55] ERROR: Could not sanitize molecule ending on line 326050\n",
      "RDKit ERROR: [14:54:55] ERROR: Can't kekulize mol.  Unkekulized atoms: 3 4 5 6 7\n",
      "RDKit ERROR: \n",
      "RDKit ERROR: [14:54:55] Can't kekulize mol.  Unkekulized atoms: 2 3 4 5 11\n",
      "RDKit ERROR: \n",
      "RDKit ERROR: [14:54:55] ERROR: Could not sanitize molecule ending on line 331986\n",
      "RDKit ERROR: [14:54:55] ERROR: Can't kekulize mol.  Unkekulized atoms: 2 3 4 5 11\n",
      "RDKit ERROR: \n",
      "RDKit ERROR: [14:54:55] Can't kekulize mol.  Unkekulized atoms: 1 2 3 4 5 6 7 8 9\n",
      "RDKit ERROR: \n",
      "RDKit ERROR: [14:54:55] ERROR: Could not sanitize molecule ending on line 333287\n",
      "RDKit ERROR: [14:54:55] ERROR: Can't kekulize mol.  Unkekulized atoms: 1 2 3 4 5 6 7 8 9\n",
      "RDKit ERROR: \n",
      "RDKit ERROR: [14:54:55] Can't kekulize mol.  Unkekulized atoms: 3 4 5 6 7\n",
      "RDKit ERROR: \n",
      "RDKit ERROR: [14:54:55] ERROR: Could not sanitize molecule ending on line 347574\n",
      "RDKit ERROR: [14:54:55] ERROR: Can't kekulize mol.  Unkekulized atoms: 3 4 5 6 7\n",
      "RDKit ERROR: \n",
      "RDKit ERROR: [14:54:55] Can't kekulize mol.  Unkekulized atoms: 5 6 7 8 9 10 11 12 13\n",
      "RDKit ERROR: \n",
      "RDKit ERROR: [14:54:55] ERROR: Could not sanitize molecule ending on line 357505\n",
      "RDKit ERROR: [14:54:55] ERROR: Can't kekulize mol.  Unkekulized atoms: 5 6 7 8 9 10 11 12 13\n",
      "RDKit ERROR: \n",
      "RDKit ERROR: [14:54:55] Can't kekulize mol.  Unkekulized atoms: 3 4 5 6 7\n",
      "RDKit ERROR: \n",
      "RDKit ERROR: [14:54:55] ERROR: Could not sanitize molecule ending on line 371006\n",
      "RDKit ERROR: [14:54:55] ERROR: Can't kekulize mol.  Unkekulized atoms: 3 4 5 6 7\n",
      "RDKit ERROR: \n",
      "RDKit ERROR: [14:54:55] Can't kekulize mol.  Unkekulized atoms: 1 2 3 4 5 6 7 8 9\n",
      "RDKit ERROR: \n",
      "RDKit ERROR: [14:54:55] ERROR: Could not sanitize molecule ending on line 378618\n",
      "RDKit ERROR: [14:54:55] ERROR: Can't kekulize mol.  Unkekulized atoms: 1 2 3 4 5 6 7 8 9\n",
      "RDKit ERROR: \n",
      "RDKit ERROR: [14:54:55] Explicit valence for atom # 56 O, 3, is greater than permitted\n",
      "RDKit ERROR: [14:54:55] ERROR: Could not sanitize molecule ending on line 398455\n",
      "RDKit ERROR: [14:54:55] ERROR: Explicit valence for atom # 56 O, 3, is greater than permitted\n",
      "RDKit ERROR: [14:54:55] Can't kekulize mol.  Unkekulized atoms: 9 10 11 12 18\n",
      "RDKit ERROR: \n",
      "RDKit ERROR: [14:54:55] ERROR: Could not sanitize molecule ending on line 407765\n",
      "RDKit ERROR: [14:54:55] ERROR: Can't kekulize mol.  Unkekulized atoms: 9 10 11 12 18\n",
      "RDKit ERROR: \n",
      "RDKit ERROR: [14:54:55] Explicit valence for atom # 46 Mg, 4, is greater than permitted\n",
      "RDKit ERROR: [14:54:55] ERROR: Could not sanitize molecule ending on line 417941\n",
      "RDKit ERROR: [14:54:55] ERROR: Explicit valence for atom # 46 Mg, 4, is greater than permitted\n",
      "RDKit ERROR: [14:54:55] Can't kekulize mol.  Unkekulized atoms: 1 2 3 12 13 14 15 16 17\n",
      "RDKit ERROR: \n",
      "RDKit ERROR: [14:54:55] ERROR: Could not sanitize molecule ending on line 422810\n",
      "RDKit ERROR: [14:54:55] ERROR: Can't kekulize mol.  Unkekulized atoms: 1 2 3 12 13 14 15 16 17\n",
      "RDKit ERROR: \n",
      "RDKit ERROR: [14:54:55] Can't kekulize mol.  Unkekulized atoms: 44 45 46 47 49\n",
      "RDKit ERROR: \n",
      "RDKit ERROR: [14:54:55] ERROR: Could not sanitize molecule ending on line 425190\n",
      "RDKit ERROR: [14:54:55] ERROR: Can't kekulize mol.  Unkekulized atoms: 44 45 46 47 49\n",
      "RDKit ERROR: \n",
      "RDKit ERROR: [14:54:55] Explicit valence for atom # 8 N, 5, is greater than permitted\n",
      "RDKit ERROR: [14:54:55] ERROR: Could not sanitize molecule ending on line 426332\n",
      "RDKit ERROR: [14:54:55] ERROR: Explicit valence for atom # 8 N, 5, is greater than permitted\n",
      "RDKit ERROR: [14:54:55] Can't kekulize mol.  Unkekulized atoms: 54 55 56 57 58 59 60 61 62\n",
      "RDKit ERROR: \n",
      "RDKit ERROR: [14:54:55] ERROR: Could not sanitize molecule ending on line 427901\n",
      "RDKit ERROR: [14:54:55] ERROR: Can't kekulize mol.  Unkekulized atoms: 54 55 56 57 58 59 60 61 62\n",
      "RDKit ERROR: \n",
      "RDKit ERROR: [14:54:55] Can't kekulize mol.  Unkekulized atoms: 0 1 2 3 4 5 6 7 8\n",
      "RDKit ERROR: \n",
      "RDKit ERROR: [14:54:55] ERROR: Could not sanitize molecule ending on line 432118\n"
     ]
    },
    {
     "name": "stderr",
     "output_type": "stream",
     "text": [
      "RDKit ERROR: [14:54:55] ERROR: Can't kekulize mol.  Unkekulized atoms: 0 1 2 3 4 5 6 7 8\n",
      "RDKit ERROR: \n",
      "RDKit ERROR: [14:54:55] Can't kekulize mol.  Unkekulized atoms: 3 4 5 6 8 9 10\n",
      "RDKit ERROR: \n",
      "RDKit ERROR: [14:54:55] ERROR: Could not sanitize molecule ending on line 442989\n",
      "RDKit ERROR: [14:54:55] ERROR: Can't kekulize mol.  Unkekulized atoms: 3 4 5 6 8 9 10\n",
      "RDKit ERROR: \n",
      "RDKit ERROR: [14:54:55] Can't kekulize mol.  Unkekulized atoms: 3 4 5 6 9\n",
      "RDKit ERROR: \n",
      "RDKit ERROR: [14:54:55] ERROR: Could not sanitize molecule ending on line 447465\n",
      "RDKit ERROR: [14:54:55] ERROR: Can't kekulize mol.  Unkekulized atoms: 3 4 5 6 9\n",
      "RDKit ERROR: \n",
      "RDKit ERROR: [14:54:55] Can't kekulize mol.  Unkekulized atoms: 16 17 18 19 20\n",
      "RDKit ERROR: \n",
      "RDKit ERROR: [14:54:55] ERROR: Could not sanitize molecule ending on line 466177\n",
      "RDKit ERROR: [14:54:55] ERROR: Can't kekulize mol.  Unkekulized atoms: 16 17 18 19 20\n",
      "RDKit ERROR: \n",
      "RDKit ERROR: [14:54:55] Can't kekulize mol.  Unkekulized atoms: 7 8 9 10 17\n",
      "RDKit ERROR: \n",
      "RDKit ERROR: [14:54:55] ERROR: Could not sanitize molecule ending on line 468852\n",
      "RDKit ERROR: [14:54:55] ERROR: Can't kekulize mol.  Unkekulized atoms: 7 8 9 10 17\n",
      "RDKit ERROR: \n",
      "RDKit ERROR: [14:54:55] Can't kekulize mol.  Unkekulized atoms: 3 4 5 6 7 8 9 10 11\n",
      "RDKit ERROR: \n",
      "RDKit ERROR: [14:54:55] ERROR: Could not sanitize molecule ending on line 469201\n",
      "RDKit ERROR: [14:54:55] ERROR: Can't kekulize mol.  Unkekulized atoms: 3 4 5 6 7 8 9 10 11\n",
      "RDKit ERROR: \n",
      "RDKit ERROR: [14:54:55] Explicit valence for atom # 53 N, 4, is greater than permitted\n",
      "RDKit ERROR: [14:54:55] ERROR: Could not sanitize molecule ending on line 472285\n",
      "RDKit ERROR: [14:54:55] ERROR: Explicit valence for atom # 53 N, 4, is greater than permitted\n",
      "RDKit ERROR: [14:54:55] Can't kekulize mol.  Unkekulized atoms: 2 3 4 5 12\n",
      "RDKit ERROR: \n",
      "RDKit ERROR: [14:54:55] ERROR: Could not sanitize molecule ending on line 480504\n",
      "RDKit ERROR: [14:54:55] ERROR: Can't kekulize mol.  Unkekulized atoms: 2 3 4 5 12\n",
      "RDKit ERROR: \n",
      "RDKit ERROR: [14:54:55] Explicit valence for atom # 2 O, 3, is greater than permitted\n",
      "RDKit ERROR: [14:54:55] ERROR: Could not sanitize molecule ending on line 499305\n",
      "RDKit ERROR: [14:54:55] ERROR: Explicit valence for atom # 2 O, 3, is greater than permitted\n",
      "RDKit ERROR: [14:54:55] Can't kekulize mol.  Unkekulized atoms: 1 2 3 4 5 6 7 8 9\n",
      "RDKit ERROR: \n",
      "RDKit ERROR: [14:54:55] ERROR: Could not sanitize molecule ending on line 503342\n",
      "RDKit ERROR: [14:54:55] ERROR: Can't kekulize mol.  Unkekulized atoms: 1 2 3 4 5 6 7 8 9\n",
      "RDKit ERROR: \n",
      "RDKit ERROR: [14:54:55] Can't kekulize mol.  Unkekulized atoms: 0 1 2 4 5 6 7 8 9 10\n",
      "RDKit ERROR: \n",
      "RDKit ERROR: [14:54:55] ERROR: Could not sanitize molecule ending on line 508068\n",
      "RDKit ERROR: [14:54:55] ERROR: Can't kekulize mol.  Unkekulized atoms: 0 1 2 4 5 6 7 8 9 10\n",
      "RDKit ERROR: \n",
      "RDKit ERROR: [14:54:55] Can't kekulize mol.  Unkekulized atoms: 1 2 3 4 5 6 7 8 9\n",
      "RDKit ERROR: \n",
      "RDKit ERROR: [14:54:55] ERROR: Could not sanitize molecule ending on line 510069\n",
      "RDKit ERROR: [14:54:55] ERROR: Can't kekulize mol.  Unkekulized atoms: 1 2 3 4 5 6 7 8 9\n",
      "RDKit ERROR: \n",
      "RDKit ERROR: [14:54:55] Can't kekulize mol.  Unkekulized atoms: 3 4 5 6 7 8 10\n",
      "RDKit ERROR: \n",
      "RDKit ERROR: [14:54:55] ERROR: Could not sanitize molecule ending on line 511111\n",
      "RDKit ERROR: [14:54:55] ERROR: Can't kekulize mol.  Unkekulized atoms: 3 4 5 6 7 8 10\n",
      "RDKit ERROR: \n",
      "RDKit ERROR: [14:54:55] Can't kekulize mol.  Unkekulized atoms: 1 2 3 5 6 7 8 9 10\n",
      "RDKit ERROR: \n",
      "RDKit ERROR: [14:54:55] ERROR: Could not sanitize molecule ending on line 512030\n",
      "RDKit ERROR: [14:54:55] ERROR: Can't kekulize mol.  Unkekulized atoms: 1 2 3 5 6 7 8 9 10\n",
      "RDKit ERROR: \n",
      "RDKit ERROR: [14:54:55] Explicit valence for atom # 2 O, 3, is greater than permitted\n",
      "RDKit ERROR: [14:54:55] ERROR: Could not sanitize molecule ending on line 519056\n",
      "RDKit ERROR: [14:54:55] ERROR: Explicit valence for atom # 2 O, 3, is greater than permitted\n",
      "RDKit ERROR: [14:54:55] Explicit valence for atom # 6 B, 4, is greater than permitted\n",
      "RDKit ERROR: [14:54:55] ERROR: Could not sanitize molecule ending on line 541262\n",
      "RDKit ERROR: [14:54:55] ERROR: Explicit valence for atom # 6 B, 4, is greater than permitted\n",
      "RDKit ERROR: [14:54:56] Can't kekulize mol.  Unkekulized atoms: 2 3 17 19 20\n",
      "RDKit ERROR: \n",
      "RDKit ERROR: [14:54:56] ERROR: Could not sanitize molecule ending on line 557517\n",
      "RDKit ERROR: [14:54:56] ERROR: Can't kekulize mol.  Unkekulized atoms: 2 3 17 19 20\n",
      "RDKit ERROR: \n",
      "RDKit ERROR: [14:54:56] Can't kekulize mol.  Unkekulized atoms: 0 1 2 4 5 6 7 8 9 10\n",
      "RDKit ERROR: \n",
      "RDKit ERROR: [14:54:56] ERROR: Could not sanitize molecule ending on line 561344\n",
      "RDKit ERROR: [14:54:56] ERROR: Can't kekulize mol.  Unkekulized atoms: 0 1 2 4 5 6 7 8 9 10\n",
      "RDKit ERROR: \n",
      "RDKit ERROR: [14:54:56] Can't kekulize mol.  Unkekulized atoms: 10 11 12 13 19\n",
      "RDKit ERROR: \n",
      "RDKit ERROR: [14:54:56] ERROR: Could not sanitize molecule ending on line 562947\n",
      "RDKit ERROR: [14:54:56] ERROR: Can't kekulize mol.  Unkekulized atoms: 10 11 12 13 19\n",
      "RDKit ERROR: \n",
      "RDKit ERROR: [14:54:56] Explicit valence for atom # 27 N, 4, is greater than permitted\n",
      "RDKit ERROR: [14:54:56] ERROR: Could not sanitize molecule ending on line 567073\n",
      "RDKit ERROR: [14:54:56] ERROR: Explicit valence for atom # 27 N, 4, is greater than permitted\n",
      "RDKit ERROR: [14:54:56] Can't kekulize mol.  Unkekulized atoms: 9 10 11 12 13 14 15 16 17\n",
      "RDKit ERROR: \n",
      "RDKit ERROR: [14:54:56] ERROR: Could not sanitize molecule ending on line 568252\n",
      "RDKit ERROR: [14:54:56] ERROR: Can't kekulize mol.  Unkekulized atoms: 9 10 11 12 13 14 15 16 17\n",
      "RDKit ERROR: \n",
      "RDKit ERROR: [14:54:56] Can't kekulize mol.  Unkekulized atoms: 23 24 25 26 27\n",
      "RDKit ERROR: \n",
      "RDKit ERROR: [14:54:56] ERROR: Could not sanitize molecule ending on line 574645\n",
      "RDKit ERROR: [14:54:56] ERROR: Can't kekulize mol.  Unkekulized atoms: 23 24 25 26 27\n",
      "RDKit ERROR: \n",
      "RDKit ERROR: [14:54:56] Can't kekulize mol.  Unkekulized atoms: 5 6 7 8 9\n",
      "RDKit ERROR: \n",
      "RDKit ERROR: [14:54:56] ERROR: Could not sanitize molecule ending on line 592639\n",
      "RDKit ERROR: [14:54:56] ERROR: Can't kekulize mol.  Unkekulized atoms: 5 6 7 8 9\n",
      "RDKit ERROR: \n",
      "RDKit ERROR: [14:54:56] Explicit valence for atom # 12 N, 4, is greater than permitted\n",
      "RDKit ERROR: [14:54:56] ERROR: Could not sanitize molecule ending on line 595909\n",
      "RDKit ERROR: [14:54:56] ERROR: Explicit valence for atom # 12 N, 4, is greater than permitted\n",
      "RDKit ERROR: [14:54:56] Explicit valence for atom # 0 Br, 2, is greater than permitted\n",
      "RDKit ERROR: [14:54:56] ERROR: Could not sanitize molecule ending on line 599041\n",
      "RDKit ERROR: [14:54:56] ERROR: Explicit valence for atom # 0 Br, 2, is greater than permitted\n",
      "RDKit ERROR: [14:54:56] Explicit valence for atom # 1 N, 4, is greater than permitted\n",
      "RDKit ERROR: [14:54:56] ERROR: Could not sanitize molecule ending on line 601819\n",
      "RDKit ERROR: [14:54:56] ERROR: Explicit valence for atom # 1 N, 4, is greater than permitted\n",
      "RDKit ERROR: [14:54:56] Explicit valence for atom # 6 Be, 4, is greater than permitted\n",
      "RDKit ERROR: [14:54:56] ERROR: Could not sanitize molecule ending on line 604427\n",
      "RDKit ERROR: [14:54:56] ERROR: Explicit valence for atom # 6 Be, 4, is greater than permitted\n",
      "RDKit ERROR: [14:54:56] Can't kekulize mol.  Unkekulized atoms: 4 5 6 7 8 9 10 11 12\n",
      "RDKit ERROR: \n",
      "RDKit ERROR: [14:54:56] ERROR: Could not sanitize molecule ending on line 604912\n",
      "RDKit ERROR: [14:54:56] ERROR: Can't kekulize mol.  Unkekulized atoms: 4 5 6 7 8 9 10 11 12\n",
      "RDKit ERROR: \n",
      "RDKit ERROR: [14:54:56] Can't kekulize mol.  Unkekulized atoms: 5 6 7 8 9 10 11 12 13\n",
      "RDKit ERROR: \n",
      "RDKit ERROR: [14:54:56] ERROR: Could not sanitize molecule ending on line 616025\n",
      "RDKit ERROR: [14:54:56] ERROR: Can't kekulize mol.  Unkekulized atoms: 5 6 7 8 9 10 11 12 13\n",
      "RDKit ERROR: \n",
      "RDKit ERROR: [14:54:56] Can't kekulize mol.  Unkekulized atoms: 1 2 3 5 6 7 8 9 10\n",
      "RDKit ERROR: \n",
      "RDKit ERROR: [14:54:56] ERROR: Could not sanitize molecule ending on line 623202\n",
      "RDKit ERROR: [14:54:56] ERROR: Can't kekulize mol.  Unkekulized atoms: 1 2 3 5 6 7 8 9 10\n",
      "RDKit ERROR: \n",
      "RDKit ERROR: [14:54:56] Can't kekulize mol.  Unkekulized atoms: 5 6 7 8 9 10 11 12 13\n",
      "RDKit ERROR: \n",
      "RDKit ERROR: [14:54:56] ERROR: Could not sanitize molecule ending on line 628065\n",
      "RDKit ERROR: [14:54:56] ERROR: Can't kekulize mol.  Unkekulized atoms: 5 6 7 8 9 10 11 12 13\n",
      "RDKit ERROR: \n",
      "RDKit ERROR: [14:54:56] Explicit valence for atom # 19 N, 4, is greater than permitted\n",
      "RDKit ERROR: [14:54:56] ERROR: Could not sanitize molecule ending on line 636938\n",
      "RDKit ERROR: [14:54:56] ERROR: Explicit valence for atom # 19 N, 4, is greater than permitted\n",
      "RDKit ERROR: [14:54:56] Explicit valence for atom # 0 O, 3, is greater than permitted\n",
      "RDKit ERROR: [14:54:56] ERROR: Could not sanitize molecule ending on line 640674\n",
      "RDKit ERROR: [14:54:56] ERROR: Explicit valence for atom # 0 O, 3, is greater than permitted\n",
      "RDKit ERROR: [14:54:56] Explicit valence for atom # 17 Mg, 4, is greater than permitted\n",
      "RDKit ERROR: [14:54:56] ERROR: Could not sanitize molecule ending on line 642835\n",
      "RDKit ERROR: [14:54:56] ERROR: Explicit valence for atom # 17 Mg, 4, is greater than permitted\n",
      "RDKit ERROR: [14:54:56] Explicit valence for atom # 4 F, 2, is greater than permitted\n",
      "RDKit ERROR: [14:54:56] ERROR: Could not sanitize molecule ending on line 645068\n",
      "RDKit ERROR: [14:54:56] ERROR: Explicit valence for atom # 4 F, 2, is greater than permitted\n",
      "RDKit ERROR: [14:54:56] Can't kekulize mol.  Unkekulized atoms: 0 1 2 4 5 6 7 8 9 10\n",
      "RDKit ERROR: \n",
      "RDKit ERROR: [14:54:56] ERROR: Could not sanitize molecule ending on line 659994\n"
     ]
    },
    {
     "name": "stderr",
     "output_type": "stream",
     "text": [
      "RDKit ERROR: [14:54:56] ERROR: Can't kekulize mol.  Unkekulized atoms: 0 1 2 4 5 6 7 8 9 10\n",
      "RDKit ERROR: \n",
      "RDKit ERROR: [14:54:56] Explicit valence for atom # 0 Be, 3, is greater than permitted\n",
      "RDKit ERROR: [14:54:56] ERROR: Could not sanitize molecule ending on line 995692\n",
      "RDKit ERROR: [14:54:56] ERROR: Explicit valence for atom # 0 Be, 3, is greater than permitted\n",
      "RDKit ERROR: [14:54:56] Explicit valence for atom # 0 C greater than permitted\n",
      "RDKit ERROR: [14:54:56] ERROR: Could not sanitize molecule ending on line 1151592\n"
     ]
    }
   ],
   "source": [
    "suppl = Chem.SDMolSupplier('../data/drugbank.sdf')  # Default working directory is where the notebook is\n",
    "drugs = [m for m in suppl if not m == None]  # supplier sometimes returns None, you can see many errors below\n",
    "\n",
    "#drugs = []\n",
    "#for m in suppl:\n",
    "#    drug.append(m)"
   ]
  },
  {
   "cell_type": "code",
   "execution_count": 17,
   "id": "theoretical-memphis",
   "metadata": {},
   "outputs": [
    {
     "data": {
      "text/plain": [
       "7113"
      ]
     },
     "execution_count": 17,
     "metadata": {},
     "output_type": "execute_result"
    }
   ],
   "source": [
    "len(drugs)"
   ]
  },
  {
   "cell_type": "code",
   "execution_count": 19,
   "id": "expressed-evening",
   "metadata": {},
   "outputs": [
    {
     "data": {
      "text/plain": [
       "[6, 6, 4, 6, 1, 4, 5, 1, 12, 3]"
      ]
     },
     "execution_count": 19,
     "metadata": {},
     "output_type": "execute_result"
    }
   ],
   "source": [
    "rings = [Chem.GetSSSR(drug) for drug in drugs]\n",
    "rings[:10]"
   ]
  },
  {
   "cell_type": "code",
   "execution_count": 20,
   "id": "canadian-opening",
   "metadata": {},
   "outputs": [
    {
     "data": {
      "text/plain": [
       "[(<rdkit.Chem.rdchem.Mol at 0x7f9ffc7133f0>, 6),\n",
       " (<rdkit.Chem.rdchem.Mol at 0x7f9ffc713490>, 6),\n",
       " (<rdkit.Chem.rdchem.Mol at 0x7f9ffc713530>, 4),\n",
       " (<rdkit.Chem.rdchem.Mol at 0x7f9ffc713580>, 6),\n",
       " (<rdkit.Chem.rdchem.Mol at 0x7f9ffc7135d0>, 1),\n",
       " (<rdkit.Chem.rdchem.Mol at 0x7f9ffc713620>, 4),\n",
       " (<rdkit.Chem.rdchem.Mol at 0x7f9ffc713670>, 5),\n",
       " (<rdkit.Chem.rdchem.Mol at 0x7f9ffc7136c0>, 1),\n",
       " (<rdkit.Chem.rdchem.Mol at 0x7f9ffc713710>, 12),\n",
       " (<rdkit.Chem.rdchem.Mol at 0x7f9ffc713760>, 3)]"
      ]
     },
     "execution_count": 20,
     "metadata": {},
     "output_type": "execute_result"
    }
   ],
   "source": [
    "[(m,r) for m, r in zip(drugs, rings[:10])]"
   ]
  },
  {
   "cell_type": "code",
   "execution_count": 21,
   "id": "continued-lawrence",
   "metadata": {},
   "outputs": [
    {
     "data": {
      "text/plain": [
       "17547"
      ]
     },
     "execution_count": 21,
     "metadata": {},
     "output_type": "execute_result"
    }
   ],
   "source": [
    "sum(rings)"
   ]
  },
  {
   "cell_type": "code",
   "execution_count": 22,
   "id": "cardiac-numbers",
   "metadata": {},
   "outputs": [
    {
     "data": {
      "text/plain": [
       "2.4668916069169127"
      ]
     },
     "execution_count": 22,
     "metadata": {},
     "output_type": "execute_result"
    }
   ],
   "source": [
    "sum(rings)/len(drugs)"
   ]
  },
  {
   "cell_type": "code",
   "execution_count": null,
   "id": "worse-license",
   "metadata": {},
   "outputs": [],
   "source": []
  }
 ],
 "metadata": {
  "kernelspec": {
   "display_name": "Python 3",
   "language": "python",
   "name": "python3"
  },
  "language_info": {
   "codemirror_mode": {
    "name": "ipython",
    "version": 3
   },
   "file_extension": ".py",
   "mimetype": "text/x-python",
   "name": "python",
   "nbconvert_exporter": "python",
   "pygments_lexer": "ipython3",
   "version": "3.6.5"
  }
 },
 "nbformat": 4,
 "nbformat_minor": 5
}
