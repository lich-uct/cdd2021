{
 "cells": [
  {
   "cell_type": "markdown",
   "id": "arranged-projector",
   "metadata": {},
   "source": [
    "## Druglikeness"
   ]
  },
  {
   "cell_type": "code",
   "execution_count": 1,
   "id": "broad-going",
   "metadata": {},
   "outputs": [
    {
     "name": "stderr",
     "output_type": "stream",
     "text": [
      "RDKit WARNING: [21:40:28] Enabling RDKit 2019.09.3 jupyter extensions\n"
     ]
    }
   ],
   "source": [
    "from rdkit.Chem import AllChem as Chem\n",
    "from rdkit.Chem import Descriptors\n",
    "from rdkit.Chem import rdMolDescriptors as rdescriptors\n",
    "from rdkit.Chem.Draw import IPythonConsole\n",
    "import pandas as pd\n",
    "import seaborn as sns\n",
    "%matplotlib inline\n",
    "import matplotlib.pyplot as plt"
   ]
  },
  {
   "cell_type": "code",
   "execution_count": 2,
   "id": "anonymous-supplement",
   "metadata": {},
   "outputs": [],
   "source": [
    "#Load data\n",
    "df_can = pd.read_csv('cannabinoid.csv', delimiter=';')\n"
   ]
  },
  {
   "cell_type": "code",
   "execution_count": 3,
   "id": "exterior-dietary",
   "metadata": {},
   "outputs": [],
   "source": [
    "#Load drugbank data\n",
    "suppl = Chem.SDMolSupplier('../data/drugbank.sdf')\n",
    "drugs = [m for m in suppl if m]"
   ]
  },
  {
   "cell_type": "code",
   "execution_count": 4,
   "id": "found-trash",
   "metadata": {},
   "outputs": [],
   "source": [
    "#Clean data\n",
    "df1 = df_can.dropna(subset=['Smiles'])\n"
   ]
  },
  {
   "cell_type": "code",
   "execution_count": 5,
   "id": "intense-shooting",
   "metadata": {},
   "outputs": [],
   "source": [
    "#List of molecules instances\n",
    "ligandm_database = []\n",
    "for ligand in df1[\"Smiles\"]:\n",
    "\t\tligandm_database.append(Chem.MolFromSmiles(ligand))"
   ]
  },
  {
   "cell_type": "code",
   "execution_count": 6,
   "id": "through-fishing",
   "metadata": {},
   "outputs": [
    {
     "data": {
      "image/png": "[encoded data removed]",
      "text/plain": [
       "<rdkit.Chem.rdchem.Mol at 0x238d2149e90>"
      ]
     },
     "execution_count": 6,
     "metadata": {},
     "output_type": "execute_result"
    }
   ],
   "source": [
    "#Molecule\n",
    "ligandm_database[12]"
   ]
  },
  {
   "cell_type": "markdown",
   "id": "beginning-safety",
   "metadata": {},
   "source": [
    "### Lipinski's rule of five\n",
    "\n",
    "* no more than 5 hydrogen bond donors\n",
    "* no more than 10 hydrogen bond acceptors\n",
    "* molecular weight of less than 500 Da\n",
    "* logP less than 5"
   ]
  },
  {
   "cell_type": "code",
   "execution_count": 7,
   "id": "constant-telling",
   "metadata": {},
   "outputs": [],
   "source": [
    "#Lipinski's rule of five functions\n",
    "def too_many_hbd(mol):\n",
    "    return rdescriptors.CalcNumLipinskiHBD(mol) > 5\n",
    "\n",
    "def too_many_hba(mol):\n",
    "    return rdescriptors.CalcNumLipinskiHBA(mol) > 10\n",
    "\n",
    "def too_heavy(mol):\n",
    "    return rdescriptors.CalcExactMolWt(mol) > 500\n",
    "\n",
    "def too_greasy(mol):\n",
    "    return Descriptors.MolLogP(mol) > 5"
   ]
  },
  {
   "cell_type": "code",
   "execution_count": 8,
   "id": "abandoned-processor",
   "metadata": {},
   "outputs": [
    {
     "data": {
      "text/plain": [
       "(False, False, False, False)"
      ]
     },
     "execution_count": 8,
     "metadata": {},
     "output_type": "execute_result"
    }
   ],
   "source": [
    "# Let's check if molecule [12] pass our test\n",
    "\n",
    "too_many_hbd(ligandm_database[12]), too_many_hba(ligandm_database[12]), \\\n",
    "too_heavy(ligandm_database[12]), too_greasy(ligandm_database[12])"
   ]
  },
  {
   "cell_type": "markdown",
   "id": "posted-negotiation",
   "metadata": {},
   "source": [
    "So stucture [12] did pass the Lipinski filter"
   ]
  },
  {
   "cell_type": "code",
   "execution_count": 9,
   "id": "proper-stomach",
   "metadata": {},
   "outputs": [],
   "source": [
    "#Evaluation of whole dataset with the Lipinski filter\n",
    "can_hbd = []\n",
    "for x in ligandm_database:\n",
    "\t\tcan_hbd.append(too_many_hbd(x))\n",
    "\n",
    "can_hba = []\n",
    "for x in ligandm_database:\n",
    "\t\tcan_hba.append(too_many_hba(x))\n",
    "\n",
    "can_heavy = []\n",
    "for x in ligandm_database:\n",
    "\t\tcan_heavy.append(too_heavy(x))\n",
    "\n",
    "\n",
    "can_greasy = []\n",
    "for x in ligandm_database:\n",
    "\t\tcan_greasy.append(too_greasy(x))\n",
    "        \n"
   ]
  },
  {
   "cell_type": "code",
   "execution_count": 10,
   "id": "proud-capitol",
   "metadata": {},
   "outputs": [],
   "source": [
    "df1_can = pd.DataFrame(data={'name':'cannabinoid',\n",
    "                        'too_many_hbd': can_hbd,\n",
    "                        'too_many_hba': can_hba,\n",
    "                        'too_greasy': can_heavy,\n",
    "                        'too_heavy': can_greasy})\n"
   ]
  },
  {
   "cell_type": "code",
   "execution_count": 11,
   "id": "southeast-terminology",
   "metadata": {},
   "outputs": [],
   "source": [
    "# Function - Lipinski's violations\n",
    "def ro5_violations(mol):\n",
    "    return sum([too_many_hbd(mol), too_many_hba(mol), too_heavy(mol), too_greasy(mol)])\n",
    "\n",
    "def violates_lipinski(mol):\n",
    "    return ro5_violations(mol) > 1"
   ]
  },
  {
   "cell_type": "code",
   "execution_count": 12,
   "id": "imperial-currency",
   "metadata": {},
   "outputs": [
    {
     "name": "stdout",
     "output_type": "stream",
     "text": [
      "Overall number of molecules which violate Lipinskis rules in our dataset is 2034 which corresponds to 68.0% of our molecules. 446 molecules fail at least one of the Lipinski rule, which is about 15.0%\n"
     ]
    }
   ],
   "source": [
    "# Number of molecules which do not pass the Lipinski's rules\n",
    "can_ro5_violations = []\n",
    "for x in ligandm_database:\n",
    "    can_ro5_violations.append(ro5_violations(x)) \n",
    "\n",
    "can__violates_lipinski = []\n",
    "for m in ligandm_database:\n",
    "    can__violates_lipinski.append(violates_lipinski(m))\n",
    "\n",
    "\n",
    "a = str(sum(can_ro5_violations))\n",
    "b = str(round(sum(can_ro5_violations)/len(can_ro5_violations),2)*100)\n",
    "c = str(sum(can__violates_lipinski))\n",
    "d = str(round(sum(can__violates_lipinski)/len(can__violates_lipinski),2)*100)\n",
    "\n",
    "print('Overall number of molecules which violate Lipinskis rules in our dataset is ' + a + ' which corresponds to ' + b + \"% of our molecules. \" + c + \" molecules fail at least one of the Lipinski rule, which is about \" + d + \"%\")\n",
    "    "
   ]
  },
  {
   "cell_type": "code",
   "execution_count": 13,
   "id": "imported-evans",
   "metadata": {},
   "outputs": [
    {
     "data": {
      "image/png": "[encoded data removed]",
      "text/plain": [
       "<Figure size 432x288 with 1 Axes>"
      ]
     },
     "metadata": {},
     "output_type": "display_data"
    }
   ],
   "source": [
    "#Visualisation of Lipinski violation in our dataset\n",
    "df1_can['fails_lipinski'] = can__violates_lipinski\n",
    "with sns.axes_style(\"whitegrid\"):\n",
    "    p = sns.barplot(data=df1_can, ci=None)\n",
    "    p.set_title(\"RO5 violation ratio\")\n",
    "    p.set_ylabel(\"Ratio of issues in set\")"
   ]
  },
  {
   "cell_type": "code",
   "execution_count": 14,
   "id": "unauthorized-possible",
   "metadata": {},
   "outputs": [],
   "source": [
    "from rdkit.Chem import Crippen\n",
    "\n",
    "#Ghose filter \n",
    "def bad_greasyness_ghose(mol):\n",
    "    logp = Descriptors.MolLogP(mol)\n",
    "    return logp > 5.6 or logp < -0.4\n",
    "\n",
    "df1_can['odd_greasyness'] = [bad_greasyness_ghose(l) for l in ligandm_database]\n",
    "\n",
    "def bad_refractivity_ghose(mol):\n",
    "    ref = Crippen.MolMR(mol)\n",
    "    return ref > 130 or ref < 40\n",
    "df1_can['odd_refractivity'] = [bad_refractivity_ghose(l) for l in ligandm_database]\n",
    "\n",
    "def bad_mw_ghose(mol):\n",
    "    mw = rdescriptors.CalcExactMolWt(mol)\n",
    "    return mw > 480 or mw < 180\n",
    "df1_can['odd_mass'] = [bad_mw_ghose(l) for l in ligandm_database]\n",
    "\n",
    "def bad_atomcount_ghose(mol):\n",
    "    ac = mol.GetNumHeavyAtoms()\n",
    "    return ac > 70 or ac < 20\n",
    "df1_can['odd_atomcount'] = [bad_atomcount_ghose(l) for l in ligandm_database]\n",
    "\n",
    "def violates_ghose(mol):\n",
    "    return bad_greasyness_ghose(mol) or bad_refractivity_ghose(mol) or bad_mw_ghose(mol) or bad_atomcount_ghose(mol)\n",
    "df1_can['fails_ghose'] = [violates_ghose(l) for l in ligandm_database]\n",
    "\n",
    "def too_rotatable_veber(mol):\n",
    "    return Chem.CalcNumRotatableBonds(mol) > 10\n",
    "df1_can['too_rotatable'] = [too_rotatable_veber(l) for l in ligandm_database]\n",
    "\n",
    "def too_large_psa_veber(mol):\n",
    "    return rdescriptors.CalcTPSA(mol) > 140\n",
    "df1_can['excessive_psa'] = [too_large_psa_veber(l) for l in ligandm_database]\n",
    "\n",
    "def violates_veber(mol):\n",
    "    return too_rotatable_veber(mol) or too_large_psa_veber(mol)\n",
    "df1_can['fails_veber'] = [violates_veber(l) for l in ligandm_database]"
   ]
  },
  {
   "cell_type": "code",
   "execution_count": 15,
   "id": "ideal-cutting",
   "metadata": {},
   "outputs": [
    {
     "data": {
      "image/png": "[encoded data removed]",
      "text/plain": [
       "<Figure size 432x288 with 1 Axes>"
      ]
     },
     "metadata": {},
     "output_type": "display_data"
    }
   ],
   "source": [
    "#Visualisation of drug-likeness rule violation ratios\n",
    "with sns.axes_style(\"whitegrid\"):\n",
    "    p = sns.barplot(data=df1_can, ci=None)\n",
    "    p.set_title(\"Drug-likeness rule violation ratios in my dataset\")\n",
    "    p.set_ylabel(\"Ratio of issues in set\")\n",
    "    p.set_xticklabels(p.get_xticklabels(), rotation=30) "
   ]
  },
  {
   "cell_type": "code",
   "execution_count": 16,
   "id": "connected-steal",
   "metadata": {},
   "outputs": [
    {
     "data": {
      "text/html": [
       "<div>\n",
       "<style scoped>\n",
       "    .dataframe tbody tr th:only-of-type {\n",
       "        vertical-align: middle;\n",
       "    }\n",
       "\n",
       "    .dataframe tbody tr th {\n",
       "        vertical-align: top;\n",
       "    }\n",
       "\n",
       "    .dataframe thead th {\n",
       "        text-align: right;\n",
       "    }\n",
       "</style>\n",
       "<table border=\"1\" class=\"dataframe\">\n",
       "  <thead>\n",
       "    <tr style=\"text-align: right;\">\n",
       "      <th></th>\n",
       "      <th>set</th>\n",
       "      <th>too_many_hbd</th>\n",
       "      <th>too_many_hba</th>\n",
       "      <th>too_greasy</th>\n",
       "      <th>too_heavy</th>\n",
       "      <th>fails_lipinski</th>\n",
       "      <th>odd_greasyness</th>\n",
       "      <th>odd_refractivity</th>\n",
       "      <th>odd_mass</th>\n",
       "      <th>odd_atomcount</th>\n",
       "      <th>fails_ghose</th>\n",
       "      <th>too_rotatable</th>\n",
       "      <th>excessive_psa</th>\n",
       "      <th>fails_veber</th>\n",
       "    </tr>\n",
       "  </thead>\n",
       "  <tbody>\n",
       "    <tr>\n",
       "      <th>0</th>\n",
       "      <td>DrugBank</td>\n",
       "      <td>True</td>\n",
       "      <td>True</td>\n",
       "      <td>False</td>\n",
       "      <td>True</td>\n",
       "      <td>True</td>\n",
       "      <td>True</td>\n",
       "      <td>True</td>\n",
       "      <td>True</td>\n",
       "      <td>True</td>\n",
       "      <td>True</td>\n",
       "      <td>True</td>\n",
       "      <td>True</td>\n",
       "      <td>True</td>\n",
       "    </tr>\n",
       "    <tr>\n",
       "      <th>1</th>\n",
       "      <td>DrugBank</td>\n",
       "      <td>True</td>\n",
       "      <td>True</td>\n",
       "      <td>False</td>\n",
       "      <td>True</td>\n",
       "      <td>True</td>\n",
       "      <td>True</td>\n",
       "      <td>True</td>\n",
       "      <td>True</td>\n",
       "      <td>True</td>\n",
       "      <td>True</td>\n",
       "      <td>True</td>\n",
       "      <td>True</td>\n",
       "      <td>True</td>\n",
       "    </tr>\n",
       "    <tr>\n",
       "      <th>2</th>\n",
       "      <td>DrugBank</td>\n",
       "      <td>True</td>\n",
       "      <td>True</td>\n",
       "      <td>False</td>\n",
       "      <td>True</td>\n",
       "      <td>True</td>\n",
       "      <td>True</td>\n",
       "      <td>True</td>\n",
       "      <td>True</td>\n",
       "      <td>True</td>\n",
       "      <td>True</td>\n",
       "      <td>True</td>\n",
       "      <td>True</td>\n",
       "      <td>True</td>\n",
       "    </tr>\n",
       "    <tr>\n",
       "      <th>3</th>\n",
       "      <td>DrugBank</td>\n",
       "      <td>True</td>\n",
       "      <td>True</td>\n",
       "      <td>False</td>\n",
       "      <td>True</td>\n",
       "      <td>True</td>\n",
       "      <td>True</td>\n",
       "      <td>True</td>\n",
       "      <td>True</td>\n",
       "      <td>True</td>\n",
       "      <td>True</td>\n",
       "      <td>True</td>\n",
       "      <td>True</td>\n",
       "      <td>True</td>\n",
       "    </tr>\n",
       "    <tr>\n",
       "      <th>4</th>\n",
       "      <td>DrugBank</td>\n",
       "      <td>False</td>\n",
       "      <td>True</td>\n",
       "      <td>False</td>\n",
       "      <td>True</td>\n",
       "      <td>True</td>\n",
       "      <td>False</td>\n",
       "      <td>True</td>\n",
       "      <td>True</td>\n",
       "      <td>True</td>\n",
       "      <td>True</td>\n",
       "      <td>True</td>\n",
       "      <td>True</td>\n",
       "      <td>True</td>\n",
       "    </tr>\n",
       "    <tr>\n",
       "      <th>...</th>\n",
       "      <td>...</td>\n",
       "      <td>...</td>\n",
       "      <td>...</td>\n",
       "      <td>...</td>\n",
       "      <td>...</td>\n",
       "      <td>...</td>\n",
       "      <td>...</td>\n",
       "      <td>...</td>\n",
       "      <td>...</td>\n",
       "      <td>...</td>\n",
       "      <td>...</td>\n",
       "      <td>...</td>\n",
       "      <td>...</td>\n",
       "      <td>...</td>\n",
       "    </tr>\n",
       "    <tr>\n",
       "      <th>7108</th>\n",
       "      <td>DrugBank</td>\n",
       "      <td>False</td>\n",
       "      <td>False</td>\n",
       "      <td>False</td>\n",
       "      <td>False</td>\n",
       "      <td>False</td>\n",
       "      <td>False</td>\n",
       "      <td>True</td>\n",
       "      <td>True</td>\n",
       "      <td>True</td>\n",
       "      <td>True</td>\n",
       "      <td>False</td>\n",
       "      <td>False</td>\n",
       "      <td>False</td>\n",
       "    </tr>\n",
       "    <tr>\n",
       "      <th>7109</th>\n",
       "      <td>DrugBank</td>\n",
       "      <td>False</td>\n",
       "      <td>False</td>\n",
       "      <td>False</td>\n",
       "      <td>False</td>\n",
       "      <td>False</td>\n",
       "      <td>True</td>\n",
       "      <td>False</td>\n",
       "      <td>False</td>\n",
       "      <td>False</td>\n",
       "      <td>True</td>\n",
       "      <td>False</td>\n",
       "      <td>True</td>\n",
       "      <td>True</td>\n",
       "    </tr>\n",
       "    <tr>\n",
       "      <th>7110</th>\n",
       "      <td>DrugBank</td>\n",
       "      <td>True</td>\n",
       "      <td>True</td>\n",
       "      <td>False</td>\n",
       "      <td>True</td>\n",
       "      <td>True</td>\n",
       "      <td>False</td>\n",
       "      <td>True</td>\n",
       "      <td>True</td>\n",
       "      <td>True</td>\n",
       "      <td>True</td>\n",
       "      <td>True</td>\n",
       "      <td>True</td>\n",
       "      <td>True</td>\n",
       "    </tr>\n",
       "    <tr>\n",
       "      <th>7111</th>\n",
       "      <td>DrugBank</td>\n",
       "      <td>False</td>\n",
       "      <td>False</td>\n",
       "      <td>False</td>\n",
       "      <td>False</td>\n",
       "      <td>False</td>\n",
       "      <td>False</td>\n",
       "      <td>False</td>\n",
       "      <td>False</td>\n",
       "      <td>False</td>\n",
       "      <td>False</td>\n",
       "      <td>True</td>\n",
       "      <td>False</td>\n",
       "      <td>True</td>\n",
       "    </tr>\n",
       "    <tr>\n",
       "      <th>7112</th>\n",
       "      <td>DrugBank</td>\n",
       "      <td>False</td>\n",
       "      <td>False</td>\n",
       "      <td>False</td>\n",
       "      <td>False</td>\n",
       "      <td>False</td>\n",
       "      <td>False</td>\n",
       "      <td>False</td>\n",
       "      <td>False</td>\n",
       "      <td>False</td>\n",
       "      <td>False</td>\n",
       "      <td>False</td>\n",
       "      <td>False</td>\n",
       "      <td>False</td>\n",
       "    </tr>\n",
       "  </tbody>\n",
       "</table>\n",
       "<p>7113 rows × 14 columns</p>\n",
       "</div>"
      ],
      "text/plain": [
       "           set  too_many_hbd  too_many_hba  too_greasy  too_heavy  \\\n",
       "0     DrugBank          True          True       False       True   \n",
       "1     DrugBank          True          True       False       True   \n",
       "2     DrugBank          True          True       False       True   \n",
       "3     DrugBank          True          True       False       True   \n",
       "4     DrugBank         False          True       False       True   \n",
       "...        ...           ...           ...         ...        ...   \n",
       "7108  DrugBank         False         False       False      False   \n",
       "7109  DrugBank         False         False       False      False   \n",
       "7110  DrugBank          True          True       False       True   \n",
       "7111  DrugBank         False         False       False      False   \n",
       "7112  DrugBank         False         False       False      False   \n",
       "\n",
       "      fails_lipinski  odd_greasyness  odd_refractivity  odd_mass  \\\n",
       "0               True            True              True      True   \n",
       "1               True            True              True      True   \n",
       "2               True            True              True      True   \n",
       "3               True            True              True      True   \n",
       "4               True           False              True      True   \n",
       "...              ...             ...               ...       ...   \n",
       "7108           False           False              True      True   \n",
       "7109           False            True             False     False   \n",
       "7110            True           False              True      True   \n",
       "7111           False           False             False     False   \n",
       "7112           False           False             False     False   \n",
       "\n",
       "      odd_atomcount  fails_ghose  too_rotatable  excessive_psa  fails_veber  \n",
       "0              True         True           True           True         True  \n",
       "1              True         True           True           True         True  \n",
       "2              True         True           True           True         True  \n",
       "3              True         True           True           True         True  \n",
       "4              True         True           True           True         True  \n",
       "...             ...          ...            ...            ...          ...  \n",
       "7108           True         True          False          False        False  \n",
       "7109          False         True          False           True         True  \n",
       "7110           True         True           True           True         True  \n",
       "7111          False        False           True          False         True  \n",
       "7112          False        False          False          False        False  \n",
       "\n",
       "[7113 rows x 14 columns]"
      ]
     },
     "execution_count": 16,
     "metadata": {},
     "output_type": "execute_result"
    }
   ],
   "source": [
    "#Drugbank\n",
    "df_drugbank = pd.DataFrame(\n",
    "    data={'set':'DrugBank',\n",
    "          'too_many_hbd': [too_many_hbd(l) for l in drugs],\n",
    "          'too_many_hba': [too_many_hba(l) for l in drugs],\n",
    "          'too_greasy': [too_greasy(l) for l in drugs],\n",
    "          'too_heavy': [too_heavy(l) for l in drugs],\n",
    "          'fails_lipinski': [violates_lipinski(l) for l in drugs],\n",
    "          'odd_greasyness': [bad_greasyness_ghose(l) for l in drugs],\n",
    "          'odd_refractivity': [bad_refractivity_ghose(l) for l in drugs],\n",
    "          'odd_mass': [bad_mw_ghose(l) for l in drugs],\n",
    "          'odd_atomcount': [bad_atomcount_ghose(l) for l in drugs],\n",
    "          'fails_ghose': [violates_ghose(l) for l in drugs],\n",
    "          'too_rotatable': [too_rotatable_veber(l) for l in drugs],\n",
    "          'excessive_psa': [too_large_psa_veber(l) for l in drugs],\n",
    "          'fails_veber': [violates_veber(l) for l in drugs]})\n",
    "df_drugbank"
   ]
  },
  {
   "cell_type": "code",
   "execution_count": 17,
   "id": "copyrighted-smart",
   "metadata": {},
   "outputs": [
    {
     "data": {
      "image/png": "[encoded data removed]",
      "text/plain": [
       "<Figure size 432x288 with 1 Axes>"
      ]
     },
     "metadata": {},
     "output_type": "display_data"
    }
   ],
   "source": [
    "# Visualisation of drugbank's violation\n",
    "with sns.axes_style(\"whitegrid\"):\n",
    "    p = sns.barplot(data=df_drugbank, ci=None)\n",
    "    p.set_title(\"Drug-likeness rule violation ratios in DrugBank\")\n",
    "    p.set_ylabel(\"Ratio of issues in set\")\n",
    "    p.set_xticklabels(p.get_xticklabels(), rotation=30) "
   ]
  },
  {
   "cell_type": "code",
   "execution_count": 18,
   "id": "prepared-consumer",
   "metadata": {},
   "outputs": [],
   "source": [
    "#Lead-likeness filter\n",
    "#LogP 3 or less, molecular weight below 300 Da, max 3 HBA, max 3 HBD, and no more than 3 rotatable bonds\n",
    "\n",
    "def too_greasy_lead(mol):\n",
    "    return Descriptors.MolLogP(mol) > 3\n",
    "\n",
    "def too_heavy_lead(mol):\n",
    "    return rdescriptors.CalcExactMolWt(mol) > 300\n",
    "\n",
    "def too_many_hbd_lead(mol):\n",
    "    return rdescriptors.CalcNumLipinskiHBD(mol) > 3\n",
    "\n",
    "def too_many_hba_lead(mol):\n",
    "    return rdescriptors.CalcNumLipinskiHBA(mol) > 3\n",
    "\n",
    "def too_rotatable_lead(mol):\n",
    "    return Chem.CalcNumRotatableBonds(mol) > 3\n",
    "\n",
    "# Function - LeadLike violation\n",
    "def ro5_violations(mol):\n",
    "    return sum([too_many_hbd_lead(mol), too_many_hba_lead(mol), too_heavy_lead(mol), too_greasy_lead(mol), too_rotatable_lead(mol)])\n",
    "\n",
    "def violates_leadlike(mol):\n",
    "    return ro5_violations(mol) > 3\n",
    "\n",
    "\n",
    "df_leadlike = pd.DataFrame(\n",
    "    data={'set':'LeadLike',\n",
    "          'too_greasy_lead': [too_greasy_lead(l) for l in ligandm_database],\n",
    "          'too_heavy_lead': [too_heavy_lead(l) for l in ligandm_database],\n",
    "          'too_many_hbd_lead': [too_many_hbd_lead(l) for l in ligandm_database],\n",
    "          'too_many_hba_lead': [too_many_hba_lead(l) for l in ligandm_database],\n",
    "          'too_rotatable_lead': [violates_lipinski(l) for l in ligandm_database],\n",
    "           'fails_leadlike': [violates_leadlike(l) for l in ligandm_database],})\n",
    "\n",
    "\n"
   ]
  },
  {
   "cell_type": "code",
   "execution_count": 19,
   "id": "skilled-smile",
   "metadata": {},
   "outputs": [
    {
     "data": {
      "image/png": "[encoded data removed]",
      "text/plain": [
       "<Figure size 432x288 with 1 Axes>"
      ]
     },
     "metadata": {},
     "output_type": "display_data"
    }
   ],
   "source": [
    "# Visualisation of LeadLike's violation\n",
    "with sns.axes_style(\"whitegrid\"):\n",
    "    p = sns.barplot(data=df_leadlike, ci=None)\n",
    "    p.set_title(\"Leadlike rule violation ratios in my dataset\")\n",
    "    p.set_ylabel(\"Ratio of issues in set\")\n",
    "    p.set_xticklabels(p.get_xticklabels(), rotation=30) "
   ]
  },
  {
   "cell_type": "code",
   "execution_count": 20,
   "id": "anticipated-north",
   "metadata": {},
   "outputs": [
    {
     "name": "stdout",
     "output_type": "stream",
     "text": [
      "1595 molecules fails  the LeadLike test, which is about 53.0%\n"
     ]
    }
   ],
   "source": [
    "# Leadlike violation my dataset\n",
    "can_ro5_violations = []\n",
    "for x in ligandm_database:\n",
    "    can_ro5_violations.append(ro5_violations(x)) \n",
    "\n",
    "can__violates_lipinski = []\n",
    "for m in ligandm_database:\n",
    "    can__violates_lipinski.append(violates_leadlike(m))\n",
    "\n",
    "c = str(sum(can__violates_lipinski))\n",
    "d = str(round(sum(can__violates_lipinski)/len(can__violates_lipinski),2)*100)\n",
    "\n",
    "print(  c + \" molecules fails  the LeadLike test, which is about \" + d + \"%\")\n",
    "\n"
   ]
  },
  {
   "cell_type": "code",
   "execution_count": 21,
   "id": "continent-halifax",
   "metadata": {},
   "outputs": [
    {
     "data": {
      "text/html": [
       "<div>\n",
       "<style scoped>\n",
       "    .dataframe tbody tr th:only-of-type {\n",
       "        vertical-align: middle;\n",
       "    }\n",
       "\n",
       "    .dataframe tbody tr th {\n",
       "        vertical-align: top;\n",
       "    }\n",
       "\n",
       "    .dataframe thead th {\n",
       "        text-align: right;\n",
       "    }\n",
       "</style>\n",
       "<table border=\"1\" class=\"dataframe\">\n",
       "  <thead>\n",
       "    <tr style=\"text-align: right;\">\n",
       "      <th></th>\n",
       "      <th>set</th>\n",
       "      <th>too_greasy_lead</th>\n",
       "      <th>too_heavy_lead</th>\n",
       "      <th>too_many_hbd_lead</th>\n",
       "      <th>too_many_hba_lead</th>\n",
       "      <th>too_rotatable_lead</th>\n",
       "      <th>fails_leadlike</th>\n",
       "    </tr>\n",
       "  </thead>\n",
       "  <tbody>\n",
       "    <tr>\n",
       "      <th>0</th>\n",
       "      <td>LeadLike_Drugbank</td>\n",
       "      <td>False</td>\n",
       "      <td>True</td>\n",
       "      <td>True</td>\n",
       "      <td>True</td>\n",
       "      <td>True</td>\n",
       "      <td>True</td>\n",
       "    </tr>\n",
       "    <tr>\n",
       "      <th>1</th>\n",
       "      <td>LeadLike_Drugbank</td>\n",
       "      <td>False</td>\n",
       "      <td>True</td>\n",
       "      <td>True</td>\n",
       "      <td>True</td>\n",
       "      <td>True</td>\n",
       "      <td>True</td>\n",
       "    </tr>\n",
       "    <tr>\n",
       "      <th>2</th>\n",
       "      <td>LeadLike_Drugbank</td>\n",
       "      <td>False</td>\n",
       "      <td>True</td>\n",
       "      <td>True</td>\n",
       "      <td>True</td>\n",
       "      <td>True</td>\n",
       "      <td>True</td>\n",
       "    </tr>\n",
       "    <tr>\n",
       "      <th>3</th>\n",
       "      <td>LeadLike_Drugbank</td>\n",
       "      <td>False</td>\n",
       "      <td>True</td>\n",
       "      <td>True</td>\n",
       "      <td>True</td>\n",
       "      <td>True</td>\n",
       "      <td>True</td>\n",
       "    </tr>\n",
       "    <tr>\n",
       "      <th>4</th>\n",
       "      <td>LeadLike_Drugbank</td>\n",
       "      <td>True</td>\n",
       "      <td>True</td>\n",
       "      <td>True</td>\n",
       "      <td>True</td>\n",
       "      <td>True</td>\n",
       "      <td>True</td>\n",
       "    </tr>\n",
       "    <tr>\n",
       "      <th>...</th>\n",
       "      <td>...</td>\n",
       "      <td>...</td>\n",
       "      <td>...</td>\n",
       "      <td>...</td>\n",
       "      <td>...</td>\n",
       "      <td>...</td>\n",
       "      <td>...</td>\n",
       "    </tr>\n",
       "    <tr>\n",
       "      <th>7108</th>\n",
       "      <td>LeadLike_Drugbank</td>\n",
       "      <td>False</td>\n",
       "      <td>False</td>\n",
       "      <td>False</td>\n",
       "      <td>False</td>\n",
       "      <td>False</td>\n",
       "      <td>False</td>\n",
       "    </tr>\n",
       "    <tr>\n",
       "      <th>7109</th>\n",
       "      <td>LeadLike_Drugbank</td>\n",
       "      <td>False</td>\n",
       "      <td>True</td>\n",
       "      <td>True</td>\n",
       "      <td>True</td>\n",
       "      <td>True</td>\n",
       "      <td>False</td>\n",
       "    </tr>\n",
       "    <tr>\n",
       "      <th>7110</th>\n",
       "      <td>LeadLike_Drugbank</td>\n",
       "      <td>False</td>\n",
       "      <td>True</td>\n",
       "      <td>True</td>\n",
       "      <td>True</td>\n",
       "      <td>True</td>\n",
       "      <td>True</td>\n",
       "    </tr>\n",
       "    <tr>\n",
       "      <th>7111</th>\n",
       "      <td>LeadLike_Drugbank</td>\n",
       "      <td>False</td>\n",
       "      <td>True</td>\n",
       "      <td>False</td>\n",
       "      <td>True</td>\n",
       "      <td>True</td>\n",
       "      <td>False</td>\n",
       "    </tr>\n",
       "    <tr>\n",
       "      <th>7112</th>\n",
       "      <td>LeadLike_Drugbank</td>\n",
       "      <td>True</td>\n",
       "      <td>True</td>\n",
       "      <td>False</td>\n",
       "      <td>True</td>\n",
       "      <td>True</td>\n",
       "      <td>False</td>\n",
       "    </tr>\n",
       "  </tbody>\n",
       "</table>\n",
       "<p>7113 rows × 7 columns</p>\n",
       "</div>"
      ],
      "text/plain": [
       "                    set  too_greasy_lead  too_heavy_lead  too_many_hbd_lead  \\\n",
       "0     LeadLike_Drugbank            False            True               True   \n",
       "1     LeadLike_Drugbank            False            True               True   \n",
       "2     LeadLike_Drugbank            False            True               True   \n",
       "3     LeadLike_Drugbank            False            True               True   \n",
       "4     LeadLike_Drugbank             True            True               True   \n",
       "...                 ...              ...             ...                ...   \n",
       "7108  LeadLike_Drugbank            False           False              False   \n",
       "7109  LeadLike_Drugbank            False            True               True   \n",
       "7110  LeadLike_Drugbank            False            True               True   \n",
       "7111  LeadLike_Drugbank            False            True              False   \n",
       "7112  LeadLike_Drugbank             True            True              False   \n",
       "\n",
       "      too_many_hba_lead  too_rotatable_lead  fails_leadlike  \n",
       "0                  True                True            True  \n",
       "1                  True                True            True  \n",
       "2                  True                True            True  \n",
       "3                  True                True            True  \n",
       "4                  True                True            True  \n",
       "...                 ...                 ...             ...  \n",
       "7108              False               False           False  \n",
       "7109               True                True           False  \n",
       "7110               True                True            True  \n",
       "7111               True                True           False  \n",
       "7112               True                True           False  \n",
       "\n",
       "[7113 rows x 7 columns]"
      ]
     },
     "execution_count": 21,
     "metadata": {},
     "output_type": "execute_result"
    }
   ],
   "source": [
    "df_leadlike_drugbank = pd.DataFrame(\n",
    "    data={'set':'LeadLike_Drugbank',\n",
    "          'too_greasy_lead': [too_greasy_lead(l) for l in drugs],\n",
    "          'too_heavy_lead': [too_heavy_lead(l) for l in drugs],\n",
    "          'too_many_hbd_lead': [too_many_hbd_lead(l) for l in drugs],\n",
    "          'too_many_hba_lead': [too_many_hba_lead(l) for l in drugs],\n",
    "          'too_rotatable_lead': [violates_lipinski(l) for l in drugs],\n",
    "           'fails_leadlike': [violates_leadlike(l) for l in drugs],})\n",
    "df_leadlike_drugbank "
   ]
  },
  {
   "cell_type": "code",
   "execution_count": 22,
   "id": "vocal-coaching",
   "metadata": {},
   "outputs": [
    {
     "data": {
      "image/png": "[encoded data removed]",
      "text/plain": [
       "<Figure size 432x288 with 1 Axes>"
      ]
     },
     "metadata": {},
     "output_type": "display_data"
    }
   ],
   "source": [
    "# Visualisation of LeadLike's violation\n",
    "with sns.axes_style(\"whitegrid\"):\n",
    "    p = sns.barplot(data=df_leadlike_drugbank, ci=None)\n",
    "    p.set_title(\"Leadlike rule violation ratios in Drugbank\")\n",
    "    p.set_ylabel(\"Ratio of issues in set\")\n",
    "    p.set_xticklabels(p.get_xticklabels(), rotation=30) "
   ]
  },
  {
   "cell_type": "code",
   "execution_count": 23,
   "id": "trained-taxation",
   "metadata": {},
   "outputs": [
    {
     "name": "stdout",
     "output_type": "stream",
     "text": [
      "2503 molecules fails  the LeadLike test, which is about 35.0%\n"
     ]
    }
   ],
   "source": [
    "# Leadlike violation\n",
    "can_ro5_violations = []\n",
    "for x in drugs:\n",
    "    can_ro5_violations.append(ro5_violations(x)) \n",
    "\n",
    "can__violates_lipinski = []\n",
    "for m in drugs:\n",
    "    can__violates_lipinski.append(violates_leadlike(m))\n",
    "\n",
    "c = str(sum(can__violates_lipinski))\n",
    "d = str(round(sum(can__violates_lipinski)/len(can__violates_lipinski),2)*100)\n",
    "\n",
    "print(  c + \" molecules fails  the LeadLike test, which is about \" + d + \"%\")"
   ]
  },
  {
   "cell_type": "markdown",
   "id": "through-tracker",
   "metadata": {},
   "source": [
    "## Summary"
   ]
  },
  {
   "cell_type": "markdown",
   "id": "union-stranger",
   "metadata": {},
   "source": [
    "* In my dataset 446 molecules fail at least one of the Lipinski rule, which is about 15.0%.\n",
    "* The most molecules in my dataset violate the rule about the molecular weight which should be less than 500 DA and also the rule  logP which should be less than 5.\n",
    "* According to Ghose filter, most of ligands in my dataset have too many heavy atoms and bad polarizability.\n",
    "* In drugbank dataset about 25% molecules violate Lipinski rules.\n",
    "* Most of ligands in drugbank have too heavy atoms and high logP and molecular weight. \n",
    "* In my dataset 1595 molecules fails  the LeadLike test, which is about 53.0%. Most molecules violate the rule about no more than 3 rotatable bonds. And the second most violated rule is about he molecular weight.\n",
    "* In drugbank dataset 2503 molecules fails  the LeadLike test, which is about 35.0%. Most of molecules violate the rule about the number of hydrogen bond acceptors, which is in this case max 3 HBA. The second most violated rule is about no more than 3 rotatable bonds.\n",
    "\n"
   ]
  }
 ],
 "metadata": {
  "kernelspec": {
   "display_name": "Python 3",
   "language": "python",
   "name": "python3"
  },
  "language_info": {
   "codemirror_mode": {
    "name": "ipython",
    "version": 3
   },
   "file_extension": ".py",
   "mimetype": "text/x-python",
   "name": "python",
   "nbconvert_exporter": "python",
   "pygments_lexer": "ipython3",
   "version": "3.7.10"
  }
 },
 "nbformat": 4,
 "nbformat_minor": 5
}
