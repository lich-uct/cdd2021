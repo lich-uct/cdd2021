{
 "cells": [
  {
   "cell_type": "code",
   "execution_count": 4,
   "id": "killing-prompt",
   "metadata": {},
   "outputs": [],
   "source": [
    "from rdkit import Chem\n",
    "from rdkit.Chem.Draw import IPythonConsole"
   ]
  },
  {
   "cell_type": "markdown",
   "id": "hungarian-designer",
   "metadata": {},
   "source": [
    "I've chosen the epidermal growth factor receptor erbB1, which initiates series of signal transduction cascades that give rise to various biological processes, such as Mesenchymal Stem Cells proliferation/differentiation, tissue remodelling and wound repair."
   ]
  },
  {
   "cell_type": "code",
   "execution_count": 5,
   "id": "assured-observer",
   "metadata": {},
   "outputs": [
    {
     "data": {
      "text/plain": [
       "OrderedDict([('Molecule ChEMBL ID', 'CHEMBL4465103'),\n",
       "             ('Molecule Name', ''),\n",
       "             ('Molecule Max Phase', '0'),\n",
       "             ('Molecular Weight', '537.61'),\n",
       "             ('#RO5 Violations', '1'),\n",
       "             ('AlogP', '4.34'),\n",
       "             ('Compound Key', '7e'),\n",
       "             ('Smiles',\n",
       "              'C=CC(=O)Nc1cc(Nc2nccc(Nc3ccccc3P(C)(C)=O)n2)c(OC)cc1N(C)CCN(C)C'),\n",
       "             ('Standard Type', 'IC50'),\n",
       "             ('Standard Relation', \"'='\"),\n",
       "             ('Standard Value', '149.0'),\n",
       "             ('Standard Units', 'nM'),\n",
       "             ('pChEMBL Value', '6.83'),\n",
       "             ('Data Validity Comment', ''),\n",
       "             ('Comment', ''),\n",
       "             ('Uo Units', 'UO_0000065'),\n",
       "             ('Ligand Efficiency BEI', '12.70'),\n",
       "             ('Ligand Efficiency LE', '0.25'),\n",
       "             ('Ligand Efficiency LLE', '2.49'),\n",
       "             ('Ligand Efficiency SEI', '6.11'),\n",
       "             ('Potential Duplicate', 'False'),\n",
       "             ('Assay ChEMBL ID', 'CHEMBL4382298'),\n",
       "             ('Assay Description',\n",
       "              'Inhibition of wild type GST-tagged human EGFR cytoplasmic domain (668 to 1210 residues) expressed in baculovirus expression system using Poly G:T (4:1) as substrate after 30 mins by Z-LYTE assay'),\n",
       "             ('Assay Type', 'B'),\n",
       "             ('BAO Format ID', 'BAO_0000019'),\n",
       "             ('BAO Label', 'assay format'),\n",
       "             ('Assay Organism', 'Homo sapiens'),\n",
       "             ('Assay Tissue ChEMBL ID', 'None'),\n",
       "             ('Assay Tissue Name', 'None'),\n",
       "             ('Assay Cell Type', 'None'),\n",
       "             ('Assay Subcellular Fraction', 'None'),\n",
       "             ('Assay Parameters', ''),\n",
       "             ('Assay Variant Accession', ''),\n",
       "             ('Assay Variant Mutation', ''),\n",
       "             ('Target ChEMBL ID', 'CHEMBL203'),\n",
       "             ('Target Name', 'Epidermal growth factor receptor erbB1'),\n",
       "             ('Target Organism', 'Homo sapiens'),\n",
       "             ('Target Type', 'SINGLE PROTEIN'),\n",
       "             ('Document ChEMBL ID', 'CHEMBL4382192'),\n",
       "             ('Source ID', '1'),\n",
       "             ('Source Description', 'Scientific Literature'),\n",
       "             ('Document Journal', 'Eur J Med Chem'),\n",
       "             ('Document Year', '2017'),\n",
       "             ('Cell ChEMBL ID', 'None'),\n",
       "             ('Properties', '')])"
      ]
     },
     "execution_count": 5,
     "metadata": {},
     "output_type": "execute_result"
    }
   ],
   "source": [
    "import csv\n",
    "with open('Epidermal_growth_factor_receptor_erbB1_IC50.csv', 'r') as csvfile:\n",
    "    reader = csv.DictReader(csvfile, delimiter=\";\") \n",
    "    rawdata = [x for x in reader] # a list of rows within the csv\n",
    "rawdata[0] \n",
    "#reader returns ordered dictionaries, one for each row"
   ]
  },
  {
   "cell_type": "code",
   "execution_count": 6,
   "id": "enclosed-costume",
   "metadata": {},
   "outputs": [
    {
     "name": "stdout",
     "output_type": "stream",
     "text": [
      "CHEMBL4465103\n",
      "C=CC(=O)Nc1cc(Nc2nccc(Nc3ccccc3P(C)(C)=O)n2)c(OC)cc1N(C)CCN(C)C\n"
     ]
    }
   ],
   "source": [
    "print(rawdata[0]['Molecule ChEMBL ID']) # getting first substance ID\n",
    "print(rawdata[0]['Smiles']) # getting first substance structure in SMILES"
   ]
  },
  {
   "cell_type": "code",
   "execution_count": 7,
   "id": "recovered-equipment",
   "metadata": {},
   "outputs": [
    {
     "data": {
      "text/plain": [
       "(14362, 14362)"
      ]
     },
     "execution_count": 7,
     "metadata": {},
     "output_type": "execute_result"
    }
   ],
   "source": [
    "ligand_ids = [m['Molecule ChEMBL ID'] for m in rawdata]\n",
    "ligand_mols = [Chem.MolFromSmiles(m['Smiles']) for m in rawdata]\n",
    "# the two lists are aligned, so that the ids and the associated structures are in the same order\n",
    "len(ligand_ids), len(ligand_mols)"
   ]
  },
  {
   "cell_type": "code",
   "execution_count": 8,
   "id": "removed-motorcycle",
   "metadata": {},
   "outputs": [
    {
     "data": {
      "text/plain": [
       "[]"
      ]
     },
     "execution_count": 8,
     "metadata": {},
     "output_type": "execute_result"
    }
   ],
   "source": [
    "[x for x in ligand_mols if not x] # no empty value in the RDKit molecule instance list, so they all parsed ok"
   ]
  },
  {
   "cell_type": "code",
   "execution_count": 9,
   "id": "black-essay",
   "metadata": {},
   "outputs": [
    {
     "data": {
      "text/plain": [
       "3"
      ]
     },
     "execution_count": 9,
     "metadata": {},
     "output_type": "execute_result"
    }
   ],
   "source": [
    "ligand_rings = [Chem.GetSSSR(ligand) for ligand in ligand_mols]\n",
    "ligand_rings[0] # have a look at ring count of the first molecule"
   ]
  },
  {
   "cell_type": "code",
   "execution_count": 10,
   "id": "outdoor-failure",
   "metadata": {},
   "outputs": [
    {
     "data": {
      "image/png": "[encoded data removed]",
      "text/plain": [
       "<rdkit.Chem.rdchem.Mol at 0x7f69332fc940>"
      ]
     },
     "execution_count": 10,
     "metadata": {},
     "output_type": "execute_result"
    }
   ],
   "source": [
    "ligand_mols[0]"
   ]
  },
  {
   "cell_type": "code",
   "execution_count": 11,
   "id": "rotary-infection",
   "metadata": {},
   "outputs": [
    {
     "data": {
      "text/plain": [
       "3.977997493385322"
      ]
     },
     "execution_count": 11,
     "metadata": {},
     "output_type": "execute_result"
    }
   ],
   "source": [
    "sum(ligand_rings)/len(ligand_mols)"
   ]
  },
  {
   "cell_type": "markdown",
   "id": "prerequisite-factory",
   "metadata": {},
   "source": [
    "The average ring counts of the ligands of the epidermal growth factor receptor is 3.98, which is more than the average for drugs in DrugBank (2.46)."
   ]
  }
 ],
 "metadata": {
  "kernelspec": {
   "display_name": "Python 3",
   "language": "python",
   "name": "python3"
  },
  "language_info": {
   "codemirror_mode": {
    "name": "ipython",
    "version": 3
   },
   "file_extension": ".py",
   "mimetype": "text/x-python",
   "name": "python",
   "nbconvert_exporter": "python",
   "pygments_lexer": "ipython3",
   "version": "3.7.10"
  }
 },
 "nbformat": 4,
 "nbformat_minor": 5
}
