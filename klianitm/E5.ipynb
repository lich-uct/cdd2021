{
 "cells": [
  {
   "cell_type": "markdown",
   "metadata": {},
   "source": [
    "# Substructures & substructure filters\n"
   ]
  },
  {
   "cell_type": "code",
   "execution_count": 1,
   "metadata": {},
   "outputs": [],
   "source": [
    "from rdkit.Chem import AllChem as Chem\n",
    "from rdkit.Chem import Draw\n",
    "from rdkit.Chem.Draw import IPythonConsole\n",
    "import csv"
   ]
  },
  {
   "cell_type": "code",
   "execution_count": 2,
   "metadata": {},
   "outputs": [
    {
     "name": "stderr",
     "output_type": "stream",
     "text": [
      "RDKit ERROR: [17:42:14] Explicit valence for atom # 7 N, 4, is greater than permitted\n",
      "RDKit ERROR: [17:42:14] ERROR: Could not sanitize molecule ending on line 20009\n",
      "RDKit ERROR: [17:42:14] ERROR: Explicit valence for atom # 7 N, 4, is greater than permitted\n",
      "RDKit ERROR: [17:42:15] Can't kekulize mol.  Unkekulized atoms: 1 2 3 5 6 7 8 9 10\n",
      "RDKit ERROR: \n",
      "RDKit ERROR: [17:42:15] ERROR: Could not sanitize molecule ending on line 250947\n",
      "RDKit ERROR: [17:42:15] ERROR: Can't kekulize mol.  Unkekulized atoms: 1 2 3 5 6 7 8 9 10\n",
      "RDKit ERROR: \n",
      "RDKit ERROR: [17:42:15] Explicit valence for atom # 17 O, 3, is greater than permitted\n",
      "RDKit ERROR: [17:42:15] ERROR: Could not sanitize molecule ending on line 258130\n",
      "RDKit ERROR: [17:42:15] ERROR: Explicit valence for atom # 17 O, 3, is greater than permitted\n",
      "RDKit ERROR: [17:42:15] Can't kekulize mol.  Unkekulized atoms: 57 58 59 60 61 62 63 64 65\n",
      "RDKit ERROR: \n",
      "RDKit ERROR: [17:42:15] ERROR: Could not sanitize molecule ending on line 261581\n",
      "RDKit ERROR: [17:42:15] ERROR: Can't kekulize mol.  Unkekulized atoms: 57 58 59 60 61 62 63 64 65\n",
      "RDKit ERROR: \n",
      "RDKit ERROR: [17:42:15] Explicit valence for atom # 47 Mg, 4, is greater than permitted\n",
      "RDKit ERROR: [17:42:15] ERROR: Could not sanitize molecule ending on line 272221\n",
      "RDKit ERROR: [17:42:15] ERROR: Explicit valence for atom # 47 Mg, 4, is greater than permitted\n",
      "RDKit ERROR: [17:42:15] Can't kekulize mol.  Unkekulized atoms: 0 1 2 6 7 8 9 10 11 12 13 14 15 16 17\n",
      "RDKit ERROR: \n",
      "RDKit ERROR: [17:42:15] ERROR: Could not sanitize molecule ending on line 280661\n",
      "RDKit ERROR: [17:42:15] ERROR: Can't kekulize mol.  Unkekulized atoms: 0 1 2 6 7 8 9 10 11 12 13 14 15 16 17\n",
      "RDKit ERROR: \n",
      "RDKit ERROR: [17:42:15] Can't kekulize mol.  Unkekulized atoms: 3 4 5 6 7 8 10 11 12\n",
      "RDKit ERROR: \n",
      "RDKit ERROR: [17:42:15] ERROR: Could not sanitize molecule ending on line 292762\n",
      "RDKit ERROR: [17:42:15] ERROR: Can't kekulize mol.  Unkekulized atoms: 3 4 5 6 7 8 10 11 12\n",
      "RDKit ERROR: \n",
      "RDKit ERROR: [17:42:15] Can't kekulize mol.  Unkekulized atoms: 0 1 2 4 5 6 7 8 9 10\n",
      "RDKit ERROR: \n",
      "RDKit ERROR: [17:42:15] ERROR: Could not sanitize molecule ending on line 293836\n",
      "RDKit ERROR: [17:42:15] ERROR: Can't kekulize mol.  Unkekulized atoms: 0 1 2 4 5 6 7 8 9 10\n",
      "RDKit ERROR: \n",
      "RDKit ERROR: [17:42:15] Can't kekulize mol.  Unkekulized atoms: 2 3 4 5 6 7 8 9 10\n",
      "RDKit ERROR: \n",
      "RDKit ERROR: [17:42:15] ERROR: Could not sanitize molecule ending on line 302815\n",
      "RDKit ERROR: [17:42:15] ERROR: Can't kekulize mol.  Unkekulized atoms: 2 3 4 5 6 7 8 9 10\n",
      "RDKit ERROR: \n",
      "RDKit ERROR: [17:42:15] Can't kekulize mol.  Unkekulized atoms: 13 14 15 16 22\n",
      "RDKit ERROR: \n",
      "RDKit ERROR: [17:42:15] ERROR: Could not sanitize molecule ending on line 304047\n",
      "RDKit ERROR: [17:42:15] ERROR: Can't kekulize mol.  Unkekulized atoms: 13 14 15 16 22\n",
      "RDKit ERROR: \n",
      "RDKit ERROR: [17:42:15] Explicit valence for atom # 46 Mg, 4, is greater than permitted\n",
      "RDKit ERROR: [17:42:15] ERROR: Could not sanitize molecule ending on line 312454\n",
      "RDKit ERROR: [17:42:15] ERROR: Explicit valence for atom # 46 Mg, 4, is greater than permitted\n",
      "RDKit ERROR: [17:42:15] Explicit valence for atom # 27 N, 4, is greater than permitted\n",
      "RDKit ERROR: [17:42:15] ERROR: Could not sanitize molecule ending on line 317905\n",
      "RDKit ERROR: [17:42:15] ERROR: Explicit valence for atom # 27 N, 4, is greater than permitted\n",
      "RDKit ERROR: [17:42:15] Explicit valence for atom # 16 N, 4, is greater than permitted\n",
      "RDKit ERROR: [17:42:15] ERROR: Could not sanitize molecule ending on line 318439\n",
      "RDKit ERROR: [17:42:15] ERROR: Explicit valence for atom # 16 N, 4, is greater than permitted\n",
      "RDKit ERROR: [17:42:15] Can't kekulize mol.  Unkekulized atoms: 3 4 5 6 54\n",
      "RDKit ERROR: \n",
      "RDKit ERROR: [17:42:15] ERROR: Could not sanitize molecule ending on line 324910\n",
      "RDKit ERROR: [17:42:15] ERROR: Can't kekulize mol.  Unkekulized atoms: 3 4 5 6 54\n",
      "RDKit ERROR: \n",
      "RDKit ERROR: [17:42:15] Can't kekulize mol.  Unkekulized atoms: 3 4 5 6 7\n",
      "RDKit ERROR: \n",
      "RDKit ERROR: [17:42:15] ERROR: Could not sanitize molecule ending on line 326050\n",
      "RDKit ERROR: [17:42:15] ERROR: Can't kekulize mol.  Unkekulized atoms: 3 4 5 6 7\n",
      "RDKit ERROR: \n",
      "RDKit ERROR: [17:42:15] Can't kekulize mol.  Unkekulized atoms: 2 3 4 5 11\n",
      "RDKit ERROR: \n",
      "RDKit ERROR: [17:42:15] ERROR: Could not sanitize molecule ending on line 331986\n",
      "RDKit ERROR: [17:42:15] ERROR: Can't kekulize mol.  Unkekulized atoms: 2 3 4 5 11\n",
      "RDKit ERROR: \n",
      "RDKit ERROR: [17:42:15] Can't kekulize mol.  Unkekulized atoms: 1 2 3 4 5 6 7 8 9\n",
      "RDKit ERROR: \n",
      "RDKit ERROR: [17:42:15] ERROR: Could not sanitize molecule ending on line 333287\n",
      "RDKit ERROR: [17:42:15] ERROR: Can't kekulize mol.  Unkekulized atoms: 1 2 3 4 5 6 7 8 9\n",
      "RDKit ERROR: \n",
      "RDKit ERROR: [17:42:15] Can't kekulize mol.  Unkekulized atoms: 3 4 5 6 7\n",
      "RDKit ERROR: \n",
      "RDKit ERROR: [17:42:15] ERROR: Could not sanitize molecule ending on line 347574\n",
      "RDKit ERROR: [17:42:15] ERROR: Can't kekulize mol.  Unkekulized atoms: 3 4 5 6 7\n",
      "RDKit ERROR: \n",
      "RDKit ERROR: [17:42:15] Can't kekulize mol.  Unkekulized atoms: 5 6 7 8 9 10 11 12 13\n",
      "RDKit ERROR: \n",
      "RDKit ERROR: [17:42:15] ERROR: Could not sanitize molecule ending on line 357505\n",
      "RDKit ERROR: [17:42:15] ERROR: Can't kekulize mol.  Unkekulized atoms: 5 6 7 8 9 10 11 12 13\n",
      "RDKit ERROR: \n",
      "RDKit ERROR: [17:42:15] Can't kekulize mol.  Unkekulized atoms: 3 4 5 6 7\n",
      "RDKit ERROR: \n",
      "RDKit ERROR: [17:42:15] ERROR: Could not sanitize molecule ending on line 371006\n",
      "RDKit ERROR: [17:42:15] ERROR: Can't kekulize mol.  Unkekulized atoms: 3 4 5 6 7\n",
      "RDKit ERROR: \n",
      "RDKit ERROR: [17:42:15] Can't kekulize mol.  Unkekulized atoms: 1 2 3 4 5 6 7 8 9\n",
      "RDKit ERROR: \n",
      "RDKit ERROR: [17:42:15] ERROR: Could not sanitize molecule ending on line 378618\n",
      "RDKit ERROR: [17:42:15] ERROR: Can't kekulize mol.  Unkekulized atoms: 1 2 3 4 5 6 7 8 9\n",
      "RDKit ERROR: \n",
      "RDKit ERROR: [17:42:15] Explicit valence for atom # 56 O, 3, is greater than permitted\n",
      "RDKit ERROR: [17:42:15] ERROR: Could not sanitize molecule ending on line 398455\n",
      "RDKit ERROR: [17:42:15] ERROR: Explicit valence for atom # 56 O, 3, is greater than permitted\n",
      "RDKit ERROR: [17:42:15] Can't kekulize mol.  Unkekulized atoms: 9 10 11 12 18\n",
      "RDKit ERROR: \n",
      "RDKit ERROR: [17:42:15] ERROR: Could not sanitize molecule ending on line 407765\n",
      "RDKit ERROR: [17:42:15] ERROR: Can't kekulize mol.  Unkekulized atoms: 9 10 11 12 18\n",
      "RDKit ERROR: \n",
      "RDKit ERROR: [17:42:15] Explicit valence for atom # 46 Mg, 4, is greater than permitted\n",
      "RDKit ERROR: [17:42:15] ERROR: Could not sanitize molecule ending on line 417941\n",
      "RDKit ERROR: [17:42:15] ERROR: Explicit valence for atom # 46 Mg, 4, is greater than permitted\n",
      "RDKit ERROR: [17:42:15] Can't kekulize mol.  Unkekulized atoms: 1 2 3 12 13 14 15 16 17\n",
      "RDKit ERROR: \n",
      "RDKit ERROR: [17:42:15] ERROR: Could not sanitize molecule ending on line 422810\n",
      "RDKit ERROR: [17:42:15] ERROR: Can't kekulize mol.  Unkekulized atoms: 1 2 3 12 13 14 15 16 17\n",
      "RDKit ERROR: \n",
      "RDKit ERROR: [17:42:15] Can't kekulize mol.  Unkekulized atoms: 44 45 46 47 49\n",
      "RDKit ERROR: \n",
      "RDKit ERROR: [17:42:15] ERROR: Could not sanitize molecule ending on line 425190\n",
      "RDKit ERROR: [17:42:15] ERROR: Can't kekulize mol.  Unkekulized atoms: 44 45 46 47 49\n",
      "RDKit ERROR: \n",
      "RDKit ERROR: [17:42:15] Explicit valence for atom # 8 N, 5, is greater than permitted\n",
      "RDKit ERROR: [17:42:15] ERROR: Could not sanitize molecule ending on line 426332\n",
      "RDKit ERROR: [17:42:15] ERROR: Explicit valence for atom # 8 N, 5, is greater than permitted\n",
      "RDKit ERROR: [17:42:15] Can't kekulize mol.  Unkekulized atoms: 54 55 56 57 58 59 60 61 62\n",
      "RDKit ERROR: \n",
      "RDKit ERROR: [17:42:15] ERROR: Could not sanitize molecule ending on line 427901\n",
      "RDKit ERROR: [17:42:15] ERROR: Can't kekulize mol.  Unkekulized atoms: 54 55 56 57 58 59 60 61 62\n",
      "RDKit ERROR: \n",
      "RDKit ERROR: [17:42:15] Can't kekulize mol.  Unkekulized atoms: 0 1 2 3 4 5 6 7 8\n",
      "RDKit ERROR: \n",
      "RDKit ERROR: [17:42:15] ERROR: Could not sanitize molecule ending on line 432118\n",
      "RDKit ERROR: [17:42:15] ERROR: Can't kekulize mol.  Unkekulized atoms: 0 1 2 3 4 5 6 7 8\n",
      "RDKit ERROR: \n",
      "RDKit ERROR: [17:42:15] Can't kekulize mol.  Unkekulized atoms: 3 4 5 6 8 9 10\n",
      "RDKit ERROR: \n",
      "RDKit ERROR: [17:42:15] ERROR: Could not sanitize molecule ending on line 442989\n",
      "RDKit ERROR: [17:42:15] ERROR: Can't kekulize mol.  Unkekulized atoms: 3 4 5 6 8 9 10\n",
      "RDKit ERROR: \n",
      "RDKit ERROR: [17:42:15] Can't kekulize mol.  Unkekulized atoms: 3 4 5 6 9\n",
      "RDKit ERROR: \n",
      "RDKit ERROR: [17:42:15] ERROR: Could not sanitize molecule ending on line 447465\n",
      "RDKit ERROR: [17:42:15] ERROR: Can't kekulize mol.  Unkekulized atoms: 3 4 5 6 9\n",
      "RDKit ERROR: \n",
      "RDKit ERROR: [17:42:15] Can't kekulize mol.  Unkekulized atoms: 16 17 18 19 20\n",
      "RDKit ERROR: \n",
      "RDKit ERROR: [17:42:15] ERROR: Could not sanitize molecule ending on line 466177\n",
      "RDKit ERROR: [17:42:15] ERROR: Can't kekulize mol.  Unkekulized atoms: 16 17 18 19 20\n",
      "RDKit ERROR: \n",
      "RDKit ERROR: [17:42:15] Can't kekulize mol.  Unkekulized atoms: 7 8 9 10 17\n",
      "RDKit ERROR: \n",
      "RDKit ERROR: [17:42:15] ERROR: Could not sanitize molecule ending on line 468852\n",
      "RDKit ERROR: [17:42:15] ERROR: Can't kekulize mol.  Unkekulized atoms: 7 8 9 10 17\n",
      "RDKit ERROR: \n",
      "RDKit ERROR: [17:42:15] Can't kekulize mol.  Unkekulized atoms: 3 4 5 6 7 8 9 10 11\n",
      "RDKit ERROR: \n",
      "RDKit ERROR: [17:42:15] ERROR: Could not sanitize molecule ending on line 469201\n",
      "RDKit ERROR: [17:42:15] ERROR: Can't kekulize mol.  Unkekulized atoms: 3 4 5 6 7 8 9 10 11\n",
      "RDKit ERROR: \n",
      "RDKit ERROR: [17:42:15] Explicit valence for atom # 53 N, 4, is greater than permitted\n",
      "RDKit ERROR: [17:42:15] ERROR: Could not sanitize molecule ending on line 472285\n",
      "RDKit ERROR: [17:42:15] ERROR: Explicit valence for atom # 53 N, 4, is greater than permitted\n",
      "RDKit ERROR: [17:42:15] Can't kekulize mol.  Unkekulized atoms: 2 3 4 5 12\n",
      "RDKit ERROR: \n",
      "RDKit ERROR: [17:42:15] ERROR: Could not sanitize molecule ending on line 480504\n",
      "RDKit ERROR: [17:42:15] ERROR: Can't kekulize mol.  Unkekulized atoms: 2 3 4 5 12\n",
      "RDKit ERROR: \n",
      "RDKit ERROR: [17:42:15] Explicit valence for atom # 2 O, 3, is greater than permitted\n",
      "RDKit ERROR: [17:42:15] ERROR: Could not sanitize molecule ending on line 499305\n",
      "RDKit ERROR: [17:42:15] ERROR: Explicit valence for atom # 2 O, 3, is greater than permitted\n",
      "RDKit ERROR: [17:42:15] Can't kekulize mol.  Unkekulized atoms: 1 2 3 4 5 6 7 8 9\n",
      "RDKit ERROR: \n",
      "RDKit ERROR: [17:42:15] ERROR: Could not sanitize molecule ending on line 503342\n",
      "RDKit ERROR: [17:42:15] ERROR: Can't kekulize mol.  Unkekulized atoms: 1 2 3 4 5 6 7 8 9\n",
      "RDKit ERROR: \n",
      "RDKit ERROR: [17:42:15] Can't kekulize mol.  Unkekulized atoms: 0 1 2 4 5 6 7 8 9 10\n",
      "RDKit ERROR: \n",
      "RDKit ERROR: [17:42:15] ERROR: Could not sanitize molecule ending on line 508068\n",
      "RDKit ERROR: [17:42:15] ERROR: Can't kekulize mol.  Unkekulized atoms: 0 1 2 4 5 6 7 8 9 10\n",
      "RDKit ERROR: \n",
      "RDKit ERROR: [17:42:15] Can't kekulize mol.  Unkekulized atoms: 1 2 3 4 5 6 7 8 9\n",
      "RDKit ERROR: \n",
      "RDKit ERROR: [17:42:15] ERROR: Could not sanitize molecule ending on line 510069\n",
      "RDKit ERROR: [17:42:15] ERROR: Can't kekulize mol.  Unkekulized atoms: 1 2 3 4 5 6 7 8 9\n",
      "RDKit ERROR: \n",
      "RDKit ERROR: [17:42:15] Can't kekulize mol.  Unkekulized atoms: 3 4 5 6 7 8 10\n",
      "RDKit ERROR: \n",
      "RDKit ERROR: [17:42:15] ERROR: Could not sanitize molecule ending on line 511111\n",
      "RDKit ERROR: [17:42:15] ERROR: Can't kekulize mol.  Unkekulized atoms: 3 4 5 6 7 8 10\n",
      "RDKit ERROR: \n",
      "RDKit ERROR: [17:42:15] Can't kekulize mol.  Unkekulized atoms: 1 2 3 5 6 7 8 9 10\n",
      "RDKit ERROR: \n",
      "RDKit ERROR: [17:42:15] ERROR: Could not sanitize molecule ending on line 512030\n",
      "RDKit ERROR: [17:42:15] ERROR: Can't kekulize mol.  Unkekulized atoms: 1 2 3 5 6 7 8 9 10\n",
      "RDKit ERROR: \n",
      "RDKit ERROR: [17:42:15] Explicit valence for atom # 2 O, 3, is greater than permitted\n",
      "RDKit ERROR: [17:42:15] ERROR: Could not sanitize molecule ending on line 519056\n",
      "RDKit ERROR: [17:42:15] ERROR: Explicit valence for atom # 2 O, 3, is greater than permitted\n",
      "RDKit ERROR: [17:42:15] Explicit valence for atom # 6 B, 4, is greater than permitted\n",
      "RDKit ERROR: [17:42:15] ERROR: Could not sanitize molecule ending on line 541262\n",
      "RDKit ERROR: [17:42:15] ERROR: Explicit valence for atom # 6 B, 4, is greater than permitted\n",
      "RDKit ERROR: [17:42:15] Can't kekulize mol.  Unkekulized atoms: 2 3 17 19 20\n",
      "RDKit ERROR: \n",
      "RDKit ERROR: [17:42:15] ERROR: Could not sanitize molecule ending on line 557517\n",
      "RDKit ERROR: [17:42:15] ERROR: Can't kekulize mol.  Unkekulized atoms: 2 3 17 19 20\n",
      "RDKit ERROR: \n",
      "RDKit ERROR: [17:42:15] Can't kekulize mol.  Unkekulized atoms: 0 1 2 4 5 6 7 8 9 10\n",
      "RDKit ERROR: \n",
      "RDKit ERROR: [17:42:15] ERROR: Could not sanitize molecule ending on line 561344\n",
      "RDKit ERROR: [17:42:15] ERROR: Can't kekulize mol.  Unkekulized atoms: 0 1 2 4 5 6 7 8 9 10\n",
      "RDKit ERROR: \n",
      "RDKit ERROR: [17:42:15] Can't kekulize mol.  Unkekulized atoms: 10 11 12 13 19\n",
      "RDKit ERROR: \n",
      "RDKit ERROR: [17:42:15] ERROR: Could not sanitize molecule ending on line 562947\n",
      "RDKit ERROR: [17:42:15] ERROR: Can't kekulize mol.  Unkekulized atoms: 10 11 12 13 19\n",
      "RDKit ERROR: \n",
      "RDKit ERROR: [17:42:15] Explicit valence for atom # 27 N, 4, is greater than permitted\n",
      "RDKit ERROR: [17:42:15] ERROR: Could not sanitize molecule ending on line 567073\n",
      "RDKit ERROR: [17:42:15] ERROR: Explicit valence for atom # 27 N, 4, is greater than permitted\n",
      "RDKit ERROR: [17:42:15] Can't kekulize mol.  Unkekulized atoms: 9 10 11 12 13 14 15 16 17\n",
      "RDKit ERROR: \n",
      "RDKit ERROR: [17:42:15] ERROR: Could not sanitize molecule ending on line 568252\n",
      "RDKit ERROR: [17:42:15] ERROR: Can't kekulize mol.  Unkekulized atoms: 9 10 11 12 13 14 15 16 17\n",
      "RDKit ERROR: \n",
      "RDKit ERROR: [17:42:15] Can't kekulize mol.  Unkekulized atoms: 23 24 25 26 27\n",
      "RDKit ERROR: \n",
      "RDKit ERROR: [17:42:15] ERROR: Could not sanitize molecule ending on line 574645\n",
      "RDKit ERROR: [17:42:15] ERROR: Can't kekulize mol.  Unkekulized atoms: 23 24 25 26 27\n",
      "RDKit ERROR: \n",
      "RDKit ERROR: [17:42:15] Can't kekulize mol.  Unkekulized atoms: 5 6 7 8 9\n",
      "RDKit ERROR: \n",
      "RDKit ERROR: [17:42:15] ERROR: Could not sanitize molecule ending on line 592639\n",
      "RDKit ERROR: [17:42:15] ERROR: Can't kekulize mol.  Unkekulized atoms: 5 6 7 8 9\n",
      "RDKit ERROR: \n",
      "RDKit ERROR: [17:42:15] Explicit valence for atom # 12 N, 4, is greater than permitted\n",
      "RDKit ERROR: [17:42:15] ERROR: Could not sanitize molecule ending on line 595909\n",
      "RDKit WARNING: [17:42:15] WARNING: could not find number of expected rings. Switching to an approximate ring finding algorithm.\n",
      "RDKit ERROR: [17:42:15] ERROR: Explicit valence for atom # 12 N, 4, is greater than permitted\n",
      "RDKit ERROR: [17:42:15] Explicit valence for atom # 1 N, 4, is greater than permitted\n",
      "RDKit ERROR: [17:42:15] ERROR: Could not sanitize molecule ending on line 601819\n",
      "RDKit ERROR: [17:42:15] ERROR: Explicit valence for atom # 1 N, 4, is greater than permitted\n",
      "RDKit ERROR: [17:42:15] Explicit valence for atom # 6 Be, 4, is greater than permitted\n",
      "RDKit ERROR: [17:42:15] ERROR: Could not sanitize molecule ending on line 604427\n",
      "RDKit ERROR: [17:42:15] ERROR: Explicit valence for atom # 6 Be, 4, is greater than permitted\n",
      "RDKit ERROR: [17:42:15] Can't kekulize mol.  Unkekulized atoms: 4 5 6 7 8 9 10 11 12\n",
      "RDKit ERROR: \n",
      "RDKit ERROR: [17:42:15] ERROR: Could not sanitize molecule ending on line 604912\n",
      "RDKit ERROR: [17:42:15] ERROR: Can't kekulize mol.  Unkekulized atoms: 4 5 6 7 8 9 10 11 12\n",
      "RDKit ERROR: \n",
      "RDKit ERROR: [17:42:15] Can't kekulize mol.  Unkekulized atoms: 5 6 7 8 9 10 11 12 13\n",
      "RDKit ERROR: \n",
      "RDKit ERROR: [17:42:15] ERROR: Could not sanitize molecule ending on line 616025\n",
      "RDKit ERROR: [17:42:15] ERROR: Can't kekulize mol.  Unkekulized atoms: 5 6 7 8 9 10 11 12 13\n",
      "RDKit ERROR: \n",
      "RDKit ERROR: [17:42:16] Can't kekulize mol.  Unkekulized atoms: 1 2 3 5 6 7 8 9 10\n",
      "RDKit ERROR: \n",
      "RDKit ERROR: [17:42:16] ERROR: Could not sanitize molecule ending on line 623202\n",
      "RDKit ERROR: [17:42:16] ERROR: Can't kekulize mol.  Unkekulized atoms: 1 2 3 5 6 7 8 9 10\n",
      "RDKit ERROR: \n",
      "RDKit ERROR: [17:42:16] Can't kekulize mol.  Unkekulized atoms: 5 6 7 8 9 10 11 12 13\n",
      "RDKit ERROR: \n",
      "RDKit ERROR: [17:42:16] ERROR: Could not sanitize molecule ending on line 628065\n",
      "RDKit ERROR: [17:42:16] ERROR: Can't kekulize mol.  Unkekulized atoms: 5 6 7 8 9 10 11 12 13\n",
      "RDKit ERROR: \n",
      "RDKit ERROR: [17:42:16] Explicit valence for atom # 19 N, 4, is greater than permitted\n",
      "RDKit ERROR: [17:42:16] ERROR: Could not sanitize molecule ending on line 636938\n",
      "RDKit ERROR: [17:42:16] ERROR: Explicit valence for atom # 19 N, 4, is greater than permitted\n",
      "RDKit ERROR: [17:42:16] Explicit valence for atom # 0 O, 3, is greater than permitted\n",
      "RDKit ERROR: [17:42:16] ERROR: Could not sanitize molecule ending on line 640674\n",
      "RDKit ERROR: [17:42:16] ERROR: Explicit valence for atom # 0 O, 3, is greater than permitted\n",
      "RDKit ERROR: [17:42:16] Explicit valence for atom # 17 Mg, 4, is greater than permitted\n",
      "RDKit ERROR: [17:42:16] ERROR: Could not sanitize molecule ending on line 642835\n",
      "RDKit ERROR: [17:42:16] ERROR: Explicit valence for atom # 17 Mg, 4, is greater than permitted\n",
      "RDKit ERROR: [17:42:16] Explicit valence for atom # 4 F, 2, is greater than permitted\n",
      "RDKit ERROR: [17:42:16] ERROR: Could not sanitize molecule ending on line 645068\n",
      "RDKit ERROR: [17:42:16] ERROR: Explicit valence for atom # 4 F, 2, is greater than permitted\n",
      "RDKit ERROR: [17:42:16] Can't kekulize mol.  Unkekulized atoms: 0 1 2 4 5 6 7 8 9 10\n",
      "RDKit ERROR: \n",
      "RDKit ERROR: [17:42:16] ERROR: Could not sanitize molecule ending on line 659994\n",
      "RDKit ERROR: [17:42:16] ERROR: Can't kekulize mol.  Unkekulized atoms: 0 1 2 4 5 6 7 8 9 10\n",
      "RDKit ERROR: \n",
      "RDKit ERROR: [17:42:17] Explicit valence for atom # 0 Be, 3, is greater than permitted\n",
      "RDKit ERROR: [17:42:17] ERROR: Could not sanitize molecule ending on line 995692\n",
      "RDKit ERROR: [17:42:17] ERROR: Explicit valence for atom # 0 Be, 3, is greater than permitted\n",
      "RDKit ERROR: [17:42:17] Explicit valence for atom # 0 C greater than permitted\n",
      "RDKit ERROR: [17:42:17] ERROR: Could not sanitize molecule ending on line 1151592\n"
     ]
    }
   ],
   "source": [
    "with open('Epidermal_growth_factor_receptor_erbB1_IC50.csv', 'r') as csvfile:\n",
    "    reader = csv.DictReader(csvfile, delimiter=\";\")\n",
    "    EGFR_ligands = [Chem.MolFromSmiles(m['Smiles']) for m in reader]\n",
    "\n",
    "suppl = Chem.SDMolSupplier('../data/drugbank.sdf')\n",
    "drugs = [m for m in suppl if m]"
   ]
  },
  {
   "cell_type": "markdown",
   "metadata": {},
   "source": [
    "## Basic substruct search\n"
   ]
  },
  {
   "cell_type": "markdown",
   "metadata": {},
   "source": [
    "I've chosen the functional group -NH2 and tried to find a match in F_Amidine and toluene."
   ]
  },
  {
   "cell_type": "code",
   "execution_count": 141,
   "metadata": {},
   "outputs": [
    {
     "data": {
      "image/png": "[encoded data removed]",
      "text/plain": [
       "<rdkit.Chem.rdchem.Mol at 0x7fc8610251c0>"
      ]
     },
     "execution_count": 141,
     "metadata": {},
     "output_type": "execute_result"
    }
   ],
   "source": [
    "pattern = Chem.MolFromSmarts('[NH2]')\n",
    "\n",
    "F_Amidine = Chem.MolFromSmiles('C1=CC=C(C=C1)C(=O)NC(CCCN=C(CF)N)C(=O)N') \n",
    "F_Amidine"
   ]
  },
  {
   "cell_type": "code",
   "execution_count": 142,
   "metadata": {},
   "outputs": [
    {
     "data": {
      "image/png": "[encoded data removed]",
      "text/plain": [
       "<rdkit.Chem.rdchem.Mol at 0x7fc8610d99e0>"
      ]
     },
     "execution_count": 142,
     "metadata": {},
     "output_type": "execute_result"
    }
   ],
   "source": [
    "toluene = Chem.MolFromSmiles('Cc1ccccc1')\n",
    "toluene"
   ]
  },
  {
   "cell_type": "code",
   "execution_count": 143,
   "metadata": {},
   "outputs": [
    {
     "data": {
      "text/plain": [
       "True"
      ]
     },
     "execution_count": 143,
     "metadata": {},
     "output_type": "execute_result"
    }
   ],
   "source": [
    "F_Amidine.HasSubstructMatch(pattern)"
   ]
  },
  {
   "cell_type": "code",
   "execution_count": 144,
   "metadata": {},
   "outputs": [
    {
     "data": {
      "text/plain": [
       "False"
      ]
     },
     "execution_count": 144,
     "metadata": {},
     "output_type": "execute_result"
    }
   ],
   "source": [
    "toluene.HasSubstructMatch(pattern)"
   ]
  },
  {
   "cell_type": "markdown",
   "metadata": {},
   "source": [
    "As we see everything works well."
   ]
  },
  {
   "cell_type": "code",
   "execution_count": 145,
   "metadata": {},
   "outputs": [
    {
     "data": {
      "text/plain": [
       "((17,), [])"
      ]
     },
     "execution_count": 145,
     "metadata": {},
     "output_type": "execute_result"
    }
   ],
   "source": [
    "# The RDKit functionality also goes well beyond the basic binary does/doesn't match.\n",
    "# Function GetSubstructMatch will get indices of all matching atoms and bonds\n",
    "# within the target molecule\n",
    "import itertools # for getting combinations without having to write additional function\n",
    "hit_atoms = F_Amidine.GetSubstructMatch(pattern) # indices of matching atoms\n",
    "hit_bonds = [F_Amidine.GetBondBetweenAtoms(i, j).GetIdx()\n",
    "             for i, j in itertools.combinations(hit_atoms, 2)\n",
    "             if F_Amidine.GetBondBetweenAtoms(i, j)]\n",
    "hit_atoms, hit_bonds"
   ]
  },
  {
   "cell_type": "code",
   "execution_count": 146,
   "metadata": {},
   "outputs": [
    {
     "data": {
      "image/svg+xml": [
       "<svg baseProfile=\"full\" height=\"300px\" version=\"1.1\" viewBox=\"0 0 300 300\" width=\"300px\" xml:space=\"preserve\" xmlns=\"http://www.w3.org/2000/svg\" xmlns:rdkit=\"http://www.rdkit.org/xml\" xmlns:xlink=\"http://www.w3.org/1999/xlink\">\n",
       "<!-- END OF HEADER -->\n",
       "<rect height=\"300\" style=\"opacity:1.0;fill:#FFFFFF;stroke:none\" width=\"300\" x=\"0\" y=\"0\"> </rect>\n",
       "<ellipse cx=\"243.423\" cy=\"190.249\" rx=\"11.1884\" ry=\"7.79756\" style=\"fill:#FF7F7F;fill-rule:evenodd;stroke:#FF7F7F;stroke-width:1px;stroke-linecap:butt;stroke-linejoin:miter;stroke-opacity:1\"/>\n",
       "<path class=\"bond-0\" d=\"M 13.6364,180.219 L 14.5823,154.277\" style=\"fill:none;fill-rule:evenodd;stroke:#000000;stroke-width:2.0px;stroke-linecap:butt;stroke-linejoin:miter;stroke-opacity:1\"/>\n",
       "<path class=\"bond-0\" d=\"M 18.9666,176.517 L 19.6288,158.358\" style=\"fill:none;fill-rule:evenodd;stroke:#000000;stroke-width:2.0px;stroke-linecap:butt;stroke-linejoin:miter;stroke-opacity:1\"/>\n",
       "<path class=\"bond-20\" d=\"M 13.6364,180.219 L 35.6297,194.009\" style=\"fill:none;fill-rule:evenodd;stroke:#000000;stroke-width:2.0px;stroke-linecap:butt;stroke-linejoin:miter;stroke-opacity:1\"/>\n",
       "<path class=\"bond-1\" d=\"M 14.5823,154.277 L 37.5216,142.126\" style=\"fill:none;fill-rule:evenodd;stroke:#000000;stroke-width:2.0px;stroke-linecap:butt;stroke-linejoin:miter;stroke-opacity:1\"/>\n",
       "<path class=\"bond-2\" d=\"M 37.5216,142.126 L 59.5149,155.916\" style=\"fill:none;fill-rule:evenodd;stroke:#000000;stroke-width:2.0px;stroke-linecap:butt;stroke-linejoin:miter;stroke-opacity:1\"/>\n",
       "<path class=\"bond-2\" d=\"M 38.0625,148.593 L 53.4579,158.246\" style=\"fill:none;fill-rule:evenodd;stroke:#000000;stroke-width:2.0px;stroke-linecap:butt;stroke-linejoin:miter;stroke-opacity:1\"/>\n",
       "<path class=\"bond-3\" d=\"M 59.5149,155.916 L 58.569,181.858\" style=\"fill:none;fill-rule:evenodd;stroke:#000000;stroke-width:2.0px;stroke-linecap:butt;stroke-linejoin:miter;stroke-opacity:1\"/>\n",
       "<path class=\"bond-5\" d=\"M 59.5149,155.916 L 82.4542,143.764\" style=\"fill:none;fill-rule:evenodd;stroke:#000000;stroke-width:2.0px;stroke-linecap:butt;stroke-linejoin:miter;stroke-opacity:1\"/>\n",
       "<path class=\"bond-4\" d=\"M 58.569,181.858 L 35.6297,194.009\" style=\"fill:none;fill-rule:evenodd;stroke:#000000;stroke-width:2.0px;stroke-linecap:butt;stroke-linejoin:miter;stroke-opacity:1\"/>\n",
       "<path class=\"bond-4\" d=\"M 52.6977,179.093 L 36.6402,187.599\" style=\"fill:none;fill-rule:evenodd;stroke:#000000;stroke-width:2.0px;stroke-linecap:butt;stroke-linejoin:miter;stroke-opacity:1\"/>\n",
       "<path class=\"bond-6\" d=\"M 85.0484,143.859 L 85.4396,133.128\" style=\"fill:none;fill-rule:evenodd;stroke:#000000;stroke-width:2.0px;stroke-linecap:butt;stroke-linejoin:miter;stroke-opacity:1\"/>\n",
       "<path class=\"bond-6\" d=\"M 85.4396,133.128 L 85.8309,122.397\" style=\"fill:none;fill-rule:evenodd;stroke:#FF0000;stroke-width:2.0px;stroke-linecap:butt;stroke-linejoin:miter;stroke-opacity:1\"/>\n",
       "<path class=\"bond-6\" d=\"M 79.86,143.669 L 80.2513,132.939\" style=\"fill:none;fill-rule:evenodd;stroke:#000000;stroke-width:2.0px;stroke-linecap:butt;stroke-linejoin:miter;stroke-opacity:1\"/>\n",
       "<path class=\"bond-6\" d=\"M 80.2513,132.939 L 80.6426,122.208\" style=\"fill:none;fill-rule:evenodd;stroke:#FF0000;stroke-width:2.0px;stroke-linecap:butt;stroke-linejoin:miter;stroke-opacity:1\"/>\n",
       "<path class=\"bond-7\" d=\"M 82.4542,143.764 L 91.7323,149.582\" style=\"fill:none;fill-rule:evenodd;stroke:#000000;stroke-width:2.0px;stroke-linecap:butt;stroke-linejoin:miter;stroke-opacity:1\"/>\n",
       "<path class=\"bond-7\" d=\"M 91.7323,149.582 L 101.011,155.399\" style=\"fill:none;fill-rule:evenodd;stroke:#0000FF;stroke-width:2.0px;stroke-linecap:butt;stroke-linejoin:miter;stroke-opacity:1\"/>\n",
       "<path class=\"bond-8\" d=\"M 107.884,155.734 L 117.636,150.568\" style=\"fill:none;fill-rule:evenodd;stroke:#0000FF;stroke-width:2.0px;stroke-linecap:butt;stroke-linejoin:miter;stroke-opacity:1\"/>\n",
       "<path class=\"bond-8\" d=\"M 117.636,150.568 L 127.387,145.403\" style=\"fill:none;fill-rule:evenodd;stroke:#000000;stroke-width:2.0px;stroke-linecap:butt;stroke-linejoin:miter;stroke-opacity:1\"/>\n",
       "<path class=\"bond-9\" d=\"M 127.387,145.403 L 149.38,159.193\" style=\"fill:none;fill-rule:evenodd;stroke:#000000;stroke-width:2.0px;stroke-linecap:butt;stroke-linejoin:miter;stroke-opacity:1\"/>\n",
       "<path class=\"bond-17\" d=\"M 127.387,145.403 L 128.333,119.461\" style=\"fill:none;fill-rule:evenodd;stroke:#000000;stroke-width:2.0px;stroke-linecap:butt;stroke-linejoin:miter;stroke-opacity:1\"/>\n",
       "<path class=\"bond-10\" d=\"M 149.38,159.193 L 172.319,147.041\" style=\"fill:none;fill-rule:evenodd;stroke:#000000;stroke-width:2.0px;stroke-linecap:butt;stroke-linejoin:miter;stroke-opacity:1\"/>\n",
       "<path class=\"bond-11\" d=\"M 172.319,147.041 L 194.313,160.831\" style=\"fill:none;fill-rule:evenodd;stroke:#000000;stroke-width:2.0px;stroke-linecap:butt;stroke-linejoin:miter;stroke-opacity:1\"/>\n",
       "<path class=\"bond-12\" d=\"M 194.313,160.831 L 204.064,155.666\" style=\"fill:none;fill-rule:evenodd;stroke:#000000;stroke-width:2.0px;stroke-linecap:butt;stroke-linejoin:miter;stroke-opacity:1\"/>\n",
       "<path class=\"bond-12\" d=\"M 204.064,155.666 L 213.815,150.5\" style=\"fill:none;fill-rule:evenodd;stroke:#0000FF;stroke-width:2.0px;stroke-linecap:butt;stroke-linejoin:miter;stroke-opacity:1\"/>\n",
       "<path class=\"bond-13\" d=\"M 220.689,150.834 L 229.967,156.652\" style=\"fill:none;fill-rule:evenodd;stroke:#0000FF;stroke-width:2.0px;stroke-linecap:butt;stroke-linejoin:miter;stroke-opacity:1\"/>\n",
       "<path class=\"bond-13\" d=\"M 229.967,156.652 L 239.245,162.469\" style=\"fill:none;fill-rule:evenodd;stroke:#000000;stroke-width:2.0px;stroke-linecap:butt;stroke-linejoin:miter;stroke-opacity:1\"/>\n",
       "<path class=\"bond-13\" d=\"M 220.714,156.978 L 227.209,161.051\" style=\"fill:none;fill-rule:evenodd;stroke:#0000FF;stroke-width:2.0px;stroke-linecap:butt;stroke-linejoin:miter;stroke-opacity:1\"/>\n",
       "<path class=\"bond-13\" d=\"M 227.209,161.051 L 233.704,165.123\" style=\"fill:none;fill-rule:evenodd;stroke:#000000;stroke-width:2.0px;stroke-linecap:butt;stroke-linejoin:miter;stroke-opacity:1\"/>\n",
       "<path class=\"bond-14\" d=\"M 239.245,162.469 L 262.185,150.318\" style=\"fill:none;fill-rule:evenodd;stroke:#000000;stroke-width:2.0px;stroke-linecap:butt;stroke-linejoin:miter;stroke-opacity:1\"/>\n",
       "<path class=\"bond-16\" d=\"M 239.245,162.469 L 238.851,173.278\" style=\"fill:none;fill-rule:evenodd;stroke:#000000;stroke-width:2.0px;stroke-linecap:butt;stroke-linejoin:miter;stroke-opacity:1\"/>\n",
       "<path class=\"bond-16\" d=\"M 238.851,173.278 L 238.457,184.087\" style=\"fill:none;fill-rule:evenodd;stroke:#0000FF;stroke-width:2.0px;stroke-linecap:butt;stroke-linejoin:miter;stroke-opacity:1\"/>\n",
       "<path class=\"bond-15\" d=\"M 262.185,150.318 L 271.764,156.324\" style=\"fill:none;fill-rule:evenodd;stroke:#000000;stroke-width:2.0px;stroke-linecap:butt;stroke-linejoin:miter;stroke-opacity:1\"/>\n",
       "<path class=\"bond-15\" d=\"M 271.764,156.324 L 281.343,162.33\" style=\"fill:none;fill-rule:evenodd;stroke:#33CCCC;stroke-width:2.0px;stroke-linecap:butt;stroke-linejoin:miter;stroke-opacity:1\"/>\n",
       "<path class=\"bond-18\" d=\"M 129.712,117.261 L 120.727,111.628\" style=\"fill:none;fill-rule:evenodd;stroke:#000000;stroke-width:2.0px;stroke-linecap:butt;stroke-linejoin:miter;stroke-opacity:1\"/>\n",
       "<path class=\"bond-18\" d=\"M 120.727,111.628 L 111.742,105.994\" style=\"fill:none;fill-rule:evenodd;stroke:#FF0000;stroke-width:2.0px;stroke-linecap:butt;stroke-linejoin:miter;stroke-opacity:1\"/>\n",
       "<path class=\"bond-18\" d=\"M 126.954,121.66 L 117.969,116.026\" style=\"fill:none;fill-rule:evenodd;stroke:#000000;stroke-width:2.0px;stroke-linecap:butt;stroke-linejoin:miter;stroke-opacity:1\"/>\n",
       "<path class=\"bond-18\" d=\"M 117.969,116.026 L 108.984,110.393\" style=\"fill:none;fill-rule:evenodd;stroke:#FF0000;stroke-width:2.0px;stroke-linecap:butt;stroke-linejoin:miter;stroke-opacity:1\"/>\n",
       "<path class=\"bond-19\" d=\"M 128.333,119.461 L 138.084,114.295\" style=\"fill:none;fill-rule:evenodd;stroke:#000000;stroke-width:2.0px;stroke-linecap:butt;stroke-linejoin:miter;stroke-opacity:1\"/>\n",
       "<path class=\"bond-19\" d=\"M 138.084,114.295 L 147.835,109.13\" style=\"fill:none;fill-rule:evenodd;stroke:#0000FF;stroke-width:2.0px;stroke-linecap:butt;stroke-linejoin:miter;stroke-opacity:1\"/>\n",
       "<path class=\"atom-7\" d=\"M 80.0254 117.843 Q 80.0254 116.078, 80.8977 115.091 Q 81.7699 114.105, 83.4001 114.105 Q 85.0303 114.105, 85.9026 115.091 Q 86.7748 116.078, 86.7748 117.843 Q 86.7748 119.629, 85.8922 120.647 Q 85.0096 121.654, 83.4001 121.654 Q 81.7803 121.654, 80.8977 120.647 Q 80.0254 119.639, 80.0254 117.843 M 83.4001 120.823 Q 84.5215 120.823, 85.1238 120.075 Q 85.7364 119.317, 85.7364 117.843 Q 85.7364 116.4, 85.1238 115.673 Q 84.5215 114.936, 83.4001 114.936 Q 82.2787 114.936, 81.666 115.662 Q 81.0638 116.389, 81.0638 117.843 Q 81.0638 119.328, 81.666 120.075 Q 82.2787 120.823, 83.4001 120.823 \" fill=\"#FF0000\"/>\n",
       "<path class=\"atom-8\" d=\"M 102.822 153.878 L 105.231 157.772 Q 105.47 158.156, 105.854 158.852 Q 106.239 159.548, 106.259 159.589 L 106.259 153.878 L 107.236 153.878 L 107.236 161.23 L 106.228 161.23 L 103.643 156.973 Q 103.342 156.474, 103.02 155.903 Q 102.708 155.332, 102.615 155.156 L 102.615 161.23 L 101.659 161.23 L 101.659 153.878 L 102.822 153.878 \" fill=\"#0000FF\"/>\n",
       "<path class=\"atom-8\" d=\"M 101.571 161.965 L 102.568 161.965 L 102.568 165.091 L 106.327 165.091 L 106.327 161.965 L 107.324 161.965 L 107.324 169.317 L 106.327 169.317 L 106.327 165.921 L 102.568 165.921 L 102.568 169.317 L 101.571 169.317 L 101.571 161.965 \" fill=\"#0000FF\"/>\n",
       "<path class=\"atom-13\" d=\"M 215.627 145.004 L 218.036 148.897 Q 218.275 149.282, 218.659 149.977 Q 219.043 150.673, 219.064 150.715 L 219.064 145.004 L 220.04 145.004 L 220.04 152.355 L 219.033 152.355 L 216.447 148.098 Q 216.146 147.599, 215.824 147.028 Q 215.513 146.457, 215.419 146.281 L 215.419 152.355 L 214.464 152.355 L 214.464 145.004 L 215.627 145.004 \" fill=\"#0000FF\"/>\n",
       "<path class=\"atom-16\" d=\"M 281.992 160.432 L 286.364 160.432 L 286.364 161.273 L 282.979 161.273 L 282.979 163.506 L 285.99 163.506 L 285.99 164.357 L 282.979 164.357 L 282.979 167.784 L 281.992 167.784 L 281.992 160.432 \" fill=\"#33CCCC\"/>\n",
       "<path class=\"atom-17\" d=\"M 236.674 184.736 L 239.083 188.629 Q 239.322 189.014, 239.706 189.709 Q 240.091 190.405, 240.111 190.447 L 240.111 184.736 L 241.087 184.736 L 241.087 192.087 L 240.08 192.087 L 237.495 187.83 Q 237.193 187.331, 236.872 186.76 Q 236.56 186.189, 236.467 186.013 L 236.467 192.087 L 235.511 192.087 L 235.511 184.736 L 236.674 184.736 \" fill=\"#0000FF\"/>\n",
       "<path class=\"atom-17\" d=\"M 241.97 184.736 L 242.967 184.736 L 242.967 187.861 L 246.726 187.861 L 246.726 184.736 L 247.722 184.736 L 247.722 192.087 L 246.726 192.087 L 246.726 188.692 L 242.967 188.692 L 242.967 192.087 L 241.97 192.087 L 241.97 184.736 \" fill=\"#0000FF\"/>\n",
       "<path class=\"atom-17\" d=\"M 248.079 191.829 Q 248.257 191.37, 248.682 191.116 Q 249.107 190.856, 249.696 190.856 Q 250.43 190.856, 250.841 191.254 Q 251.252 191.651, 251.252 192.357 Q 251.252 193.076, 250.717 193.748 Q 250.19 194.42, 249.093 195.215 L 251.334 195.215 L 251.334 195.763 L 248.065 195.763 L 248.065 195.304 Q 248.97 194.66, 249.504 194.18 Q 250.046 193.7, 250.306 193.268 Q 250.567 192.837, 250.567 192.391 Q 250.567 191.925, 250.334 191.665 Q 250.101 191.404, 249.696 191.404 Q 249.306 191.404, 249.045 191.562 Q 248.785 191.72, 248.6 192.069 L 248.079 191.829 \" fill=\"#0000FF\"/>\n",
       "<path class=\"atom-19\" d=\"M 102.965 105.691 Q 102.965 103.926, 103.837 102.94 Q 104.709 101.953, 106.339 101.953 Q 107.97 101.953, 108.842 102.94 Q 109.714 103.926, 109.714 105.691 Q 109.714 107.477, 108.831 108.495 Q 107.949 109.502, 106.339 109.502 Q 104.72 109.502, 103.837 108.495 Q 102.965 107.488, 102.965 105.691 M 106.339 108.671 Q 107.461 108.671, 108.063 107.924 Q 108.676 107.166, 108.676 105.691 Q 108.676 104.248, 108.063 103.521 Q 107.461 102.784, 106.339 102.784 Q 105.218 102.784, 104.605 103.511 Q 104.003 104.238, 104.003 105.691 Q 104.003 107.176, 104.605 107.924 Q 105.218 108.671, 106.339 108.671 \" fill=\"#FF0000\"/>\n",
       "<path class=\"atom-20\" d=\"M 149.647 103.633 L 152.056 107.527 Q 152.295 107.911, 152.679 108.607 Q 153.063 109.303, 153.084 109.344 L 153.084 103.633 L 154.06 103.633 L 154.06 110.985 L 153.053 110.985 L 150.467 106.727 Q 150.166 106.229, 149.844 105.658 Q 149.533 105.087, 149.439 104.91 L 149.439 110.985 L 148.484 110.985 L 148.484 103.633 L 149.647 103.633 \" fill=\"#0000FF\"/>\n",
       "<path class=\"atom-20\" d=\"M 154.943 103.633 L 155.939 103.633 L 155.939 106.759 L 159.698 106.759 L 159.698 103.633 L 160.695 103.633 L 160.695 110.985 L 159.698 110.985 L 159.698 107.589 L 155.939 107.589 L 155.939 110.985 L 154.943 110.985 L 154.943 103.633 \" fill=\"#0000FF\"/>\n",
       "<path class=\"atom-20\" d=\"M 161.051 110.727 Q 161.23 110.268, 161.655 110.014 Q 162.079 109.754, 162.669 109.754 Q 163.402 109.754, 163.813 110.151 Q 164.225 110.549, 164.225 111.255 Q 164.225 111.974, 163.69 112.646 Q 163.162 113.317, 162.066 114.112 L 164.307 114.112 L 164.307 114.661 L 161.038 114.661 L 161.038 114.201 Q 161.942 113.557, 162.477 113.077 Q 163.018 112.598, 163.279 112.166 Q 163.539 111.734, 163.539 111.289 Q 163.539 110.823, 163.306 110.562 Q 163.073 110.302, 162.669 110.302 Q 162.278 110.302, 162.018 110.46 Q 161.757 110.617, 161.572 110.967 L 161.051 110.727 \" fill=\"#0000FF\"/>\n",
       "</svg>"
      ],
      "text/plain": [
       "<IPython.core.display.SVG object>"
      ]
     },
     "metadata": {},
     "output_type": "display_data"
    }
   ],
   "source": [
    "# so the hit matches atoms with IDs 1, 2, 3 and bonds with IDs 1 and 2\n",
    "# we can even visualize the hits by coloring the hit atoms and bonds\n",
    "from rdkit.Chem.Draw import rdMolDraw2D\n",
    "from IPython.display import SVG\n",
    "d = rdMolDraw2D.MolDraw2DSVG(300,300)\n",
    "rdMolDraw2D.PrepareAndDrawMolecule(d, F_Amidine, highlightAtoms=hit_atoms, highlightBonds=hit_bonds)\n",
    "d.FinishDrawing()\n",
    "display(SVG(d.GetDrawingText()))"
   ]
  },
  {
   "cell_type": "code",
   "execution_count": 147,
   "metadata": {},
   "outputs": [
    {
     "data": {
      "image/svg+xml": [
       "<svg baseProfile=\"full\" height=\"300px\" version=\"1.1\" viewBox=\"0 0 300 300\" width=\"300px\" xml:space=\"preserve\" xmlns=\"http://www.w3.org/2000/svg\" xmlns:rdkit=\"http://www.rdkit.org/xml\" xmlns:xlink=\"http://www.w3.org/1999/xlink\">\n",
       "<!-- END OF HEADER -->\n",
       "<rect height=\"300\" style=\"opacity:1.0;fill:#FFFFFF;stroke:none\" width=\"300\" x=\"0\" y=\"0\"> </rect>\n",
       "<ellipse cx=\"243.423\" cy=\"190.551\" rx=\"11.1884\" ry=\"7.79756\" style=\"fill:#FF7F7F;fill-rule:evenodd;stroke:#FF7F7F;stroke-width:1px;stroke-linecap:butt;stroke-linejoin:miter;stroke-opacity:1\"/>\n",
       "<ellipse cx=\"156.395\" cy=\"109.449\" rx=\"11.1884\" ry=\"7.79756\" style=\"fill:#FF7F7F;fill-rule:evenodd;stroke:#FF7F7F;stroke-width:1px;stroke-linecap:butt;stroke-linejoin:miter;stroke-opacity:1\"/>\n",
       "<path class=\"bond-0\" d=\"M 13.6364,180.521 L 14.5823,154.579\" style=\"fill:none;fill-rule:evenodd;stroke:#000000;stroke-width:2.0px;stroke-linecap:butt;stroke-linejoin:miter;stroke-opacity:1\"/>\n",
       "<path class=\"bond-0\" d=\"M 18.9666,176.819 L 19.6288,158.66\" style=\"fill:none;fill-rule:evenodd;stroke:#000000;stroke-width:2.0px;stroke-linecap:butt;stroke-linejoin:miter;stroke-opacity:1\"/>\n",
       "<path class=\"bond-20\" d=\"M 13.6364,180.521 L 35.6297,194.311\" style=\"fill:none;fill-rule:evenodd;stroke:#000000;stroke-width:2.0px;stroke-linecap:butt;stroke-linejoin:miter;stroke-opacity:1\"/>\n",
       "<path class=\"bond-1\" d=\"M 14.5823,154.579 L 37.5216,142.428\" style=\"fill:none;fill-rule:evenodd;stroke:#000000;stroke-width:2.0px;stroke-linecap:butt;stroke-linejoin:miter;stroke-opacity:1\"/>\n",
       "<path class=\"bond-2\" d=\"M 37.5216,142.428 L 59.5149,156.218\" style=\"fill:none;fill-rule:evenodd;stroke:#000000;stroke-width:2.0px;stroke-linecap:butt;stroke-linejoin:miter;stroke-opacity:1\"/>\n",
       "<path class=\"bond-2\" d=\"M 38.0625,148.895 L 53.4579,158.548\" style=\"fill:none;fill-rule:evenodd;stroke:#000000;stroke-width:2.0px;stroke-linecap:butt;stroke-linejoin:miter;stroke-opacity:1\"/>\n",
       "<path class=\"bond-3\" d=\"M 59.5149,156.218 L 58.569,182.16\" style=\"fill:none;fill-rule:evenodd;stroke:#000000;stroke-width:2.0px;stroke-linecap:butt;stroke-linejoin:miter;stroke-opacity:1\"/>\n",
       "<path class=\"bond-5\" d=\"M 59.5149,156.218 L 82.4542,144.066\" style=\"fill:none;fill-rule:evenodd;stroke:#000000;stroke-width:2.0px;stroke-linecap:butt;stroke-linejoin:miter;stroke-opacity:1\"/>\n",
       "<path class=\"bond-4\" d=\"M 58.569,182.16 L 35.6297,194.311\" style=\"fill:none;fill-rule:evenodd;stroke:#000000;stroke-width:2.0px;stroke-linecap:butt;stroke-linejoin:miter;stroke-opacity:1\"/>\n",
       "<path class=\"bond-4\" d=\"M 52.6977,179.395 L 36.6402,187.901\" style=\"fill:none;fill-rule:evenodd;stroke:#000000;stroke-width:2.0px;stroke-linecap:butt;stroke-linejoin:miter;stroke-opacity:1\"/>\n",
       "<path class=\"bond-6\" d=\"M 85.0484,144.161 L 85.4396,133.43\" style=\"fill:none;fill-rule:evenodd;stroke:#000000;stroke-width:2.0px;stroke-linecap:butt;stroke-linejoin:miter;stroke-opacity:1\"/>\n",
       "<path class=\"bond-6\" d=\"M 85.4396,133.43 L 85.8309,122.699\" style=\"fill:none;fill-rule:evenodd;stroke:#FF0000;stroke-width:2.0px;stroke-linecap:butt;stroke-linejoin:miter;stroke-opacity:1\"/>\n",
       "<path class=\"bond-6\" d=\"M 79.86,143.971 L 80.2513,133.241\" style=\"fill:none;fill-rule:evenodd;stroke:#000000;stroke-width:2.0px;stroke-linecap:butt;stroke-linejoin:miter;stroke-opacity:1\"/>\n",
       "<path class=\"bond-6\" d=\"M 80.2513,133.241 L 80.6426,122.51\" style=\"fill:none;fill-rule:evenodd;stroke:#FF0000;stroke-width:2.0px;stroke-linecap:butt;stroke-linejoin:miter;stroke-opacity:1\"/>\n",
       "<path class=\"bond-7\" d=\"M 82.4542,144.066 L 91.7323,149.884\" style=\"fill:none;fill-rule:evenodd;stroke:#000000;stroke-width:2.0px;stroke-linecap:butt;stroke-linejoin:miter;stroke-opacity:1\"/>\n",
       "<path class=\"bond-7\" d=\"M 91.7323,149.884 L 101.011,155.701\" style=\"fill:none;fill-rule:evenodd;stroke:#0000FF;stroke-width:2.0px;stroke-linecap:butt;stroke-linejoin:miter;stroke-opacity:1\"/>\n",
       "<path class=\"bond-8\" d=\"M 107.884,156.035 L 117.636,150.87\" style=\"fill:none;fill-rule:evenodd;stroke:#0000FF;stroke-width:2.0px;stroke-linecap:butt;stroke-linejoin:miter;stroke-opacity:1\"/>\n",
       "<path class=\"bond-8\" d=\"M 117.636,150.87 L 127.387,145.704\" style=\"fill:none;fill-rule:evenodd;stroke:#000000;stroke-width:2.0px;stroke-linecap:butt;stroke-linejoin:miter;stroke-opacity:1\"/>\n",
       "<path class=\"bond-9\" d=\"M 127.387,145.704 L 149.38,159.495\" style=\"fill:none;fill-rule:evenodd;stroke:#000000;stroke-width:2.0px;stroke-linecap:butt;stroke-linejoin:miter;stroke-opacity:1\"/>\n",
       "<path class=\"bond-17\" d=\"M 127.387,145.704 L 128.333,119.763\" style=\"fill:none;fill-rule:evenodd;stroke:#000000;stroke-width:2.0px;stroke-linecap:butt;stroke-linejoin:miter;stroke-opacity:1\"/>\n",
       "<path class=\"bond-10\" d=\"M 149.38,159.495 L 172.319,147.343\" style=\"fill:none;fill-rule:evenodd;stroke:#000000;stroke-width:2.0px;stroke-linecap:butt;stroke-linejoin:miter;stroke-opacity:1\"/>\n",
       "<path class=\"bond-11\" d=\"M 172.319,147.343 L 194.313,161.133\" style=\"fill:none;fill-rule:evenodd;stroke:#000000;stroke-width:2.0px;stroke-linecap:butt;stroke-linejoin:miter;stroke-opacity:1\"/>\n",
       "<path class=\"bond-12\" d=\"M 194.313,161.133 L 204.064,155.968\" style=\"fill:none;fill-rule:evenodd;stroke:#000000;stroke-width:2.0px;stroke-linecap:butt;stroke-linejoin:miter;stroke-opacity:1\"/>\n",
       "<path class=\"bond-12\" d=\"M 204.064,155.968 L 213.815,150.802\" style=\"fill:none;fill-rule:evenodd;stroke:#0000FF;stroke-width:2.0px;stroke-linecap:butt;stroke-linejoin:miter;stroke-opacity:1\"/>\n",
       "<path class=\"bond-13\" d=\"M 220.689,151.136 L 229.967,156.954\" style=\"fill:none;fill-rule:evenodd;stroke:#0000FF;stroke-width:2.0px;stroke-linecap:butt;stroke-linejoin:miter;stroke-opacity:1\"/>\n",
       "<path class=\"bond-13\" d=\"M 229.967,156.954 L 239.245,162.771\" style=\"fill:none;fill-rule:evenodd;stroke:#000000;stroke-width:2.0px;stroke-linecap:butt;stroke-linejoin:miter;stroke-opacity:1\"/>\n",
       "<path class=\"bond-13\" d=\"M 220.714,157.28 L 227.209,161.353\" style=\"fill:none;fill-rule:evenodd;stroke:#0000FF;stroke-width:2.0px;stroke-linecap:butt;stroke-linejoin:miter;stroke-opacity:1\"/>\n",
       "<path class=\"bond-13\" d=\"M 227.209,161.353 L 233.704,165.425\" style=\"fill:none;fill-rule:evenodd;stroke:#000000;stroke-width:2.0px;stroke-linecap:butt;stroke-linejoin:miter;stroke-opacity:1\"/>\n",
       "<path class=\"bond-14\" d=\"M 239.245,162.771 L 262.185,150.62\" style=\"fill:none;fill-rule:evenodd;stroke:#000000;stroke-width:2.0px;stroke-linecap:butt;stroke-linejoin:miter;stroke-opacity:1\"/>\n",
       "<path class=\"bond-16\" d=\"M 239.245,162.771 L 238.851,173.58\" style=\"fill:none;fill-rule:evenodd;stroke:#000000;stroke-width:2.0px;stroke-linecap:butt;stroke-linejoin:miter;stroke-opacity:1\"/>\n",
       "<path class=\"bond-16\" d=\"M 238.851,173.58 L 238.457,184.389\" style=\"fill:none;fill-rule:evenodd;stroke:#0000FF;stroke-width:2.0px;stroke-linecap:butt;stroke-linejoin:miter;stroke-opacity:1\"/>\n",
       "<path class=\"bond-15\" d=\"M 262.185,150.62 L 271.764,156.626\" style=\"fill:none;fill-rule:evenodd;stroke:#000000;stroke-width:2.0px;stroke-linecap:butt;stroke-linejoin:miter;stroke-opacity:1\"/>\n",
       "<path class=\"bond-15\" d=\"M 271.764,156.626 L 281.343,162.632\" style=\"fill:none;fill-rule:evenodd;stroke:#33CCCC;stroke-width:2.0px;stroke-linecap:butt;stroke-linejoin:miter;stroke-opacity:1\"/>\n",
       "<path class=\"bond-18\" d=\"M 129.712,117.563 L 120.727,111.93\" style=\"fill:none;fill-rule:evenodd;stroke:#000000;stroke-width:2.0px;stroke-linecap:butt;stroke-linejoin:miter;stroke-opacity:1\"/>\n",
       "<path class=\"bond-18\" d=\"M 120.727,111.93 L 111.742,106.296\" style=\"fill:none;fill-rule:evenodd;stroke:#FF0000;stroke-width:2.0px;stroke-linecap:butt;stroke-linejoin:miter;stroke-opacity:1\"/>\n",
       "<path class=\"bond-18\" d=\"M 126.954,121.962 L 117.969,116.328\" style=\"fill:none;fill-rule:evenodd;stroke:#000000;stroke-width:2.0px;stroke-linecap:butt;stroke-linejoin:miter;stroke-opacity:1\"/>\n",
       "<path class=\"bond-18\" d=\"M 117.969,116.328 L 108.984,110.695\" style=\"fill:none;fill-rule:evenodd;stroke:#FF0000;stroke-width:2.0px;stroke-linecap:butt;stroke-linejoin:miter;stroke-opacity:1\"/>\n",
       "<path class=\"bond-19\" d=\"M 128.333,119.763 L 138.084,114.597\" style=\"fill:none;fill-rule:evenodd;stroke:#000000;stroke-width:2.0px;stroke-linecap:butt;stroke-linejoin:miter;stroke-opacity:1\"/>\n",
       "<path class=\"bond-19\" d=\"M 138.084,114.597 L 147.835,109.432\" style=\"fill:none;fill-rule:evenodd;stroke:#0000FF;stroke-width:2.0px;stroke-linecap:butt;stroke-linejoin:miter;stroke-opacity:1\"/>\n",
       "<path class=\"atom-7\" d=\"M 80.0254 118.145 Q 80.0254 116.38, 80.8977 115.393 Q 81.7699 114.407, 83.4001 114.407 Q 85.0303 114.407, 85.9026 115.393 Q 86.7748 116.38, 86.7748 118.145 Q 86.7748 119.931, 85.8922 120.949 Q 85.0096 121.956, 83.4001 121.956 Q 81.7803 121.956, 80.8977 120.949 Q 80.0254 119.941, 80.0254 118.145 M 83.4001 121.125 Q 84.5215 121.125, 85.1238 120.377 Q 85.7364 119.619, 85.7364 118.145 Q 85.7364 116.702, 85.1238 115.975 Q 84.5215 115.238, 83.4001 115.238 Q 82.2787 115.238, 81.666 115.964 Q 81.0638 116.691, 81.0638 118.145 Q 81.0638 119.63, 81.666 120.377 Q 82.2787 121.125, 83.4001 121.125 \" fill=\"#FF0000\"/>\n",
       "<path class=\"atom-8\" d=\"M 102.822 154.18 L 105.231 158.074 Q 105.47 158.458, 105.854 159.154 Q 106.239 159.85, 106.259 159.891 L 106.259 154.18 L 107.236 154.18 L 107.236 161.532 L 106.228 161.532 L 103.643 157.275 Q 103.342 156.776, 103.02 156.205 Q 102.708 155.634, 102.615 155.458 L 102.615 161.532 L 101.659 161.532 L 101.659 154.18 L 102.822 154.18 \" fill=\"#0000FF\"/>\n",
       "<path class=\"atom-8\" d=\"M 101.571 162.267 L 102.568 162.267 L 102.568 165.393 L 106.327 165.393 L 106.327 162.267 L 107.324 162.267 L 107.324 169.619 L 106.327 169.619 L 106.327 166.223 L 102.568 166.223 L 102.568 169.619 L 101.571 169.619 L 101.571 162.267 \" fill=\"#0000FF\"/>\n",
       "<path class=\"atom-13\" d=\"M 215.627 145.306 L 218.036 149.199 Q 218.275 149.584, 218.659 150.279 Q 219.043 150.975, 219.064 151.017 L 219.064 145.306 L 220.04 145.306 L 220.04 152.657 L 219.033 152.657 L 216.447 148.4 Q 216.146 147.901, 215.824 147.33 Q 215.513 146.759, 215.419 146.583 L 215.419 152.657 L 214.464 152.657 L 214.464 145.306 L 215.627 145.306 \" fill=\"#0000FF\"/>\n",
       "<path class=\"atom-16\" d=\"M 281.992 160.734 L 286.364 160.734 L 286.364 161.575 L 282.979 161.575 L 282.979 163.808 L 285.99 163.808 L 285.99 164.659 L 282.979 164.659 L 282.979 168.086 L 281.992 168.086 L 281.992 160.734 \" fill=\"#33CCCC\"/>\n",
       "<path class=\"atom-17\" d=\"M 236.674 185.037 L 239.083 188.931 Q 239.322 189.316, 239.706 190.011 Q 240.091 190.707, 240.111 190.748 L 240.111 185.037 L 241.087 185.037 L 241.087 192.389 L 240.08 192.389 L 237.495 188.132 Q 237.193 187.633, 236.872 187.062 Q 236.56 186.491, 236.467 186.315 L 236.467 192.389 L 235.511 192.389 L 235.511 185.037 L 236.674 185.037 \" fill=\"#0000FF\"/>\n",
       "<path class=\"atom-17\" d=\"M 241.97 185.037 L 242.967 185.037 L 242.967 188.163 L 246.726 188.163 L 246.726 185.037 L 247.722 185.037 L 247.722 192.389 L 246.726 192.389 L 246.726 188.994 L 242.967 188.994 L 242.967 192.389 L 241.97 192.389 L 241.97 185.037 \" fill=\"#0000FF\"/>\n",
       "<path class=\"atom-17\" d=\"M 248.079 192.131 Q 248.257 191.672, 248.682 191.418 Q 249.107 191.158, 249.696 191.158 Q 250.43 191.158, 250.841 191.555 Q 251.252 191.953, 251.252 192.659 Q 251.252 193.378, 250.717 194.05 Q 250.19 194.722, 249.093 195.517 L 251.334 195.517 L 251.334 196.065 L 248.065 196.065 L 248.065 195.606 Q 248.97 194.962, 249.504 194.482 Q 250.046 194.002, 250.306 193.57 Q 250.567 193.139, 250.567 192.693 Q 250.567 192.227, 250.334 191.967 Q 250.101 191.706, 249.696 191.706 Q 249.306 191.706, 249.045 191.864 Q 248.785 192.022, 248.6 192.371 L 248.079 192.131 \" fill=\"#0000FF\"/>\n",
       "<path class=\"atom-19\" d=\"M 102.965 105.993 Q 102.965 104.228, 103.837 103.242 Q 104.709 102.255, 106.339 102.255 Q 107.97 102.255, 108.842 103.242 Q 109.714 104.228, 109.714 105.993 Q 109.714 107.779, 108.831 108.797 Q 107.949 109.804, 106.339 109.804 Q 104.72 109.804, 103.837 108.797 Q 102.965 107.79, 102.965 105.993 M 106.339 108.973 Q 107.461 108.973, 108.063 108.226 Q 108.676 107.468, 108.676 105.993 Q 108.676 104.55, 108.063 103.823 Q 107.461 103.086, 106.339 103.086 Q 105.218 103.086, 104.605 103.813 Q 104.003 104.54, 104.003 105.993 Q 104.003 107.478, 104.605 108.226 Q 105.218 108.973, 106.339 108.973 \" fill=\"#FF0000\"/>\n",
       "<path class=\"atom-20\" d=\"M 149.647 103.935 L 152.056 107.829 Q 152.295 108.213, 152.679 108.909 Q 153.063 109.605, 153.084 109.646 L 153.084 103.935 L 154.06 103.935 L 154.06 111.287 L 153.053 111.287 L 150.467 107.029 Q 150.166 106.531, 149.844 105.96 Q 149.533 105.389, 149.439 105.212 L 149.439 111.287 L 148.484 111.287 L 148.484 103.935 L 149.647 103.935 \" fill=\"#0000FF\"/>\n",
       "<path class=\"atom-20\" d=\"M 154.943 103.935 L 155.939 103.935 L 155.939 107.061 L 159.698 107.061 L 159.698 103.935 L 160.695 103.935 L 160.695 111.287 L 159.698 111.287 L 159.698 107.891 L 155.939 107.891 L 155.939 111.287 L 154.943 111.287 L 154.943 103.935 \" fill=\"#0000FF\"/>\n",
       "<path class=\"atom-20\" d=\"M 161.051 111.029 Q 161.23 110.57, 161.655 110.316 Q 162.079 110.056, 162.669 110.056 Q 163.402 110.056, 163.813 110.453 Q 164.225 110.851, 164.225 111.556 Q 164.225 112.276, 163.69 112.948 Q 163.162 113.619, 162.066 114.414 L 164.307 114.414 L 164.307 114.963 L 161.038 114.963 L 161.038 114.503 Q 161.942 113.859, 162.477 113.379 Q 163.018 112.9, 163.279 112.468 Q 163.539 112.036, 163.539 111.591 Q 163.539 111.125, 163.306 110.864 Q 163.073 110.604, 162.669 110.604 Q 162.278 110.604, 162.018 110.762 Q 161.757 110.919, 161.572 111.269 L 161.051 111.029 \" fill=\"#0000FF\"/>\n",
       "</svg>"
      ],
      "text/plain": [
       "<IPython.core.display.SVG object>"
      ]
     },
     "metadata": {},
     "output_type": "display_data"
    }
   ],
   "source": [
    "import itertools\n",
    "from rdkit.Chem.Draw import rdMolDraw2D\n",
    "from IPython.display import SVG\n",
    "\n",
    "def visualize_match(structure, pattern):\n",
    "    # GetSubstructMatches grabs all hits, GetSubstructMatch the first one it finds\n",
    "    hits = structure.GetSubstructMatches(pattern)\n",
    "    hit_atoms = set()\n",
    "    hit_bonds = set()\n",
    "    for hit in hits:\n",
    "        hit_atoms.update(hit)\n",
    "        hit_bonds.update([structure.GetBondBetweenAtoms(i, j).GetIdx()\n",
    "                          for i, j in itertools.combinations(hit_atoms, 2)\n",
    "                          if structure.GetBondBetweenAtoms(i, j)])\n",
    "    d = rdMolDraw2D.MolDraw2DSVG(300,300)\n",
    "    rdMolDraw2D.PrepareAndDrawMolecule(d, structure, highlightAtoms=hit_atoms, highlightBonds=hit_bonds)\n",
    "    d.FinishDrawing()\n",
    "    display(SVG(d.GetDrawingText()))\n",
    "    \n",
    "visualize_match(F_Amidine, pattern)"
   ]
  },
  {
   "cell_type": "markdown",
   "metadata": {},
   "source": [
    "Now, let's have a look how many structures with NH2 groups are in EGFR ligand set, and how many in DrugBank:"
   ]
  },
  {
   "cell_type": "code",
   "execution_count": 130,
   "metadata": {},
   "outputs": [
    {
     "data": {
      "text/plain": [
       "(14362, 1985, 1.1032745591939546)"
      ]
     },
     "execution_count": 130,
     "metadata": {},
     "output_type": "execute_result"
    }
   ],
   "source": [
    "NH2_counts_EGFR = [len(m.GetSubstructMatches(pattern)) for m in EGFR_ligands]\n",
    "NH2_counts_EGFR_nonzero = [m for m in NH2_counts_EGFR if m]\n",
    "len(NH2_counts_EGFR), len(NH2_counts_EGFR_nonzero), sum(NH2_counts_EGFR_nonzero)/len(NH2_counts_EGFR_nonzero)"
   ]
  },
  {
   "cell_type": "markdown",
   "metadata": {},
   "source": [
    "From 14362 EGFR ligands, 1985 structures have the NH2 group, and there are approximatelly 1.1 NH2 groups per ligand.\n",
    "\n",
    "DrugBank:"
   ]
  },
  {
   "cell_type": "code",
   "execution_count": 148,
   "metadata": {},
   "outputs": [
    {
     "data": {
      "text/plain": [
       "(7115, 2110, 1.3023696682464454, 17)"
      ]
     },
     "execution_count": 148,
     "metadata": {},
     "output_type": "execute_result"
    }
   ],
   "source": [
    "NH2_counts_drugbank = [len(m.GetSubstructMatches(pattern)) for m in drugs]\n",
    "NH2_counts_drugbank_nonzero = [m for m in NH2_counts_drugbank if m]\n",
    "len(NH2_counts_drugbank), len(NH2_counts_drugbank_nonzero),\\\n",
    "sum(NH2_counts_drugbank_nonzero)/len(NH2_counts_drugbank_nonzero),\\\n",
    "max(NH2_counts_drugbank_nonzero)"
   ]
  },
  {
   "cell_type": "markdown",
   "metadata": {},
   "source": [
    "From 7115 drugbank ligands, 2110 structures have the NH2 group, and there are approximatelly 1.3 NH2 group per ligand.\n",
    "\n",
    "There is at least one with 17 NH2 groups."
   ]
  },
  {
   "cell_type": "code",
   "execution_count": 132,
   "metadata": {},
   "outputs": [
    {
     "data": {
      "image/png": "[encoded data removed]",
      "text/plain": [
       "<IPython.core.display.Image object>"
      ]
     },
     "execution_count": 132,
     "metadata": {},
     "output_type": "execute_result"
    }
   ],
   "source": [
    "lots_of_NH2 = [m for m, i in zip(drugs, NH2_counts_drugbank) if i == 17]\n",
    "Draw.MolsToGridImage(lots_of_NH2, molsPerRow=1, subImgSize=(500,500),\n",
    "                     legends=[\"{} | {}\".format(m.GetProp('GENERIC_NAME'), m.GetProp('DRUGBANK_ID'))\n",
    "                              for m in lots_of_NH2])"
   ]
  },
  {
   "cell_type": "markdown",
   "metadata": {},
   "source": [
    "Tesamorelin (INN) (trade name Egrifta) is a synthetic form of growth-hormone-releasing hormone (GHRH) which is used in the treatment of HIV-associated lipodystrophy, approved initially in 2010. It is produced and developed by Theratechnologies, Inc. of Canada. The drug is a synthetic peptide consisting of all 44 amino acids of human GHRH with the addition of a trans-3-hexenoic acid group. (source: Wikipedia)"
   ]
  },
  {
   "cell_type": "markdown",
   "metadata": {},
   "source": [
    "# PAINS\n",
    "In addition to our custom queries, there are also established lists of substructures put together for a specific purpose. Widely used, and widely discussed are the PAINS, or [PAn -Assay INterference compoundS](https://www.nature.com/news/chemistry-chemical-con-artists-foil-drug-discovery-1.15991). These are structural patterns that are known to interfere with the mechanism of assays used to screen for substances with a desired biological activity. These structures are likely to come up as false positivies in assays, and might become a trap that consumes time and resources of those unfamiliar with those factors. As always in cheminformatics, PAINS are not a panacea and should be used [with care](https://www.ncbi.nlm.nih.gov/pmc/articles/PMC5778390/). They are definitively red flags, though, and you should be definitely aware of them. As shown in the Nature article:\n",
    "\n",
    "![PAINS](../data/pix/pains.jpg)\n",
    "![PAINS2](../data/pix/pains2.jpg)\n",
    "\n",
    "Let's load up some of those PAINS, and see whether your sets of ligands have any of them :)"
   ]
  },
  {
   "cell_type": "code",
   "execution_count": 17,
   "metadata": {},
   "outputs": [
    {
     "data": {
      "text/plain": [
       "([[<rdkit.Chem.rdchem.Mol at 0x7fc862b793f0>, 'anil_di_alk_F(14)'],\n",
       "  [<rdkit.Chem.rdchem.Mol at 0x7fc862b769e0>, 'hzone_anil(14)'],\n",
       "  [<rdkit.Chem.rdchem.Mol at 0x7fc862b79440>, 'het_5_pyrazole_OH(14)'],\n",
       "  [<rdkit.Chem.rdchem.Mol at 0x7fc862b794e0>, 'het_thio_666_A(13)'],\n",
       "  [<rdkit.Chem.rdchem.Mol at 0x7fc862b79530>, 'styrene_A(13)'],\n",
       "  [<rdkit.Chem.rdchem.Mol at 0x7fc862b795d0>, 'ne_rhod_C(13)'],\n",
       "  [<rdkit.Chem.rdchem.Mol at 0x7fc862b79670>, 'hp_amino_CN_A(13)'],\n",
       "  [<rdkit.Chem.rdchem.Mol at 0x7fc862b796c0>, 'cyano_imine_C(12)'],\n",
       "  [<rdkit.Chem.rdchem.Mol at 0x7fc862b79710>, 'thio_urea_A(12)'],\n",
       "  [<rdkit.Chem.rdchem.Mol at 0x7fc862b797b0>, 'thiophene_amino_B(12)'],\n",
       "  [<rdkit.Chem.rdchem.Mol at 0x7fc862b79850>, 'keto_keto_beta_B(12)'],\n",
       "  [<rdkit.Chem.rdchem.Mol at 0x7fc862b79940>, 'keto_phenone_A(11)'],\n",
       "  [<rdkit.Chem.rdchem.Mol at 0x7fc862b79a30>, 'cyano_pyridone_C(11)'],\n",
       "  [<rdkit.Chem.rdchem.Mol at 0x7fc862b79b20>, 'thiaz_ene_C(11)'],\n",
       "  [<rdkit.Chem.rdchem.Mol at 0x7fc862b79c10>, 'hzone_thiophene_A(11)'],\n",
       "  [<rdkit.Chem.rdchem.Mol at 0x7fc862b79cb0>, 'ne_quin_methide(10)'],\n",
       "  [<rdkit.Chem.rdchem.Mol at 0x7fc862b79da0>, 'het_thio_676_A(10)'],\n",
       "  [<rdkit.Chem.rdchem.Mol at 0x7fc862b79e90>, 'ne_five_het_G(10)'],\n",
       "  [<rdkit.Chem.rdchem.Mol at 0x7fc862b79f80>, 'acyl_het_A(9)'],\n",
       "  [<rdkit.Chem.rdchem.Mol at 0x7fc862b780d0>, 'anil_di_alk_G(9)'],\n",
       "  [<rdkit.Chem.rdchem.Mol at 0x7fc862b78170>, 'hp_keto_A(9)'],\n",
       "  [<rdkit.Chem.rdchem.Mol at 0x7fc862b78260>, 'thio_urea_B(9)'],\n",
       "  [<rdkit.Chem.rdchem.Mol at 0x7fc862b78300>, 'anil_alk_bim(9)'],\n",
       "  [<rdkit.Chem.rdchem.Mol at 0x7fc862b783a0>, 'imine_imine_A(9)'],\n",
       "  [<rdkit.Chem.rdchem.Mol at 0x7fc862b78440>, 'thio_urea_C(9)'],\n",
       "  [<rdkit.Chem.rdchem.Mol at 0x7fc862b78530>, 'imine_one_fives_B(9)'],\n",
       "  [<rdkit.Chem.rdchem.Mol at 0x7fc862b785d0>, 'hp_amino_CN_B(9)'],\n",
       "  [<rdkit.Chem.rdchem.Mol at 0x7fc862b786c0>, 'anil_OC_no_alk_A(8)'],\n",
       "  [<rdkit.Chem.rdchem.Mol at 0x7fc862b787b0>, 'het_thio_66_one(8)'],\n",
       "  [<rdkit.Chem.rdchem.Mol at 0x7fc862b788a0>, 'styrene_B(8)'],\n",
       "  [<rdkit.Chem.rdchem.Mol at 0x7fc862b78990>, 'het_thio_5_A(8)'],\n",
       "  [<rdkit.Chem.rdchem.Mol at 0x7fc862b78a30>, 'anil_di_alk_ene_A(8)'],\n",
       "  [<rdkit.Chem.rdchem.Mol at 0x7fc862b78ad0>, 'ne_rhod_D(8)'],\n",
       "  [<rdkit.Chem.rdchem.Mol at 0x7fc862b78bc0>, 'ne_rhod_E(8)'],\n",
       "  [<rdkit.Chem.rdchem.Mol at 0x7fc862b78c60>, 'anil_OH_alk_A(8)'],\n",
       "  [<rdkit.Chem.rdchem.Mol at 0x7fc862b78d00>, 'pyrrole_C(8)'],\n",
       "  [<rdkit.Chem.rdchem.Mol at 0x7fc862b78df0>, 'thio_urea_D(8)'],\n",
       "  [<rdkit.Chem.rdchem.Mol at 0x7fc862b78e90>, 'thiaz_ene_D(8)'],\n",
       "  [<rdkit.Chem.rdchem.Mol at 0x7fc862b78f30>, 'ne_rhod_F(8)'],\n",
       "  [<rdkit.Chem.rdchem.Mol at 0x7fc862b77030>, 'thiaz_ene_E(8)'],\n",
       "  [<rdkit.Chem.rdchem.Mol at 0x7fc862b770d0>, 'het_65_B(7)'],\n",
       "  [<rdkit.Chem.rdchem.Mol at 0x7fc862b77170>, 'keto_keto_beta_C(7)'],\n",
       "  [<rdkit.Chem.rdchem.Mol at 0x7fc862b77210>, 'het_66_A(7)'],\n",
       "  [<rdkit.Chem.rdchem.Mol at 0x7fc862b77300>, 'thio_urea_E(7)'],\n",
       "  [<rdkit.Chem.rdchem.Mol at 0x7fc862b773a0>, 'thiophene_amino_C(7)'],\n",
       "  [<rdkit.Chem.rdchem.Mol at 0x7fc862b77440>, 'hzone_phenone(7)'],\n",
       "  [<rdkit.Chem.rdchem.Mol at 0x7fc862b77530>, 'ne_rhod_G(7)'],\n",
       "  [<rdkit.Chem.rdchem.Mol at 0x7fc862b77620>, 'ne_cyano_B(7)'],\n",
       "  [<rdkit.Chem.rdchem.Mol at 0x7fc862b776c0>, 'hp_amino_CN_C(7)'],\n",
       "  [<rdkit.Chem.rdchem.Mol at 0x7fc862b77760>, 'het_5_A(7)'],\n",
       "  [<rdkit.Chem.rdchem.Mol at 0x7fc862b77850>, 'ne_five_het_H(6)'],\n",
       "  [<rdkit.Chem.rdchem.Mol at 0x7fc862b778f0>, 'thio_amide_A(6)'],\n",
       "  [<rdkit.Chem.rdchem.Mol at 0x7fc862b779e0>, 'ne_cyano_C(6)'],\n",
       "  [<rdkit.Chem.rdchem.Mol at 0x7fc862b77a80>, 'hzone_furan_A(6)'],\n",
       "  [<rdkit.Chem.rdchem.Mol at 0x7fc862b77b20>, 'anil_di_alk_H(6)'],\n",
       "  [<rdkit.Chem.rdchem.Mol at 0x7fc862b77c10>, 'het_65_C(6)'],\n",
       "  [<rdkit.Chem.rdchem.Mol at 0x7fc862b77d00>, 'thio_urea_F(6)'],\n",
       "  [<rdkit.Chem.rdchem.Mol at 0x7fc862b77da0>, 'ne_five_het_I(6)'],\n",
       "  [<rdkit.Chem.rdchem.Mol at 0x7fc862b77e40>, 'keto_keto_gamma(5)'],\n",
       "  [<rdkit.Chem.rdchem.Mol at 0x7fc862b77f30>, 'quinone_B(5)'],\n",
       "  [<rdkit.Chem.rdchem.Mol at 0x7fc862b7a080>, 'het_6_pyridone_OH(5)'],\n",
       "  [<rdkit.Chem.rdchem.Mol at 0x7fc862b7a120>, 'hzone_naphth_A(5)'],\n",
       "  [<rdkit.Chem.rdchem.Mol at 0x7fc862b7a210>, 'thio_ester_A(5)'],\n",
       "  [<rdkit.Chem.rdchem.Mol at 0x7fc862b7a300>, 'ne_misc_A(5)'],\n",
       "  [<rdkit.Chem.rdchem.Mol at 0x7fc862b7a3a0>, 'cyano_pyridone_D(5)'],\n",
       "  [<rdkit.Chem.rdchem.Mol at 0x7fc862b7a440>, 'het_65_Db(5)'],\n",
       "  [<rdkit.Chem.rdchem.Mol at 0x7fc862b7a530>, 'het_666_A(5)'],\n",
       "  [<rdkit.Chem.rdchem.Mol at 0x7fc862b7a5d0>, 'iazox_sulfon_B(5)'],\n",
       "  [<rdkit.Chem.rdchem.Mol at 0x7fc862b7a670>, 'anil_NH_alk_A(5)'],\n",
       "  [<rdkit.Chem.rdchem.Mol at 0x7fc862b7a760>, 'sulfonamide_C(5)'],\n",
       "  [<rdkit.Chem.rdchem.Mol at 0x7fc862b7a850>, 'het_thio_N_55(5)'],\n",
       "  [<rdkit.Chem.rdchem.Mol at 0x7fc862b7a940>, 'keto_keto_beta_D(5)'],\n",
       "  [<rdkit.Chem.rdchem.Mol at 0x7fc862b7aa30>, 'ne_rhod_H(5)'],\n",
       "  [<rdkit.Chem.rdchem.Mol at 0x7fc862b7ab20>, 'imine_ene_A(5)'],\n",
       "  [<rdkit.Chem.rdchem.Mol at 0x7fc862b7abc0>, 'het_thio_656a(5)'],\n",
       "  [<rdkit.Chem.rdchem.Mol at 0x7fc862b7ac60>, 'pyrrole_D(5)'],\n",
       "  [<rdkit.Chem.rdchem.Mol at 0x7fc862b7ad50>, 'pyrrole_E(5)'],\n",
       "  [<rdkit.Chem.rdchem.Mol at 0x7fc862b7adf0>, 'thio_urea_G(5)'],\n",
       "  [<rdkit.Chem.rdchem.Mol at 0x7fc862b7ae90>, 'anisol_A(5)'],\n",
       "  [<rdkit.Chem.rdchem.Mol at 0x7fc862b7af30>, 'pyrrole_F(5)'],\n",
       "  [<rdkit.Chem.rdchem.Mol at 0x7fc862b7b030>, 'hp_amino_CN_D(5)'],\n",
       "  [<rdkit.Chem.rdchem.Mol at 0x7fc862b7b0d0>, 'thiazole_amine_A(4)'],\n",
       "  [<rdkit.Chem.rdchem.Mol at 0x7fc862b7b1c0>, 'het_6_imidate_A(4)'],\n",
       "  [<rdkit.Chem.rdchem.Mol at 0x7fc862b7b2b0>, 'anil_OC_no_alk_B(4)'],\n",
       "  [<rdkit.Chem.rdchem.Mol at 0x7fc862b7b3a0>, 'styrene_C(4)'],\n",
       "  [<rdkit.Chem.rdchem.Mol at 0x7fc862b7b490>, 'azulene(4)'],\n",
       "  [<rdkit.Chem.rdchem.Mol at 0x7fc862b7b580>, 'furan_acid_A(4)'],\n",
       "  [<rdkit.Chem.rdchem.Mol at 0x7fc862b7b620>, 'cyano_pyridone_E(4)'],\n",
       "  [<rdkit.Chem.rdchem.Mol at 0x7fc862b7b670>, 'anil_alk_thio(4)'],\n",
       "  [<rdkit.Chem.rdchem.Mol at 0x7fc862b7b760>, 'anil_di_alk_I(4)'],\n",
       "  [<rdkit.Chem.rdchem.Mol at 0x7fc862b7b850>, 'het_thio_6_furan(4)'],\n",
       "  [<rdkit.Chem.rdchem.Mol at 0x7fc862b7b940>, 'anil_di_alk_ene_B(4)'],\n",
       "  [<rdkit.Chem.rdchem.Mol at 0x7fc862b7ba30>, 'imine_one_B(4)'],\n",
       "  [<rdkit.Chem.rdchem.Mol at 0x7fc862b7bb20>, 'anil_OC_alk_A(4)'],\n",
       "  [<rdkit.Chem.rdchem.Mol at 0x7fc862b7bbc0>, 'ne_five_het_J(4)'],\n",
       "  [<rdkit.Chem.rdchem.Mol at 0x7fc862b7bcb0>, 'pyrrole_G(4)'],\n",
       "  [<rdkit.Chem.rdchem.Mol at 0x7fc862b7bda0>, 'ne_five_het_K(4)'],\n",
       "  [<rdkit.Chem.rdchem.Mol at 0x7fc862b7be40>, 'cyano_ene_amine_B(4)'],\n",
       "  [<rdkit.Chem.rdchem.Mol at 0x7fc862b7bf30>, 'thio_ester_B(4)'],\n",
       "  [<rdkit.Chem.rdchem.Mol at 0x7fc862b7c080>, 'ne_five_het_L(4)'],\n",
       "  [<rdkit.Chem.rdchem.Mol at 0x7fc862b7c120>, 'hzone_thiophene_B(4)'],\n",
       "  [<rdkit.Chem.rdchem.Mol at 0x7fc862b7c210>, 'hp_amino_CN_E(4)'],\n",
       "  [<rdkit.Chem.rdchem.Mol at 0x7fc862b7c300>, 'het_5_B(4)'],\n",
       "  [<rdkit.Chem.rdchem.Mol at 0x7fc862b7c3f0>, 'imine_imine_B(3)'],\n",
       "  [<rdkit.Chem.rdchem.Mol at 0x7fc862b7c490>, 'thiazole_amine_B(3)'],\n",
       "  [<rdkit.Chem.rdchem.Mol at 0x7fc862b7c580>, 'imine_ene_one_A(3)'],\n",
       "  [<rdkit.Chem.rdchem.Mol at 0x7fc862b7c670>, 'iazox_A(3)'],\n",
       "  [<rdkit.Chem.rdchem.Mol at 0x7fc862b7c760>, 'ne_one_A(3)'],\n",
       "  [<rdkit.Chem.rdchem.Mol at 0x7fc862b7c800>, 'anil_OC_no_alk_C(3)'],\n",
       "  [<rdkit.Chem.rdchem.Mol at 0x7fc862b7c8a0>, 'thiazol_SC_A(3)'],\n",
       "  [<rdkit.Chem.rdchem.Mol at 0x7fc862b7c990>, 'het_666_B(3)'],\n",
       "  [<rdkit.Chem.rdchem.Mol at 0x7fc862b7ca30>, 'furan_A(3)'],\n",
       "  [<rdkit.Chem.rdchem.Mol at 0x7fc862b7cad0>, 'colchicine_A(3)'],\n",
       "  [<rdkit.Chem.rdchem.Mol at 0x7fc862b7cb70>, 'thiophene_C(3)'],\n",
       "  [<rdkit.Chem.rdchem.Mol at 0x7fc862b7cc10>, 'anil_OC_alk_B(3)'],\n",
       "  [<rdkit.Chem.rdchem.Mol at 0x7fc862b7ccb0>, 'het_thio_66_A(3)'],\n",
       "  [<rdkit.Chem.rdchem.Mol at 0x7fc862b7cda0>, 'hod_sat_B(3)'],\n",
       "  [<rdkit.Chem.rdchem.Mol at 0x7fc862b7ce90>, 'ne_rhod_I(3)'],\n",
       "  [<rdkit.Chem.rdchem.Mol at 0x7fc862b7cf30>, 'keto_thiophene(3)'],\n",
       "  [<rdkit.Chem.rdchem.Mol at 0x7fc862b7d030>, 'imine_imine_C(3)'],\n",
       "  [<rdkit.Chem.rdchem.Mol at 0x7fc862b7d120>, 'het_65_pyridone_A(3)'],\n",
       "  [<rdkit.Chem.rdchem.Mol at 0x7fc862b7d210>, 'thiazole_amine_C(3)'],\n",
       "  [<rdkit.Chem.rdchem.Mol at 0x7fc862b7d300>, 'het_thio_pyr_A(3)'],\n",
       "  [<rdkit.Chem.rdchem.Mol at 0x7fc862b7d3f0>, 'melamine_A(3)'],\n",
       "  [<rdkit.Chem.rdchem.Mol at 0x7fc862b7d4e0>, 'anil_NH_alk_B(3)'],\n",
       "  [<rdkit.Chem.rdchem.Mol at 0x7fc862b7d580>, 'hod_sat_C(3)'],\n",
       "  [<rdkit.Chem.rdchem.Mol at 0x7fc862b7d670>, 'thiophene_amino_D(3)'],\n",
       "  [<rdkit.Chem.rdchem.Mol at 0x7fc862b7d710>, 'anil_OC_alk_C(3)'],\n",
       "  [<rdkit.Chem.rdchem.Mol at 0x7fc862b7d800>, 'het_thio_65_A(3)'],\n",
       "  [<rdkit.Chem.rdchem.Mol at 0x7fc862b7d8f0>, 'het_thio_656b(3)'],\n",
       "  [<rdkit.Chem.rdchem.Mol at 0x7fc862b7d9e0>, 'thiazole_amine_D(3)'],\n",
       "  [<rdkit.Chem.rdchem.Mol at 0x7fc862b7dad0>, 'thio_urea_H(3)'],\n",
       "  [<rdkit.Chem.rdchem.Mol at 0x7fc862b7dbc0>, 'cyano_pyridone_F(3)'],\n",
       "  [<rdkit.Chem.rdchem.Mol at 0x7fc862b7dc60>, 'hod_sat_D(3)'],\n",
       "  [<rdkit.Chem.rdchem.Mol at 0x7fc862b7dd50>, 'ne_rhod_J(3)'],\n",
       "  [<rdkit.Chem.rdchem.Mol at 0x7fc862b7ddf0>, 'imine_phenol_A(3)'],\n",
       "  [<rdkit.Chem.rdchem.Mol at 0x7fc862b7de90>, 'thio_carbonate_B(3)'],\n",
       "  [<rdkit.Chem.rdchem.Mol at 0x7fc862b7df80>, 'het_thio_N_5A(3)'],\n",
       "  [<rdkit.Chem.rdchem.Mol at 0x7fc862b7e0d0>, 'het_thio_N_65A(3)'],\n",
       "  [<rdkit.Chem.rdchem.Mol at 0x7fc862b7e1c0>, 'anil_di_alk_J(3)'],\n",
       "  [<rdkit.Chem.rdchem.Mol at 0x7fc862b7e2b0>, 'pyrrole_H(3)'],\n",
       "  [<rdkit.Chem.rdchem.Mol at 0x7fc862b7e3a0>, 'ne_cyano_D(3)'],\n",
       "  [<rdkit.Chem.rdchem.Mol at 0x7fc862b7e440>, 'cyano_cyano_B(3)'],\n",
       "  [<rdkit.Chem.rdchem.Mol at 0x7fc862b7e4e0>, 'ne_five_het_M(3)'],\n",
       "  [<rdkit.Chem.rdchem.Mol at 0x7fc862b7e5d0>, 'cyano_ene_amine_C(3)'],\n",
       "  [<rdkit.Chem.rdchem.Mol at 0x7fc862b7e6c0>, 'thio_urea_I(3)'],\n",
       "  [<rdkit.Chem.rdchem.Mol at 0x7fc862b7e7b0>, 'hp_amino_CN_F(3)'],\n",
       "  [<rdkit.Chem.rdchem.Mol at 0x7fc862b7e850>, 'anthranil_acid_B(3)'],\n",
       "  [<rdkit.Chem.rdchem.Mol at 0x7fc862b7e940>, 'iazox_B(3)'],\n",
       "  [<rdkit.Chem.rdchem.Mol at 0x7fc862b7ea80>, 'thio_aldehyd_A(3)'],\n",
       "  [<rdkit.Chem.rdchem.Mol at 0x7fc862b7eb70>, 'thio_amide_B(2)'],\n",
       "  [<rdkit.Chem.rdchem.Mol at 0x7fc862b7ec10>, 'imidazole_B(2)'],\n",
       "  [<rdkit.Chem.rdchem.Mol at 0x7fc862b7ec60>, 'thiazole_amine_E(2)'],\n",
       "  [<rdkit.Chem.rdchem.Mol at 0x7fc862b7ed00>, 'thiazole_amine_F(2)'],\n",
       "  [<rdkit.Chem.rdchem.Mol at 0x7fc862b7edf0>, 'thio_ester_C(2)'],\n",
       "  [<rdkit.Chem.rdchem.Mol at 0x7fc862b7eee0>, 'ne_one_B(2)'],\n",
       "  [<rdkit.Chem.rdchem.Mol at 0x7fc862b7ef80>, 'quinone_C(2)'],\n",
       "  [<rdkit.Chem.rdchem.Mol at 0x7fc862b7f080>, 'keto_naphthol_A(2)'],\n",
       "  [<rdkit.Chem.rdchem.Mol at 0x7fc862b7f120>, 'thio_amide_C(2)'],\n",
       "  [<rdkit.Chem.rdchem.Mol at 0x7fc862b7f210>, 'phthalimide_misc(2)'],\n",
       "  [<rdkit.Chem.rdchem.Mol at 0x7fc862b7f2b0>, 'sulfonamide_D(2)'],\n",
       "  [<rdkit.Chem.rdchem.Mol at 0x7fc862b7f3a0>, 'anil_NH_alk_C(2)'],\n",
       "  [<rdkit.Chem.rdchem.Mol at 0x7fc862b7f490>, 'het_65_E(2)'],\n",
       "  [<rdkit.Chem.rdchem.Mol at 0x7fc862b7f580>, 'hzide_naphth(2)'],\n",
       "  [<rdkit.Chem.rdchem.Mol at 0x7fc862b7f620>, 'anisol_B(2)'],\n",
       "  [<rdkit.Chem.rdchem.Mol at 0x7fc862b7f6c0>, 'thio_carbam_ene(2)'],\n",
       "  [<rdkit.Chem.rdchem.Mol at 0x7fc862b7f760>, 'thio_amide_D(2)'],\n",
       "  [<rdkit.Chem.rdchem.Mol at 0x7fc862b7f850>, 'het_65_Da(2)'],\n",
       "  [<rdkit.Chem.rdchem.Mol at 0x7fc862b7f940>, 'thiophene_D(2)'],\n",
       "  [<rdkit.Chem.rdchem.Mol at 0x7fc862b7f9e0>, 'het_thio_6_ene(2)'],\n",
       "  [<rdkit.Chem.rdchem.Mol at 0x7fc862b7fa30>, 'cyano_keto_A(2)'],\n",
       "  [<rdkit.Chem.rdchem.Mol at 0x7fc862b7fb20>, 'anthranil_acid_C(2)'],\n",
       "  [<rdkit.Chem.rdchem.Mol at 0x7fc862b7fbc0>, 'naphth_amino_C(2)'],\n",
       "  [<rdkit.Chem.rdchem.Mol at 0x7fc862b7fcb0>, 'naphth_amino_D(2)'],\n",
       "  [<rdkit.Chem.rdchem.Mol at 0x7fc862b7fda0>, 'thiazole_amine_G(2)'],\n",
       "  [<rdkit.Chem.rdchem.Mol at 0x7fc862b7fe90>, 'het_66_B(2)'],\n",
       "  [<rdkit.Chem.rdchem.Mol at 0x7fc862b7ff80>, 'coumarin_A(2)'],\n",
       "  [<rdkit.Chem.rdchem.Mol at 0x7fc862b80080>, 'anthranil_acid_D(2)'],\n",
       "  [<rdkit.Chem.rdchem.Mol at 0x7fc862b80120>, 'het_66_C(2)'],\n",
       "  [<rdkit.Chem.rdchem.Mol at 0x7fc862b80210>, 'thiophene_amino_E(2)'],\n",
       "  [<rdkit.Chem.rdchem.Mol at 0x7fc862b802b0>, 'het_6666_A(2)'],\n",
       "  [<rdkit.Chem.rdchem.Mol at 0x7fc862b803a0>, 'sulfonamide_E(2)'],\n",
       "  [<rdkit.Chem.rdchem.Mol at 0x7fc862b80440>, 'anil_di_alk_K(2)'],\n",
       "  [<rdkit.Chem.rdchem.Mol at 0x7fc862b80530>, 'het_5_C(2)'],\n",
       "  [<rdkit.Chem.rdchem.Mol at 0x7fc862b80620>, 'ne_six_het_B(2)'],\n",
       "  [<rdkit.Chem.rdchem.Mol at 0x7fc862b806c0>, 'steroid_A(2)'],\n",
       "  [<rdkit.Chem.rdchem.Mol at 0x7fc862b80760>, 'het_565_A(2)'],\n",
       "  [<rdkit.Chem.rdchem.Mol at 0x7fc862b80800>, 'thio_imine_ium(2)'],\n",
       "  [<rdkit.Chem.rdchem.Mol at 0x7fc862b808a0>, 'anthranil_acid_E(2)'],\n",
       "  [<rdkit.Chem.rdchem.Mol at 0x7fc862b80990>, 'hzone_furan_B(2)'],\n",
       "  [<rdkit.Chem.rdchem.Mol at 0x7fc862b80a80>, 'thiophene_E(2)'],\n",
       "  [<rdkit.Chem.rdchem.Mol at 0x7fc862b80b70>, 'ne_misc_B(2)'],\n",
       "  [<rdkit.Chem.rdchem.Mol at 0x7fc862b80c10>, 'het_thio_5_B(2)'],\n",
       "  [<rdkit.Chem.rdchem.Mol at 0x7fc862b80cb0>, 'thiophene_amino_F(2)'],\n",
       "  [<rdkit.Chem.rdchem.Mol at 0x7fc862b80d50>, 'anil_OC_alk_D(2)'],\n",
       "  [<rdkit.Chem.rdchem.Mol at 0x7fc862b80e40>, 'tert_butyl_A(2)'],\n",
       "  [<rdkit.Chem.rdchem.Mol at 0x7fc862b80f30>, 'thio_urea_J(2)'],\n",
       "  [<rdkit.Chem.rdchem.Mol at 0x7fc862b81030>, 'het_thio_65_B(2)'],\n",
       "  [<rdkit.Chem.rdchem.Mol at 0x7fc862b810d0>, 'coumarin_B(2)'],\n",
       "  [<rdkit.Chem.rdchem.Mol at 0x7fc862b811c0>, 'thio_urea_K(2)'],\n",
       "  [<rdkit.Chem.rdchem.Mol at 0x7fc862b81260>, 'thiophene_amino_G(2)'],\n",
       "  [<rdkit.Chem.rdchem.Mol at 0x7fc862b81300>, 'anil_NH_alk_D(2)'],\n",
       "  [<rdkit.Chem.rdchem.Mol at 0x7fc862b813f0>, 'het_thio_5_C(2)'],\n",
       "  [<rdkit.Chem.rdchem.Mol at 0x7fc862b814e0>, 'thio_keto_het(2)'],\n",
       "  [<rdkit.Chem.rdchem.Mol at 0x7fc862b81580>, 'het_thio_N_5B(2)'],\n",
       "  [<rdkit.Chem.rdchem.Mol at 0x7fc862b81670>, 'quinone_D(2)'],\n",
       "  [<rdkit.Chem.rdchem.Mol at 0x7fc862b81760>, 'anil_di_alk_furan_B(2)'],\n",
       "  [<rdkit.Chem.rdchem.Mol at 0x7fc862b818f0>, 'ne_six_het_C(2)'],\n",
       "  [<rdkit.Chem.rdchem.Mol at 0x7fc862b818a0>, 'het_55_A(2)'],\n",
       "  [<rdkit.Chem.rdchem.Mol at 0x7fc862b81990>, 'het_thio_65_C(2)'],\n",
       "  [<rdkit.Chem.rdchem.Mol at 0x7fc862b81a30>, 'hydroquin_A(2)'],\n",
       "  [<rdkit.Chem.rdchem.Mol at 0x7fc862b81b20>, 'anthranil_acid_F(2)'],\n",
       "  [<rdkit.Chem.rdchem.Mol at 0x7fc862b81bc0>, 'pyrrole_I(2)'],\n",
       "  [<rdkit.Chem.rdchem.Mol at 0x7fc862b81cb0>, 'thiophene_amino_H(2)'],\n",
       "  [<rdkit.Chem.rdchem.Mol at 0x7fc862b81d50>, 'imine_one_fives_C(2)'],\n",
       "  [<rdkit.Chem.rdchem.Mol at 0x7fc862b81e40>, 'keto_phenone_zone_A(2)'],\n",
       "  [<rdkit.Chem.rdchem.Mol at 0x7fc862b82080>, 'yes7A(2)'],\n",
       "  [<rdkit.Chem.rdchem.Mol at 0x7fc862b82030>, 'het_pyridiniums_B(2)'],\n",
       "  [<rdkit.Chem.rdchem.Mol at 0x7fc862b82120>, 'het_5_D(2)'],\n",
       "  [<rdkit.Chem.rdchem.Mol at 0x7fc862b82210>, 'thiazole_amine_H(1)'],\n",
       "  [<rdkit.Chem.rdchem.Mol at 0x7fc862b822b0>, 'thiazole_amine_I(1)'],\n",
       "  [<rdkit.Chem.rdchem.Mol at 0x7fc862b823a0>, 'het_thio_N_5C(1)'],\n",
       "  [<rdkit.Chem.rdchem.Mol at 0x7fc862b82490>, 'sulfonamide_F(1)'],\n",
       "  [<rdkit.Chem.rdchem.Mol at 0x7fc862b82580>, 'thiazole_amine_J(1)'],\n",
       "  [<rdkit.Chem.rdchem.Mol at 0x7fc862b82670>, 'het_65_F(1)'],\n",
       "  [<rdkit.Chem.rdchem.Mol at 0x7fc862b82760>, 'keto_keto_beta_E(1)'],\n",
       "  [<rdkit.Chem.rdchem.Mol at 0x7fc862b82800>, 'ne_five_one_B(1)'],\n",
       "  [<rdkit.Chem.rdchem.Mol at 0x7fc862b828f0>, 'keto_keto_beta_zone(1)'],\n",
       "  [<rdkit.Chem.rdchem.Mol at 0x7fc862b82ad0>, 'thio_urea_L(1)'],\n",
       "  [<rdkit.Chem.rdchem.Mol at 0x7fc862b82a80>, 'het_thio_urea_ene(1)'],\n",
       "  [<rdkit.Chem.rdchem.Mol at 0x7fc862b82b70>, 'cyano_amino_het_A(1)'],\n",
       "  [<rdkit.Chem.rdchem.Mol at 0x7fc862b82c60>, 'tetrazole_hzide(1)'],\n",
       "  [<rdkit.Chem.rdchem.Mol at 0x7fc862b82d50>, 'imine_naphthol_A(1)'],\n",
       "  [<rdkit.Chem.rdchem.Mol at 0x7fc862b82e40>, 'misc_anisole_A(1)'],\n",
       "  [<rdkit.Chem.rdchem.Mol at 0x7fc862b82f30>, 'het_thio_665(1)'],\n",
       "  [<rdkit.Chem.rdchem.Mol at 0x7fc862b84080>, 'anil_di_alk_L(1)'],\n",
       "  [<rdkit.Chem.rdchem.Mol at 0x7fc862b84120>, 'colchicine_B(1)'],\n",
       "  [<rdkit.Chem.rdchem.Mol at 0x7fc862b84210>, 'misc_aminoacid_A(1)'],\n",
       "  [<rdkit.Chem.rdchem.Mol at 0x7fc862b842b0>, 'imidazole_amino_A(1)'],\n",
       "  [<rdkit.Chem.rdchem.Mol at 0x7fc862b843a0>, 'phenol_sulfite_A(1)'],\n",
       "  [<rdkit.Chem.rdchem.Mol at 0x7fc862b84490>, 'het_66_D(1)'],\n",
       "  [<rdkit.Chem.rdchem.Mol at 0x7fc862b84580>, 'misc_anisole_B(1)'],\n",
       "  [<rdkit.Chem.rdchem.Mol at 0x7fc862b84620>, 'tetrazole_A(1)'],\n",
       "  [<rdkit.Chem.rdchem.Mol at 0x7fc862b84710>, 'het_65_G(1)'],\n",
       "  [<rdkit.Chem.rdchem.Mol at 0x7fc862b847b0>, 'misc_trityl_A(1)'],\n",
       "  [<rdkit.Chem.rdchem.Mol at 0x7fc862b84850>, 'misc_pyridine_OC(1)'],\n",
       "  [<rdkit.Chem.rdchem.Mol at 0x7fc862b84940>, 'het_6_hydropyridone(1)'],\n",
       "  [<rdkit.Chem.rdchem.Mol at 0x7fc862b84b20>, 'misc_stilbene(1)'],\n",
       "  [<rdkit.Chem.rdchem.Mol at 0x7fc862b84ad0>, 'misc_imidazole(1)'],\n",
       "  [<rdkit.Chem.rdchem.Mol at 0x7fc862b84c10>, 'anil_NH_no_alk_A(1)'],\n",
       "  [<rdkit.Chem.rdchem.Mol at 0x7fc862b84d00>, 'het_6_imidate_B(1)'],\n",
       "  [<rdkit.Chem.rdchem.Mol at 0x7fc862b84df0>, 'anil_alk_B(1)'],\n",
       "  [<rdkit.Chem.rdchem.Mol at 0x7fc862b84ee0>, 'styrene_anil_A(1)'],\n",
       "  [<rdkit.Chem.rdchem.Mol at 0x7fc862b84f80>, 'misc_aminal_acid(1)'],\n",
       "  [<rdkit.Chem.rdchem.Mol at 0x7fc862b850d0>, 'anil_no_alk_D(1)'],\n",
       "  [<rdkit.Chem.rdchem.Mol at 0x7fc862b851c0>, 'anil_alk_C(1)'],\n",
       "  [<rdkit.Chem.rdchem.Mol at 0x7fc862b852b0>, 'misc_anisole_C(1)'],\n",
       "  [<rdkit.Chem.rdchem.Mol at 0x7fc862b85350>, 'het_465_misc(1)'],\n",
       "  [<rdkit.Chem.rdchem.Mol at 0x7fc862b85440>, 'anthranil_acid_G(1)'],\n",
       "  [<rdkit.Chem.rdchem.Mol at 0x7fc862b854e0>, 'anil_di_alk_M(1)'],\n",
       "  [<rdkit.Chem.rdchem.Mol at 0x7fc862b855d0>, 'anthranil_acid_H(1)'],\n",
       "  [<rdkit.Chem.rdchem.Mol at 0x7fc862b856c0>, 'thio_urea_M(1)'],\n",
       "  [<rdkit.Chem.rdchem.Mol at 0x7fc862b857b0>, 'thiazole_amine_K(1)'],\n",
       "  [<rdkit.Chem.rdchem.Mol at 0x7fc862b85850>, 'het_thio_5_imine_A(1)'],\n",
       "  [<rdkit.Chem.rdchem.Mol at 0x7fc862b85940>, 'thio_amide_E(1)'],\n",
       "  [<rdkit.Chem.rdchem.Mol at 0x7fc862b85a30>, 'het_thio_676_B(1)'],\n",
       "  [<rdkit.Chem.rdchem.Mol at 0x7fc862b85ad0>, 'sulfonamide_G(1)'],\n",
       "  [<rdkit.Chem.rdchem.Mol at 0x7fc862b85bc0>, 'thio_thiomorph_Z(1)'],\n",
       "  [<rdkit.Chem.rdchem.Mol at 0x7fc862b85cb0>, 'naphth_ene_one_A(1)'],\n",
       "  [<rdkit.Chem.rdchem.Mol at 0x7fc862b85da0>, 'naphth_ene_one_B(1)'],\n",
       "  [<rdkit.Chem.rdchem.Mol at 0x7fc862b85e90>, 'amino_acridine_A(1)'],\n",
       "  [<rdkit.Chem.rdchem.Mol at 0x7fc862b85f80>, 'keto_phenone_B(1)'],\n",
       "  [<rdkit.Chem.rdchem.Mol at 0x7fc862b860d0>, 'hzone_acid_A(1)'],\n",
       "  [<rdkit.Chem.rdchem.Mol at 0x7fc862b861c0>, 'sulfonamide_H(1)'],\n",
       "  [<rdkit.Chem.rdchem.Mol at 0x7fc862b86260>, 'het_565_indole(1)'],\n",
       "  [<rdkit.Chem.rdchem.Mol at 0x7fc862b86350>, 'pyrrole_J(1)'],\n",
       "  [<rdkit.Chem.rdchem.Mol at 0x7fc862b86440>, 'pyrazole_amino_B(1)'],\n",
       "  [<rdkit.Chem.rdchem.Mol at 0x7fc862b864e0>, 'pyrrole_K(1)'],\n",
       "  [<rdkit.Chem.rdchem.Mol at 0x7fc862b865d0>, 'anthranil_acid_I(1)'],\n",
       "  [<rdkit.Chem.rdchem.Mol at 0x7fc862b86670>, 'thio_amide_F(1)'],\n",
       "  [<rdkit.Chem.rdchem.Mol at 0x7fc862b86760>, 'ne_one_C(1)'],\n",
       "  [<rdkit.Chem.rdchem.Mol at 0x7fc862b86800>, 'het_65_H(1)'],\n",
       "  [<rdkit.Chem.rdchem.Mol at 0x7fc862b868a0>, 'cyano_imine_D(1)'],\n",
       "  [<rdkit.Chem.rdchem.Mol at 0x7fc862b86940>, 'cyano_misc_A(1)'],\n",
       "  [<rdkit.Chem.rdchem.Mol at 0x7fc862b86a30>, 'ne_misc_C(1)'],\n",
       "  [<rdkit.Chem.rdchem.Mol at 0x7fc862b86ad0>, 'het_66_E(1)'],\n",
       "  [<rdkit.Chem.rdchem.Mol at 0x7fc862b86b70>, 'keto_keto_beta_F(1)'],\n",
       "  [<rdkit.Chem.rdchem.Mol at 0x7fc862b86c10>, 'misc_naphthimidazole(1)'],\n",
       "  [<rdkit.Chem.rdchem.Mol at 0x7fc862b86df0>, 'naphth_ene_one_C(1)'],\n",
       "  [<rdkit.Chem.rdchem.Mol at 0x7fc862b86da0>, 'keto_phenone_C(1)'],\n",
       "  [<rdkit.Chem.rdchem.Mol at 0x7fc862b86ee0>, 'coumarin_C(1)'],\n",
       "  [<rdkit.Chem.rdchem.Mol at 0x7fc862b88030>, 'thio_est_cyano_A(1)'],\n",
       "  [<rdkit.Chem.rdchem.Mol at 0x7fc862b880d0>, 'het_65_imidazole(1)'],\n",
       "  [<rdkit.Chem.rdchem.Mol at 0x7fc862b881c0>, 'anthranil_acid_J(1)'],\n",
       "  [<rdkit.Chem.rdchem.Mol at 0x7fc862b882b0>, 'colchicine_het(1)'],\n",
       "  [<rdkit.Chem.rdchem.Mol at 0x7fc862b883a0>, 'ne_misc_D(1)'],\n",
       "  [<rdkit.Chem.rdchem.Mol at 0x7fc862b88490>, 'indole_3yl_alk_B(1)'],\n",
       "  [<rdkit.Chem.rdchem.Mol at 0x7fc862b88530>, 'anil_OH_no_alk_A(1)'],\n",
       "  [<rdkit.Chem.rdchem.Mol at 0x7fc862b88620>, 'thiazole_amine_L(1)'],\n",
       "  [<rdkit.Chem.rdchem.Mol at 0x7fc862b88710>, 'pyrazole_amino_A(1)'],\n",
       "  [<rdkit.Chem.rdchem.Mol at 0x7fc862b88800>, 'het_thio_N_5D(1)'],\n",
       "  [<rdkit.Chem.rdchem.Mol at 0x7fc862b88940>, 'anil_alk_indane(1)'],\n",
       "  [<rdkit.Chem.rdchem.Mol at 0x7fc862b88a30>, 'anil_di_alk_N(1)'],\n",
       "  [<rdkit.Chem.rdchem.Mol at 0x7fc862b88ad0>, 'het_666_C(1)'],\n",
       "  [<rdkit.Chem.rdchem.Mol at 0x7fc862b88bc0>, 'ne_one_D(1)'],\n",
       "  [<rdkit.Chem.rdchem.Mol at 0x7fc862b88c60>, 'anil_di_alk_indol(1)'],\n",
       "  [<rdkit.Chem.rdchem.Mol at 0x7fc862b88d00>, 'anil_no_alk_indol_A(1)'],\n",
       "  [<rdkit.Chem.rdchem.Mol at 0x7fc862b88ee0>, 'hp_amino_CN_G(1)'],\n",
       "  [<rdkit.Chem.rdchem.Mol at 0x7fc862b88e90>, 'anil_di_alk_dhp(1)'],\n",
       "  [<rdkit.Chem.rdchem.Mol at 0x7fc862b8a030>, 'anthranil_amide_A(1)'],\n",
       "  [<rdkit.Chem.rdchem.Mol at 0x7fc862b8a120>, 'hzone_anthran_Z(1)'],\n",
       "  [<rdkit.Chem.rdchem.Mol at 0x7fc862b8a210>, 'ne_one_amide_A(1)'],\n",
       "  [<rdkit.Chem.rdchem.Mol at 0x7fc862b8a300>, 'het_76_A(1)'],\n",
       "  [<rdkit.Chem.rdchem.Mol at 0x7fc862b8a3f0>, 'thio_urea_N(1)'],\n",
       "  [<rdkit.Chem.rdchem.Mol at 0x7fc862b8a490>, 'anil_di_alk_coum(1)'],\n",
       "  [<rdkit.Chem.rdchem.Mol at 0x7fc862b8a530>, 'ne_one_amide_B(1)'],\n",
       "  [<rdkit.Chem.rdchem.Mol at 0x7fc862b8a620>, 'het_thio_656c(1)'],\n",
       "  [<rdkit.Chem.rdchem.Mol at 0x7fc862b8a710>, 'het_5_ene(1)'],\n",
       "  [<rdkit.Chem.rdchem.Mol at 0x7fc862b8a800>, 'thio_imide_A(1)'],\n",
       "  [<rdkit.Chem.rdchem.Mol at 0x7fc862b8a8a0>, 'hp_amidine_A(1)'],\n",
       "  [<rdkit.Chem.rdchem.Mol at 0x7fc862b8a940>, 'thio_urea_O(1)'],\n",
       "  [<rdkit.Chem.rdchem.Mol at 0x7fc862b8a9e0>, 'anil_di_alk_O(1)'],\n",
       "  [<rdkit.Chem.rdchem.Mol at 0x7fc862b8aa80>, 'thio_urea_P(1)'],\n",
       "  [<rdkit.Chem.rdchem.Mol at 0x7fc862b8ab70>, 'het_pyraz_misc(1)'],\n",
       "  [<rdkit.Chem.rdchem.Mol at 0x7fc862b8ac10>, 'iazox_C(1)'],\n",
       "  [<rdkit.Chem.rdchem.Mol at 0x7fc862b8ad00>, 'iazox_D(1)'],\n",
       "  [<rdkit.Chem.rdchem.Mol at 0x7fc862b8ada0>, 'misc_cyclopropane(1)'],\n",
       "  [<rdkit.Chem.rdchem.Mol at 0x7fc862b8ae40>, 'imine_ene_one_B(1)'],\n",
       "  [<rdkit.Chem.rdchem.Mol at 0x7fc862b8af30>, 'coumarin_D(1)'],\n",
       "  [<rdkit.Chem.rdchem.Mol at 0x7fc862b89080>, 'misc_furan_A(1)'],\n",
       "  [<rdkit.Chem.rdchem.Mol at 0x7fc862b89120>, 'hod_sat_E(1)'],\n",
       "  [<rdkit.Chem.rdchem.Mol at 0x7fc862b891c0>, 'hod_sat_imine_A(1)'],\n",
       "  [<rdkit.Chem.rdchem.Mol at 0x7fc862b89260>, 'hod_sat_F(1)'],\n",
       "  [<rdkit.Chem.rdchem.Mol at 0x7fc862b89350>, 'het_thio_5_imine_B(1)'],\n",
       "  [<rdkit.Chem.rdchem.Mol at 0x7fc862b893f0>, 'het_thio_5_imine_C(1)'],\n",
       "  [<rdkit.Chem.rdchem.Mol at 0x7fc862b894e0>, 'ne_five_het_N(1)'],\n",
       "  [<rdkit.Chem.rdchem.Mol at 0x7fc862b895d0>, 'thio_carbam_A(1)'],\n",
       "  [<rdkit.Chem.rdchem.Mol at 0x7fc862b896c0>, 'misc_anilide_A(1)'],\n",
       "  [<rdkit.Chem.rdchem.Mol at 0x7fc862b897b0>, 'misc_anilide_B(1)'],\n",
       "  [<rdkit.Chem.rdchem.Mol at 0x7fc862b898a0>, 'mannich_B(1)'],\n",
       "  [<rdkit.Chem.rdchem.Mol at 0x7fc862b89990>, 'mannich_catechol_A(1)'],\n",
       "  [<rdkit.Chem.rdchem.Mol at 0x7fc862b89a30>, 'anil_alk_D(1)'],\n",
       "  [<rdkit.Chem.rdchem.Mol at 0x7fc862b89b20>, 'het_65_I(1)'],\n",
       "  [<rdkit.Chem.rdchem.Mol at 0x7fc862b89bc0>, 'misc_urea_A(1)'],\n",
       "  [<rdkit.Chem.rdchem.Mol at 0x7fc862b89c60>, 'imidazole_C(1)'],\n",
       "  [<rdkit.Chem.rdchem.Mol at 0x7fc862b89d00>, 'styrene_imidazole_A(1)'],\n",
       "  [<rdkit.Chem.rdchem.Mol at 0x7fc862b89e90>, 'thiazole_amine_M(1)'],\n",
       "  [<rdkit.Chem.rdchem.Mol at 0x7fc862b89e40>, 'misc_pyrrole_thiaz(1)'],\n",
       "  [<rdkit.Chem.rdchem.Mol at 0x7fc862b89f80>, 'pyrrole_L(1)'],\n",
       "  [<rdkit.Chem.rdchem.Mol at 0x7fc862b8b0d0>, 'het_thio_65_D(1)'],\n",
       "  [<rdkit.Chem.rdchem.Mol at 0x7fc862b8b170>, 'ne_misc_E(1)'],\n",
       "  [<rdkit.Chem.rdchem.Mol at 0x7fc862b8b260>, 'thio_cyano_A(1)'],\n",
       "  [<rdkit.Chem.rdchem.Mol at 0x7fc862b8b300>, 'cyano_amino_het_B(1)'],\n",
       "  [<rdkit.Chem.rdchem.Mol at 0x7fc862b8b3a0>, 'cyano_pyridone_G(1)'],\n",
       "  [<rdkit.Chem.rdchem.Mol at 0x7fc862b8b490>, 'het_65_J(1)'],\n",
       "  [<rdkit.Chem.rdchem.Mol at 0x7fc862b8b580>, 'ne_one_yne_A(1)'],\n",
       "  [<rdkit.Chem.rdchem.Mol at 0x7fc862b8b670>, 'anil_OH_no_alk_B(1)'],\n",
       "  [<rdkit.Chem.rdchem.Mol at 0x7fc862b8b710>, 'hzone_acyl_misc_A(1)'],\n",
       "  [<rdkit.Chem.rdchem.Mol at 0x7fc862b8b7b0>, 'thiophene_F(1)'],\n",
       "  [<rdkit.Chem.rdchem.Mol at 0x7fc862b8b8a0>, 'anil_OC_alk_E(1)'],\n",
       "  [<rdkit.Chem.rdchem.Mol at 0x7fc862b8b940>, 'anil_OC_alk_F(1)'],\n",
       "  [<rdkit.Chem.rdchem.Mol at 0x7fc862b8ba30>, 'het_65_K(1)'],\n",
       "  [<rdkit.Chem.rdchem.Mol at 0x7fc862b8bb20>, 'het_65_L(1)'],\n",
       "  [<rdkit.Chem.rdchem.Mol at 0x7fc862b8bbc0>, 'coumarin_E(1)'],\n",
       "  [<rdkit.Chem.rdchem.Mol at 0x7fc862b8bc60>, 'coumarin_F(1)'],\n",
       "  [<rdkit.Chem.rdchem.Mol at 0x7fc862b8bd00>, 'coumarin_G(1)'],\n",
       "  [<rdkit.Chem.rdchem.Mol at 0x7fc862b8bda0>, 'coumarin_H(1)'],\n",
       "  [<rdkit.Chem.rdchem.Mol at 0x7fc862b8be40>, 'het_thio_67_A(1)'],\n",
       "  [<rdkit.Chem.rdchem.Mol at 0x7fc862b8bee0>, 'sulfonamide_I(1)'],\n",
       "  [<rdkit.Chem.rdchem.Mol at 0x7fc862b8d030>, 'het_65_mannich(1)'],\n",
       "  [<rdkit.Chem.rdchem.Mol at 0x7fc862b8d120>, 'anil_alk_A(1)'],\n",
       "  [<rdkit.Chem.rdchem.Mol at 0x7fc862b8d210>, 'het_5_inium(1)'],\n",
       "  [<rdkit.Chem.rdchem.Mol at 0x7fc862b8d2b0>, 'anil_di_alk_P(1)'],\n",
       "  [<rdkit.Chem.rdchem.Mol at 0x7fc862b8d350>, 'thio_urea_Q(1)'],\n",
       "  [<rdkit.Chem.rdchem.Mol at 0x7fc862b8d440>, 'thio_pyridine_A(1)'],\n",
       "  [<rdkit.Chem.rdchem.Mol at 0x7fc862b8d4e0>, 'melamine_B(1)'],\n",
       "  [<rdkit.Chem.rdchem.Mol at 0x7fc862b8d5d0>, 'misc_phthal_thio_N(1)'],\n",
       "  [<rdkit.Chem.rdchem.Mol at 0x7fc862b8d670>, 'hzone_acyl_misc_B(1)'],\n",
       "  [<rdkit.Chem.rdchem.Mol at 0x7fc862b8d760>, 'tert_butyl_B(1)'],\n",
       "  [<rdkit.Chem.rdchem.Mol at 0x7fc862b8d850>, 'iazox_E(1)'],\n",
       "  [<rdkit.Chem.rdchem.Mol at 0x7fc862b8d8f0>, 'anil_NH_no_alk_B(1)'],\n",
       "  [<rdkit.Chem.rdchem.Mol at 0x7fc862b8d990>, 'anil_no_alk_A(1)'],\n",
       "  [<rdkit.Chem.rdchem.Mol at 0x7fc862b8da80>, 'anil_no_alk_B(1)'],\n",
       "  [<rdkit.Chem.rdchem.Mol at 0x7fc862b8db70>, 'thio_ene_amine_A(1)'],\n",
       "  [<rdkit.Chem.rdchem.Mol at 0x7fc862b8dc60>, 'het_55_B(1)'],\n",
       "  [<rdkit.Chem.rdchem.Mol at 0x7fc862b8dd50>, 'cyanamide_A(1)'],\n",
       "  [<rdkit.Chem.rdchem.Mol at 0x7fc862b8ddf0>, 'ne_one_one_A(1)'],\n",
       "  [<rdkit.Chem.rdchem.Mol at 0x7fc862b8de90>, 'ne_six_het_D(1)'],\n",
       "  [<rdkit.Chem.rdchem.Mol at 0x7fc862b8df30>, 'ne_cyano_E(1)'],\n",
       "  [<rdkit.Chem.rdchem.Mol at 0x7fc862b8c030>, 'ne_cyano_F(1)'],\n",
       "  [<rdkit.Chem.rdchem.Mol at 0x7fc862b8c0d0>, 'hzone_furan_C(1)'],\n",
       "  [<rdkit.Chem.rdchem.Mol at 0x7fc862b8c170>, 'anil_no_alk_C(1)'],\n",
       "  [<rdkit.Chem.rdchem.Mol at 0x7fc862b8c260>, 'hzone_acid_D(1)'],\n",
       "  [<rdkit.Chem.rdchem.Mol at 0x7fc862b8c350>, 'hzone_furan_E(1)'],\n",
       "  [<rdkit.Chem.rdchem.Mol at 0x7fc862b8c3f0>, 'het_6_pyridone_NH2(1)'],\n",
       "  [<rdkit.Chem.rdchem.Mol at 0x7fc862b8c4e0>, 'imine_one_fives_D(1)'],\n",
       "  [<rdkit.Chem.rdchem.Mol at 0x7fc862b8c5d0>, 'pyrrole_M(1)'],\n",
       "  [<rdkit.Chem.rdchem.Mol at 0x7fc862b8c6c0>, 'pyrrole_N(1)'],\n",
       "  [<rdkit.Chem.rdchem.Mol at 0x7fc862b8c760>, 'pyrrole_O(1)'],\n",
       "  [<rdkit.Chem.rdchem.Mol at 0x7fc862b8c800>, 'ne_cyano_G(1)'],\n",
       "  [<rdkit.Chem.rdchem.Mol at 0x7fc862b8c8a0>, 'sulfonamide_J(1)'],\n",
       "  [<rdkit.Chem.rdchem.Mol at 0x7fc862b8c940>, 'misc_pyrrole_benz(1)'],\n",
       "  [<rdkit.Chem.rdchem.Mol at 0x7fc862b8ca30>, 'thio_urea_R(1)'],\n",
       "  [<rdkit.Chem.rdchem.Mol at 0x7fc862b8cb20>, 'ne_one_one_B(1)'],\n",
       "  [<rdkit.Chem.rdchem.Mol at 0x7fc862b8cbc0>, 'hp_amino_CN_H(1)'],\n",
       "  [<rdkit.Chem.rdchem.Mol at 0x7fc862b8cc60>, 'het_66_anisole(1)'],\n",
       "  [<rdkit.Chem.rdchem.Mol at 0x7fc862b8cd50>, 'thiazole_amine_N(1)'],\n",
       "  [<rdkit.Chem.rdchem.Mol at 0x7fc862b8ce40>, 'het_pyridiniums_C(1)'],\n",
       "  [<rdkit.Chem.rdchem.Mol at 0x7fc862b8cf30>, 'het_5_E(1)'],\n",
       "  [<rdkit.Chem.rdchem.Mol at 0x7fc862b8e080>, 'ne_six_het_A(483)'],\n",
       "  [<rdkit.Chem.rdchem.Mol at 0x7fc862b8e120>, 'hzone_phenol_A(479)'],\n",
       "  [<rdkit.Chem.rdchem.Mol at 0x7fc862b8e210>, 'anil_di_alk_A(478)'],\n",
       "  [<rdkit.Chem.rdchem.Mol at 0x7fc862b8e300>, 'indol_3yl_alk(461)'],\n",
       "  [<rdkit.Chem.rdchem.Mol at 0x7fc862b8e3f0>, 'quinone_A(370)'],\n",
       "  [<rdkit.Chem.rdchem.Mol at 0x7fc862b8e4e0>, 'azo_A(324)'],\n",
       "  [<rdkit.Chem.rdchem.Mol at 0x7fc862b8e580>, 'imine_one_A(321)'],\n",
       "  [<rdkit.Chem.rdchem.Mol at 0x7fc862b8e620>, 'mannich_A(296)'],\n",
       "  [<rdkit.Chem.rdchem.Mol at 0x7fc862b8e710>, 'anil_di_alk_B(251)'],\n",
       "  [<rdkit.Chem.rdchem.Mol at 0x7fc862b8e7b0>, 'anil_di_alk_C(246)'],\n",
       "  [<rdkit.Chem.rdchem.Mol at 0x7fc862b8e8a0>, 'ne_rhod_A(235)'],\n",
       "  [<rdkit.Chem.rdchem.Mol at 0x7fc862b8e990>, 'hzone_phenol_B(215)'],\n",
       "  [<rdkit.Chem.rdchem.Mol at 0x7fc862b8ea30>, 'ne_five_het_A(201)'],\n",
       "  [<rdkit.Chem.rdchem.Mol at 0x7fc862b8eb20>, 'anil_di_alk_D(198)'],\n",
       "  [<rdkit.Chem.rdchem.Mol at 0x7fc862b8ec10>, 'imine_one_isatin(189)'],\n",
       "  [<rdkit.Chem.rdchem.Mol at 0x7fc862b8ed00>, 'anil_di_alk_E(186)']],\n",
       " 425)"
      ]
     },
     "execution_count": 17,
     "metadata": {},
     "output_type": "execute_result"
    }
   ],
   "source": [
    "from itertools import chain\n",
    "# load PAINS structures in SMARTS format from two files in data\n",
    "pains = []\n",
    "with open('../data/pains/p_l15.txt', 'r') as f, open('../data/pains/p_m150.txt', 'r') as p:\n",
    "    for line in chain(f, p):\n",
    "        pattern, text = line.strip().split('\\t') # split by tab\n",
    "        pains.append([Chem.MolFromSmarts(pattern),\n",
    "                      text.lstrip(\"<regId=\\\"\").rstrip(\"\\\">\")]) # remove the xml tags\n",
    "pains, len(pains)"
   ]
  },
  {
   "cell_type": "code",
   "execution_count": 109,
   "metadata": {},
   "outputs": [
    {
     "data": {
      "text/plain": [
       "199"
      ]
     },
     "execution_count": 109,
     "metadata": {},
     "output_type": "execute_result"
    }
   ],
   "source": [
    "for m in EGFR_ligands: # for each ligand\n",
    "    # add a variable that stores indices of all PAINS patterns that match it\n",
    "    m.pain_hits = [i for i, pain in enumerate(pains) if m.HasSubstructMatch(pain[0])]\n",
    "\n",
    "EGFR_with_pains = [m for m in EGFR_ligands if m.pain_hits]\n",
    "len(EGFR_with_pains)"
   ]
  },
  {
   "cell_type": "markdown",
   "metadata": {},
   "source": [
    "There are 199 structures with PAINS among EGFR ligands. \n",
    "\n",
    "Below some of them:"
   ]
  },
  {
   "cell_type": "code",
   "execution_count": 119,
   "metadata": {},
   "outputs": [
    {
     "data": {
      "image/png": "[encoded data removed]",
      "text/plain": [
       "<PIL.PngImagePlugin.PngImageFile image mode=RGB size=300x300 at 0x7FC861092BD0>"
      ]
     },
     "execution_count": 119,
     "metadata": {},
     "output_type": "execute_result"
    }
   ],
   "source": [
    "Draw.MolToImage(EGFR_with_pains[23])"
   ]
  },
  {
   "cell_type": "code",
   "execution_count": 133,
   "metadata": {},
   "outputs": [
    {
     "data": {
      "image/png": "[encoded data removed]",
      "text/plain": [
       "<PIL.PngImagePlugin.PngImageFile image mode=RGB size=300x300 at 0x7FC86108C510>"
      ]
     },
     "execution_count": 133,
     "metadata": {},
     "output_type": "execute_result"
    }
   ],
   "source": [
    "Draw.MolToImage(EGFR_with_pains[7])"
   ]
  },
  {
   "cell_type": "code",
   "execution_count": 134,
   "metadata": {},
   "outputs": [
    {
     "data": {
      "image/png": "[encoded data removed]",
      "text/plain": [
       "<PIL.PngImagePlugin.PngImageFile image mode=RGB size=300x300 at 0x7FC86108C450>"
      ]
     },
     "execution_count": 134,
     "metadata": {},
     "output_type": "execute_result"
    }
   ],
   "source": [
    "Draw.MolToImage(EGFR_with_pains[92])"
   ]
  },
  {
   "cell_type": "code",
   "execution_count": 136,
   "metadata": {},
   "outputs": [
    {
     "name": "stdout",
     "output_type": "stream",
     "text": [
      "[414] [<rdkit.Chem.rdchem.Mol object at 0x7fc862b8e4e0>, 'azo_A(324)']\n",
      "[423] [<rdkit.Chem.rdchem.Mol object at 0x7fc862b8ec10>, 'imine_one_isatin(189)']\n"
     ]
    },
    {
     "data": {
      "text/plain": [
       "([413], [<rdkit.Chem.rdchem.Mol at 0x7fc862b8e3f0>, 'quinone_A(370)'])"
      ]
     },
     "execution_count": 136,
     "metadata": {},
     "output_type": "execute_result"
    }
   ],
   "source": [
    "print(EGFR_with_pains[23].pain_hits, pains[EGFR_with_pains[23].pain_hits[0]])\n",
    "print(EGFR_with_pains[7].pain_hits, pains[EGFR_with_pains[7].pain_hits[0]])\n",
    "EGFR_with_pains[92].pain_hits, pains[EGFR_with_pains[92].pain_hits[0]]"
   ]
  },
  {
   "cell_type": "markdown",
   "metadata": {},
   "source": [
    "PAINS visualization in chosen structures:"
   ]
  },
  {
   "cell_type": "code",
   "execution_count": 31,
   "metadata": {},
   "outputs": [
    {
     "data": {
      "image/png": "[encoded data removed]",
      "text/plain": [
       "<rdkit.Chem.rdchem.Mol at 0x7fc862b8e4e0>"
      ]
     },
     "execution_count": 31,
     "metadata": {},
     "output_type": "execute_result"
    }
   ],
   "source": [
    "pains[EGFR_with_pains[23].pain_hits[0]][0]"
   ]
  },
  {
   "cell_type": "code",
   "execution_count": 137,
   "metadata": {},
   "outputs": [
    {
     "data": {
      "image/png": "[encoded data removed]",
      "text/plain": [
       "<rdkit.Chem.rdchem.Mol at 0x7fc862b8ec10>"
      ]
     },
     "execution_count": 137,
     "metadata": {},
     "output_type": "execute_result"
    }
   ],
   "source": [
    "pains[EGFR_with_pains[7].pain_hits[0]][0]"
   ]
  },
  {
   "cell_type": "code",
   "execution_count": 138,
   "metadata": {},
   "outputs": [
    {
     "data": {
      "image/png": "[encoded data removed]",
      "text/plain": [
       "<rdkit.Chem.rdchem.Mol at 0x7fc862b8e3f0>"
      ]
     },
     "execution_count": 138,
     "metadata": {},
     "output_type": "execute_result"
    }
   ],
   "source": [
    "pains[EGFR_with_pains[92].pain_hits[0]][0]"
   ]
  },
  {
   "cell_type": "markdown",
   "metadata": {},
   "source": [
    "Visualization of match of PAINS and the structures:"
   ]
  },
  {
   "cell_type": "code",
   "execution_count": 32,
   "metadata": {},
   "outputs": [
    {
     "data": {
      "image/svg+xml": [
       "<svg baseProfile=\"full\" height=\"300px\" version=\"1.1\" viewBox=\"0 0 300 300\" width=\"300px\" xml:space=\"preserve\" xmlns=\"http://www.w3.org/2000/svg\" xmlns:rdkit=\"http://www.rdkit.org/xml\" xmlns:xlink=\"http://www.w3.org/1999/xlink\">\n",
       "<!-- END OF HEADER -->\n",
       "<rect height=\"300\" style=\"opacity:1.0;fill:#FFFFFF;stroke:none\" width=\"300\" x=\"0\" y=\"0\"> </rect>\n",
       "<path d=\"M 88.82,165.58 L 105.565,151.176\" style=\"fill:none;fill-rule:evenodd;stroke:#FF7F7F;stroke-width:4.7px;stroke-linecap:butt;stroke-linejoin:miter;stroke-opacity:1\"/>\n",
       "<ellipse cx=\"88.82\" cy=\"165.58\" rx=\"4.41759\" ry=\"4.42317\" style=\"fill:#FF7F7F;fill-rule:evenodd;stroke:#FF7F7F;stroke-width:1px;stroke-linecap:butt;stroke-linejoin:miter;stroke-opacity:1\"/>\n",
       "<ellipse cx=\"105.565\" cy=\"151.176\" rx=\"4.41759\" ry=\"4.42317\" style=\"fill:#FF7F7F;fill-rule:evenodd;stroke:#FF7F7F;stroke-width:1px;stroke-linecap:butt;stroke-linejoin:miter;stroke-opacity:1\"/>\n",
       "<path class=\"bond-0\" d=\"M 13.6364,179.791 L 20.2969,174.061\" style=\"fill:none;fill-rule:evenodd;stroke:#000000;stroke-width:2.0px;stroke-linecap:butt;stroke-linejoin:miter;stroke-opacity:1\"/>\n",
       "<path class=\"bond-0\" d=\"M 20.2969,174.061 L 26.9575,168.332\" style=\"fill:none;fill-rule:evenodd;stroke:#FF0000;stroke-width:2.0px;stroke-linecap:butt;stroke-linejoin:miter;stroke-opacity:1\"/>\n",
       "<path class=\"bond-1\" d=\"M 33.8048,166.585 L 42.5165,169.636\" style=\"fill:none;fill-rule:evenodd;stroke:#FF0000;stroke-width:2.0px;stroke-linecap:butt;stroke-linejoin:miter;stroke-opacity:1\"/>\n",
       "<path class=\"bond-1\" d=\"M 42.5165,169.636 L 51.2282,172.686\" style=\"fill:none;fill-rule:evenodd;stroke:#000000;stroke-width:2.0px;stroke-linecap:butt;stroke-linejoin:miter;stroke-opacity:1\"/>\n",
       "<path class=\"bond-2\" d=\"M 51.2282,172.686 L 67.973,158.281\" style=\"fill:none;fill-rule:evenodd;stroke:#000000;stroke-width:2.0px;stroke-linecap:butt;stroke-linejoin:miter;stroke-opacity:1\"/>\n",
       "<path class=\"bond-3\" d=\"M 67.973,158.281 L 76.9343,161.419\" style=\"fill:none;fill-rule:evenodd;stroke:#000000;stroke-width:2.0px;stroke-linecap:butt;stroke-linejoin:miter;stroke-opacity:1\"/>\n",
       "<path class=\"bond-3\" d=\"M 76.9343,161.419 L 85.8956,164.557\" style=\"fill:none;fill-rule:evenodd;stroke:#0000FF;stroke-width:2.0px;stroke-linecap:butt;stroke-linejoin:miter;stroke-opacity:1\"/>\n",
       "<path class=\"bond-4\" d=\"M 91.7445,163.065 L 102.737,153.609\" style=\"fill:none;fill-rule:evenodd;stroke:#0000FF;stroke-width:2.0px;stroke-linecap:butt;stroke-linejoin:miter;stroke-opacity:1\"/>\n",
       "<path class=\"bond-4\" d=\"M 90.5124,158.297 L 98.2071,151.678\" style=\"fill:none;fill-rule:evenodd;stroke:#0000FF;stroke-width:2.0px;stroke-linecap:butt;stroke-linejoin:miter;stroke-opacity:1\"/>\n",
       "<path class=\"bond-5\" d=\"M 108.489,152.2 L 123.565,157.478\" style=\"fill:none;fill-rule:evenodd;stroke:#0000FF;stroke-width:2.0px;stroke-linecap:butt;stroke-linejoin:miter;stroke-opacity:1\"/>\n",
       "<path class=\"bond-6\" d=\"M 129.336,155.959 L 136.246,150.015\" style=\"fill:none;fill-rule:evenodd;stroke:#0000FF;stroke-width:2.0px;stroke-linecap:butt;stroke-linejoin:miter;stroke-opacity:1\"/>\n",
       "<path class=\"bond-6\" d=\"M 136.246,150.015 L 143.157,144.071\" style=\"fill:none;fill-rule:evenodd;stroke:#000000;stroke-width:2.0px;stroke-linecap:butt;stroke-linejoin:miter;stroke-opacity:1\"/>\n",
       "<path class=\"bond-7\" d=\"M 143.157,144.071 L 139.054,122.367\" style=\"fill:none;fill-rule:evenodd;stroke:#000000;stroke-width:2.0px;stroke-linecap:butt;stroke-linejoin:miter;stroke-opacity:1\"/>\n",
       "<path class=\"bond-7\" d=\"M 146.882,139.995 L 144.01,124.802\" style=\"fill:none;fill-rule:evenodd;stroke:#000000;stroke-width:2.0px;stroke-linecap:butt;stroke-linejoin:miter;stroke-opacity:1\"/>\n",
       "<path class=\"bond-24\" d=\"M 143.157,144.071 L 164.004,151.37\" style=\"fill:none;fill-rule:evenodd;stroke:#000000;stroke-width:2.0px;stroke-linecap:butt;stroke-linejoin:miter;stroke-opacity:1\"/>\n",
       "<path class=\"bond-8\" d=\"M 139.054,122.367 L 155.799,107.963\" style=\"fill:none;fill-rule:evenodd;stroke:#000000;stroke-width:2.0px;stroke-linecap:butt;stroke-linejoin:miter;stroke-opacity:1\"/>\n",
       "<path class=\"bond-9\" d=\"M 155.799,107.963 L 176.646,115.262\" style=\"fill:none;fill-rule:evenodd;stroke:#000000;stroke-width:2.0px;stroke-linecap:butt;stroke-linejoin:miter;stroke-opacity:1\"/>\n",
       "<path class=\"bond-9\" d=\"M 157.466,113.227 L 172.059,118.336\" style=\"fill:none;fill-rule:evenodd;stroke:#000000;stroke-width:2.0px;stroke-linecap:butt;stroke-linejoin:miter;stroke-opacity:1\"/>\n",
       "<path class=\"bond-10\" d=\"M 176.646,115.262 L 183.556,109.317\" style=\"fill:none;fill-rule:evenodd;stroke:#000000;stroke-width:2.0px;stroke-linecap:butt;stroke-linejoin:miter;stroke-opacity:1\"/>\n",
       "<path class=\"bond-10\" d=\"M 183.556,109.317 L 190.467,103.373\" style=\"fill:none;fill-rule:evenodd;stroke:#0000FF;stroke-width:2.0px;stroke-linecap:butt;stroke-linejoin:miter;stroke-opacity:1\"/>\n",
       "<path class=\"bond-25\" d=\"M 176.646,115.262 L 180.748,136.965\" style=\"fill:none;fill-rule:evenodd;stroke:#000000;stroke-width:2.0px;stroke-linecap:butt;stroke-linejoin:miter;stroke-opacity:1\"/>\n",
       "<path class=\"bond-11\" d=\"M 196.315,101.881 L 205.277,105.019\" style=\"fill:none;fill-rule:evenodd;stroke:#0000FF;stroke-width:2.0px;stroke-linecap:butt;stroke-linejoin:miter;stroke-opacity:1\"/>\n",
       "<path class=\"bond-11\" d=\"M 205.277,105.019 L 214.238,108.157\" style=\"fill:none;fill-rule:evenodd;stroke:#000000;stroke-width:2.0px;stroke-linecap:butt;stroke-linejoin:miter;stroke-opacity:1\"/>\n",
       "<path class=\"bond-11\" d=\"M 197.544,106.992 L 203.817,109.188\" style=\"fill:none;fill-rule:evenodd;stroke:#0000FF;stroke-width:2.0px;stroke-linecap:butt;stroke-linejoin:miter;stroke-opacity:1\"/>\n",
       "<path class=\"bond-11\" d=\"M 203.817,109.188 L 210.09,111.385\" style=\"fill:none;fill-rule:evenodd;stroke:#000000;stroke-width:2.0px;stroke-linecap:butt;stroke-linejoin:miter;stroke-opacity:1\"/>\n",
       "<path class=\"bond-12\" d=\"M 214.238,108.157 L 215.941,117.168\" style=\"fill:none;fill-rule:evenodd;stroke:#000000;stroke-width:2.0px;stroke-linecap:butt;stroke-linejoin:miter;stroke-opacity:1\"/>\n",
       "<path class=\"bond-12\" d=\"M 215.941,117.168 L 217.645,126.18\" style=\"fill:none;fill-rule:evenodd;stroke:#0000FF;stroke-width:2.0px;stroke-linecap:butt;stroke-linejoin:miter;stroke-opacity:1\"/>\n",
       "<path class=\"bond-13\" d=\"M 215.416,132.376 L 208.506,138.32\" style=\"fill:none;fill-rule:evenodd;stroke:#0000FF;stroke-width:2.0px;stroke-linecap:butt;stroke-linejoin:miter;stroke-opacity:1\"/>\n",
       "<path class=\"bond-13\" d=\"M 208.506,138.32 L 201.596,144.265\" style=\"fill:none;fill-rule:evenodd;stroke:#000000;stroke-width:2.0px;stroke-linecap:butt;stroke-linejoin:miter;stroke-opacity:1\"/>\n",
       "<path class=\"bond-13\" d=\"M 210.462,130.81 L 205.625,134.971\" style=\"fill:none;fill-rule:evenodd;stroke:#0000FF;stroke-width:2.0px;stroke-linecap:butt;stroke-linejoin:miter;stroke-opacity:1\"/>\n",
       "<path class=\"bond-13\" d=\"M 205.625,134.971 L 200.788,139.132\" style=\"fill:none;fill-rule:evenodd;stroke:#000000;stroke-width:2.0px;stroke-linecap:butt;stroke-linejoin:miter;stroke-opacity:1\"/>\n",
       "<path class=\"bond-14\" d=\"M 201.596,144.265 L 203.299,153.277\" style=\"fill:none;fill-rule:evenodd;stroke:#000000;stroke-width:2.0px;stroke-linecap:butt;stroke-linejoin:miter;stroke-opacity:1\"/>\n",
       "<path class=\"bond-14\" d=\"M 203.299,153.277 L 205.002,162.288\" style=\"fill:none;fill-rule:evenodd;stroke:#0000FF;stroke-width:2.0px;stroke-linecap:butt;stroke-linejoin:miter;stroke-opacity:1\"/>\n",
       "<path class=\"bond-22\" d=\"M 201.596,144.265 L 180.748,136.965\" style=\"fill:none;fill-rule:evenodd;stroke:#000000;stroke-width:2.0px;stroke-linecap:butt;stroke-linejoin:miter;stroke-opacity:1\"/>\n",
       "<path class=\"bond-15\" d=\"M 208.622,166.992 L 217.583,170.13\" style=\"fill:none;fill-rule:evenodd;stroke:#0000FF;stroke-width:2.0px;stroke-linecap:butt;stroke-linejoin:miter;stroke-opacity:1\"/>\n",
       "<path class=\"bond-15\" d=\"M 217.583,170.13 L 226.545,173.267\" style=\"fill:none;fill-rule:evenodd;stroke:#000000;stroke-width:2.0px;stroke-linecap:butt;stroke-linejoin:miter;stroke-opacity:1\"/>\n",
       "<path class=\"bond-16\" d=\"M 226.545,173.267 L 230.647,194.971\" style=\"fill:none;fill-rule:evenodd;stroke:#000000;stroke-width:2.0px;stroke-linecap:butt;stroke-linejoin:miter;stroke-opacity:1\"/>\n",
       "<path class=\"bond-16\" d=\"M 231.501,175.703 L 234.372,190.895\" style=\"fill:none;fill-rule:evenodd;stroke:#000000;stroke-width:2.0px;stroke-linecap:butt;stroke-linejoin:miter;stroke-opacity:1\"/>\n",
       "<path class=\"bond-26\" d=\"M 226.545,173.267 L 243.29,158.863\" style=\"fill:none;fill-rule:evenodd;stroke:#000000;stroke-width:2.0px;stroke-linecap:butt;stroke-linejoin:miter;stroke-opacity:1\"/>\n",
       "<path class=\"bond-17\" d=\"M 230.647,194.971 L 251.494,202.27\" style=\"fill:none;fill-rule:evenodd;stroke:#000000;stroke-width:2.0px;stroke-linecap:butt;stroke-linejoin:miter;stroke-opacity:1\"/>\n",
       "<path class=\"bond-18\" d=\"M 251.494,202.27 L 268.239,187.866\" style=\"fill:none;fill-rule:evenodd;stroke:#000000;stroke-width:2.0px;stroke-linecap:butt;stroke-linejoin:miter;stroke-opacity:1\"/>\n",
       "<path class=\"bond-18\" d=\"M 251.125,196.761 L 262.846,186.678\" style=\"fill:none;fill-rule:evenodd;stroke:#000000;stroke-width:2.0px;stroke-linecap:butt;stroke-linejoin:miter;stroke-opacity:1\"/>\n",
       "<path class=\"bond-19\" d=\"M 268.239,187.866 L 264.137,166.162\" style=\"fill:none;fill-rule:evenodd;stroke:#000000;stroke-width:2.0px;stroke-linecap:butt;stroke-linejoin:miter;stroke-opacity:1\"/>\n",
       "<path class=\"bond-20\" d=\"M 264.137,166.162 L 271.17,160.111\" style=\"fill:none;fill-rule:evenodd;stroke:#000000;stroke-width:2.0px;stroke-linecap:butt;stroke-linejoin:miter;stroke-opacity:1\"/>\n",
       "<path class=\"bond-20\" d=\"M 271.17,160.111 L 278.204,154.061\" style=\"fill:none;fill-rule:evenodd;stroke:#7F4C19;stroke-width:2.0px;stroke-linecap:butt;stroke-linejoin:miter;stroke-opacity:1\"/>\n",
       "<path class=\"bond-21\" d=\"M 264.137,166.162 L 243.29,158.863\" style=\"fill:none;fill-rule:evenodd;stroke:#000000;stroke-width:2.0px;stroke-linecap:butt;stroke-linejoin:miter;stroke-opacity:1\"/>\n",
       "<path class=\"bond-21\" d=\"M 259.55,169.237 L 244.957,164.127\" style=\"fill:none;fill-rule:evenodd;stroke:#000000;stroke-width:2.0px;stroke-linecap:butt;stroke-linejoin:miter;stroke-opacity:1\"/>\n",
       "<path class=\"bond-23\" d=\"M 180.748,136.965 L 164.004,151.37\" style=\"fill:none;fill-rule:evenodd;stroke:#000000;stroke-width:2.0px;stroke-linecap:butt;stroke-linejoin:miter;stroke-opacity:1\"/>\n",
       "<path class=\"bond-23\" d=\"M 175.356,135.777 L 163.635,145.86\" style=\"fill:none;fill-rule:evenodd;stroke:#000000;stroke-width:2.0px;stroke-linecap:butt;stroke-linejoin:miter;stroke-opacity:1\"/>\n",
       "<path class=\"atom-1\" d=\"M 27.5097 165.404 Q 27.5097 163.902, 28.2519 163.063 Q 28.994 162.224, 30.3812 162.224 Q 31.7683 162.224, 32.5104 163.063 Q 33.2526 163.902, 33.2526 165.404 Q 33.2526 166.924, 32.5016 167.79 Q 31.7506 168.647, 30.3812 168.647 Q 29.0029 168.647, 28.2519 167.79 Q 27.5097 166.933, 27.5097 165.404 M 30.3812 167.94 Q 31.3354 167.94, 31.8478 167.304 Q 32.3691 166.659, 32.3691 165.404 Q 32.3691 164.176, 31.8478 163.558 Q 31.3354 162.93, 30.3812 162.93 Q 29.427 162.93, 28.9057 163.549 Q 28.3932 164.167, 28.3932 165.404 Q 28.3932 166.668, 28.9057 167.304 Q 29.427 167.94, 30.3812 167.94 \" fill=\"#FF0000\"/>\n",
       "<path class=\"atom-4\" d=\"M 87.4373 162.453 L 89.4871 165.766 Q 89.6903 166.093, 90.0172 166.685 Q 90.3441 167.277, 90.3618 167.312 L 90.3618 162.453 L 91.1923 162.453 L 91.1923 168.708 L 90.3353 168.708 L 88.1353 165.086 Q 87.8791 164.662, 87.6052 164.176 Q 87.3401 163.69, 87.2606 163.54 L 87.2606 168.708 L 86.4478 168.708 L 86.4478 162.453 L 87.4373 162.453 \" fill=\"#0000FF\"/>\n",
       "<path class=\"atom-5\" d=\"M 104.182 148.048 L 106.232 151.362 Q 106.435 151.688, 106.762 152.28 Q 107.089 152.872, 107.107 152.908 L 107.107 148.048 L 107.937 148.048 L 107.937 154.304 L 107.08 154.304 L 104.88 150.681 Q 104.624 150.257, 104.35 149.771 Q 104.085 149.285, 104.005 149.135 L 104.005 154.304 L 103.193 154.304 L 103.193 148.048 L 104.182 148.048 \" fill=\"#0000FF\"/>\n",
       "<path class=\"atom-6\" d=\"M 125.029 155.348 L 127.079 158.661 Q 127.282 158.988, 127.609 159.58 Q 127.936 160.172, 127.954 160.207 L 127.954 155.348 L 128.784 155.348 L 128.784 161.603 L 127.927 161.603 L 125.727 157.98 Q 125.471 157.556, 125.197 157.07 Q 124.932 156.584, 124.852 156.434 L 124.852 161.603 L 124.04 161.603 L 124.04 155.348 L 125.029 155.348 \" fill=\"#0000FF\"/>\n",
       "<path class=\"atom-6\" d=\"M 123.965 162.228 L 124.813 162.228 L 124.813 164.888 L 128.011 164.888 L 128.011 162.228 L 128.859 162.228 L 128.859 168.484 L 128.011 168.484 L 128.011 165.595 L 124.813 165.595 L 124.813 168.484 L 123.965 168.484 L 123.965 162.228 \" fill=\"#0000FF\"/>\n",
       "<path class=\"atom-11\" d=\"M 192.008 97.7297 L 194.058 101.043 Q 194.261 101.37, 194.588 101.962 Q 194.915 102.554, 194.933 102.589 L 194.933 97.7297 L 195.763 97.7297 L 195.763 103.985 L 194.906 103.985 L 192.706 100.363 Q 192.45 99.9385, 192.176 99.4525 Q 191.911 98.9666, 191.832 98.8164 L 191.832 103.985 L 191.019 103.985 L 191.019 97.7297 L 192.008 97.7297 \" fill=\"#0000FF\"/>\n",
       "<path class=\"atom-13\" d=\"M 216.958 126.733 L 219.007 130.046 Q 219.211 130.373, 219.537 130.965 Q 219.864 131.557, 219.882 131.592 L 219.882 126.733 L 220.713 126.733 L 220.713 132.988 L 219.856 132.988 L 217.656 129.365 Q 217.399 128.941, 217.125 128.455 Q 216.86 127.969, 216.781 127.819 L 216.781 132.988 L 215.968 132.988 L 215.968 126.733 L 216.958 126.733 \" fill=\"#0000FF\"/>\n",
       "<path class=\"atom-15\" d=\"M 197.698 162.841 L 198.546 162.841 L 198.546 165.5 L 201.744 165.5 L 201.744 162.841 L 202.592 162.841 L 202.592 169.096 L 201.744 169.096 L 201.744 166.207 L 198.546 166.207 L 198.546 169.096 L 197.698 169.096 L 197.698 162.841 \" fill=\"#0000FF\"/>\n",
       "<path class=\"atom-15\" d=\"M 204.315 162.841 L 206.365 166.154 Q 206.568 166.481, 206.895 167.073 Q 207.222 167.665, 207.239 167.7 L 207.239 162.841 L 208.07 162.841 L 208.07 169.096 L 207.213 169.096 L 205.013 165.474 Q 204.757 165.049, 204.483 164.564 Q 204.218 164.078, 204.138 163.927 L 204.138 169.096 L 203.326 169.096 L 203.326 162.841 L 204.315 162.841 \" fill=\"#0000FF\"/>\n",
       "<path class=\"atom-21\" d=\"M 281.796 151.599 Q 282.397 151.767, 282.697 152.138 Q 283.006 152.5, 283.006 153.039 Q 283.006 153.905, 282.45 154.399 Q 281.902 154.885, 280.859 154.885 L 278.757 154.885 L 278.757 148.63 L 280.603 148.63 Q 281.672 148.63, 282.211 149.063 Q 282.75 149.496, 282.75 150.291 Q 282.75 151.236, 281.796 151.599 M 279.596 149.337 L 279.596 151.298 L 280.603 151.298 Q 281.222 151.298, 281.54 151.051 Q 281.867 150.795, 281.867 150.291 Q 281.867 149.337, 280.603 149.337 L 279.596 149.337 M 280.859 154.179 Q 281.469 154.179, 281.796 153.887 Q 282.123 153.595, 282.123 153.039 Q 282.123 152.526, 281.761 152.27 Q 281.407 152.005, 280.727 152.005 L 279.596 152.005 L 279.596 154.179 L 280.859 154.179 \" fill=\"#7F4C19\"/>\n",
       "<path class=\"atom-21\" d=\"M 284.429 150.344 L 284.526 150.971 Q 285.003 150.265, 285.781 150.265 Q 286.028 150.265, 286.364 150.353 L 286.231 151.095 Q 285.851 151.007, 285.639 151.007 Q 285.268 151.007, 285.021 151.157 Q 284.782 151.298, 284.588 151.643 L 284.588 154.885 L 283.757 154.885 L 283.757 150.344 L 284.429 150.344 \" fill=\"#7F4C19\"/>\n",
       "</svg>"
      ],
      "text/plain": [
       "<IPython.core.display.SVG object>"
      ]
     },
     "metadata": {},
     "output_type": "display_data"
    }
   ],
   "source": [
    "visualize_match(EGFR_with_pains[23], pains[EGFR_with_pains[23].pain_hits[0]][0])"
   ]
  },
  {
   "cell_type": "code",
   "execution_count": 139,
   "metadata": {},
   "outputs": [
    {
     "data": {
      "image/svg+xml": [
       "<svg baseProfile=\"full\" height=\"300px\" version=\"1.1\" viewBox=\"0 0 300 300\" width=\"300px\" xml:space=\"preserve\" xmlns=\"http://www.w3.org/2000/svg\" xmlns:rdkit=\"http://www.rdkit.org/xml\" xmlns:xlink=\"http://www.w3.org/1999/xlink\">\n",
       "<!-- END OF HEADER -->\n",
       "<rect height=\"300\" style=\"opacity:1.0;fill:#FFFFFF;stroke:none\" width=\"300\" x=\"0\" y=\"0\"> </rect>\n",
       "<path d=\"M 176.133,153.15 L 154.086,153.12\" style=\"fill:none;fill-rule:evenodd;stroke:#FF7F7F;stroke-width:4.7px;stroke-linecap:butt;stroke-linejoin:miter;stroke-opacity:1\"/>\n",
       "<path d=\"M 154.086,153.12 L 143.089,134.012\" style=\"fill:none;fill-rule:evenodd;stroke:#FF7F7F;stroke-width:4.7px;stroke-linecap:butt;stroke-linejoin:miter;stroke-opacity:1\"/>\n",
       "<path d=\"M 143.089,134.012 L 152.084,113.884\" style=\"fill:none;fill-rule:evenodd;stroke:#FF7F7F;stroke-width:4.7px;stroke-linecap:butt;stroke-linejoin:miter;stroke-opacity:1\"/>\n",
       "<path d=\"M 143.089,134.012 L 121.167,131.678\" style=\"fill:none;fill-rule:evenodd;stroke:#FF7F7F;stroke-width:4.7px;stroke-linecap:butt;stroke-linejoin:miter;stroke-opacity:1\"/>\n",
       "<path d=\"M 152.084,113.884 L 173.655,109.33\" style=\"fill:none;fill-rule:evenodd;stroke:#FF7F7F;stroke-width:4.7px;stroke-linecap:butt;stroke-linejoin:miter;stroke-opacity:1\"/>\n",
       "<path d=\"M 152.084,113.884 L 135.72,99.1102\" style=\"fill:none;fill-rule:evenodd;stroke:#FF7F7F;stroke-width:4.7px;stroke-linecap:butt;stroke-linejoin:miter;stroke-opacity:1\"/>\n",
       "<path d=\"M 135.72,99.1102 L 116.613,110.107\" style=\"fill:none;fill-rule:evenodd;stroke:#FF7F7F;stroke-width:4.7px;stroke-linecap:butt;stroke-linejoin:miter;stroke-opacity:1\"/>\n",
       "<path d=\"M 116.613,110.107 L 95.6549,103.266\" style=\"fill:none;fill-rule:evenodd;stroke:#FF7F7F;stroke-width:4.7px;stroke-linecap:butt;stroke-linejoin:miter;stroke-opacity:1\"/>\n",
       "<path d=\"M 116.613,110.107 L 121.167,131.678\" style=\"fill:none;fill-rule:evenodd;stroke:#FF7F7F;stroke-width:4.7px;stroke-linecap:butt;stroke-linejoin:miter;stroke-opacity:1\"/>\n",
       "<path d=\"M 95.6549,103.266 L 79.2512,117.995\" style=\"fill:none;fill-rule:evenodd;stroke:#FF7F7F;stroke-width:4.7px;stroke-linecap:butt;stroke-linejoin:miter;stroke-opacity:1\"/>\n",
       "<path d=\"M 79.2512,117.995 L 83.8054,139.566\" style=\"fill:none;fill-rule:evenodd;stroke:#FF7F7F;stroke-width:4.7px;stroke-linecap:butt;stroke-linejoin:miter;stroke-opacity:1\"/>\n",
       "<path d=\"M 83.8054,139.566 L 104.763,146.407\" style=\"fill:none;fill-rule:evenodd;stroke:#FF7F7F;stroke-width:4.7px;stroke-linecap:butt;stroke-linejoin:miter;stroke-opacity:1\"/>\n",
       "<path d=\"M 104.763,146.407 L 121.167,131.678\" style=\"fill:none;fill-rule:evenodd;stroke:#FF7F7F;stroke-width:4.7px;stroke-linecap:butt;stroke-linejoin:miter;stroke-opacity:1\"/>\n",
       "<ellipse cx=\"178.95\" cy=\"153.15\" rx=\"7.33309\" ry=\"4.41482\" style=\"fill:#FF7F7F;fill-rule:evenodd;stroke:#FF7F7F;stroke-width:1px;stroke-linecap:butt;stroke-linejoin:miter;stroke-opacity:1\"/>\n",
       "<ellipse cx=\"154.086\" cy=\"153.12\" rx=\"4.40925\" ry=\"4.41482\" style=\"fill:#FF7F7F;fill-rule:evenodd;stroke:#FF7F7F;stroke-width:1px;stroke-linecap:butt;stroke-linejoin:miter;stroke-opacity:1\"/>\n",
       "<ellipse cx=\"143.089\" cy=\"134.012\" rx=\"4.40925\" ry=\"4.40925\" style=\"fill:#FF7F7F;fill-rule:evenodd;stroke:#FF7F7F;stroke-width:1px;stroke-linecap:butt;stroke-linejoin:miter;stroke-opacity:1\"/>\n",
       "<ellipse cx=\"152.084\" cy=\"113.884\" rx=\"4.40925\" ry=\"4.40925\" style=\"fill:#FF7F7F;fill-rule:evenodd;stroke:#FF7F7F;stroke-width:1px;stroke-linecap:butt;stroke-linejoin:miter;stroke-opacity:1\"/>\n",
       "<ellipse cx=\"173.655\" cy=\"109.379\" rx=\"4.40925\" ry=\"4.5333\" style=\"fill:#FF7F7F;fill-rule:evenodd;stroke:#FF7F7F;stroke-width:1px;stroke-linecap:butt;stroke-linejoin:miter;stroke-opacity:1\"/>\n",
       "<ellipse cx=\"135.72\" cy=\"95.6762\" rx=\"4.40925\" ry=\"9.27112\" style=\"fill:#FF7F7F;fill-rule:evenodd;stroke:#FF7F7F;stroke-width:1px;stroke-linecap:butt;stroke-linejoin:miter;stroke-opacity:1\"/>\n",
       "<ellipse cx=\"116.613\" cy=\"110.107\" rx=\"4.40925\" ry=\"4.40925\" style=\"fill:#FF7F7F;fill-rule:evenodd;stroke:#FF7F7F;stroke-width:1px;stroke-linecap:butt;stroke-linejoin:miter;stroke-opacity:1\"/>\n",
       "<ellipse cx=\"95.6549\" cy=\"103.266\" rx=\"4.40925\" ry=\"4.40925\" style=\"fill:#FF7F7F;fill-rule:evenodd;stroke:#FF7F7F;stroke-width:1px;stroke-linecap:butt;stroke-linejoin:miter;stroke-opacity:1\"/>\n",
       "<ellipse cx=\"79.2512\" cy=\"117.995\" rx=\"4.40925\" ry=\"4.40925\" style=\"fill:#FF7F7F;fill-rule:evenodd;stroke:#FF7F7F;stroke-width:1px;stroke-linecap:butt;stroke-linejoin:miter;stroke-opacity:1\"/>\n",
       "<ellipse cx=\"83.8054\" cy=\"139.566\" rx=\"4.40925\" ry=\"4.40925\" style=\"fill:#FF7F7F;fill-rule:evenodd;stroke:#FF7F7F;stroke-width:1px;stroke-linecap:butt;stroke-linejoin:miter;stroke-opacity:1\"/>\n",
       "<ellipse cx=\"104.763\" cy=\"146.407\" rx=\"4.40925\" ry=\"4.40925\" style=\"fill:#FF7F7F;fill-rule:evenodd;stroke:#FF7F7F;stroke-width:1px;stroke-linecap:butt;stroke-linejoin:miter;stroke-opacity:1\"/>\n",
       "<ellipse cx=\"121.167\" cy=\"131.678\" rx=\"4.40925\" ry=\"4.40925\" style=\"fill:#FF7F7F;fill-rule:evenodd;stroke:#FF7F7F;stroke-width:1px;stroke-linecap:butt;stroke-linejoin:miter;stroke-opacity:1\"/>\n",
       "<path class=\"bond-0\" d=\"M 213.159,207.905 L 217.62,200.203\" style=\"fill:none;fill-rule:evenodd;stroke:#0000FF;stroke-width:2.0px;stroke-linecap:butt;stroke-linejoin:miter;stroke-opacity:1\"/>\n",
       "<path class=\"bond-0\" d=\"M 217.62,200.203 L 222.081,192.501\" style=\"fill:none;fill-rule:evenodd;stroke:#000000;stroke-width:2.0px;stroke-linecap:butt;stroke-linejoin:miter;stroke-opacity:1\"/>\n",
       "<path class=\"bond-0\" d=\"M 209.343,205.695 L 213.804,197.993\" style=\"fill:none;fill-rule:evenodd;stroke:#0000FF;stroke-width:2.0px;stroke-linecap:butt;stroke-linejoin:miter;stroke-opacity:1\"/>\n",
       "<path class=\"bond-0\" d=\"M 213.804,197.993 L 218.265,190.291\" style=\"fill:none;fill-rule:evenodd;stroke:#000000;stroke-width:2.0px;stroke-linecap:butt;stroke-linejoin:miter;stroke-opacity:1\"/>\n",
       "<path class=\"bond-1\" d=\"M 220.173,191.396 L 229.487,191.408\" style=\"fill:none;fill-rule:evenodd;stroke:#000000;stroke-width:2.0px;stroke-linecap:butt;stroke-linejoin:miter;stroke-opacity:1\"/>\n",
       "<path class=\"bond-1\" d=\"M 229.487,191.408 L 238.802,191.421\" style=\"fill:none;fill-rule:evenodd;stroke:#FF0000;stroke-width:2.0px;stroke-linecap:butt;stroke-linejoin:miter;stroke-opacity:1\"/>\n",
       "<path class=\"bond-33\" d=\"M 220.173,191.396 L 209.176,172.288\" style=\"fill:none;fill-rule:evenodd;stroke:#000000;stroke-width:2.0px;stroke-linecap:butt;stroke-linejoin:miter;stroke-opacity:1\"/>\n",
       "<path class=\"bond-2\" d=\"M 244.367,187.718 L 248.817,180.033\" style=\"fill:none;fill-rule:evenodd;stroke:#FF0000;stroke-width:2.0px;stroke-linecap:butt;stroke-linejoin:miter;stroke-opacity:1\"/>\n",
       "<path class=\"bond-2\" d=\"M 248.817,180.033 L 253.268,172.348\" style=\"fill:none;fill-rule:evenodd;stroke:#000000;stroke-width:2.0px;stroke-linecap:butt;stroke-linejoin:miter;stroke-opacity:1\"/>\n",
       "<path class=\"bond-3\" d=\"M 253.268,172.348 L 275.314,172.378\" style=\"fill:none;fill-rule:evenodd;stroke:#000000;stroke-width:2.0px;stroke-linecap:butt;stroke-linejoin:miter;stroke-opacity:1\"/>\n",
       "<path class=\"bond-3\" d=\"M 256.581,167.944 L 272.014,167.965\" style=\"fill:none;fill-rule:evenodd;stroke:#000000;stroke-width:2.0px;stroke-linecap:butt;stroke-linejoin:miter;stroke-opacity:1\"/>\n",
       "<path class=\"bond-35\" d=\"M 253.268,172.348 L 242.271,153.241\" style=\"fill:none;fill-rule:evenodd;stroke:#000000;stroke-width:2.0px;stroke-linecap:butt;stroke-linejoin:miter;stroke-opacity:1\"/>\n",
       "<path class=\"bond-4\" d=\"M 275.314,172.378 L 286.364,153.301\" style=\"fill:none;fill-rule:evenodd;stroke:#000000;stroke-width:2.0px;stroke-linecap:butt;stroke-linejoin:miter;stroke-opacity:1\"/>\n",
       "<path class=\"bond-5\" d=\"M 286.364,153.301 L 275.367,134.193\" style=\"fill:none;fill-rule:evenodd;stroke:#000000;stroke-width:2.0px;stroke-linecap:butt;stroke-linejoin:miter;stroke-opacity:1\"/>\n",
       "<path class=\"bond-5\" d=\"M 280.893,152.634 L 273.195,139.259\" style=\"fill:none;fill-rule:evenodd;stroke:#000000;stroke-width:2.0px;stroke-linecap:butt;stroke-linejoin:miter;stroke-opacity:1\"/>\n",
       "<path class=\"bond-6\" d=\"M 275.367,134.193 L 253.32,134.163\" style=\"fill:none;fill-rule:evenodd;stroke:#000000;stroke-width:2.0px;stroke-linecap:butt;stroke-linejoin:miter;stroke-opacity:1\"/>\n",
       "<path class=\"bond-7\" d=\"M 253.32,134.163 L 242.271,153.241\" style=\"fill:none;fill-rule:evenodd;stroke:#000000;stroke-width:2.0px;stroke-linecap:butt;stroke-linejoin:miter;stroke-opacity:1\"/>\n",
       "<path class=\"bond-7\" d=\"M 255.479,139.235 L 247.744,152.589\" style=\"fill:none;fill-rule:evenodd;stroke:#000000;stroke-width:2.0px;stroke-linecap:butt;stroke-linejoin:miter;stroke-opacity:1\"/>\n",
       "<path class=\"bond-8\" d=\"M 242.271,153.241 L 220.225,153.21\" style=\"fill:none;fill-rule:evenodd;stroke:#000000;stroke-width:2.0px;stroke-linecap:butt;stroke-linejoin:miter;stroke-opacity:1\"/>\n",
       "<path class=\"bond-9\" d=\"M 220.225,153.21 L 209.176,172.288\" style=\"fill:none;fill-rule:evenodd;stroke:#000000;stroke-width:2.0px;stroke-linecap:butt;stroke-linejoin:miter;stroke-opacity:1\"/>\n",
       "<path class=\"bond-9\" d=\"M 222.383,158.282 L 214.649,171.636\" style=\"fill:none;fill-rule:evenodd;stroke:#000000;stroke-width:2.0px;stroke-linecap:butt;stroke-linejoin:miter;stroke-opacity:1\"/>\n",
       "<path class=\"bond-10\" d=\"M 209.176,172.288 L 187.13,172.258\" style=\"fill:none;fill-rule:evenodd;stroke:#000000;stroke-width:2.0px;stroke-linecap:butt;stroke-linejoin:miter;stroke-opacity:1\"/>\n",
       "<path class=\"bond-11\" d=\"M 185.222,171.153 L 180.771,178.838\" style=\"fill:none;fill-rule:evenodd;stroke:#000000;stroke-width:2.0px;stroke-linecap:butt;stroke-linejoin:miter;stroke-opacity:1\"/>\n",
       "<path class=\"bond-11\" d=\"M 180.771,178.838 L 176.32,186.522\" style=\"fill:none;fill-rule:evenodd;stroke:#FF0000;stroke-width:2.0px;stroke-linecap:butt;stroke-linejoin:miter;stroke-opacity:1\"/>\n",
       "<path class=\"bond-11\" d=\"M 189.037,173.363 L 184.587,181.047\" style=\"fill:none;fill-rule:evenodd;stroke:#000000;stroke-width:2.0px;stroke-linecap:butt;stroke-linejoin:miter;stroke-opacity:1\"/>\n",
       "<path class=\"bond-11\" d=\"M 184.587,181.047 L 180.136,188.732\" style=\"fill:none;fill-rule:evenodd;stroke:#FF0000;stroke-width:2.0px;stroke-linecap:butt;stroke-linejoin:miter;stroke-opacity:1\"/>\n",
       "<path class=\"bond-12\" d=\"M 187.13,172.258 L 182.688,164.54\" style=\"fill:none;fill-rule:evenodd;stroke:#000000;stroke-width:2.0px;stroke-linecap:butt;stroke-linejoin:miter;stroke-opacity:1\"/>\n",
       "<path class=\"bond-12\" d=\"M 182.688,164.54 L 178.246,156.823\" style=\"fill:none;fill-rule:evenodd;stroke:#0000FF;stroke-width:2.0px;stroke-linecap:butt;stroke-linejoin:miter;stroke-opacity:1\"/>\n",
       "<path class=\"bond-13\" d=\"M 173.214,153.146 L 156.932,153.124\" style=\"fill:none;fill-rule:evenodd;stroke:#0000FF;stroke-width:2.0px;stroke-linecap:butt;stroke-linejoin:miter;stroke-opacity:1\"/>\n",
       "<path class=\"bond-14\" d=\"M 151.972,149.447 L 147.531,141.73\" style=\"fill:none;fill-rule:evenodd;stroke:#0000FF;stroke-width:2.0px;stroke-linecap:butt;stroke-linejoin:miter;stroke-opacity:1\"/>\n",
       "<path class=\"bond-14\" d=\"M 147.531,141.73 L 143.089,134.012\" style=\"fill:none;fill-rule:evenodd;stroke:#000000;stroke-width:2.0px;stroke-linecap:butt;stroke-linejoin:miter;stroke-opacity:1\"/>\n",
       "<path class=\"bond-14\" d=\"M 154.461,144.932 L 151.352,139.53\" style=\"fill:none;fill-rule:evenodd;stroke:#0000FF;stroke-width:2.0px;stroke-linecap:butt;stroke-linejoin:miter;stroke-opacity:1\"/>\n",
       "<path class=\"bond-14\" d=\"M 151.352,139.53 L 148.243,134.128\" style=\"fill:none;fill-rule:evenodd;stroke:#000000;stroke-width:2.0px;stroke-linecap:butt;stroke-linejoin:miter;stroke-opacity:1\"/>\n",
       "<path class=\"bond-15\" d=\"M 143.089,134.012 L 152.084,113.884\" style=\"fill:none;fill-rule:evenodd;stroke:#000000;stroke-width:2.0px;stroke-linecap:butt;stroke-linejoin:miter;stroke-opacity:1\"/>\n",
       "<path class=\"bond-34\" d=\"M 143.089,134.012 L 121.167,131.678\" style=\"fill:none;fill-rule:evenodd;stroke:#000000;stroke-width:2.0px;stroke-linecap:butt;stroke-linejoin:miter;stroke-opacity:1\"/>\n",
       "<path class=\"bond-16\" d=\"M 152.539,116.041 L 161.616,114.125\" style=\"fill:none;fill-rule:evenodd;stroke:#000000;stroke-width:2.0px;stroke-linecap:butt;stroke-linejoin:miter;stroke-opacity:1\"/>\n",
       "<path class=\"bond-16\" d=\"M 161.616,114.125 L 170.693,112.209\" style=\"fill:none;fill-rule:evenodd;stroke:#FF0000;stroke-width:2.0px;stroke-linecap:butt;stroke-linejoin:miter;stroke-opacity:1\"/>\n",
       "<path class=\"bond-16\" d=\"M 151.628,111.727 L 160.705,109.811\" style=\"fill:none;fill-rule:evenodd;stroke:#000000;stroke-width:2.0px;stroke-linecap:butt;stroke-linejoin:miter;stroke-opacity:1\"/>\n",
       "<path class=\"bond-16\" d=\"M 160.705,109.811 L 169.782,107.895\" style=\"fill:none;fill-rule:evenodd;stroke:#FF0000;stroke-width:2.0px;stroke-linecap:butt;stroke-linejoin:miter;stroke-opacity:1\"/>\n",
       "<path class=\"bond-17\" d=\"M 152.084,113.884 L 145.362,107.815\" style=\"fill:none;fill-rule:evenodd;stroke:#000000;stroke-width:2.0px;stroke-linecap:butt;stroke-linejoin:miter;stroke-opacity:1\"/>\n",
       "<path class=\"bond-17\" d=\"M 145.362,107.815 L 138.639,101.746\" style=\"fill:none;fill-rule:evenodd;stroke:#0000FF;stroke-width:2.0px;stroke-linecap:butt;stroke-linejoin:miter;stroke-opacity:1\"/>\n",
       "<path class=\"bond-18\" d=\"M 132.802,100.79 L 124.707,105.449\" style=\"fill:none;fill-rule:evenodd;stroke:#0000FF;stroke-width:2.0px;stroke-linecap:butt;stroke-linejoin:miter;stroke-opacity:1\"/>\n",
       "<path class=\"bond-18\" d=\"M 124.707,105.449 L 116.613,110.107\" style=\"fill:none;fill-rule:evenodd;stroke:#000000;stroke-width:2.0px;stroke-linecap:butt;stroke-linejoin:miter;stroke-opacity:1\"/>\n",
       "<path class=\"bond-19\" d=\"M 116.613,110.107 L 95.6549,103.266\" style=\"fill:none;fill-rule:evenodd;stroke:#000000;stroke-width:2.0px;stroke-linecap:butt;stroke-linejoin:miter;stroke-opacity:1\"/>\n",
       "<path class=\"bond-19\" d=\"M 112.101,113.273 L 97.4303,108.484\" style=\"fill:none;fill-rule:evenodd;stroke:#000000;stroke-width:2.0px;stroke-linecap:butt;stroke-linejoin:miter;stroke-opacity:1\"/>\n",
       "<path class=\"bond-36\" d=\"M 116.613,110.107 L 121.167,131.678\" style=\"fill:none;fill-rule:evenodd;stroke:#000000;stroke-width:2.0px;stroke-linecap:butt;stroke-linejoin:miter;stroke-opacity:1\"/>\n",
       "<path class=\"bond-20\" d=\"M 95.6549,103.266 L 79.2512,117.995\" style=\"fill:none;fill-rule:evenodd;stroke:#000000;stroke-width:2.0px;stroke-linecap:butt;stroke-linejoin:miter;stroke-opacity:1\"/>\n",
       "<path class=\"bond-21\" d=\"M 79.2512,117.995 L 83.8054,139.566\" style=\"fill:none;fill-rule:evenodd;stroke:#000000;stroke-width:2.0px;stroke-linecap:butt;stroke-linejoin:miter;stroke-opacity:1\"/>\n",
       "<path class=\"bond-21\" d=\"M 84.2485,120.32 L 87.4364,135.42\" style=\"fill:none;fill-rule:evenodd;stroke:#000000;stroke-width:2.0px;stroke-linecap:butt;stroke-linejoin:miter;stroke-opacity:1\"/>\n",
       "<path class=\"bond-22\" d=\"M 83.8054,139.566 L 76.88,145.784\" style=\"fill:none;fill-rule:evenodd;stroke:#000000;stroke-width:2.0px;stroke-linecap:butt;stroke-linejoin:miter;stroke-opacity:1\"/>\n",
       "<path class=\"bond-22\" d=\"M 76.88,145.784 L 69.9546,152.003\" style=\"fill:none;fill-rule:evenodd;stroke:#CCCC00;stroke-width:2.0px;stroke-linecap:butt;stroke-linejoin:miter;stroke-opacity:1\"/>\n",
       "<path class=\"bond-31\" d=\"M 83.8054,139.566 L 104.763,146.407\" style=\"fill:none;fill-rule:evenodd;stroke:#000000;stroke-width:2.0px;stroke-linecap:butt;stroke-linejoin:miter;stroke-opacity:1\"/>\n",
       "<path class=\"bond-23\" d=\"M 66.4891,149.979 L 62.0617,145.049\" style=\"fill:none;fill-rule:evenodd;stroke:#CCCC00;stroke-width:2.0px;stroke-linecap:butt;stroke-linejoin:miter;stroke-opacity:1\"/>\n",
       "<path class=\"bond-23\" d=\"M 62.0617,145.049 L 57.6343,140.118\" style=\"fill:none;fill-rule:evenodd;stroke:#FF0000;stroke-width:2.0px;stroke-linecap:butt;stroke-linejoin:miter;stroke-opacity:1\"/>\n",
       "<path class=\"bond-23\" d=\"M 63.2083,152.925 L 58.7809,147.995\" style=\"fill:none;fill-rule:evenodd;stroke:#CCCC00;stroke-width:2.0px;stroke-linecap:butt;stroke-linejoin:miter;stroke-opacity:1\"/>\n",
       "<path class=\"bond-23\" d=\"M 58.7809,147.995 L 54.3535,143.064\" style=\"fill:none;fill-rule:evenodd;stroke:#FF0000;stroke-width:2.0px;stroke-linecap:butt;stroke-linejoin:miter;stroke-opacity:1\"/>\n",
       "<path class=\"bond-24\" d=\"M 68.3143,158.611 L 72.7805,163.585\" style=\"fill:none;fill-rule:evenodd;stroke:#CCCC00;stroke-width:2.0px;stroke-linecap:butt;stroke-linejoin:miter;stroke-opacity:1\"/>\n",
       "<path class=\"bond-24\" d=\"M 72.7805,163.585 L 77.2468,168.559\" style=\"fill:none;fill-rule:evenodd;stroke:#FF0000;stroke-width:2.0px;stroke-linecap:butt;stroke-linejoin:miter;stroke-opacity:1\"/>\n",
       "<path class=\"bond-24\" d=\"M 71.595,155.666 L 76.0613,160.64\" style=\"fill:none;fill-rule:evenodd;stroke:#CCCC00;stroke-width:2.0px;stroke-linecap:butt;stroke-linejoin:miter;stroke-opacity:1\"/>\n",
       "<path class=\"bond-24\" d=\"M 76.0613,160.64 L 80.5275,165.614\" style=\"fill:none;fill-rule:evenodd;stroke:#FF0000;stroke-width:2.0px;stroke-linecap:butt;stroke-linejoin:miter;stroke-opacity:1\"/>\n",
       "<path class=\"bond-25\" d=\"M 64.8487,156.588 L 59.3399,161.534\" style=\"fill:none;fill-rule:evenodd;stroke:#CCCC00;stroke-width:2.0px;stroke-linecap:butt;stroke-linejoin:miter;stroke-opacity:1\"/>\n",
       "<path class=\"bond-25\" d=\"M 59.3399,161.534 L 53.8311,166.481\" style=\"fill:none;fill-rule:evenodd;stroke:#0000FF;stroke-width:2.0px;stroke-linecap:butt;stroke-linejoin:miter;stroke-opacity:1\"/>\n",
       "<path class=\"bond-26\" d=\"M 48.079,168.072 L 39.0596,165.128\" style=\"fill:none;fill-rule:evenodd;stroke:#0000FF;stroke-width:2.0px;stroke-linecap:butt;stroke-linejoin:miter;stroke-opacity:1\"/>\n",
       "<path class=\"bond-26\" d=\"M 39.0596,165.128 L 30.0401,162.183\" style=\"fill:none;fill-rule:evenodd;stroke:#000000;stroke-width:2.0px;stroke-linecap:butt;stroke-linejoin:miter;stroke-opacity:1\"/>\n",
       "<path class=\"bond-37\" d=\"M 51.7734,172.698 L 53.6628,181.647\" style=\"fill:none;fill-rule:evenodd;stroke:#0000FF;stroke-width:2.0px;stroke-linecap:butt;stroke-linejoin:miter;stroke-opacity:1\"/>\n",
       "<path class=\"bond-37\" d=\"M 53.6628,181.647 L 55.5521,190.596\" style=\"fill:none;fill-rule:evenodd;stroke:#000000;stroke-width:2.0px;stroke-linecap:butt;stroke-linejoin:miter;stroke-opacity:1\"/>\n",
       "<path class=\"bond-27\" d=\"M 30.0401,162.183 L 13.6364,176.913\" style=\"fill:none;fill-rule:evenodd;stroke:#000000;stroke-width:2.0px;stroke-linecap:butt;stroke-linejoin:miter;stroke-opacity:1\"/>\n",
       "<path class=\"bond-28\" d=\"M 13.6364,176.913 L 15.522,185.844\" style=\"fill:none;fill-rule:evenodd;stroke:#000000;stroke-width:2.0px;stroke-linecap:butt;stroke-linejoin:miter;stroke-opacity:1\"/>\n",
       "<path class=\"bond-28\" d=\"M 15.522,185.844 L 17.4076,194.775\" style=\"fill:none;fill-rule:evenodd;stroke:#FF0000;stroke-width:2.0px;stroke-linecap:butt;stroke-linejoin:miter;stroke-opacity:1\"/>\n",
       "<path class=\"bond-29\" d=\"M 21.6077,199.599 L 30.3781,202.462\" style=\"fill:none;fill-rule:evenodd;stroke:#FF0000;stroke-width:2.0px;stroke-linecap:butt;stroke-linejoin:miter;stroke-opacity:1\"/>\n",
       "<path class=\"bond-29\" d=\"M 30.3781,202.462 L 39.1484,205.325\" style=\"fill:none;fill-rule:evenodd;stroke:#000000;stroke-width:2.0px;stroke-linecap:butt;stroke-linejoin:miter;stroke-opacity:1\"/>\n",
       "<path class=\"bond-30\" d=\"M 39.1484,205.325 L 55.5521,190.596\" style=\"fill:none;fill-rule:evenodd;stroke:#000000;stroke-width:2.0px;stroke-linecap:butt;stroke-linejoin:miter;stroke-opacity:1\"/>\n",
       "<path class=\"bond-32\" d=\"M 104.763,146.407 L 121.167,131.678\" style=\"fill:none;fill-rule:evenodd;stroke:#000000;stroke-width:2.0px;stroke-linecap:butt;stroke-linejoin:miter;stroke-opacity:1\"/>\n",
       "<path class=\"bond-32\" d=\"M 104.278,140.917 L 115.761,130.607\" style=\"fill:none;fill-rule:evenodd;stroke:#000000;stroke-width:2.0px;stroke-linecap:butt;stroke-linejoin:miter;stroke-opacity:1\"/>\n",
       "<path class=\"atom-0\" d=\"M 201.138 207.351 L 201.985 207.351 L 201.985 210.006 L 205.177 210.006 L 205.177 207.351 L 206.024 207.351 L 206.024 213.595 L 205.177 213.595 L 205.177 210.711 L 201.985 210.711 L 201.985 213.595 L 201.138 213.595 L 201.138 207.351 \" fill=\"#0000FF\"/>\n",
       "<path class=\"atom-0\" d=\"M 207.743 207.351 L 209.789 210.658 Q 209.992 210.985, 210.318 211.575 Q 210.645 212.166, 210.662 212.202 L 210.662 207.351 L 211.491 207.351 L 211.491 213.595 L 210.636 213.595 L 208.44 209.979 Q 208.184 209.556, 207.911 209.071 Q 207.646 208.586, 207.567 208.436 L 207.567 213.595 L 206.756 213.595 L 206.756 207.351 L 207.743 207.351 \" fill=\"#0000FF\"/>\n",
       "<path class=\"atom-2\" d=\"M 239.353 191.443 Q 239.353 189.944, 240.094 189.106 Q 240.834 188.269, 242.219 188.269 Q 243.603 188.269, 244.344 189.106 Q 245.085 189.944, 245.085 191.443 Q 245.085 192.96, 244.335 193.824 Q 243.586 194.68, 242.219 194.68 Q 240.843 194.68, 240.094 193.824 Q 239.353 192.969, 239.353 191.443 M 242.219 193.974 Q 243.171 193.974, 243.683 193.339 Q 244.203 192.696, 244.203 191.443 Q 244.203 190.218, 243.683 189.6 Q 243.171 188.974, 242.219 188.974 Q 241.267 188.974, 240.746 189.592 Q 240.235 190.209, 240.235 191.443 Q 240.235 192.704, 240.746 193.339 Q 241.267 193.974, 242.219 193.974 \" fill=\"#FF0000\"/>\n",
       "<path class=\"atom-12\" d=\"M 173.214 191.353 Q 173.214 189.854, 173.955 189.016 Q 174.696 188.178, 176.08 188.178 Q 177.465 188.178, 178.206 189.016 Q 178.946 189.854, 178.946 191.353 Q 178.946 192.87, 178.197 193.734 Q 177.447 194.589, 176.08 194.589 Q 174.705 194.589, 173.955 193.734 Q 173.214 192.879, 173.214 191.353 M 176.08 193.884 Q 177.033 193.884, 177.544 193.249 Q 178.064 192.605, 178.064 191.353 Q 178.064 190.127, 177.544 189.51 Q 177.033 188.884, 176.08 188.884 Q 175.128 188.884, 174.608 189.501 Q 174.096 190.118, 174.096 191.353 Q 174.096 192.614, 174.608 193.249 Q 175.128 193.884, 176.08 193.884 \" fill=\"#FF0000\"/>\n",
       "<path class=\"atom-13\" d=\"M 174.752 150.028 L 176.798 153.335 Q 177.001 153.662, 177.327 154.252 Q 177.654 154.843, 177.671 154.879 L 177.671 150.028 L 178.5 150.028 L 178.5 156.272 L 177.645 156.272 L 175.449 152.656 Q 175.193 152.233, 174.92 151.748 Q 174.655 151.263, 174.576 151.113 L 174.576 156.272 L 173.765 156.272 L 173.765 150.028 L 174.752 150.028 \" fill=\"#0000FF\"/>\n",
       "<path class=\"atom-13\" d=\"M 179.25 150.028 L 180.096 150.028 L 180.096 152.683 L 183.289 152.683 L 183.289 150.028 L 184.135 150.028 L 184.135 156.272 L 183.289 156.272 L 183.289 153.388 L 180.096 153.388 L 180.096 156.272 L 179.25 156.272 L 179.25 150.028 \" fill=\"#0000FF\"/>\n",
       "<path class=\"atom-14\" d=\"M 152.706 149.998 L 154.752 153.305 Q 154.955 153.631, 155.281 154.222 Q 155.607 154.813, 155.625 154.848 L 155.625 149.998 L 156.454 149.998 L 156.454 156.242 L 155.599 156.242 L 153.403 152.626 Q 153.147 152.203, 152.874 151.718 Q 152.609 151.233, 152.53 151.083 L 152.53 156.242 L 151.719 156.242 L 151.719 149.998 L 152.706 149.998 \" fill=\"#0000FF\"/>\n",
       "<path class=\"atom-17\" d=\"M 170.789 109.348 Q 170.789 107.849, 171.529 107.011 Q 172.27 106.173, 173.655 106.173 Q 175.039 106.173, 175.78 107.011 Q 176.521 107.849, 176.521 109.348 Q 176.521 110.865, 175.771 111.729 Q 175.021 112.584, 173.655 112.584 Q 172.279 112.584, 171.529 111.729 Q 170.789 110.873, 170.789 109.348 M 173.655 111.879 Q 174.607 111.879, 175.118 111.244 Q 175.639 110.6, 175.639 109.348 Q 175.639 108.122, 175.118 107.505 Q 174.607 106.879, 173.655 106.879 Q 172.702 106.879, 172.182 107.496 Q 171.67 108.113, 171.67 109.348 Q 171.67 110.609, 172.182 111.244 Q 172.702 111.879, 173.655 111.879 \" fill=\"#FF0000\"/>\n",
       "<path class=\"atom-18\" d=\"M 134.34 95.9884 L 136.386 99.2954 Q 136.589 99.6216, 136.915 100.212 Q 137.242 100.803, 137.259 100.839 L 137.259 95.9884 L 138.088 95.9884 L 138.088 102.232 L 137.233 102.232 L 135.037 98.6163 Q 134.781 98.193, 134.508 97.708 Q 134.243 97.223, 134.164 97.0731 L 134.164 102.232 L 133.353 102.232 L 133.353 95.9884 L 134.34 95.9884 \" fill=\"#0000FF\"/>\n",
       "<path class=\"atom-18\" d=\"M 133.278 89.1206 L 134.124 89.1206 L 134.124 91.7749 L 137.317 91.7749 L 137.317 89.1206 L 138.163 89.1206 L 138.163 95.3641 L 137.317 95.3641 L 137.317 92.4804 L 134.124 92.4804 L 134.124 95.3641 L 133.278 95.3641 L 133.278 89.1206 \" fill=\"#0000FF\"/>\n",
       "<path class=\"atom-23\" d=\"M 65.638 156.438 Q 65.7085 156.465, 65.9995 156.588 Q 66.2905 156.712, 66.608 156.791 Q 66.9343 156.862, 67.2518 156.862 Q 67.8426 156.862, 68.1865 156.579 Q 68.5304 156.288, 68.5304 155.786 Q 68.5304 155.442, 68.3541 155.23 Q 68.1865 155.019, 67.922 154.904 Q 67.6574 154.789, 67.2165 154.657 Q 66.6609 154.489, 66.3258 154.331 Q 65.9995 154.172, 65.7614 153.837 Q 65.5321 153.502, 65.5321 152.937 Q 65.5321 152.152, 66.0613 151.667 Q 66.5992 151.182, 67.6574 151.182 Q 68.3805 151.182, 69.2006 151.526 L 68.9978 152.205 Q 68.2482 151.897, 67.6839 151.897 Q 67.0754 151.897, 66.7403 152.152 Q 66.4052 152.399, 66.414 152.832 Q 66.414 153.167, 66.5815 153.369 Q 66.7579 153.572, 67.0048 153.687 Q 67.2606 153.802, 67.6839 153.934 Q 68.2482 154.11, 68.5833 154.287 Q 68.9185 154.463, 69.1566 154.824 Q 69.4035 155.177, 69.4035 155.786 Q 69.4035 156.65, 68.8214 157.117 Q 68.2482 157.576, 67.287 157.576 Q 66.7315 157.576, 66.3082 157.452 Q 65.8937 157.338, 65.3999 157.135 L 65.638 156.438 \" fill=\"#CCCC00\"/>\n",
       "<path class=\"atom-24\" d=\"M 49.8063 137.909 Q 49.8063 136.41, 50.547 135.572 Q 51.2878 134.735, 52.6723 134.735 Q 54.0568 134.735, 54.7975 135.572 Q 55.5383 136.41, 55.5383 137.909 Q 55.5383 139.426, 54.7887 140.29 Q 54.0391 141.146, 52.6723 141.146 Q 51.2966 141.146, 50.547 140.29 Q 49.8063 139.435, 49.8063 137.909 M 52.6723 140.44 Q 53.6247 140.44, 54.1361 139.805 Q 54.6564 139.162, 54.6564 137.909 Q 54.6564 136.684, 54.1361 136.066 Q 53.6247 135.44, 52.6723 135.44 Q 51.7199 135.44, 51.1996 136.057 Q 50.6881 136.675, 50.6881 137.909 Q 50.6881 139.17, 51.1996 139.805 Q 51.7199 140.44, 52.6723 140.44 \" fill=\"#FF0000\"/>\n",
       "<path class=\"atom-25\" d=\"M 79.2651 170.717 Q 79.2651 169.218, 80.0058 168.38 Q 80.7466 167.542, 82.1311 167.542 Q 83.5156 167.542, 84.2563 168.38 Q 84.9971 169.218, 84.9971 170.717 Q 84.9971 172.234, 84.2475 173.098 Q 83.4979 173.953, 82.1311 173.953 Q 80.7554 173.953, 80.0058 173.098 Q 79.2651 172.242, 79.2651 170.717 M 82.1311 173.248 Q 83.0835 173.248, 83.5949 172.613 Q 84.1152 171.969, 84.1152 170.717 Q 84.1152 169.491, 83.5949 168.874 Q 83.0835 168.248, 82.1311 168.248 Q 81.1787 168.248, 80.6584 168.865 Q 80.1469 169.482, 80.1469 170.717 Q 80.1469 171.978, 80.6584 172.613 Q 81.1787 173.248, 82.1311 173.248 \" fill=\"#FF0000\"/>\n",
       "<path class=\"atom-26\" d=\"M 49.6179 165.903 L 51.6638 169.21 Q 51.8666 169.536, 52.1929 170.127 Q 52.5192 170.718, 52.5368 170.753 L 52.5368 165.903 L 53.3657 165.903 L 53.3657 172.147 L 52.5103 172.147 L 50.3145 168.531 Q 50.0588 168.108, 49.7854 167.623 Q 49.5209 167.138, 49.4415 166.988 L 49.4415 172.147 L 48.6302 172.147 L 48.6302 165.903 L 49.6179 165.903 \" fill=\"#0000FF\"/>\n",
       "<path class=\"atom-29\" d=\"M 15.3245 198.501 Q 15.3245 197.002, 16.0653 196.164 Q 16.806 195.327, 18.1905 195.327 Q 19.5751 195.327, 20.3158 196.164 Q 21.0566 197.002, 21.0566 198.501 Q 21.0566 200.018, 20.307 200.882 Q 19.5574 201.738, 18.1905 201.738 Q 16.8149 201.738, 16.0653 200.882 Q 15.3245 200.027, 15.3245 198.501 M 18.1905 201.032 Q 19.1429 201.032, 19.6544 200.397 Q 20.1747 199.753, 20.1747 198.501 Q 20.1747 197.275, 19.6544 196.658 Q 19.1429 196.032, 18.1905 196.032 Q 17.2382 196.032, 16.7179 196.649 Q 16.2064 197.267, 16.2064 198.501 Q 16.2064 199.762, 16.7179 200.397 Q 17.2382 201.032, 18.1905 201.032 \" fill=\"#FF0000\"/>\n",
       "</svg>"
      ],
      "text/plain": [
       "<IPython.core.display.SVG object>"
      ]
     },
     "metadata": {},
     "output_type": "display_data"
    }
   ],
   "source": [
    "visualize_match(EGFR_with_pains[7], pains[EGFR_with_pains[7].pain_hits[0]][0])"
   ]
  },
  {
   "cell_type": "code",
   "execution_count": 140,
   "metadata": {},
   "outputs": [
    {
     "data": {
      "image/svg+xml": [
       "<svg baseProfile=\"full\" height=\"300px\" version=\"1.1\" viewBox=\"0 0 300 300\" width=\"300px\" xml:space=\"preserve\" xmlns=\"http://www.w3.org/2000/svg\" xmlns:rdkit=\"http://www.rdkit.org/xml\" xmlns:xlink=\"http://www.w3.org/1999/xlink\">\n",
       "<!-- END OF HEADER -->\n",
       "<rect height=\"300\" style=\"opacity:1.0;fill:#FFFFFF;stroke:none\" width=\"300\" x=\"0\" y=\"0\"> </rect>\n",
       "<path d=\"M 78.0525,178.285 L 51.7785,170.491\" style=\"fill:none;fill-rule:evenodd;stroke:#FF7F7F;stroke-width:5.8px;stroke-linecap:butt;stroke-linejoin:miter;stroke-opacity:1\"/>\n",
       "<path d=\"M 78.0525,178.285 L 97.9396,159.428\" style=\"fill:none;fill-rule:evenodd;stroke:#FF7F7F;stroke-width:5.8px;stroke-linecap:butt;stroke-linejoin:miter;stroke-opacity:1\"/>\n",
       "<path d=\"M 51.7785,170.491 L 45.3916,143.84\" style=\"fill:none;fill-rule:evenodd;stroke:#FF7F7F;stroke-width:5.8px;stroke-linecap:butt;stroke-linejoin:miter;stroke-opacity:1\"/>\n",
       "<path d=\"M 45.3916,143.84 L 19.1175,136.045\" style=\"fill:none;fill-rule:evenodd;stroke:#FF7F7F;stroke-width:5.8px;stroke-linecap:butt;stroke-linejoin:miter;stroke-opacity:1\"/>\n",
       "<path d=\"M 45.3916,143.84 L 65.2787,124.983\" style=\"fill:none;fill-rule:evenodd;stroke:#FF7F7F;stroke-width:5.8px;stroke-linecap:butt;stroke-linejoin:miter;stroke-opacity:1\"/>\n",
       "<path d=\"M 65.2787,124.983 L 91.5527,132.777\" style=\"fill:none;fill-rule:evenodd;stroke:#FF7F7F;stroke-width:5.8px;stroke-linecap:butt;stroke-linejoin:miter;stroke-opacity:1\"/>\n",
       "<path d=\"M 91.5527,132.777 L 97.9396,159.428\" style=\"fill:none;fill-rule:evenodd;stroke:#FF7F7F;stroke-width:5.8px;stroke-linecap:butt;stroke-linejoin:miter;stroke-opacity:1\"/>\n",
       "<path d=\"M 97.9396,159.428 L 124.214,167.223\" style=\"fill:none;fill-rule:evenodd;stroke:#FF7F7F;stroke-width:5.8px;stroke-linecap:butt;stroke-linejoin:miter;stroke-opacity:1\"/>\n",
       "<ellipse cx=\"78.0525\" cy=\"178.285\" rx=\"5.48116\" ry=\"5.48116\" style=\"fill:#FF7F7F;fill-rule:evenodd;stroke:#FF7F7F;stroke-width:1px;stroke-linecap:butt;stroke-linejoin:miter;stroke-opacity:1\"/>\n",
       "<ellipse cx=\"51.7785\" cy=\"170.491\" rx=\"5.48116\" ry=\"5.48116\" style=\"fill:#FF7F7F;fill-rule:evenodd;stroke:#FF7F7F;stroke-width:1px;stroke-linecap:butt;stroke-linejoin:miter;stroke-opacity:1\"/>\n",
       "<ellipse cx=\"45.3916\" cy=\"143.84\" rx=\"5.48116\" ry=\"5.48116\" style=\"fill:#FF7F7F;fill-rule:evenodd;stroke:#FF7F7F;stroke-width:1px;stroke-linecap:butt;stroke-linejoin:miter;stroke-opacity:1\"/>\n",
       "<ellipse cx=\"19.1175\" cy=\"136.106\" rx=\"5.48116\" ry=\"5.63536\" style=\"fill:#FF7F7F;fill-rule:evenodd;stroke:#FF7F7F;stroke-width:1px;stroke-linecap:butt;stroke-linejoin:miter;stroke-opacity:1\"/>\n",
       "<ellipse cx=\"65.2787\" cy=\"124.983\" rx=\"5.48116\" ry=\"5.48116\" style=\"fill:#FF7F7F;fill-rule:evenodd;stroke:#FF7F7F;stroke-width:1px;stroke-linecap:butt;stroke-linejoin:miter;stroke-opacity:1\"/>\n",
       "<ellipse cx=\"91.5527\" cy=\"132.777\" rx=\"5.48116\" ry=\"5.48116\" style=\"fill:#FF7F7F;fill-rule:evenodd;stroke:#FF7F7F;stroke-width:1px;stroke-linecap:butt;stroke-linejoin:miter;stroke-opacity:1\"/>\n",
       "<ellipse cx=\"97.9396\" cy=\"159.428\" rx=\"5.48116\" ry=\"5.48116\" style=\"fill:#FF7F7F;fill-rule:evenodd;stroke:#FF7F7F;stroke-width:1px;stroke-linecap:butt;stroke-linejoin:miter;stroke-opacity:1\"/>\n",
       "<ellipse cx=\"124.214\" cy=\"167.283\" rx=\"5.48116\" ry=\"5.63536\" style=\"fill:#FF7F7F;fill-rule:evenodd;stroke:#FF7F7F;stroke-width:1px;stroke-linecap:butt;stroke-linejoin:miter;stroke-opacity:1\"/>\n",
       "<path class=\"bond-0\" d=\"M 64.5524,223.793 L 72.372,216.379\" style=\"fill:none;fill-rule:evenodd;stroke:#000000;stroke-width:2.0px;stroke-linecap:butt;stroke-linejoin:miter;stroke-opacity:1\"/>\n",
       "<path class=\"bond-0\" d=\"M 72.372,216.379 L 80.1916,208.964\" style=\"fill:none;fill-rule:evenodd;stroke:#FF0000;stroke-width:2.0px;stroke-linecap:butt;stroke-linejoin:miter;stroke-opacity:1\"/>\n",
       "<path class=\"bond-1\" d=\"M 83.3348,200.327 L 80.6937,189.306\" style=\"fill:none;fill-rule:evenodd;stroke:#FF0000;stroke-width:2.0px;stroke-linecap:butt;stroke-linejoin:miter;stroke-opacity:1\"/>\n",
       "<path class=\"bond-1\" d=\"M 80.6937,189.306 L 78.0525,178.285\" style=\"fill:none;fill-rule:evenodd;stroke:#000000;stroke-width:2.0px;stroke-linecap:butt;stroke-linejoin:miter;stroke-opacity:1\"/>\n",
       "<path class=\"bond-2\" d=\"M 78.0525,178.285 L 51.7785,170.491\" style=\"fill:none;fill-rule:evenodd;stroke:#000000;stroke-width:2.0px;stroke-linecap:butt;stroke-linejoin:miter;stroke-opacity:1\"/>\n",
       "<path class=\"bond-2\" d=\"M 75.6703,171.861 L 57.2785,166.405\" style=\"fill:none;fill-rule:evenodd;stroke:#000000;stroke-width:2.0px;stroke-linecap:butt;stroke-linejoin:miter;stroke-opacity:1\"/>\n",
       "<path class=\"bond-25\" d=\"M 78.0525,178.285 L 97.9396,159.428\" style=\"fill:none;fill-rule:evenodd;stroke:#000000;stroke-width:2.0px;stroke-linecap:butt;stroke-linejoin:miter;stroke-opacity:1\"/>\n",
       "<path class=\"bond-3\" d=\"M 51.7785,170.491 L 45.3916,143.84\" style=\"fill:none;fill-rule:evenodd;stroke:#000000;stroke-width:2.0px;stroke-linecap:butt;stroke-linejoin:miter;stroke-opacity:1\"/>\n",
       "<path class=\"bond-4\" d=\"M 46.171,141.212 L 35.1579,137.945\" style=\"fill:none;fill-rule:evenodd;stroke:#000000;stroke-width:2.0px;stroke-linecap:butt;stroke-linejoin:miter;stroke-opacity:1\"/>\n",
       "<path class=\"bond-4\" d=\"M 35.1579,137.945 L 24.1448,134.678\" style=\"fill:none;fill-rule:evenodd;stroke:#FF0000;stroke-width:2.0px;stroke-linecap:butt;stroke-linejoin:miter;stroke-opacity:1\"/>\n",
       "<path class=\"bond-4\" d=\"M 44.6121,146.467 L 33.5991,143.2\" style=\"fill:none;fill-rule:evenodd;stroke:#000000;stroke-width:2.0px;stroke-linecap:butt;stroke-linejoin:miter;stroke-opacity:1\"/>\n",
       "<path class=\"bond-4\" d=\"M 33.5991,143.2 L 22.586,139.933\" style=\"fill:none;fill-rule:evenodd;stroke:#FF0000;stroke-width:2.0px;stroke-linecap:butt;stroke-linejoin:miter;stroke-opacity:1\"/>\n",
       "<path class=\"bond-5\" d=\"M 45.3916,143.84 L 65.2787,124.983\" style=\"fill:none;fill-rule:evenodd;stroke:#000000;stroke-width:2.0px;stroke-linecap:butt;stroke-linejoin:miter;stroke-opacity:1\"/>\n",
       "<path class=\"bond-6\" d=\"M 65.2787,124.983 L 62.652,114.022\" style=\"fill:none;fill-rule:evenodd;stroke:#000000;stroke-width:2.0px;stroke-linecap:butt;stroke-linejoin:miter;stroke-opacity:1\"/>\n",
       "<path class=\"bond-6\" d=\"M 62.652,114.022 L 60.0253,103.062\" style=\"fill:none;fill-rule:evenodd;stroke:#FF0000;stroke-width:2.0px;stroke-linecap:butt;stroke-linejoin:miter;stroke-opacity:1\"/>\n",
       "<path class=\"bond-7\" d=\"M 65.2787,124.983 L 91.5527,132.777\" style=\"fill:none;fill-rule:evenodd;stroke:#000000;stroke-width:2.0px;stroke-linecap:butt;stroke-linejoin:miter;stroke-opacity:1\"/>\n",
       "<path class=\"bond-7\" d=\"M 67.6609,131.407 L 86.0527,136.863\" style=\"fill:none;fill-rule:evenodd;stroke:#000000;stroke-width:2.0px;stroke-linecap:butt;stroke-linejoin:miter;stroke-opacity:1\"/>\n",
       "<path class=\"bond-8\" d=\"M 91.5527,132.777 L 111.44,113.92\" style=\"fill:none;fill-rule:evenodd;stroke:#000000;stroke-width:2.0px;stroke-linecap:butt;stroke-linejoin:miter;stroke-opacity:1\"/>\n",
       "<path class=\"bond-23\" d=\"M 91.5527,132.777 L 97.9396,159.428\" style=\"fill:none;fill-rule:evenodd;stroke:#000000;stroke-width:2.0px;stroke-linecap:butt;stroke-linejoin:miter;stroke-opacity:1\"/>\n",
       "<path class=\"bond-9\" d=\"M 111.44,113.92 L 137.714,121.715\" style=\"fill:none;fill-rule:evenodd;stroke:#000000;stroke-width:2.0px;stroke-linecap:butt;stroke-linejoin:miter;stroke-opacity:1\"/>\n",
       "<path class=\"bond-10\" d=\"M 137.714,121.715 L 157.601,102.858\" style=\"fill:none;fill-rule:evenodd;stroke:#000000;stroke-width:2.0px;stroke-linecap:butt;stroke-linejoin:miter;stroke-opacity:1\"/>\n",
       "<path class=\"bond-10\" d=\"M 136.926,114.909 L 150.847,101.709\" style=\"fill:none;fill-rule:evenodd;stroke:#000000;stroke-width:2.0px;stroke-linecap:butt;stroke-linejoin:miter;stroke-opacity:1\"/>\n",
       "<path class=\"bond-11\" d=\"M 157.601,102.858 L 151.214,76.2068\" style=\"fill:none;fill-rule:evenodd;stroke:#000000;stroke-width:2.0px;stroke-linecap:butt;stroke-linejoin:miter;stroke-opacity:1\"/>\n",
       "<path class=\"bond-12\" d=\"M 157.601,102.858 L 183.875,110.652\" style=\"fill:none;fill-rule:evenodd;stroke:#000000;stroke-width:2.0px;stroke-linecap:butt;stroke-linejoin:miter;stroke-opacity:1\"/>\n",
       "<path class=\"bond-13\" d=\"M 183.875,110.652 L 190.262,137.303\" style=\"fill:none;fill-rule:evenodd;stroke:#000000;stroke-width:2.0px;stroke-linecap:butt;stroke-linejoin:miter;stroke-opacity:1\"/>\n",
       "<path class=\"bond-14\" d=\"M 190.262,137.303 L 216.536,145.098\" style=\"fill:none;fill-rule:evenodd;stroke:#000000;stroke-width:2.0px;stroke-linecap:butt;stroke-linejoin:miter;stroke-opacity:1\"/>\n",
       "<path class=\"bond-15\" d=\"M 216.536,145.098 L 222.372,118.181 L 216.927,117.558 Z\" style=\"fill:#000000;fill-rule:evenodd;fill-opacity:1;stroke:#000000;stroke-width:2px;stroke-linecap:butt;stroke-linejoin:miter;stroke-opacity:1;\"/>\n",
       "<path class=\"bond-16\" d=\"M 216.536,145.098 L 204.298,169.619\" style=\"fill:none;fill-rule:evenodd;stroke:#000000;stroke-width:2.0px;stroke-linecap:butt;stroke-linejoin:miter;stroke-opacity:1\"/>\n",
       "<path class=\"bond-26\" d=\"M 216.536,145.098 L 243.891,143.436\" style=\"fill:none;fill-rule:evenodd;stroke:#000000;stroke-width:2.0px;stroke-linecap:butt;stroke-linejoin:miter;stroke-opacity:1\"/>\n",
       "<path class=\"bond-17\" d=\"M 204.298,169.619 L 219.415,192.479\" style=\"fill:none;fill-rule:evenodd;stroke:#000000;stroke-width:2.0px;stroke-linecap:butt;stroke-linejoin:miter;stroke-opacity:1\"/>\n",
       "<path class=\"bond-18\" d=\"M 219.415,192.479 L 246.77,190.817\" style=\"fill:none;fill-rule:evenodd;stroke:#000000;stroke-width:2.0px;stroke-linecap:butt;stroke-linejoin:miter;stroke-opacity:1\"/>\n",
       "<path class=\"bond-19\" d=\"M 246.77,190.817 L 259.008,166.295\" style=\"fill:none;fill-rule:evenodd;stroke:#000000;stroke-width:2.0px;stroke-linecap:butt;stroke-linejoin:miter;stroke-opacity:1\"/>\n",
       "<path class=\"bond-19\" d=\"M 243.701,184.691 L 252.268,167.526\" style=\"fill:none;fill-rule:evenodd;stroke:#000000;stroke-width:2.0px;stroke-linecap:butt;stroke-linejoin:miter;stroke-opacity:1\"/>\n",
       "<path class=\"bond-20\" d=\"M 259.008,166.295 L 286.364,164.633\" style=\"fill:none;fill-rule:evenodd;stroke:#000000;stroke-width:2.0px;stroke-linecap:butt;stroke-linejoin:miter;stroke-opacity:1\"/>\n",
       "<path class=\"bond-21\" d=\"M 259.008,166.295 L 243.891,143.436\" style=\"fill:none;fill-rule:evenodd;stroke:#000000;stroke-width:2.0px;stroke-linecap:butt;stroke-linejoin:miter;stroke-opacity:1\"/>\n",
       "<path class=\"bond-22\" d=\"M 246.829,138.776 L 245.849,138.287\" style=\"fill:none;fill-rule:evenodd;stroke:#000000;stroke-width:1.0px;stroke-linecap:butt;stroke-linejoin:miter;stroke-opacity:1\"/>\n",
       "<path class=\"bond-22\" d=\"M 249.768,134.117 L 247.806,133.138\" style=\"fill:none;fill-rule:evenodd;stroke:#000000;stroke-width:1.0px;stroke-linecap:butt;stroke-linejoin:miter;stroke-opacity:1\"/>\n",
       "<path class=\"bond-22\" d=\"M 252.706,129.457 L 249.763,127.989\" style=\"fill:none;fill-rule:evenodd;stroke:#000000;stroke-width:1.0px;stroke-linecap:butt;stroke-linejoin:miter;stroke-opacity:1\"/>\n",
       "<path class=\"bond-22\" d=\"M 255.644,124.798 L 251.72,122.84\" style=\"fill:none;fill-rule:evenodd;stroke:#000000;stroke-width:1.0px;stroke-linecap:butt;stroke-linejoin:miter;stroke-opacity:1\"/>\n",
       "<path class=\"bond-22\" d=\"M 258.582,120.138 L 253.678,117.69\" style=\"fill:none;fill-rule:evenodd;stroke:#000000;stroke-width:1.0px;stroke-linecap:butt;stroke-linejoin:miter;stroke-opacity:1\"/>\n",
       "<path class=\"bond-24\" d=\"M 97.1602,162.056 L 108.173,165.323\" style=\"fill:none;fill-rule:evenodd;stroke:#000000;stroke-width:2.0px;stroke-linecap:butt;stroke-linejoin:miter;stroke-opacity:1\"/>\n",
       "<path class=\"bond-24\" d=\"M 108.173,165.323 L 119.186,168.59\" style=\"fill:none;fill-rule:evenodd;stroke:#FF0000;stroke-width:2.0px;stroke-linecap:butt;stroke-linejoin:miter;stroke-opacity:1\"/>\n",
       "<path class=\"bond-24\" d=\"M 98.7191,156.801 L 109.732,160.068\" style=\"fill:none;fill-rule:evenodd;stroke:#000000;stroke-width:2.0px;stroke-linecap:butt;stroke-linejoin:miter;stroke-opacity:1\"/>\n",
       "<path class=\"bond-24\" d=\"M 109.732,160.068 L 120.745,163.335\" style=\"fill:none;fill-rule:evenodd;stroke:#FF0000;stroke-width:2.0px;stroke-linecap:butt;stroke-linejoin:miter;stroke-opacity:1\"/>\n",
       "<path class=\"atom-1\" d=\"M 80.8767 204.958 Q 80.8767 203.095, 81.7976 202.053 Q 82.7184 201.012, 84.4395 201.012 Q 86.1606 201.012, 87.0814 202.053 Q 88.0022 203.095, 88.0022 204.958 Q 88.0022 206.844, 87.0704 207.918 Q 86.1386 208.981, 84.4395 208.981 Q 82.7294 208.981, 81.7976 207.918 Q 80.8767 206.855, 80.8767 204.958 M 84.4395 208.104 Q 85.6234 208.104, 86.2592 207.315 Q 86.906 206.515, 86.906 204.958 Q 86.906 203.435, 86.2592 202.667 Q 85.6234 201.889, 84.4395 201.889 Q 83.2556 201.889, 82.6088 202.656 Q 81.973 203.424, 81.973 204.958 Q 81.973 206.526, 82.6088 207.315 Q 83.2556 208.104, 84.4395 208.104 \" fill=\"#FF0000\"/>\n",
       "<path class=\"atom-5\" d=\"M 15.5548 136.067 Q 15.5548 134.204, 16.4756 133.162 Q 17.3964 132.121, 19.1175 132.121 Q 20.8386 132.121, 21.7594 133.162 Q 22.6803 134.204, 22.6803 136.067 Q 22.6803 137.953, 21.7485 139.027 Q 20.8167 140.091, 19.1175 140.091 Q 17.4074 140.091, 16.4756 139.027 Q 15.5548 137.964, 15.5548 136.067 M 19.1175 139.214 Q 20.3014 139.214, 20.9373 138.424 Q 21.584 137.624, 21.584 136.067 Q 21.584 134.544, 20.9373 133.776 Q 20.3014 132.998, 19.1175 132.998 Q 17.9336 132.998, 17.2868 133.765 Q 16.651 134.533, 16.651 136.067 Q 16.651 137.635, 17.2868 138.424 Q 17.9336 139.214, 19.1175 139.214 \" fill=\"#FF0000\"/>\n",
       "<path class=\"atom-7\" d=\"M 55.329 98.3537 Q 55.329 96.4901, 56.2498 95.4487 Q 57.1706 94.4073, 58.8917 94.4073 Q 60.6128 94.4073, 61.5336 95.4487 Q 62.4545 96.4901, 62.4545 98.3537 Q 62.4545 100.239, 61.5227 101.314 Q 60.5909 102.377, 58.8917 102.377 Q 57.1816 102.377, 56.2498 101.314 Q 55.329 100.25, 55.329 98.3537 M 58.8917 101.5 Q 60.0756 101.5, 60.7115 100.711 Q 61.3582 99.9104, 61.3582 98.3537 Q 61.3582 96.83, 60.7115 96.0626 Q 60.0756 95.2843, 58.8917 95.2843 Q 57.7078 95.2843, 57.061 96.0516 Q 56.4252 96.819, 56.4252 98.3537 Q 56.4252 99.9213, 57.061 100.711 Q 57.7078 101.5, 58.8917 101.5 \" fill=\"#FF0000\"/>\n",
       "<path class=\"atom-7\" d=\"M 63.3863 94.495 L 64.4386 94.495 L 64.4386 97.7946 L 68.407 97.7946 L 68.407 94.495 L 69.4594 94.495 L 69.4594 102.256 L 68.407 102.256 L 68.407 98.6716 L 64.4386 98.6716 L 64.4386 102.256 L 63.3863 102.256 L 63.3863 94.495 \" fill=\"#FF0000\"/>\n",
       "<path class=\"atom-25\" d=\"M 120.651 167.245 Q 120.651 165.381, 121.572 164.34 Q 122.493 163.298, 124.214 163.298 Q 125.935 163.298, 126.856 164.34 Q 127.776 165.381, 127.776 167.245 Q 127.776 169.13, 126.845 170.204 Q 125.913 171.268, 124.214 171.268 Q 122.504 171.268, 121.572 170.204 Q 120.651 169.141, 120.651 167.245 M 124.214 170.391 Q 125.398 170.391, 126.033 169.602 Q 126.68 168.801, 126.68 167.245 Q 126.68 165.721, 126.033 164.954 Q 125.398 164.175, 124.214 164.175 Q 123.03 164.175, 122.383 164.943 Q 121.747 165.71, 121.747 167.245 Q 121.747 168.812, 122.383 169.602 Q 123.03 170.391, 124.214 170.391 \" fill=\"#FF0000\"/>\n",
       "</svg>"
      ],
      "text/plain": [
       "<IPython.core.display.SVG object>"
      ]
     },
     "metadata": {},
     "output_type": "display_data"
    }
   ],
   "source": [
    "visualize_match(EGFR_with_pains[92], pains[EGFR_with_pains[92].pain_hits[0]][0])"
   ]
  }
 ],
 "metadata": {
  "kernelspec": {
   "display_name": "Python 3",
   "language": "python",
   "name": "python3"
  },
  "language_info": {
   "codemirror_mode": {
    "name": "ipython",
    "version": 3
   },
   "file_extension": ".py",
   "mimetype": "text/x-python",
   "name": "python",
   "nbconvert_exporter": "python",
   "pygments_lexer": "ipython3",
   "version": "3.7.10"
  }
 },
 "nbformat": 4,
 "nbformat_minor": 4
}
